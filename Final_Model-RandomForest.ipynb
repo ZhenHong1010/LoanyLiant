{
 "cells": [
  {
   "cell_type": "code",
   "execution_count": 1,
   "metadata": {
    "id": "TSa_3y8YlwRc",
    "tags": []
   },
   "outputs": [],
   "source": [
    "import collections\n",
    "\n",
    "import numpy as np\n",
    "import pandas as pd\n",
    "\n",
    "# Visualisation\n",
    "from pprint import pprint\n",
    "import seaborn as sns\n",
    "import math\n",
    "import matplotlib.pyplot as plt\n",
    "%matplotlib inline\n",
    "\n",
    "# sklearn\n",
    "# from sklearn.model_selection import StratifiedKFold, KFold, LeaveOneOut, cross_val_score, GridSearchCV, RandomizedSearchCV, train_test_split\n",
    "from sklearn.model_selection import cross_val_score, train_test_split\n",
    "from sklearn.metrics import auc, roc_auc_score, roc_curve\n",
    "from sklearn import tree\n",
    "\n",
    "# Save model\n",
    "import pickle"
   ]
  },
  {
   "cell_type": "code",
   "execution_count": 2,
   "metadata": {
    "id": "Eyxo60uXsWZX",
    "tags": []
   },
   "outputs": [],
   "source": [
    "def diff(li1, li2):\n",
    "    '''\n",
    "    This function returns different elements between 2 lists\n",
    "    '''\n",
    "    return (list(set(li1) - set(li2)))\n",
    "\n",
    "def plot_stats(df, feature, target_ftr, label_rotation=False, horizontal_layout=True):\n",
    "    '''\n",
    "    This function plot the categorical feature distribution according to target variable\n",
    "    '''\n",
    "    temp = df[feature].value_counts()\n",
    "    df1 = pd.DataFrame({feature: temp.index,'Number of repaid-loans': temp.values})\n",
    "\n",
    "    # Calculate the percentage of target=1 per category value\n",
    "    cat_perc = df[[feature, target_ftr]].groupby([feature],as_index=False).mean()\n",
    "    cat_perc.sort_values(by=target_ftr, ascending=False, inplace=True)\n",
    "\n",
    "    sns.set_color_codes(\"pastel\")\n",
    "    s = sns.barplot(x = feature, y=\"Number of repaid-loans\",data=df1)\n",
    "    if(label_rotation):\n",
    "        s.set_xticklabels(s.get_xticklabels(),rotation=60)\n",
    "\n",
    "    plt.tick_params(axis='both', which='major', labelsize=10)\n",
    "\n",
    "    plt.show();\n",
    "\n",
    "\n",
    "def get_rocauc(model, xTest, yTest):\n",
    "    '''\n",
    "    This function produces the Area under the curve for the model.\n",
    "    The 'auto' method calculates this metric by using the roc_auc_score function from sklearn.\n",
    "    Range: 0 to 1 (0 being the worst predictive model, 0.5 being the random and 1 being the best)\n",
    "    '''\n",
    "    predictions = model.predict_proba(xTest)[:, 1]\n",
    "    roc_auc = roc_auc_score(yTest, predictions)\n",
    "    print('Model Performance:')\n",
    "    print('--'*5)\n",
    "    print('--'*5)\n",
    "    print('ROC = {:0.2f}%'.format(roc_auc))\n",
    "\n",
    "    return roc_auc\n",
    "\n",
    "def plot_roc(yTest, yPred):\n",
    "    '''\n",
    "    This function plots the ROC and gives the AUC.\n",
    "    Range for Area under the curve : 0 to 1 (0 being the worst and 1 being best for predictive model)\n",
    "    '''\n",
    "    fpr, tpr, thresholds = roc_curve(yTest, yPred)\n",
    "    roc_auc = roc_auc_score(yTest, yPred)\n",
    "    plt.figure(figsize=(10,10))\n",
    "    plt.plot(fpr, tpr, label='ROC curve (area = %0.3f)' % roc_auc)\n",
    "    plt.plot([0, 1], [0, 1], 'k--', label='random')\n",
    "    plt.plot([0,0,1,1],[0,1,1,1],'g-',label='perfect')\n",
    "    plt.xlim([-0.05, 1.05])\n",
    "    plt.ylim([-0.05, 1.05])\n",
    "    plt.xlabel('False Positive Rate')\n",
    "    plt.ylabel('True Positive Rate')\n",
    "    plt.title('ROC Curve')\n",
    "    plt.legend(loc=\"lower right\")\n",
    "    plt.show()\n",
    "\n",
    "def perf_measure(y_actual, y_pred):\n",
    "    '''\n",
    "    Function for calculating TP, FP, TN and FN\n",
    "    '''\n",
    "    TP = 0\n",
    "    FP = 0\n",
    "    TN = 0\n",
    "    FN = 0\n",
    "\n",
    "    for i in range(len(y_pred)):\n",
    "        if y_actual[i]==y_pred[i]==1:\n",
    "            TP += 1\n",
    "        if y_pred[i]==1 and y_actual[i]!=y_pred[i]:\n",
    "            FP += 1\n",
    "        if y_actual[i]==y_pred[i]==0:\n",
    "            TN += 1\n",
    "        if y_pred[i]==0 and y_actual[i]!=y_pred[i]:\n",
    "            FN += 1\n",
    "\n",
    "    return(TP, FP, TN, FN)\n",
    "\n",
    "def capture_curve(test_df, y_test, preds, roc, title):\n",
    "    '''\n",
    "    Function for to plot capture curve for risky or non-repaid loans\n",
    "    This is similar to gain and lift chart in statistics.\n",
    "    x-axis: Population % of granted loans\n",
    "    y-axis: Risk / Non-repaid loan %\n",
    "    '''\n",
    "    fpr, tpr, threshold = roc_curve(y_test, preds)\n",
    "    roc_auc = auc(fpr, tpr)\n",
    "    rate = []\n",
    "    for i in threshold:\n",
    "        T = perf_measure(list(y_test),[1 if j >= i else 0 for j in preds])\n",
    "        rate.append(T[0]+T[1])\n",
    "    rate2 = [i/len(test_df) for i in rate]\n",
    "    plt.figure(figsize=[12,12])\n",
    "    plt.plot(rate2, tpr, label='ROC_AUC {}'.format(roc) % roc_auc, linewidth=4)\n",
    "    plt.plot([0, 1], [0, 1], 'k--', linewidth=4)\n",
    "    plt.xlim([-0.05, 1.0])\n",
    "    plt.ylim([-0.05, 1.05])\n",
    "    plt.xlabel('Granted Loans', fontsize=18)\n",
    "    plt.ylabel('Captured out of total non-repaid proportion', fontsize=18)\n",
    "    plt.title('Capture plot for {}'.format(title), fontsize=18)\n",
    "    plt.legend(loc=\"lower right\",prop={'size':30})\n",
    "    plt.show()\n",
    "\n",
    "def decile_cutoff_risk_detected(df_pred):\n",
    "    '''\n",
    "    Function to find the decile-wise risky loan application %\n",
    "    '''\n",
    "    pop_perc = list(np.arange(0.1,1.1,0.1))\n",
    "    perc_list = []\n",
    "    risk_perc_list = []\n",
    "    risk_num_list = []\n",
    "    avg_pred_prob_list = []\n",
    "    min_pred_prob_list = []\n",
    "    max_pred_prob_list = []\n",
    "    df_pop_risk = pd.DataFrame(columns=['loan_percentage','non-repaid_percentage', '#non-repaid_loans', 'avg_pred_prob'])\n",
    "    total_risk_count = df_pred[df_pred['loan_quality']==1]['loan_id'].count()\n",
    "    start = 0\n",
    "    for perc in pop_perc:\n",
    "        split_len = int(perc*len(df_pred))\n",
    "        sorted_results_final = df_pred.iloc[start:split_len]\n",
    "        risk_count = sorted_results_final[sorted_results_final['loan_quality']==1]['loan_id'].count()\n",
    "        min_pred_prob = sorted_results_final['preds'].min()\n",
    "        max_pred_prob = sorted_results_final['preds'].max()\n",
    "        avg_pred_prob = sorted_results_final['preds'].mean()\n",
    "        perc_list.append(int(perc*100))\n",
    "        risk_perc_list.append(round(((risk_count/total_risk_count)*100),2))\n",
    "        risk_num_list.append(round(risk_count,2))\n",
    "        min_pred_prob_list.append(round(min_pred_prob, 2))\n",
    "        max_pred_prob_list.append(round(max_pred_prob, 2))\n",
    "        avg_pred_prob_list.append(round(avg_pred_prob, 2))\n",
    "        start = split_len\n",
    "    df_pop_risk['loan_percentage'] = perc_list\n",
    "    df_pop_risk['non-repaid_percentage'] = risk_perc_list\n",
    "    df_pop_risk['#non-repaid_loans'] = risk_num_list\n",
    "    df_pop_risk['min_pred_prob'] = min_pred_prob_list\n",
    "    df_pop_risk['max_pred_prob'] = max_pred_prob_list\n",
    "    df_pop_risk['avg_pred_prob'] = avg_pred_prob_list\n",
    "    return df_pop_risk\n",
    "\n",
    "def cum_decile_cutoff_risk_detected(df_pred):\n",
    "    '''\n",
    "    Function to find the decile-wise risky loan application %\n",
    "    '''\n",
    "    pop_perc = list(np.arange(0.1,1.1,0.1))\n",
    "    perc_list = []\n",
    "    risk_perc_list = []\n",
    "    risk_num_list = []\n",
    "    avg_pred_prob_list = []\n",
    "    min_pred_prob_list = []\n",
    "    max_pred_prob_list = []\n",
    "    df_pop_risk = pd.DataFrame(columns=['loan_percentage','non-repaid_percentage', '#non-repaid_loans', 'avg_pred_prob'])\n",
    "    total_risk_count = df_pred[df_pred['loan_quality']==1]['loan_id'].count()\n",
    "    for perc in pop_perc:\n",
    "        split_len = int(perc*len(df_pred))\n",
    "        sorted_results_final = df_pred.iloc[:split_len]\n",
    "        risk_count = sorted_results_final[sorted_results_final['loan_quality']==1]['loan_id'].count()\n",
    "        min_pred_prob = sorted_results_final['preds'].min()\n",
    "        max_pred_prob = sorted_results_final['preds'].max()\n",
    "        avg_pred_prob = sorted_results_final['preds'].mean()\n",
    "        perc_list.append(int(perc*100))\n",
    "        risk_perc_list.append(round(((risk_count/total_risk_count)*100),2))\n",
    "        risk_num_list.append(round(risk_count,2))\n",
    "        min_pred_prob_list.append(round(min_pred_prob, 2))\n",
    "        max_pred_prob_list.append(round(max_pred_prob, 2))\n",
    "        avg_pred_prob_list.append(round(avg_pred_prob, 2))\n",
    "    df_pop_risk['loan_percentage'] = perc_list\n",
    "    df_pop_risk['non-repaid_percentage'] = risk_perc_list\n",
    "    df_pop_risk['#non-repaid_loans'] = risk_num_list\n",
    "    df_pop_risk['min_pred_prob'] = min_pred_prob_list\n",
    "    df_pop_risk['max_pred_prob'] = max_pred_prob_list\n",
    "    df_pop_risk['avg_pred_prob'] = avg_pred_prob_list\n",
    "    return df_pop_risk\n",
    "\n",
    "def profitability_diff(score1_name, score2_name, score1, score2):\n",
    "    '''\n",
    "    This function takes 2 scores as input and gives Absolute Difference between scores as output\n",
    "    '''\n",
    "    if score1 > score2:\n",
    "        print('%s is %d point better than %s' % (score1_name, abs(score1 - score2), score2_name))\n",
    "        print('--'*30)\n",
    "        print('%s is %f times better than %s' % (score1_name, (score1/score2), score2_name))\n",
    "    else:\n",
    "        print('%s is %d point better than %s' % (score2_name, abs(score1 - score2), score1_name))\n",
    "        print('--'*30)\n",
    "        print('%s is %f times better than %s' % (score2_name, (score2/score1), score1_name))"
   ]
  },
  {
   "cell_type": "code",
   "execution_count": 3,
   "metadata": {
    "tags": []
   },
   "outputs": [
    {
     "data": {
      "text/html": [
       "<div>\n",
       "<style scoped>\n",
       "    .dataframe tbody tr th:only-of-type {\n",
       "        vertical-align: middle;\n",
       "    }\n",
       "\n",
       "    .dataframe tbody tr th {\n",
       "        vertical-align: top;\n",
       "    }\n",
       "\n",
       "    .dataframe thead th {\n",
       "        text-align: right;\n",
       "    }\n",
       "</style>\n",
       "<table border=\"1\" class=\"dataframe\">\n",
       "  <thead>\n",
       "    <tr style=\"text-align: right;\">\n",
       "      <th></th>\n",
       "      <th>loan_id</th>\n",
       "      <th>is_first_loan</th>\n",
       "      <th>fully_repaid_previous_loans</th>\n",
       "      <th>currently_repaying_other_loans</th>\n",
       "      <th>total_credit_card_limit</th>\n",
       "      <th>avg_percentage_credit_card_limit_used_last_year</th>\n",
       "      <th>saving_amount</th>\n",
       "      <th>checking_amount</th>\n",
       "      <th>is_employed</th>\n",
       "      <th>yearly_salary</th>\n",
       "      <th>age</th>\n",
       "      <th>dependent_number</th>\n",
       "    </tr>\n",
       "  </thead>\n",
       "  <tbody>\n",
       "    <tr>\n",
       "      <th>0</th>\n",
       "      <td>289774</td>\n",
       "      <td>1</td>\n",
       "      <td>NaN</td>\n",
       "      <td>NaN</td>\n",
       "      <td>8000</td>\n",
       "      <td>0.49</td>\n",
       "      <td>3285</td>\n",
       "      <td>1073</td>\n",
       "      <td>0</td>\n",
       "      <td>0</td>\n",
       "      <td>47</td>\n",
       "      <td>3</td>\n",
       "    </tr>\n",
       "    <tr>\n",
       "      <th>1</th>\n",
       "      <td>482590</td>\n",
       "      <td>0</td>\n",
       "      <td>1.0</td>\n",
       "      <td>0.0</td>\n",
       "      <td>4500</td>\n",
       "      <td>1.03</td>\n",
       "      <td>636</td>\n",
       "      <td>5299</td>\n",
       "      <td>1</td>\n",
       "      <td>13500</td>\n",
       "      <td>33</td>\n",
       "      <td>1</td>\n",
       "    </tr>\n",
       "    <tr>\n",
       "      <th>2</th>\n",
       "      <td>135565</td>\n",
       "      <td>1</td>\n",
       "      <td>NaN</td>\n",
       "      <td>NaN</td>\n",
       "      <td>6900</td>\n",
       "      <td>0.82</td>\n",
       "      <td>2085</td>\n",
       "      <td>3422</td>\n",
       "      <td>1</td>\n",
       "      <td>24500</td>\n",
       "      <td>38</td>\n",
       "      <td>8</td>\n",
       "    </tr>\n",
       "  </tbody>\n",
       "</table>\n",
       "</div>"
      ],
      "text/plain": [
       "   loan_id  is_first_loan  fully_repaid_previous_loans  \\\n",
       "0   289774              1                          NaN   \n",
       "1   482590              0                          1.0   \n",
       "2   135565              1                          NaN   \n",
       "\n",
       "   currently_repaying_other_loans  total_credit_card_limit  \\\n",
       "0                             NaN                     8000   \n",
       "1                             0.0                     4500   \n",
       "2                             NaN                     6900   \n",
       "\n",
       "   avg_percentage_credit_card_limit_used_last_year  saving_amount  \\\n",
       "0                                             0.49           3285   \n",
       "1                                             1.03            636   \n",
       "2                                             0.82           2085   \n",
       "\n",
       "   checking_amount  is_employed  yearly_salary  age  dependent_number  \n",
       "0             1073            0              0   47                 3  \n",
       "1             5299            1          13500   33                 1  \n",
       "2             3422            1          24500   38                 8  "
      ]
     },
     "execution_count": 3,
     "metadata": {},
     "output_type": "execute_result"
    }
   ],
   "source": [
    "borrower=pd.read_csv(r'C:\\Users\\ZhongLee\\Downloads\\fid\\borrower_table.csv')\n",
    "# check dimensions of the dataset, we found it has 307,511 rows and 122 columns\n",
    "borrower.shape\n",
    "borrower.head(3)"
   ]
  },
  {
   "cell_type": "code",
   "execution_count": 4,
   "metadata": {
    "colab": {
     "base_uri": "https://localhost:8080/",
     "height": 144
    },
    "id": "AY6F1mL0m2vS",
    "outputId": "dbad6fcb-feca-45fc-d645-71febd73eaf2",
    "tags": []
   },
   "outputs": [
    {
     "data": {
      "text/html": [
       "<div>\n",
       "<style scoped>\n",
       "    .dataframe tbody tr th:only-of-type {\n",
       "        vertical-align: middle;\n",
       "    }\n",
       "\n",
       "    .dataframe tbody tr th {\n",
       "        vertical-align: top;\n",
       "    }\n",
       "\n",
       "    .dataframe thead th {\n",
       "        text-align: right;\n",
       "    }\n",
       "</style>\n",
       "<table border=\"1\" class=\"dataframe\">\n",
       "  <thead>\n",
       "    <tr style=\"text-align: right;\">\n",
       "      <th></th>\n",
       "      <th>loan_id</th>\n",
       "      <th>loan_purpose</th>\n",
       "      <th>date</th>\n",
       "      <th>loan_granted</th>\n",
       "      <th>loan_repaid</th>\n",
       "    </tr>\n",
       "  </thead>\n",
       "  <tbody>\n",
       "    <tr>\n",
       "      <th>0</th>\n",
       "      <td>19454</td>\n",
       "      <td>investment</td>\n",
       "      <td>2012-03-15</td>\n",
       "      <td>0</td>\n",
       "      <td>NaN</td>\n",
       "    </tr>\n",
       "    <tr>\n",
       "      <th>1</th>\n",
       "      <td>496811</td>\n",
       "      <td>investment</td>\n",
       "      <td>2012-01-17</td>\n",
       "      <td>0</td>\n",
       "      <td>NaN</td>\n",
       "    </tr>\n",
       "    <tr>\n",
       "      <th>2</th>\n",
       "      <td>929493</td>\n",
       "      <td>other</td>\n",
       "      <td>2012-02-09</td>\n",
       "      <td>0</td>\n",
       "      <td>NaN</td>\n",
       "    </tr>\n",
       "  </tbody>\n",
       "</table>\n",
       "</div>"
      ],
      "text/plain": [
       "   loan_id loan_purpose        date  loan_granted  loan_repaid\n",
       "0    19454   investment  2012-03-15             0          NaN\n",
       "1   496811   investment  2012-01-17             0          NaN\n",
       "2   929493        other  2012-02-09             0          NaN"
      ]
     },
     "execution_count": 4,
     "metadata": {},
     "output_type": "execute_result"
    }
   ],
   "source": [
    "loan=pd.read_csv(r'C:\\Users\\ZhongLee\\Downloads\\fid\\loan_table.csv')\n",
    "# check dimensions of the dataset, we found it has 307,511 rows and 122 columns\n",
    "loan.shape\n",
    "loan.head(3)"
   ]
  },
  {
   "cell_type": "code",
   "execution_count": null,
   "metadata": {
    "id": "T96L0TPYf8Fr"
   },
   "outputs": [],
   "source": []
  },
  {
   "cell_type": "markdown",
   "metadata": {
    "id": "DpvCis5h3PDQ"
   },
   "source": [
    "## **Exploratory Data Analysis (EDA)**"
   ]
  },
  {
   "cell_type": "code",
   "execution_count": 5,
   "metadata": {
    "colab": {
     "base_uri": "https://localhost:8080/",
     "height": 181
    },
    "id": "CXwYFRvYoL2X",
    "outputId": "3d3423da-b33e-42ca-ebc9-0ff30bc92da9",
    "tags": []
   },
   "outputs": [
    {
     "name": "stdout",
     "output_type": "stream",
     "text": [
      "(101100, 16)\n"
     ]
    },
    {
     "data": {
      "text/html": [
       "<div>\n",
       "<style scoped>\n",
       "    .dataframe tbody tr th:only-of-type {\n",
       "        vertical-align: middle;\n",
       "    }\n",
       "\n",
       "    .dataframe tbody tr th {\n",
       "        vertical-align: top;\n",
       "    }\n",
       "\n",
       "    .dataframe thead th {\n",
       "        text-align: right;\n",
       "    }\n",
       "</style>\n",
       "<table border=\"1\" class=\"dataframe\">\n",
       "  <thead>\n",
       "    <tr style=\"text-align: right;\">\n",
       "      <th></th>\n",
       "      <th>loan_id</th>\n",
       "      <th>loan_purpose</th>\n",
       "      <th>date</th>\n",
       "      <th>loan_granted</th>\n",
       "      <th>loan_repaid</th>\n",
       "      <th>is_first_loan</th>\n",
       "      <th>fully_repaid_previous_loans</th>\n",
       "      <th>currently_repaying_other_loans</th>\n",
       "      <th>total_credit_card_limit</th>\n",
       "      <th>avg_percentage_credit_card_limit_used_last_year</th>\n",
       "      <th>saving_amount</th>\n",
       "      <th>checking_amount</th>\n",
       "      <th>is_employed</th>\n",
       "      <th>yearly_salary</th>\n",
       "      <th>age</th>\n",
       "      <th>dependent_number</th>\n",
       "    </tr>\n",
       "  </thead>\n",
       "  <tbody>\n",
       "    <tr>\n",
       "      <th>0</th>\n",
       "      <td>19454</td>\n",
       "      <td>investment</td>\n",
       "      <td>2012-03-15</td>\n",
       "      <td>0</td>\n",
       "      <td>NaN</td>\n",
       "      <td>1</td>\n",
       "      <td>NaN</td>\n",
       "      <td>NaN</td>\n",
       "      <td>8600</td>\n",
       "      <td>0.79</td>\n",
       "      <td>1491</td>\n",
       "      <td>6285</td>\n",
       "      <td>1</td>\n",
       "      <td>45200</td>\n",
       "      <td>42</td>\n",
       "      <td>7</td>\n",
       "    </tr>\n",
       "    <tr>\n",
       "      <th>1</th>\n",
       "      <td>496811</td>\n",
       "      <td>investment</td>\n",
       "      <td>2012-01-17</td>\n",
       "      <td>0</td>\n",
       "      <td>NaN</td>\n",
       "      <td>1</td>\n",
       "      <td>NaN</td>\n",
       "      <td>NaN</td>\n",
       "      <td>5300</td>\n",
       "      <td>0.52</td>\n",
       "      <td>141</td>\n",
       "      <td>5793</td>\n",
       "      <td>0</td>\n",
       "      <td>0</td>\n",
       "      <td>42</td>\n",
       "      <td>5</td>\n",
       "    </tr>\n",
       "    <tr>\n",
       "      <th>2</th>\n",
       "      <td>929493</td>\n",
       "      <td>other</td>\n",
       "      <td>2012-02-09</td>\n",
       "      <td>0</td>\n",
       "      <td>NaN</td>\n",
       "      <td>1</td>\n",
       "      <td>NaN</td>\n",
       "      <td>NaN</td>\n",
       "      <td>0</td>\n",
       "      <td>NaN</td>\n",
       "      <td>660</td>\n",
       "      <td>3232</td>\n",
       "      <td>1</td>\n",
       "      <td>26500</td>\n",
       "      <td>60</td>\n",
       "      <td>4</td>\n",
       "    </tr>\n",
       "  </tbody>\n",
       "</table>\n",
       "</div>"
      ],
      "text/plain": [
       "   loan_id loan_purpose        date  loan_granted  loan_repaid  is_first_loan  \\\n",
       "0    19454   investment  2012-03-15             0          NaN              1   \n",
       "1   496811   investment  2012-01-17             0          NaN              1   \n",
       "2   929493        other  2012-02-09             0          NaN              1   \n",
       "\n",
       "   fully_repaid_previous_loans  currently_repaying_other_loans  \\\n",
       "0                          NaN                             NaN   \n",
       "1                          NaN                             NaN   \n",
       "2                          NaN                             NaN   \n",
       "\n",
       "   total_credit_card_limit  avg_percentage_credit_card_limit_used_last_year  \\\n",
       "0                     8600                                             0.79   \n",
       "1                     5300                                             0.52   \n",
       "2                        0                                              NaN   \n",
       "\n",
       "   saving_amount  checking_amount  is_employed  yearly_salary  age  \\\n",
       "0           1491             6285            1          45200   42   \n",
       "1            141             5793            0              0   42   \n",
       "2            660             3232            1          26500   60   \n",
       "\n",
       "   dependent_number  \n",
       "0                 7  \n",
       "1                 5  \n",
       "2                 4  "
      ]
     },
     "execution_count": 5,
     "metadata": {},
     "output_type": "execute_result"
    }
   ],
   "source": [
    "# Merge Dataframes\n",
    "df_loan = loan.merge(borrower, how='left', on='loan_id')\n",
    "\n",
    "print(df_loan.shape)\n",
    "df_loan.head(3)"
   ]
  },
  {
   "cell_type": "code",
   "execution_count": 6,
   "metadata": {
    "colab": {
     "base_uri": "https://localhost:8080/"
    },
    "id": "cewgcOJYoQrX",
    "outputId": "980e0524-7d4c-4dae-83d8-a1a668f6840f"
   },
   "outputs": [
    {
     "data": {
      "text/plain": [
       "['loan_id', 'loan_purpose', 'date', 'loan_granted', 'loan_repaid']"
      ]
     },
     "execution_count": 6,
     "metadata": {},
     "output_type": "execute_result"
    }
   ],
   "source": [
    "loan.columns.to_list()"
   ]
  },
  {
   "cell_type": "code",
   "execution_count": 7,
   "metadata": {
    "colab": {
     "base_uri": "https://localhost:8080/"
    },
    "id": "GAJQOc5ZKPjf",
    "outputId": "0b8ca5aa-1267-4652-95da-bdc536d973f4"
   },
   "outputs": [
    {
     "data": {
      "text/plain": [
       "(101100, 5)"
      ]
     },
     "execution_count": 7,
     "metadata": {},
     "output_type": "execute_result"
    }
   ],
   "source": [
    "loan.shape"
   ]
  },
  {
   "cell_type": "code",
   "execution_count": 8,
   "metadata": {
    "colab": {
     "base_uri": "https://localhost:8080/"
    },
    "id": "fvSWJRx3KXRy",
    "outputId": "5b7bde7d-866d-44bb-935a-169470f0bf81"
   },
   "outputs": [
    {
     "data": {
      "text/plain": [
       "(101100, 12)"
      ]
     },
     "execution_count": 8,
     "metadata": {},
     "output_type": "execute_result"
    }
   ],
   "source": [
    "borrower.shape"
   ]
  },
  {
   "cell_type": "code",
   "execution_count": 9,
   "metadata": {
    "colab": {
     "base_uri": "https://localhost:8080/"
    },
    "id": "PJG_inaOHn_P",
    "outputId": "7545d10c-832f-4210-8940-bf60421db79d",
    "tags": []
   },
   "outputs": [
    {
     "data": {
      "text/plain": [
       "101100"
      ]
     },
     "execution_count": 9,
     "metadata": {},
     "output_type": "execute_result"
    }
   ],
   "source": [
    "loan.loan_id.nunique()"
   ]
  },
  {
   "cell_type": "code",
   "execution_count": 10,
   "metadata": {
    "colab": {
     "base_uri": "https://localhost:8080/"
    },
    "id": "1pfrz8HeKLGD",
    "outputId": "426699fa-587b-4005-b627-50807c9ca511"
   },
   "outputs": [
    {
     "data": {
      "text/plain": [
       "101100"
      ]
     },
     "execution_count": 10,
     "metadata": {},
     "output_type": "execute_result"
    }
   ],
   "source": [
    "borrower.loan_id.nunique()"
   ]
  },
  {
   "cell_type": "code",
   "execution_count": 11,
   "metadata": {
    "colab": {
     "base_uri": "https://localhost:8080/"
    },
    "id": "Dr6-xYctp_hz",
    "outputId": "7238f0cf-94e0-460c-b792-2b3ee92b6c6c"
   },
   "outputs": [
    {
     "name": "stdout",
     "output_type": "stream",
     "text": [
      "There are 0 duplicates for loan id in the loan table\n",
      "There are 0 duplicates for loan id in the borrower table\n"
     ]
    }
   ],
   "source": [
    "print(f'There are {loan.shape[0] - loan.loan_id.nunique()} duplicates for loan id in the loan table')\n",
    "print(f'There are {borrower.shape[0] - borrower.loan_id.nunique()} duplicates for loan id in the borrower table')"
   ]
  },
  {
   "cell_type": "code",
   "execution_count": 12,
   "metadata": {
    "colab": {
     "base_uri": "https://localhost:8080/"
    },
    "id": "9hz0HfiUqZsA",
    "outputId": "b770e3bb-b940-46db-a675-4b4758d57f92"
   },
   "outputs": [
    {
     "name": "stdout",
     "output_type": "stream",
     "text": [
      "All the loan ids comparison are same\n"
     ]
    }
   ],
   "source": [
    "#loan_id comparison\n",
    "borrower_loan_id = list(borrower['loan_id'])\n",
    "loan_loan_id = list(loan['loan_id'])\n",
    "\n",
    "if collections.Counter(borrower_loan_id) == collections.Counter(loan_loan_id):\n",
    "    print (\"All the loan ids comparison are same\")\n",
    "else :\n",
    "    print (\"Different loan ids are present in both the datasets\")"
   ]
  },
  {
   "cell_type": "code",
   "execution_count": 13,
   "metadata": {
    "colab": {
     "base_uri": "https://localhost:8080/"
    },
    "id": "xaIiVRJ6rMR5",
    "outputId": "65b88915-dd1b-4ce5-e399-028f9ecd86e0"
   },
   "outputs": [
    {
     "name": "stdout",
     "output_type": "stream",
     "text": [
      "[]\n"
     ]
    }
   ],
   "source": [
    "#This function returns different elements between 2 lists\n",
    "def diff(li1, li2):\n",
    "\n",
    "    return (list(set(li1) - set(li2)))\n",
    "\n",
    "#Cross check with set difference option\n",
    "print(diff(borrower_loan_id, loan_loan_id))"
   ]
  },
  {
   "cell_type": "code",
   "execution_count": 14,
   "metadata": {
    "colab": {
     "base_uri": "https://localhost:8080/",
     "height": 181
    },
    "id": "uG8ITIMjvS7L",
    "outputId": "0109b2af-7247-48f9-8f79-74a56cf3b98b"
   },
   "outputs": [
    {
     "name": "stdout",
     "output_type": "stream",
     "text": [
      "(101100, 16)\n"
     ]
    },
    {
     "data": {
      "text/html": [
       "<div>\n",
       "<style scoped>\n",
       "    .dataframe tbody tr th:only-of-type {\n",
       "        vertical-align: middle;\n",
       "    }\n",
       "\n",
       "    .dataframe tbody tr th {\n",
       "        vertical-align: top;\n",
       "    }\n",
       "\n",
       "    .dataframe thead th {\n",
       "        text-align: right;\n",
       "    }\n",
       "</style>\n",
       "<table border=\"1\" class=\"dataframe\">\n",
       "  <thead>\n",
       "    <tr style=\"text-align: right;\">\n",
       "      <th></th>\n",
       "      <th>loan_id</th>\n",
       "      <th>loan_purpose</th>\n",
       "      <th>date</th>\n",
       "      <th>loan_granted</th>\n",
       "      <th>loan_repaid</th>\n",
       "      <th>is_first_loan</th>\n",
       "      <th>fully_repaid_previous_loans</th>\n",
       "      <th>currently_repaying_other_loans</th>\n",
       "      <th>total_credit_card_limit</th>\n",
       "      <th>avg_percentage_credit_card_limit_used_last_year</th>\n",
       "      <th>saving_amount</th>\n",
       "      <th>checking_amount</th>\n",
       "      <th>is_employed</th>\n",
       "      <th>yearly_salary</th>\n",
       "      <th>age</th>\n",
       "      <th>dependent_number</th>\n",
       "    </tr>\n",
       "  </thead>\n",
       "  <tbody>\n",
       "    <tr>\n",
       "      <th>0</th>\n",
       "      <td>19454</td>\n",
       "      <td>investment</td>\n",
       "      <td>2012-03-15</td>\n",
       "      <td>0</td>\n",
       "      <td>NaN</td>\n",
       "      <td>1</td>\n",
       "      <td>NaN</td>\n",
       "      <td>NaN</td>\n",
       "      <td>8600</td>\n",
       "      <td>0.79</td>\n",
       "      <td>1491</td>\n",
       "      <td>6285</td>\n",
       "      <td>1</td>\n",
       "      <td>45200</td>\n",
       "      <td>42</td>\n",
       "      <td>7</td>\n",
       "    </tr>\n",
       "    <tr>\n",
       "      <th>1</th>\n",
       "      <td>496811</td>\n",
       "      <td>investment</td>\n",
       "      <td>2012-01-17</td>\n",
       "      <td>0</td>\n",
       "      <td>NaN</td>\n",
       "      <td>1</td>\n",
       "      <td>NaN</td>\n",
       "      <td>NaN</td>\n",
       "      <td>5300</td>\n",
       "      <td>0.52</td>\n",
       "      <td>141</td>\n",
       "      <td>5793</td>\n",
       "      <td>0</td>\n",
       "      <td>0</td>\n",
       "      <td>42</td>\n",
       "      <td>5</td>\n",
       "    </tr>\n",
       "    <tr>\n",
       "      <th>2</th>\n",
       "      <td>929493</td>\n",
       "      <td>other</td>\n",
       "      <td>2012-02-09</td>\n",
       "      <td>0</td>\n",
       "      <td>NaN</td>\n",
       "      <td>1</td>\n",
       "      <td>NaN</td>\n",
       "      <td>NaN</td>\n",
       "      <td>0</td>\n",
       "      <td>NaN</td>\n",
       "      <td>660</td>\n",
       "      <td>3232</td>\n",
       "      <td>1</td>\n",
       "      <td>26500</td>\n",
       "      <td>60</td>\n",
       "      <td>4</td>\n",
       "    </tr>\n",
       "  </tbody>\n",
       "</table>\n",
       "</div>"
      ],
      "text/plain": [
       "   loan_id loan_purpose        date  loan_granted  loan_repaid  is_first_loan  \\\n",
       "0    19454   investment  2012-03-15             0          NaN              1   \n",
       "1   496811   investment  2012-01-17             0          NaN              1   \n",
       "2   929493        other  2012-02-09             0          NaN              1   \n",
       "\n",
       "   fully_repaid_previous_loans  currently_repaying_other_loans  \\\n",
       "0                          NaN                             NaN   \n",
       "1                          NaN                             NaN   \n",
       "2                          NaN                             NaN   \n",
       "\n",
       "   total_credit_card_limit  avg_percentage_credit_card_limit_used_last_year  \\\n",
       "0                     8600                                             0.79   \n",
       "1                     5300                                             0.52   \n",
       "2                        0                                              NaN   \n",
       "\n",
       "   saving_amount  checking_amount  is_employed  yearly_salary  age  \\\n",
       "0           1491             6285            1          45200   42   \n",
       "1            141             5793            0              0   42   \n",
       "2            660             3232            1          26500   60   \n",
       "\n",
       "   dependent_number  \n",
       "0                 7  \n",
       "1                 5  \n",
       "2                 4  "
      ]
     },
     "execution_count": 14,
     "metadata": {},
     "output_type": "execute_result"
    }
   ],
   "source": [
    "# Merge Dataframes\n",
    "df_loan = loan.merge(borrower, how='left', on='loan_id')\n",
    "\n",
    "print(df_loan.shape)\n",
    "df_loan.head(3)"
   ]
  },
  {
   "cell_type": "code",
   "execution_count": 15,
   "metadata": {
    "colab": {
     "base_uri": "https://localhost:8080/",
     "height": 489
    },
    "id": "-K68vYrbwoB3",
    "outputId": "68b5a201-7267-4a7e-be34-c2ee22eb5e39"
   },
   "outputs": [
    {
     "data": {
      "text/html": [
       "<div>\n",
       "<style scoped>\n",
       "    .dataframe tbody tr th:only-of-type {\n",
       "        vertical-align: middle;\n",
       "    }\n",
       "\n",
       "    .dataframe tbody tr th {\n",
       "        vertical-align: top;\n",
       "    }\n",
       "\n",
       "    .dataframe thead th {\n",
       "        text-align: right;\n",
       "    }\n",
       "</style>\n",
       "<table border=\"1\" class=\"dataframe\">\n",
       "  <thead>\n",
       "    <tr style=\"text-align: right;\">\n",
       "      <th></th>\n",
       "      <th>count</th>\n",
       "      <th>mean</th>\n",
       "      <th>std</th>\n",
       "      <th>min</th>\n",
       "      <th>25%</th>\n",
       "      <th>50%</th>\n",
       "      <th>75%</th>\n",
       "      <th>max</th>\n",
       "    </tr>\n",
       "  </thead>\n",
       "  <tbody>\n",
       "    <tr>\n",
       "      <th>loan_id</th>\n",
       "      <td>101100.0</td>\n",
       "      <td>499666.826726</td>\n",
       "      <td>288662.006929</td>\n",
       "      <td>30.0</td>\n",
       "      <td>250333.75</td>\n",
       "      <td>499885.00</td>\n",
       "      <td>749706.25</td>\n",
       "      <td>999987.00</td>\n",
       "    </tr>\n",
       "    <tr>\n",
       "      <th>loan_granted</th>\n",
       "      <td>101100.0</td>\n",
       "      <td>0.471355</td>\n",
       "      <td>0.499181</td>\n",
       "      <td>0.0</td>\n",
       "      <td>0.00</td>\n",
       "      <td>0.00</td>\n",
       "      <td>1.00</td>\n",
       "      <td>1.00</td>\n",
       "    </tr>\n",
       "    <tr>\n",
       "      <th>loan_repaid</th>\n",
       "      <td>47654.0</td>\n",
       "      <td>0.644353</td>\n",
       "      <td>0.478714</td>\n",
       "      <td>0.0</td>\n",
       "      <td>0.00</td>\n",
       "      <td>1.00</td>\n",
       "      <td>1.00</td>\n",
       "      <td>1.00</td>\n",
       "    </tr>\n",
       "    <tr>\n",
       "      <th>is_first_loan</th>\n",
       "      <td>101100.0</td>\n",
       "      <td>0.543492</td>\n",
       "      <td>0.498107</td>\n",
       "      <td>0.0</td>\n",
       "      <td>0.00</td>\n",
       "      <td>1.00</td>\n",
       "      <td>1.00</td>\n",
       "      <td>1.00</td>\n",
       "    </tr>\n",
       "    <tr>\n",
       "      <th>fully_repaid_previous_loans</th>\n",
       "      <td>46153.0</td>\n",
       "      <td>0.899291</td>\n",
       "      <td>0.300946</td>\n",
       "      <td>0.0</td>\n",
       "      <td>1.00</td>\n",
       "      <td>1.00</td>\n",
       "      <td>1.00</td>\n",
       "      <td>1.00</td>\n",
       "    </tr>\n",
       "    <tr>\n",
       "      <th>currently_repaying_other_loans</th>\n",
       "      <td>46153.0</td>\n",
       "      <td>0.364332</td>\n",
       "      <td>0.481247</td>\n",
       "      <td>0.0</td>\n",
       "      <td>0.00</td>\n",
       "      <td>0.00</td>\n",
       "      <td>1.00</td>\n",
       "      <td>1.00</td>\n",
       "    </tr>\n",
       "    <tr>\n",
       "      <th>total_credit_card_limit</th>\n",
       "      <td>101100.0</td>\n",
       "      <td>4112.743818</td>\n",
       "      <td>2129.121462</td>\n",
       "      <td>0.0</td>\n",
       "      <td>2700.00</td>\n",
       "      <td>4100.00</td>\n",
       "      <td>5500.00</td>\n",
       "      <td>13500.00</td>\n",
       "    </tr>\n",
       "    <tr>\n",
       "      <th>avg_percentage_credit_card_limit_used_last_year</th>\n",
       "      <td>94128.0</td>\n",
       "      <td>0.724140</td>\n",
       "      <td>0.186483</td>\n",
       "      <td>0.0</td>\n",
       "      <td>0.60</td>\n",
       "      <td>0.73</td>\n",
       "      <td>0.86</td>\n",
       "      <td>1.09</td>\n",
       "    </tr>\n",
       "    <tr>\n",
       "      <th>saving_amount</th>\n",
       "      <td>101100.0</td>\n",
       "      <td>1799.617616</td>\n",
       "      <td>1400.545141</td>\n",
       "      <td>0.0</td>\n",
       "      <td>834.00</td>\n",
       "      <td>1339.00</td>\n",
       "      <td>2409.00</td>\n",
       "      <td>10641.00</td>\n",
       "    </tr>\n",
       "    <tr>\n",
       "      <th>checking_amount</th>\n",
       "      <td>101100.0</td>\n",
       "      <td>3177.150821</td>\n",
       "      <td>2044.448155</td>\n",
       "      <td>0.0</td>\n",
       "      <td>1706.00</td>\n",
       "      <td>2673.00</td>\n",
       "      <td>4241.00</td>\n",
       "      <td>13906.00</td>\n",
       "    </tr>\n",
       "    <tr>\n",
       "      <th>is_employed</th>\n",
       "      <td>101100.0</td>\n",
       "      <td>0.658675</td>\n",
       "      <td>0.474157</td>\n",
       "      <td>0.0</td>\n",
       "      <td>0.00</td>\n",
       "      <td>1.00</td>\n",
       "      <td>1.00</td>\n",
       "      <td>1.00</td>\n",
       "    </tr>\n",
       "    <tr>\n",
       "      <th>yearly_salary</th>\n",
       "      <td>101100.0</td>\n",
       "      <td>21020.727992</td>\n",
       "      <td>18937.581415</td>\n",
       "      <td>0.0</td>\n",
       "      <td>0.00</td>\n",
       "      <td>21500.00</td>\n",
       "      <td>35300.00</td>\n",
       "      <td>97200.00</td>\n",
       "    </tr>\n",
       "    <tr>\n",
       "      <th>age</th>\n",
       "      <td>101100.0</td>\n",
       "      <td>41.491632</td>\n",
       "      <td>12.825570</td>\n",
       "      <td>18.0</td>\n",
       "      <td>32.00</td>\n",
       "      <td>41.00</td>\n",
       "      <td>50.00</td>\n",
       "      <td>79.00</td>\n",
       "    </tr>\n",
       "    <tr>\n",
       "      <th>dependent_number</th>\n",
       "      <td>101100.0</td>\n",
       "      <td>3.864748</td>\n",
       "      <td>2.635491</td>\n",
       "      <td>0.0</td>\n",
       "      <td>2.00</td>\n",
       "      <td>3.00</td>\n",
       "      <td>6.00</td>\n",
       "      <td>8.00</td>\n",
       "    </tr>\n",
       "  </tbody>\n",
       "</table>\n",
       "</div>"
      ],
      "text/plain": [
       "                                                    count           mean  \\\n",
       "loan_id                                          101100.0  499666.826726   \n",
       "loan_granted                                     101100.0       0.471355   \n",
       "loan_repaid                                       47654.0       0.644353   \n",
       "is_first_loan                                    101100.0       0.543492   \n",
       "fully_repaid_previous_loans                       46153.0       0.899291   \n",
       "currently_repaying_other_loans                    46153.0       0.364332   \n",
       "total_credit_card_limit                          101100.0    4112.743818   \n",
       "avg_percentage_credit_card_limit_used_last_year   94128.0       0.724140   \n",
       "saving_amount                                    101100.0    1799.617616   \n",
       "checking_amount                                  101100.0    3177.150821   \n",
       "is_employed                                      101100.0       0.658675   \n",
       "yearly_salary                                    101100.0   21020.727992   \n",
       "age                                              101100.0      41.491632   \n",
       "dependent_number                                 101100.0       3.864748   \n",
       "\n",
       "                                                           std   min  \\\n",
       "loan_id                                          288662.006929  30.0   \n",
       "loan_granted                                          0.499181   0.0   \n",
       "loan_repaid                                           0.478714   0.0   \n",
       "is_first_loan                                         0.498107   0.0   \n",
       "fully_repaid_previous_loans                           0.300946   0.0   \n",
       "currently_repaying_other_loans                        0.481247   0.0   \n",
       "total_credit_card_limit                            2129.121462   0.0   \n",
       "avg_percentage_credit_card_limit_used_last_year       0.186483   0.0   \n",
       "saving_amount                                      1400.545141   0.0   \n",
       "checking_amount                                    2044.448155   0.0   \n",
       "is_employed                                           0.474157   0.0   \n",
       "yearly_salary                                     18937.581415   0.0   \n",
       "age                                                  12.825570  18.0   \n",
       "dependent_number                                      2.635491   0.0   \n",
       "\n",
       "                                                       25%        50%  \\\n",
       "loan_id                                          250333.75  499885.00   \n",
       "loan_granted                                          0.00       0.00   \n",
       "loan_repaid                                           0.00       1.00   \n",
       "is_first_loan                                         0.00       1.00   \n",
       "fully_repaid_previous_loans                           1.00       1.00   \n",
       "currently_repaying_other_loans                        0.00       0.00   \n",
       "total_credit_card_limit                            2700.00    4100.00   \n",
       "avg_percentage_credit_card_limit_used_last_year       0.60       0.73   \n",
       "saving_amount                                       834.00    1339.00   \n",
       "checking_amount                                    1706.00    2673.00   \n",
       "is_employed                                           0.00       1.00   \n",
       "yearly_salary                                         0.00   21500.00   \n",
       "age                                                  32.00      41.00   \n",
       "dependent_number                                      2.00       3.00   \n",
       "\n",
       "                                                       75%        max  \n",
       "loan_id                                          749706.25  999987.00  \n",
       "loan_granted                                          1.00       1.00  \n",
       "loan_repaid                                           1.00       1.00  \n",
       "is_first_loan                                         1.00       1.00  \n",
       "fully_repaid_previous_loans                           1.00       1.00  \n",
       "currently_repaying_other_loans                        1.00       1.00  \n",
       "total_credit_card_limit                            5500.00   13500.00  \n",
       "avg_percentage_credit_card_limit_used_last_year       0.86       1.09  \n",
       "saving_amount                                      2409.00   10641.00  \n",
       "checking_amount                                    4241.00   13906.00  \n",
       "is_employed                                           1.00       1.00  \n",
       "yearly_salary                                     35300.00   97200.00  \n",
       "age                                                  50.00      79.00  \n",
       "dependent_number                                      6.00       8.00  "
      ]
     },
     "execution_count": 15,
     "metadata": {},
     "output_type": "execute_result"
    }
   ],
   "source": [
    "# get the Simple Summary Statistics\n",
    "df_loan.describe().transpose()"
   ]
  },
  {
   "cell_type": "code",
   "execution_count": 16,
   "metadata": {
    "colab": {
     "base_uri": "https://localhost:8080/"
    },
    "id": "f3dqPYb7zejq",
    "outputId": "9d3117bd-9abf-4f37-eb3d-ae9bb0c57475"
   },
   "outputs": [
    {
     "name": "stdout",
     "output_type": "stream",
     "text": [
      "<class 'pandas.core.frame.DataFrame'>\n",
      "RangeIndex: 101100 entries, 0 to 101099\n",
      "Data columns (total 16 columns):\n",
      " #   Column                                           Non-Null Count   Dtype  \n",
      "---  ------                                           --------------   -----  \n",
      " 0   loan_id                                          101100 non-null  int64  \n",
      " 1   loan_purpose                                     101100 non-null  object \n",
      " 2   date                                             101100 non-null  object \n",
      " 3   loan_granted                                     101100 non-null  int64  \n",
      " 4   loan_repaid                                      47654 non-null   float64\n",
      " 5   is_first_loan                                    101100 non-null  int64  \n",
      " 6   fully_repaid_previous_loans                      46153 non-null   float64\n",
      " 7   currently_repaying_other_loans                   46153 non-null   float64\n",
      " 8   total_credit_card_limit                          101100 non-null  int64  \n",
      " 9   avg_percentage_credit_card_limit_used_last_year  94128 non-null   float64\n",
      " 10  saving_amount                                    101100 non-null  int64  \n",
      " 11  checking_amount                                  101100 non-null  int64  \n",
      " 12  is_employed                                      101100 non-null  int64  \n",
      " 13  yearly_salary                                    101100 non-null  int64  \n",
      " 14  age                                              101100 non-null  int64  \n",
      " 15  dependent_number                                 101100 non-null  int64  \n",
      "dtypes: float64(4), int64(10), object(2)\n",
      "memory usage: 12.3+ MB\n",
      "None\n"
     ]
    }
   ],
   "source": [
    "print(df_loan.info())"
   ]
  },
  {
   "cell_type": "code",
   "execution_count": 17,
   "metadata": {
    "colab": {
     "base_uri": "https://localhost:8080/"
    },
    "id": "BwfY4srLxIqC",
    "outputId": "5c6e6091-38bb-4cad-b6c0-9e0232addbcf"
   },
   "outputs": [
    {
     "name": "stdout",
     "output_type": "stream",
     "text": [
      "int64      10\n",
      "float64     4\n",
      "object      2\n",
      "Name: count, dtype: int64\n"
     ]
    }
   ],
   "source": [
    "df_loan.dtypes\n",
    "type_counts = df_loan.dtypes.value_counts()\n",
    "print(type_counts)"
   ]
  },
  {
   "cell_type": "code",
   "execution_count": 18,
   "metadata": {
    "colab": {
     "base_uri": "https://localhost:8080/"
    },
    "id": "B5XQmL6FxbAH",
    "outputId": "97d5177d-a333-4e1f-af7a-bbe987c3cfb8"
   },
   "outputs": [
    {
     "name": "stdout",
     "output_type": "stream",
     "text": [
      "loan_purpose    object\n",
      "date            object\n",
      "dtype: object\n"
     ]
    }
   ],
   "source": [
    "object_dtypes = df_loan.select_dtypes(include=['object']).dtypes\n",
    "print(object_dtypes)"
   ]
  },
  {
   "cell_type": "code",
   "execution_count": 19,
   "metadata": {
    "colab": {
     "base_uri": "https://localhost:8080/"
    },
    "id": "v14ejWzzxgth",
    "outputId": "1b537f3a-f90d-4e9a-8ef6-5fc8ea44902e"
   },
   "outputs": [
    {
     "name": "stdout",
     "output_type": "stream",
     "text": [
      "loan_id                                              int64\n",
      "loan_granted                                         int64\n",
      "loan_repaid                                        float64\n",
      "is_first_loan                                        int64\n",
      "fully_repaid_previous_loans                        float64\n",
      "currently_repaying_other_loans                     float64\n",
      "total_credit_card_limit                              int64\n",
      "avg_percentage_credit_card_limit_used_last_year    float64\n",
      "saving_amount                                        int64\n",
      "checking_amount                                      int64\n",
      "is_employed                                          int64\n",
      "yearly_salary                                        int64\n",
      "age                                                  int64\n",
      "dependent_number                                     int64\n",
      "dtype: object\n"
     ]
    }
   ],
   "source": [
    "numerical_dtypes = df_loan.select_dtypes(include=['number']).dtypes\n",
    "print(numerical_dtypes)"
   ]
  },
  {
   "cell_type": "code",
   "execution_count": 20,
   "metadata": {
    "colab": {
     "base_uri": "https://localhost:8080/",
     "height": 1000
    },
    "id": "ZROS6zmAxvPl",
    "outputId": "423b5989-a3c7-4e59-f6f4-c1b1c14c7de7"
   },
   "outputs": [
    {
     "name": "stdout",
     "output_type": "stream",
     "text": [
      "['loan_repaid', 'fully_repaid_previous_loans', 'currently_repaying_other_loans']\n"
     ]
    },
    {
     "data": {
      "image/png": "[encoded data removed]",
      "text/plain": [
       "<Figure size 700x1200 with 11 Axes>"
      ]
     },
     "metadata": {},
     "output_type": "display_data"
    }
   ],
   "source": [
    "# Calculate the percentage of missing values for each column\n",
    "missing_percentage = (df_loan.isnull().sum() / len(df_loan)) * 100\n",
    "\n",
    "# Get columns with missing percentage greater than 20%\n",
    "columns_to_drop = missing_percentage[missing_percentage > 20].index.tolist()\n",
    "\n",
    "# Drop specified columns\n",
    "outlier_df = df_loan.drop(columns_to_drop, axis=1)\n",
    "print(columns_to_drop)\n",
    "\n",
    "# Filter rows with no null values in any column\n",
    "outlier_df = outlier_df.dropna()\n",
    "\n",
    "# Check if remaining columns are numeric\n",
    "numeric_columns = outlier_df.select_dtypes(include=['number']).columns\n",
    "\n",
    "# Visualization\n",
    "num_columns = len(numeric_columns)\n",
    "num_rows = math.ceil(num_columns / 3)\n",
    "num_cols = 3\n",
    "\n",
    "fig, axes = plt.subplots(nrows=num_rows, ncols=num_cols, figsize=(7, 3*num_rows))\n",
    "axes = axes.flatten()\n",
    "\n",
    "for i, column in enumerate(numeric_columns):\n",
    "    sns.boxplot(y=outlier_df[column], ax=axes[i])\n",
    "    axes[i].set_title(column)\n",
    "\n",
    "for j in range(num_columns, len(axes)):\n",
    "    fig.delaxes(axes[j])\n",
    "\n",
    "plt.tight_layout()\n",
    "plt.show()"
   ]
  },
  {
   "cell_type": "code",
   "execution_count": 21,
   "metadata": {
    "colab": {
     "base_uri": "https://localhost:8080/",
     "height": 1000
    },
    "id": "JUq77jtO1L2w",
    "outputId": "c58b1085-fea1-4a91-e3cf-ef48993bdf28"
   },
   "outputs": [
    {
     "data": {
      "image/png": "[encoded data removed]",
      "text/plain": [
       "<Figure size 1200x1000 with 2 Axes>"
      ]
     },
     "metadata": {},
     "output_type": "display_data"
    }
   ],
   "source": [
    "# Drop specified columns\n",
    "# Calculate the percentage of missing values for each column\n",
    "missing_percentage = (df_loan.isnull().sum() / len(df_loan)) * 100\n",
    "\n",
    "# Get columns with missing percentage greater than 20%\n",
    "columns_to_drop = missing_percentage[missing_percentage > 20].index.tolist()\n",
    "\n",
    "# Filter rows with no null values in any column\n",
    "outlier_df = outlier_df.dropna()\n",
    "corr_df = df_loan.drop(columns_to_drop, axis=1)\n",
    "\n",
    "# Remove non-numeric columns for correlation computation\n",
    "numeric_cols = corr_df.select_dtypes(include=['number']).columns\n",
    "correlation_matrix = corr_df[numeric_cols].corr()\n",
    "\n",
    "# Plot correlation heatmap with adjusted figsize\n",
    "plt.figure(figsize=(12, 10))  # Adjusted figsize\n",
    "sns.heatmap(correlation_matrix, annot=True, cmap=\"cividis\", fmt=\".2f\", linewidths=.5)\n",
    "plt.title(\"Correlation Matrix\")\n",
    "plt.show()"
   ]
  },
  {
   "cell_type": "code",
   "execution_count": 22,
   "metadata": {
    "id": "bwjQOOcY6hML"
   },
   "outputs": [],
   "source": [
    "#Create different datasets for granted & ungranted and repaid & non-repaid segments\n",
    "\n",
    "granted   = df_loan.loc[(df_loan['loan_granted'] == 1)]\n",
    "ungranted = df_loan.loc[(df_loan['loan_granted'] == 0)]\n",
    "\n",
    "repaid     = granted.loc[(granted['loan_repaid'] == 1)]\n",
    "non_repaid = granted.loc[(granted['loan_repaid'] == 0)]"
   ]
  },
  {
   "cell_type": "code",
   "execution_count": 23,
   "metadata": {
    "colab": {
     "base_uri": "https://localhost:8080/",
     "height": 487
    },
    "id": "IP71mEDG7ZUb",
    "outputId": "b2567776-37cc-4d94-e65e-1981885b60f8"
   },
   "outputs": [
    {
     "data": {
      "image/png": "[encoded data removed]",
      "text/plain": [
       "<Figure size 500x500 with 1 Axes>"
      ]
     },
     "metadata": {},
     "output_type": "display_data"
    }
   ],
   "source": [
    "# Class Imbalance check\n",
    "\n",
    "temp_ln_rpd = granted['loan_repaid'].value_counts()\n",
    "df_ln_rpd = pd.DataFrame({'labels': temp_ln_rpd.index,\n",
    "                   'values': temp_ln_rpd.values})\n",
    "plt.figure(figsize = (5,5))\n",
    "plt.title('Application loans repaid')\n",
    "sns.set_color_codes(\"pastel\")\n",
    "sns.barplot(x = 'labels', y=\"values\", data=df_ln_rpd)\n",
    "locs, labels = plt.xticks()\n",
    "plt.show()"
   ]
  },
  {
   "cell_type": "code",
   "execution_count": 24,
   "metadata": {
    "id": "st3wpMvk8Su2"
   },
   "outputs": [],
   "source": [
    "def plot_stats(df, feature, target_ftr, label_rotation=False, horizontal_layout=True):\n",
    "    '''\n",
    "    This function plot the categorical feature distribution according to target variable\n",
    "    '''\n",
    "    temp = df[feature].value_counts()\n",
    "    df1 = pd.DataFrame({feature: temp.index,'Number of repaid-loans': temp.values})\n",
    "\n",
    "    # Calculate the percentage of target=1 per category value\n",
    "    cat_perc = df[[feature, target_ftr]].groupby([feature],as_index=False).mean()\n",
    "    cat_perc.sort_values(by=target_ftr, ascending=False, inplace=True)\n",
    "\n",
    "    sns.set_color_codes(\"pastel\")\n",
    "    s = sns.barplot(x = feature, y=\"Number of repaid-loans\",data=df1)\n",
    "    if(label_rotation):\n",
    "        s.set_xticklabels(s.get_xticklabels(),rotation=60)\n",
    "\n",
    "    plt.tick_params(axis='both', which='major', labelsize=10)\n",
    "\n",
    "    plt.show();"
   ]
  },
  {
   "cell_type": "code",
   "execution_count": 25,
   "metadata": {
    "colab": {
     "base_uri": "https://localhost:8080/",
     "height": 450
    },
    "id": "72-Yh5XW7jJt",
    "outputId": "88b25088-36e2-4700-992b-8c1e1f95e9d6"
   },
   "outputs": [
    {
     "data": {
      "image/png": "[encoded data removed]",
      "text/plain": [
       "<Figure size 640x480 with 1 Axes>"
      ]
     },
     "metadata": {},
     "output_type": "display_data"
    }
   ],
   "source": [
    "plot_stats(granted, 'dependent_number', 'loan_repaid', label_rotation=False, horizontal_layout=True)"
   ]
  },
  {
   "cell_type": "code",
   "execution_count": 26,
   "metadata": {
    "colab": {
     "base_uri": "https://localhost:8080/",
     "height": 450
    },
    "id": "mfYMYojoKskW",
    "outputId": "f87084f2-558a-406e-f819-07078eee1e67"
   },
   "outputs": [
    {
     "data": {
      "image/png": "[encoded data removed]",
      "text/plain": [
       "<Figure size 640x480 with 1 Axes>"
      ]
     },
     "metadata": {},
     "output_type": "display_data"
    }
   ],
   "source": [
    "plot_stats(granted, 'is_employed', 'loan_repaid', label_rotation=False, horizontal_layout=True)"
   ]
  },
  {
   "cell_type": "code",
   "execution_count": 27,
   "metadata": {
    "colab": {
     "base_uri": "https://localhost:8080/"
    },
    "id": "3fiD6UtHK8ZG",
    "outputId": "0e4c6c33-776a-4db2-fc73-a751f1873610"
   },
   "outputs": [
    {
     "name": "stdout",
     "output_type": "stream",
     "text": [
      "Employed who repay their loans (%) :\n",
      "69.0\n",
      "\n",
      "\n",
      "Unemployed who repay their loans (%) :\n",
      "17.9\n"
     ]
    }
   ],
   "source": [
    "# How many of employed repay their loans\n",
    "print('Employed who repay their loans (%) :')\n",
    "print(round(((granted[(granted['is_employed']==1) & (granted['loan_repaid']==1)].shape[0])/granted[(granted['is_employed']==1)].shape[0])*100,1))\n",
    "\n",
    "print('')\n",
    "print('')\n",
    "\n",
    "# How many of un-employed repay their loans\n",
    "print('Unemployed who repay their loans (%) :')\n",
    "print(round(((granted[(granted['is_employed']==0) & (granted['loan_repaid']==1)].shape[0])/granted[(granted['is_employed']==0)].shape[0])*100,1))"
   ]
  },
  {
   "cell_type": "code",
   "execution_count": 28,
   "metadata": {
    "colab": {
     "base_uri": "https://localhost:8080/",
     "height": 452
    },
    "id": "QmZ4ZRdjLM4o",
    "outputId": "72ec98e1-6b2c-4bff-b3d0-30fc9010b48d"
   },
   "outputs": [
    {
     "data": {
      "image/png": "[encoded data removed]",
      "text/plain": [
       "<Figure size 640x480 with 1 Axes>"
      ]
     },
     "metadata": {},
     "output_type": "display_data"
    }
   ],
   "source": [
    "plot_stats(granted, 'currently_repaying_other_loans', 'loan_repaid', label_rotation=False, horizontal_layout=True)"
   ]
  },
  {
   "cell_type": "code",
   "execution_count": 29,
   "metadata": {
    "colab": {
     "base_uri": "https://localhost:8080/"
    },
    "id": "Yf8vmaI1LQnm",
    "outputId": "990731c0-6be5-4667-fa7c-adb7e5b3d049"
   },
   "outputs": [
    {
     "name": "stdout",
     "output_type": "stream",
     "text": [
      "People who repay their loans having existing loan payment (%) :\n",
      "27.13\n",
      "\n",
      "\n",
      "People who repay their loans not having any other loan payment (%) :\n",
      "79.3\n"
     ]
    }
   ],
   "source": [
    "# How many repay the loan while paying for another loan\n",
    "print('People who repay their loans having existing loan payment (%) :')\n",
    "print(round(((granted[(granted['currently_repaying_other_loans']==1) & (granted['loan_repaid']==1)].shape[0])/granted[(granted['currently_repaying_other_loans']==1)].shape[0])*100,2))\n",
    "\n",
    "print('')\n",
    "print('')\n",
    "\n",
    "# How many repay the loan when not paying for other loans\n",
    "print('People who repay their loans not having any other loan payment (%) :')\n",
    "print(round(((granted[(granted['currently_repaying_other_loans']==0) & (granted['loan_repaid']==1)].shape[0])/granted[(granted['currently_repaying_other_loans']==0)].shape[0])*100,2))"
   ]
  },
  {
   "cell_type": "code",
   "execution_count": 30,
   "metadata": {
    "colab": {
     "base_uri": "https://localhost:8080/",
     "height": 450
    },
    "id": "cg90dfikLZPA",
    "outputId": "5b61cfd6-f7f4-4e4f-87c2-f25994643594"
   },
   "outputs": [
    {
     "data": {
      "image/png": "[encoded data removed]",
      "text/plain": [
       "<Figure size 640x480 with 1 Axes>"
      ]
     },
     "metadata": {},
     "output_type": "display_data"
    }
   ],
   "source": [
    "plot_stats(granted, 'fully_repaid_previous_loans', 'loan_repaid', label_rotation=False, horizontal_layout=True)"
   ]
  },
  {
   "cell_type": "code",
   "execution_count": 31,
   "metadata": {
    "colab": {
     "base_uri": "https://localhost:8080/"
    },
    "id": "QiR6gXw1LbHD",
    "outputId": "21b69c39-6150-4921-f9be-5f98a82c3fe4"
   },
   "outputs": [
    {
     "name": "stdout",
     "output_type": "stream",
     "text": [
      "People who repay their loans who have fully repaid previous loans (%) :\n",
      "64.38\n",
      "\n",
      "\n",
      "People who repay their loans who have not fully repaid previous loans (%) :\n",
      "58.11\n"
     ]
    }
   ],
   "source": [
    "# How many of people repay their loans who have fully repaid previous loans\n",
    "print('People who repay their loans who have fully repaid previous loans (%) :')\n",
    "print(round(((granted[(granted['fully_repaid_previous_loans']==1) & (granted['loan_repaid']==1)].shape[0])/granted[(granted['fully_repaid_previous_loans']==1)].shape[0])*100,2))\n",
    "\n",
    "print('')\n",
    "print('')\n",
    "\n",
    "# How many of people repay their loans who haven't fully repaid previous loans\n",
    "print('People who repay their loans who have not fully repaid previous loans (%) :')\n",
    "print(round(((granted[(granted['fully_repaid_previous_loans']==0) & (granted['loan_repaid']==1)].shape[0])/granted[(granted['fully_repaid_previous_loans']==0)].shape[0])*100,2))"
   ]
  },
  {
   "cell_type": "code",
   "execution_count": 32,
   "metadata": {
    "colab": {
     "base_uri": "https://localhost:8080/",
     "height": 410
    },
    "id": "bzO3BcwlLjOY",
    "outputId": "c58c0a2e-8420-40e3-8f48-11cbe8a46299"
   },
   "outputs": [
    {
     "data": {
      "image/png": "[encoded data removed]",
      "text/plain": [
       "<Figure size 1200x400 with 3 Axes>"
      ]
     },
     "metadata": {},
     "output_type": "display_data"
    }
   ],
   "source": [
    "fig, axes = plt.subplots(1, 3)\n",
    "\n",
    "fig.set_size_inches(12, 4)\n",
    "\n",
    "repaid.hist('saving_amount', bins=100, ax=axes[0])\n",
    "axes[0].set_xlabel('repaid')\n",
    "non_repaid.hist('saving_amount', bins=100, ax=axes[1])\n",
    "axes[1].set_xlabel('non_repaid')\n",
    "ungranted.hist('saving_amount', bins=100, ax=axes[2])\n",
    "axes[2].set_xlabel('ungranted')\n",
    "\n",
    "plt.show()"
   ]
  },
  {
   "cell_type": "code",
   "execution_count": 33,
   "metadata": {
    "colab": {
     "base_uri": "https://localhost:8080/"
    },
    "id": "jtCkYZE3Ln1D",
    "outputId": "d1d6685e-33b3-4c66-e976-1f4c190f5359"
   },
   "outputs": [
    {
     "name": "stdout",
     "output_type": "stream",
     "text": [
      "Average saving_amount by repaid group: 2399.0\n",
      "Average saving_amount by non-repaid group: 1019.0\n",
      "Average saving_amount by ungranted group: 1216.0\n"
     ]
    }
   ],
   "source": [
    "print(f'Average saving_amount by repaid group: {repaid[\"saving_amount\"].median()}')\n",
    "print(f'Average saving_amount by non-repaid group: {non_repaid[\"saving_amount\"].median()}')\n",
    "print(f'Average saving_amount by ungranted group: {ungranted[\"saving_amount\"].median()}')"
   ]
  },
  {
   "cell_type": "code",
   "execution_count": 34,
   "metadata": {
    "colab": {
     "base_uri": "https://localhost:8080/",
     "height": 410
    },
    "id": "TfpQN1JOLsR3",
    "outputId": "2f4e6c4c-10b2-4366-f977-cb0deae8f974"
   },
   "outputs": [
    {
     "data": {
      "image/png": "[encoded data removed]",
      "text/plain": [
       "<Figure size 1200x400 with 3 Axes>"
      ]
     },
     "metadata": {},
     "output_type": "display_data"
    }
   ],
   "source": [
    "fig, axes = plt.subplots(1, 3)\n",
    "\n",
    "fig.set_size_inches(12, 4)\n",
    "\n",
    "repaid.hist('checking_amount', bins=100, ax=axes[0])\n",
    "axes[0].set_xlabel('repaid')\n",
    "non_repaid.hist('checking_amount', bins=100, ax=axes[1])\n",
    "axes[1].set_xlabel('non_repaid')\n",
    "ungranted.hist('checking_amount', bins=100, ax=axes[2])\n",
    "axes[2].set_xlabel('ungranted')\n",
    "\n",
    "plt.show()"
   ]
  },
  {
   "cell_type": "code",
   "execution_count": 35,
   "metadata": {
    "colab": {
     "base_uri": "https://localhost:8080/"
    },
    "id": "lGoeABJtLwi4",
    "outputId": "c2ebe468-2c64-4cae-f3ed-10064157f2b7"
   },
   "outputs": [
    {
     "name": "stdout",
     "output_type": "stream",
     "text": [
      "Average checking_amount by repaid group: 4160.5\n",
      "Average checking_amount by non-repaid group: 2042.0\n",
      "Average checking_amount by ungranted group: 2442.0\n"
     ]
    }
   ],
   "source": [
    "print(f'Average checking_amount by repaid group: {repaid[\"checking_amount\"].median()}')\n",
    "print(f'Average checking_amount by non-repaid group: {non_repaid[\"checking_amount\"].median()}')\n",
    "print(f'Average checking_amount by ungranted group: {ungranted[\"checking_amount\"].median()}')"
   ]
  },
  {
   "cell_type": "code",
   "execution_count": 36,
   "metadata": {
    "colab": {
     "base_uri": "https://localhost:8080/",
     "height": 718
    },
    "id": "E2477IdkL1pL",
    "outputId": "bd564c6d-baa9-440e-94db-1a089ec192d9"
   },
   "outputs": [
    {
     "data": {
      "image/png": "[encoded data removed]",
      "text/plain": [
       "<Figure size 1500x800 with 3 Axes>"
      ]
     },
     "metadata": {},
     "output_type": "display_data"
    }
   ],
   "source": [
    "fig, axes = plt.subplots(1, 3)\n",
    "\n",
    "fig.set_size_inches(15, 8)\n",
    "\n",
    "repaid.hist('yearly_salary', bins=100, ax=axes[0])\n",
    "axes[0].set_xlabel('repaid')\n",
    "non_repaid.hist('yearly_salary', bins=100, ax=axes[1])\n",
    "axes[1].set_xlabel('non_repaid')\n",
    "ungranted.hist('yearly_salary', bins=100, ax=axes[2])\n",
    "axes[2].set_xlabel('ungranted')\n",
    "\n",
    "plt.show()"
   ]
  },
  {
   "cell_type": "code",
   "execution_count": 37,
   "metadata": {
    "colab": {
     "base_uri": "https://localhost:8080/"
    },
    "id": "1nmooMAgMD9J",
    "outputId": "f3bce0fa-c876-4fa1-9e2e-4898e150fc0b"
   },
   "outputs": [
    {
     "name": "stdout",
     "output_type": "stream",
     "text": [
      "Average yearly_salary by repaid group: 34600.0\n",
      "Average yearly_salary by non-repaid group: 21700.0\n",
      "Average yearly_salary by ungranted group: 0.0\n"
     ]
    }
   ],
   "source": [
    "print(f'Average yearly_salary by repaid group: {repaid[\"yearly_salary\"].median()}')\n",
    "print(f'Average yearly_salary by non-repaid group: {non_repaid[\"yearly_salary\"].median()}')\n",
    "print(f'Average yearly_salary by ungranted group: {ungranted[\"yearly_salary\"].median()}')"
   ]
  },
  {
   "cell_type": "code",
   "execution_count": 38,
   "metadata": {
    "colab": {
     "base_uri": "https://localhost:8080/",
     "height": 410
    },
    "id": "qnc8bWosMHO7",
    "outputId": "a9027514-2312-44c0-d030-45b96de6fb29"
   },
   "outputs": [
    {
     "data": {
      "image/png": "[encoded data removed]",
      "text/plain": [
       "<Figure size 1200x400 with 3 Axes>"
      ]
     },
     "metadata": {},
     "output_type": "display_data"
    }
   ],
   "source": [
    "fig, axes = plt.subplots(1, 3)\n",
    "\n",
    "fig.set_size_inches(12, 4)\n",
    "\n",
    "repaid.hist('total_credit_card_limit', bins=100, ax=axes[0])\n",
    "axes[0].set_xlabel('repaid')\n",
    "non_repaid.hist('total_credit_card_limit', bins=100, ax=axes[1])\n",
    "axes[1].set_xlabel('non_repaid')\n",
    "ungranted.hist('total_credit_card_limit', bins=100, ax=axes[2])\n",
    "axes[2].set_xlabel('ungranted')\n",
    "\n",
    "plt.show()"
   ]
  },
  {
   "cell_type": "code",
   "execution_count": 39,
   "metadata": {
    "colab": {
     "base_uri": "https://localhost:8080/"
    },
    "id": "1bvCbAj0MLBH",
    "outputId": "9905ec2e-ddc9-4d24-b6d4-c81550b452e2"
   },
   "outputs": [
    {
     "name": "stdout",
     "output_type": "stream",
     "text": [
      "Average total_credit_card_limit by repaid group: 5000.0\n",
      "Average total_credit_card_limit by non-repaid group: 3400.0\n",
      "Average total_credit_card_limit by ungranted group: 3700.0\n"
     ]
    }
   ],
   "source": [
    "print(f'Average total_credit_card_limit by repaid group: {repaid[\"total_credit_card_limit\"].median()}')\n",
    "print(f'Average total_credit_card_limit by non-repaid group: {non_repaid[\"total_credit_card_limit\"].median()}')\n",
    "print(f'Average total_credit_card_limit by ungranted group: {ungranted[\"total_credit_card_limit\"].median()}')"
   ]
  },
  {
   "cell_type": "code",
   "execution_count": 40,
   "metadata": {
    "colab": {
     "base_uri": "https://localhost:8080/",
     "height": 410
    },
    "id": "ySyUoVuxMOEO",
    "outputId": "0be7025c-8e53-46d2-cdb1-371030e31381"
   },
   "outputs": [
    {
     "data": {
      "image/png": "[encoded data removed]",
      "text/plain": [
       "<Figure size 1200x400 with 3 Axes>"
      ]
     },
     "metadata": {},
     "output_type": "display_data"
    }
   ],
   "source": [
    "fig, axes = plt.subplots(1, 3)\n",
    "\n",
    "fig.set_size_inches(12, 4)\n",
    "\n",
    "repaid.hist('avg_percentage_credit_card_limit_used_last_year', bins=100, ax=axes[0])\n",
    "axes[0].set_xlabel('repaid')\n",
    "non_repaid.hist('avg_percentage_credit_card_limit_used_last_year', bins=100, ax=axes[1])\n",
    "axes[1].set_xlabel('non_repaid')\n",
    "ungranted.hist('avg_percentage_credit_card_limit_used_last_year', bins=100, ax=axes[2])\n",
    "axes[2].set_xlabel('ungranted')\n",
    "\n",
    "plt.show()"
   ]
  },
  {
   "cell_type": "code",
   "execution_count": 41,
   "metadata": {
    "colab": {
     "base_uri": "https://localhost:8080/"
    },
    "id": "wVvZRQ_TMR8U",
    "outputId": "5f20cdcb-feaf-4254-c2bd-5347e8436fe3"
   },
   "outputs": [
    {
     "name": "stdout",
     "output_type": "stream",
     "text": [
      "0.68\n",
      "0.77\n",
      "0.76\n"
     ]
    }
   ],
   "source": [
    "print(repaid['avg_percentage_credit_card_limit_used_last_year'].median())\n",
    "print(non_repaid['avg_percentage_credit_card_limit_used_last_year'].median())\n",
    "print(ungranted['avg_percentage_credit_card_limit_used_last_year'].median())"
   ]
  },
  {
   "cell_type": "code",
   "execution_count": 42,
   "metadata": {
    "colab": {
     "base_uri": "https://localhost:8080/"
    },
    "id": "Xb-aeXaMMrqL",
    "outputId": "e467367c-0137-46b4-bb81-389b08927625"
   },
   "outputs": [
    {
     "name": "stdout",
     "output_type": "stream",
     "text": [
      "[0 1]\n",
      "[nan  1.  0.]\n",
      "--------------------\n",
      "[nan]\n",
      "[1. 0.]\n"
     ]
    }
   ],
   "source": [
    "#Check the values of loan_granted and loan_repaid\n",
    "print(df_loan['loan_granted'].unique())\n",
    "print(df_loan['loan_repaid'].unique())\n",
    "\n",
    "print('--'*10)\n",
    "\n",
    "print(df_loan.loc[df_loan.loan_granted ==0 ]['loan_repaid'].unique())\n",
    "print(df_loan.loc[df_loan.loan_granted ==1 ]['loan_repaid'].unique())"
   ]
  },
  {
   "cell_type": "code",
   "execution_count": 43,
   "metadata": {
    "colab": {
     "base_uri": "https://localhost:8080/"
    },
    "id": "7ugG5FuTNFD-",
    "outputId": "0ca88a3a-059e-4c7b-cbab-ebb347aa7020"
   },
   "outputs": [
    {
     "name": "stdout",
     "output_type": "stream",
     "text": [
      "[-1.  0.  1.]\n",
      "--------------------\n",
      "[0.]\n",
      "[1.]\n",
      "[-1.]\n"
     ]
    }
   ],
   "source": [
    "#Create the target: loan_quality\n",
    "df_loan.loc[((df_loan['loan_granted'] == 1) & (df_loan['loan_repaid'] == 1)), 'loan_quality'] = 0\n",
    "df_loan.loc[((df_loan['loan_granted'] == 1) & (df_loan['loan_repaid'] == 0)), 'loan_quality'] = 1\n",
    "df_loan.loc[(df_loan['loan_granted'] == 0), 'loan_quality'] = -1\n",
    "\n",
    "print(df_loan['loan_quality'].unique())\n",
    "\n",
    "print('--'*10)\n",
    "\n",
    "print(df_loan.loc[(df_loan['loan_granted']==1)&(df_loan['loan_repaid']==1)]['loan_quality'].unique())\n",
    "print(df_loan.loc[(df_loan['loan_granted']==1)&(df_loan['loan_repaid']==0)]['loan_quality'].unique())\n",
    "print(df_loan.loc[(df_loan['loan_granted']==0)]['loan_quality'].unique())"
   ]
  },
  {
   "cell_type": "markdown",
   "metadata": {
    "id": "rpBrBKKbNjlS"
   },
   "source": [
    "\n",
    "\n",
    "    Target is created according to a risk framework for model building.\n",
    "        If loan is granted and not paid -> risk, mark it 1\n",
    "\n",
    "        If loan is granted and paid -> risk, mark it 0\n",
    "\n",
    "        for all the ungranted loans, -1 is just an indicator. Mathematical calculation will be different for business situation\n",
    "\n"
   ]
  },
  {
   "cell_type": "markdown",
   "metadata": {
    "id": "HH3SEUU6NzgN"
   },
   "source": [
    "## **Data Preprocessing & Engineering**"
   ]
  },
  {
   "cell_type": "code",
   "execution_count": 44,
   "metadata": {
    "id": "fYKRhvyPNnFc"
   },
   "outputs": [],
   "source": [
    "# Create a copy of the loan dataset for feature transformation\n",
    "df_loan_tr = df_loan.copy()"
   ]
  },
  {
   "cell_type": "code",
   "execution_count": 45,
   "metadata": {
    "colab": {
     "base_uri": "https://localhost:8080/",
     "height": 207
    },
    "id": "7fRJ1ZMPOwsa",
    "outputId": "839ed830-a688-45ce-82ed-ca7b0e5f8fb9"
   },
   "outputs": [
    {
     "data": {
      "text/html": [
       "<div>\n",
       "<style scoped>\n",
       "    .dataframe tbody tr th:only-of-type {\n",
       "        vertical-align: middle;\n",
       "    }\n",
       "\n",
       "    .dataframe tbody tr th {\n",
       "        vertical-align: top;\n",
       "    }\n",
       "\n",
       "    .dataframe thead th {\n",
       "        text-align: right;\n",
       "    }\n",
       "</style>\n",
       "<table border=\"1\" class=\"dataframe\">\n",
       "  <thead>\n",
       "    <tr style=\"text-align: right;\">\n",
       "      <th></th>\n",
       "      <th>date</th>\n",
       "      <th>year</th>\n",
       "      <th>month</th>\n",
       "      <th>day</th>\n",
       "      <th>quarter</th>\n",
       "      <th>semester</th>\n",
       "      <th>dayofweek</th>\n",
       "    </tr>\n",
       "  </thead>\n",
       "  <tbody>\n",
       "    <tr>\n",
       "      <th>0</th>\n",
       "      <td>2012-03-15</td>\n",
       "      <td>2012</td>\n",
       "      <td>3</td>\n",
       "      <td>15</td>\n",
       "      <td>1</td>\n",
       "      <td>1</td>\n",
       "      <td>3</td>\n",
       "    </tr>\n",
       "    <tr>\n",
       "      <th>1</th>\n",
       "      <td>2012-01-17</td>\n",
       "      <td>2012</td>\n",
       "      <td>1</td>\n",
       "      <td>17</td>\n",
       "      <td>1</td>\n",
       "      <td>1</td>\n",
       "      <td>1</td>\n",
       "    </tr>\n",
       "    <tr>\n",
       "      <th>2</th>\n",
       "      <td>2012-02-09</td>\n",
       "      <td>2012</td>\n",
       "      <td>2</td>\n",
       "      <td>9</td>\n",
       "      <td>1</td>\n",
       "      <td>1</td>\n",
       "      <td>3</td>\n",
       "    </tr>\n",
       "    <tr>\n",
       "      <th>3</th>\n",
       "      <td>2012-06-27</td>\n",
       "      <td>2012</td>\n",
       "      <td>6</td>\n",
       "      <td>27</td>\n",
       "      <td>2</td>\n",
       "      <td>1</td>\n",
       "      <td>2</td>\n",
       "    </tr>\n",
       "    <tr>\n",
       "      <th>4</th>\n",
       "      <td>2012-05-21</td>\n",
       "      <td>2012</td>\n",
       "      <td>5</td>\n",
       "      <td>21</td>\n",
       "      <td>2</td>\n",
       "      <td>1</td>\n",
       "      <td>0</td>\n",
       "    </tr>\n",
       "  </tbody>\n",
       "</table>\n",
       "</div>"
      ],
      "text/plain": [
       "        date  year  month  day  quarter  semester  dayofweek\n",
       "0 2012-03-15  2012      3   15        1         1          3\n",
       "1 2012-01-17  2012      1   17        1         1          1\n",
       "2 2012-02-09  2012      2    9        1         1          3\n",
       "3 2012-06-27  2012      6   27        2         1          2\n",
       "4 2012-05-21  2012      5   21        2         1          0"
      ]
     },
     "execution_count": 45,
     "metadata": {},
     "output_type": "execute_result"
    }
   ],
   "source": [
    "# Create new feature\n",
    "\n",
    "# Cast the datatype of \"date\" field\n",
    "\n",
    "df_loan_tr['date']= pd.to_datetime(df_loan_tr['date'])\n",
    "df_loan_tr['date'].dtypes\n",
    "\n",
    "\n",
    "# Year from date\n",
    "df_loan_tr['year'] = df_loan_tr['date'].dt.year\n",
    "\n",
    "# Month from date\n",
    "df_loan_tr['month'] = df_loan_tr['date'].dt.month\n",
    "\n",
    "# Day from date\n",
    "df_loan_tr['day'] = df_loan_tr['date'].dt.day\n",
    "\n",
    "# Quarter from date\n",
    "df_loan_tr['quarter'] = df_loan_tr['date'].dt.quarter\n",
    "\n",
    "# Semester from date\n",
    "df_loan_tr['semester'] = np.where(df_loan_tr.quarter.isin([1,2]),1,2)\n",
    "\n",
    "# Day of the week from date\n",
    "df_loan_tr['dayofweek'] = df_loan_tr['date'].dt.dayofweek\n",
    "\n",
    "df_loan_tr[['date', 'year', 'month', 'day', 'quarter', 'semester', 'dayofweek']].head()"
   ]
  },
  {
   "cell_type": "code",
   "execution_count": 46,
   "metadata": {
    "colab": {
     "base_uri": "https://localhost:8080/"
    },
    "id": "31DqwM5lPBz6",
    "outputId": "5e8044c8-1dce-4adf-935b-a9378d2bb3fd"
   },
   "outputs": [
    {
     "data": {
      "text/plain": [
       "array([3, 1, 2, 0, 4])"
      ]
     },
     "execution_count": 46,
     "metadata": {},
     "output_type": "execute_result"
    }
   ],
   "source": [
    "# Check the unique day of week\n",
    "df_loan_tr['dayofweek'].unique()"
   ]
  },
  {
   "cell_type": "markdown",
   "metadata": {
    "id": "1C2wC5FbPMUW"
   },
   "source": [
    "### **Encode**"
   ]
  },
  {
   "cell_type": "code",
   "execution_count": 47,
   "metadata": {
    "colab": {
     "base_uri": "https://localhost:8080/"
    },
    "id": "O8kJnE-IPQVJ",
    "outputId": "6a4651cc-cf0f-4ff7-ac2a-b5f12690badb"
   },
   "outputs": [
    {
     "data": {
      "text/plain": [
       "array(['investment', 'other', 'business', 'emergency_funds', 'home'],\n",
       "      dtype=object)"
      ]
     },
     "execution_count": 47,
     "metadata": {},
     "output_type": "execute_result"
    }
   ],
   "source": [
    "# Unique values in loan_purpose\n",
    "\n",
    "df_loan_tr[\"loan_purpose\"].unique()"
   ]
  },
  {
   "cell_type": "code",
   "execution_count": 48,
   "metadata": {
    "colab": {
     "base_uri": "https://localhost:8080/",
     "height": 144
    },
    "id": "rqT_CwINPa1P",
    "outputId": "d44f2397-c6d4-40f5-bef4-490c6ce9b6a5"
   },
   "outputs": [
    {
     "data": {
      "text/html": [
       "<div>\n",
       "<style scoped>\n",
       "    .dataframe tbody tr th:only-of-type {\n",
       "        vertical-align: middle;\n",
       "    }\n",
       "\n",
       "    .dataframe tbody tr th {\n",
       "        vertical-align: top;\n",
       "    }\n",
       "\n",
       "    .dataframe thead th {\n",
       "        text-align: right;\n",
       "    }\n",
       "</style>\n",
       "<table border=\"1\" class=\"dataframe\">\n",
       "  <thead>\n",
       "    <tr style=\"text-align: right;\">\n",
       "      <th></th>\n",
       "      <th>loan_purpose</th>\n",
       "      <th>loan_purpose_cat</th>\n",
       "    </tr>\n",
       "  </thead>\n",
       "  <tbody>\n",
       "    <tr>\n",
       "      <th>0</th>\n",
       "      <td>investment</td>\n",
       "      <td>3</td>\n",
       "    </tr>\n",
       "    <tr>\n",
       "      <th>1</th>\n",
       "      <td>investment</td>\n",
       "      <td>3</td>\n",
       "    </tr>\n",
       "    <tr>\n",
       "      <th>2</th>\n",
       "      <td>other</td>\n",
       "      <td>4</td>\n",
       "    </tr>\n",
       "  </tbody>\n",
       "</table>\n",
       "</div>"
      ],
      "text/plain": [
       "  loan_purpose  loan_purpose_cat\n",
       "0   investment                 3\n",
       "1   investment                 3\n",
       "2        other                 4"
      ]
     },
     "execution_count": 48,
     "metadata": {},
     "output_type": "execute_result"
    }
   ],
   "source": [
    "# Convert the datatypes of the feature to 'category' before Label encoding.\n",
    "df_loan_tr[\"loan_purpose\"] = df_loan_tr[\"loan_purpose\"].astype('category')\n",
    "\n",
    "# Label Encoding\n",
    "df_loan_tr[\"loan_purpose_cat\"] = df_loan_tr[\"loan_purpose\"].cat.codes\n",
    "\n",
    "df_loan_tr[[\"loan_purpose\", \"loan_purpose_cat\"]].head(3)"
   ]
  },
  {
   "cell_type": "code",
   "execution_count": 49,
   "metadata": {
    "colab": {
     "base_uri": "https://localhost:8080/",
     "height": 803
    },
    "id": "RcEVI42pPpjw",
    "outputId": "1a27759e-74bf-4174-c5bf-2dd40000a9d7"
   },
   "outputs": [
    {
     "data": {
      "text/html": [
       "<div>\n",
       "<style scoped>\n",
       "    .dataframe tbody tr th:only-of-type {\n",
       "        vertical-align: middle;\n",
       "    }\n",
       "\n",
       "    .dataframe tbody tr th {\n",
       "        vertical-align: top;\n",
       "    }\n",
       "\n",
       "    .dataframe thead th {\n",
       "        text-align: right;\n",
       "    }\n",
       "</style>\n",
       "<table border=\"1\" class=\"dataframe\">\n",
       "  <thead>\n",
       "    <tr style=\"text-align: right;\">\n",
       "      <th></th>\n",
       "      <th>Missing_Value_Count</th>\n",
       "      <th>Missing_Value_Percentage</th>\n",
       "    </tr>\n",
       "  </thead>\n",
       "  <tbody>\n",
       "    <tr>\n",
       "      <th>fully_repaid_previous_loans</th>\n",
       "      <td>54947</td>\n",
       "      <td>54.35</td>\n",
       "    </tr>\n",
       "    <tr>\n",
       "      <th>currently_repaying_other_loans</th>\n",
       "      <td>54947</td>\n",
       "      <td>54.35</td>\n",
       "    </tr>\n",
       "    <tr>\n",
       "      <th>loan_repaid</th>\n",
       "      <td>53446</td>\n",
       "      <td>52.86</td>\n",
       "    </tr>\n",
       "    <tr>\n",
       "      <th>avg_percentage_credit_card_limit_used_last_year</th>\n",
       "      <td>6972</td>\n",
       "      <td>6.90</td>\n",
       "    </tr>\n",
       "    <tr>\n",
       "      <th>loan_id</th>\n",
       "      <td>0</td>\n",
       "      <td>0.00</td>\n",
       "    </tr>\n",
       "    <tr>\n",
       "      <th>age</th>\n",
       "      <td>0</td>\n",
       "      <td>0.00</td>\n",
       "    </tr>\n",
       "    <tr>\n",
       "      <th>dayofweek</th>\n",
       "      <td>0</td>\n",
       "      <td>0.00</td>\n",
       "    </tr>\n",
       "    <tr>\n",
       "      <th>semester</th>\n",
       "      <td>0</td>\n",
       "      <td>0.00</td>\n",
       "    </tr>\n",
       "    <tr>\n",
       "      <th>quarter</th>\n",
       "      <td>0</td>\n",
       "      <td>0.00</td>\n",
       "    </tr>\n",
       "    <tr>\n",
       "      <th>day</th>\n",
       "      <td>0</td>\n",
       "      <td>0.00</td>\n",
       "    </tr>\n",
       "    <tr>\n",
       "      <th>month</th>\n",
       "      <td>0</td>\n",
       "      <td>0.00</td>\n",
       "    </tr>\n",
       "    <tr>\n",
       "      <th>year</th>\n",
       "      <td>0</td>\n",
       "      <td>0.00</td>\n",
       "    </tr>\n",
       "    <tr>\n",
       "      <th>loan_quality</th>\n",
       "      <td>0</td>\n",
       "      <td>0.00</td>\n",
       "    </tr>\n",
       "    <tr>\n",
       "      <th>dependent_number</th>\n",
       "      <td>0</td>\n",
       "      <td>0.00</td>\n",
       "    </tr>\n",
       "    <tr>\n",
       "      <th>is_employed</th>\n",
       "      <td>0</td>\n",
       "      <td>0.00</td>\n",
       "    </tr>\n",
       "    <tr>\n",
       "      <th>yearly_salary</th>\n",
       "      <td>0</td>\n",
       "      <td>0.00</td>\n",
       "    </tr>\n",
       "    <tr>\n",
       "      <th>loan_purpose</th>\n",
       "      <td>0</td>\n",
       "      <td>0.00</td>\n",
       "    </tr>\n",
       "    <tr>\n",
       "      <th>checking_amount</th>\n",
       "      <td>0</td>\n",
       "      <td>0.00</td>\n",
       "    </tr>\n",
       "    <tr>\n",
       "      <th>saving_amount</th>\n",
       "      <td>0</td>\n",
       "      <td>0.00</td>\n",
       "    </tr>\n",
       "    <tr>\n",
       "      <th>total_credit_card_limit</th>\n",
       "      <td>0</td>\n",
       "      <td>0.00</td>\n",
       "    </tr>\n",
       "    <tr>\n",
       "      <th>is_first_loan</th>\n",
       "      <td>0</td>\n",
       "      <td>0.00</td>\n",
       "    </tr>\n",
       "    <tr>\n",
       "      <th>loan_granted</th>\n",
       "      <td>0</td>\n",
       "      <td>0.00</td>\n",
       "    </tr>\n",
       "    <tr>\n",
       "      <th>date</th>\n",
       "      <td>0</td>\n",
       "      <td>0.00</td>\n",
       "    </tr>\n",
       "    <tr>\n",
       "      <th>loan_purpose_cat</th>\n",
       "      <td>0</td>\n",
       "      <td>0.00</td>\n",
       "    </tr>\n",
       "  </tbody>\n",
       "</table>\n",
       "</div>"
      ],
      "text/plain": [
       "                                                 Missing_Value_Count  \\\n",
       "fully_repaid_previous_loans                                    54947   \n",
       "currently_repaying_other_loans                                 54947   \n",
       "loan_repaid                                                    53446   \n",
       "avg_percentage_credit_card_limit_used_last_year                 6972   \n",
       "loan_id                                                            0   \n",
       "age                                                                0   \n",
       "dayofweek                                                          0   \n",
       "semester                                                           0   \n",
       "quarter                                                            0   \n",
       "day                                                                0   \n",
       "month                                                              0   \n",
       "year                                                               0   \n",
       "loan_quality                                                       0   \n",
       "dependent_number                                                   0   \n",
       "is_employed                                                        0   \n",
       "yearly_salary                                                      0   \n",
       "loan_purpose                                                       0   \n",
       "checking_amount                                                    0   \n",
       "saving_amount                                                      0   \n",
       "total_credit_card_limit                                            0   \n",
       "is_first_loan                                                      0   \n",
       "loan_granted                                                       0   \n",
       "date                                                               0   \n",
       "loan_purpose_cat                                                   0   \n",
       "\n",
       "                                                 Missing_Value_Percentage  \n",
       "fully_repaid_previous_loans                                         54.35  \n",
       "currently_repaying_other_loans                                      54.35  \n",
       "loan_repaid                                                         52.86  \n",
       "avg_percentage_credit_card_limit_used_last_year                      6.90  \n",
       "loan_id                                                              0.00  \n",
       "age                                                                  0.00  \n",
       "dayofweek                                                            0.00  \n",
       "semester                                                             0.00  \n",
       "quarter                                                              0.00  \n",
       "day                                                                  0.00  \n",
       "month                                                                0.00  \n",
       "year                                                                 0.00  \n",
       "loan_quality                                                         0.00  \n",
       "dependent_number                                                     0.00  \n",
       "is_employed                                                          0.00  \n",
       "yearly_salary                                                        0.00  \n",
       "loan_purpose                                                         0.00  \n",
       "checking_amount                                                      0.00  \n",
       "saving_amount                                                        0.00  \n",
       "total_credit_card_limit                                              0.00  \n",
       "is_first_loan                                                        0.00  \n",
       "loan_granted                                                         0.00  \n",
       "date                                                                 0.00  \n",
       "loan_purpose_cat                                                     0.00  "
      ]
     },
     "execution_count": 49,
     "metadata": {},
     "output_type": "execute_result"
    }
   ],
   "source": [
    "# Calculate missing value count and percentage\n",
    "\n",
    "missing_value_df_loan_tr = pd.DataFrame(index = df_loan_tr.keys(), data =df_loan_tr.isnull().sum(), columns = ['Missing_Value_Count'])\n",
    "\n",
    "missing_value_df_loan_tr['Missing_Value_Percentage'] = np.round(((df_loan_tr.isnull().mean())*100),2)\n",
    "\n",
    "missing_value_df_loan_tr.sort_values('Missing_Value_Count',ascending= False)"
   ]
  },
  {
   "cell_type": "markdown",
   "metadata": {
    "id": "30EfpqRSQFz4"
   },
   "source": [
    "### **Imputation**"
   ]
  },
  {
   "cell_type": "code",
   "execution_count": 50,
   "metadata": {
    "colab": {
     "base_uri": "https://localhost:8080/"
    },
    "id": "fh-zFwGUPxfe",
    "outputId": "d632b353-ab92-41a9-c941-b5ff757b2980"
   },
   "outputs": [
    {
     "name": "stdout",
     "output_type": "stream",
     "text": [
      "[nan  1.  0.]\n",
      "[1]\n"
     ]
    }
   ],
   "source": [
    "print(df_loan_tr['fully_repaid_previous_loans'].unique())\n",
    "\n",
    "print(df_loan_tr.loc[df_loan_tr['fully_repaid_previous_loans'].isnull()]['is_first_loan'].unique())\n",
    "\n",
    "# Impute fully_repaid_previous_loans with some numerical values for all the first loans"
   ]
  },
  {
   "cell_type": "code",
   "execution_count": 51,
   "metadata": {
    "colab": {
     "base_uri": "https://localhost:8080/"
    },
    "id": "KXiXp78LP7xO",
    "outputId": "0abacb6d-bdce-47ff-d184-b8f83236cfc0"
   },
   "outputs": [
    {
     "name": "stdout",
     "output_type": "stream",
     "text": [
      "[nan  0.  1.]\n",
      "[1]\n"
     ]
    }
   ],
   "source": [
    "print(df_loan_tr['currently_repaying_other_loans'].unique())\n",
    "\n",
    "print(df_loan_tr.loc[df_loan_tr['currently_repaying_other_loans'].isnull()]['is_first_loan'].unique())\n",
    "\n",
    "# Impute currently_repaying_other_loans with some numerical values for all the first loans"
   ]
  },
  {
   "cell_type": "code",
   "execution_count": 52,
   "metadata": {
    "colab": {
     "base_uri": "https://localhost:8080/"
    },
    "id": "nij42gKpP_CT",
    "outputId": "d58798a2-accd-4359-ad1f-bbf734d55eeb"
   },
   "outputs": [
    {
     "name": "stdout",
     "output_type": "stream",
     "text": [
      "[0]\n",
      "[nan]\n"
     ]
    }
   ],
   "source": [
    "# print(df_loan_tr['avg_percentage_credit_card_limit_used_last_year'].unique())\n",
    "\n",
    "print(df_loan_tr.loc[df_loan_tr['avg_percentage_credit_card_limit_used_last_year'].isnull()]['total_credit_card_limit'].unique())\n",
    "\n",
    "print(df_loan_tr.loc[df_loan_tr['total_credit_card_limit']==0]['avg_percentage_credit_card_limit_used_last_year'].unique())"
   ]
  },
  {
   "cell_type": "code",
   "execution_count": 53,
   "metadata": {
    "id": "frTE-reWQGWI"
   },
   "outputs": [],
   "source": [
    "# replace null with -1\n",
    "\n",
    "df_loan_tr['fully_repaid_previous_loans'].fillna(-1, inplace=True)\n",
    "\n",
    "df_loan_tr['currently_repaying_other_loans'].fillna(-1, inplace=True)\n",
    "\n",
    "df_loan_tr['avg_percentage_credit_card_limit_used_last_year'].fillna(-1, inplace=True)"
   ]
  },
  {
   "cell_type": "markdown",
   "metadata": {
    "id": "9OdusBMXQUId"
   },
   "source": [
    "### **Feature Selection**"
   ]
  },
  {
   "cell_type": "code",
   "execution_count": 54,
   "metadata": {
    "id": "6iMHs09mQXA1"
   },
   "outputs": [],
   "source": [
    "feature_set = [\n",
    "    'saving_amount',\n",
    "    'checking_amount',\n",
    "    'yearly_salary',\n",
    "    'total_credit_card_limit',\n",
    "    'currently_repaying_other_loans',\n",
    "    'is_employed',\n",
    "    'avg_percentage_credit_card_limit_used_last_year',\n",
    "    'dependent_number',\n",
    "    'age',\n",
    "    'loan_purpose_cat',\n",
    "    'fully_repaid_previous_loans',]"
   ]
  },
  {
   "cell_type": "code",
   "execution_count": 55,
   "metadata": {
    "colab": {
     "base_uri": "https://localhost:8080/"
    },
    "id": "LoVpyayVQr-s",
    "outputId": "a4ac937e-32d5-493d-ca36-79082c63713a"
   },
   "outputs": [
    {
     "name": "stdout",
     "output_type": "stream",
     "text": [
      "#loan_id: 47654 \n"
     ]
    }
   ],
   "source": [
    "## Train and test on granted loans\n",
    "\n",
    "granted_loan = df_loan_tr.loc[(df_loan_tr['loan_quality'] == 1) | (df_loan_tr['loan_quality'] == 0)]\n",
    "\n",
    "print(f'#loan_id: {granted_loan.shape[0]} ')"
   ]
  },
  {
   "cell_type": "code",
   "execution_count": 56,
   "metadata": {
    "colab": {
     "base_uri": "https://localhost:8080/"
    },
    "id": "HLIS0wUiQuIP",
    "outputId": "751c0a3b-f788-432e-9666-acb872688727"
   },
   "outputs": [
    {
     "name": "stdout",
     "output_type": "stream",
     "text": [
      "cross check the target values\n",
      "------------------------------\n",
      "[0. 1.]\n",
      "[1]\n",
      "[1. 0.]\n"
     ]
    }
   ],
   "source": [
    "# Cross check Target values\n",
    "\n",
    "print('cross check the target values')\n",
    "\n",
    "print('--'*15)\n",
    "\n",
    "print(granted_loan['loan_quality'].unique())\n",
    "print(granted_loan['loan_granted'].unique())\n",
    "print(granted_loan['loan_repaid'].unique())"
   ]
  },
  {
   "cell_type": "code",
   "execution_count": 57,
   "metadata": {
    "colab": {
     "base_uri": "https://localhost:8080/"
    },
    "id": "5QqEzmU4Q8cc",
    "outputId": "ab7a72d5-9b8d-4303-def6-2932574d8924"
   },
   "outputs": [
    {
     "name": "stdout",
     "output_type": "stream",
     "text": [
      "#loan_id: 53446 \n"
     ]
    }
   ],
   "source": [
    "## Predict / Score Population on ungranted loans\n",
    "\n",
    "ungranted_loan = df_loan_tr.loc[(df_loan_tr['loan_quality'] == -1)]\n",
    "\n",
    "print(f'#loan_id: {ungranted_loan.shape[0]} ')"
   ]
  },
  {
   "cell_type": "code",
   "execution_count": 58,
   "metadata": {
    "colab": {
     "base_uri": "https://localhost:8080/"
    },
    "id": "MYffzjkcRGvu",
    "outputId": "031985cc-a1df-4916-fd7d-9e6758369c7b"
   },
   "outputs": [
    {
     "name": "stdout",
     "output_type": "stream",
     "text": [
      "cross check the target values\n",
      "------------------------------\n",
      "[-1.]\n",
      "[0]\n",
      "[nan]\n"
     ]
    }
   ],
   "source": [
    "print('cross check the target values')\n",
    "\n",
    "print('--'*15)\n",
    "\n",
    "print(ungranted_loan['loan_quality'].unique())\n",
    "print(ungranted_loan['loan_granted'].unique())\n",
    "print(ungranted_loan['loan_repaid'].unique())"
   ]
  },
  {
   "cell_type": "markdown",
   "metadata": {
    "id": "4xJYM0exRLsj"
   },
   "source": [
    "## **Train & Test Preparation**"
   ]
  },
  {
   "cell_type": "code",
   "execution_count": 59,
   "metadata": {
    "colab": {
     "base_uri": "https://localhost:8080/"
    },
    "id": "X4k0OyVgRQlH",
    "outputId": "264d26ca-b131-42b8-9a88-e2961130a53c"
   },
   "outputs": [
    {
     "name": "stdout",
     "output_type": "stream",
     "text": [
      "(35609, 24)\n"
     ]
    }
   ],
   "source": [
    "train_granted = granted_loan.loc[~(granted_loan['month'].isin([1,2,3]))]\n",
    "exog_train_granted = train_granted[feature_set]\n",
    "endog_train_granted = train_granted['loan_quality']\n",
    "\n",
    "print(train_granted.shape)"
   ]
  },
  {
   "cell_type": "code",
   "execution_count": 60,
   "metadata": {
    "id": "2eHua7BQRXOI"
   },
   "outputs": [],
   "source": [
    "# Insample train and validation split\n",
    "\n",
    "from sklearn.model_selection import cross_val_score, train_test_split\n",
    "\n",
    "x_train, x_val, y_train, y_val = train_test_split(exog_train_granted, endog_train_granted, test_size=0.1, random_state=42)"
   ]
  },
  {
   "cell_type": "code",
   "execution_count": 61,
   "metadata": {
    "colab": {
     "base_uri": "https://localhost:8080/"
    },
    "id": "Rg0dI3woRzgd",
    "outputId": "78d2d7a3-c17c-4ac7-d46d-1acef2c6bb62"
   },
   "outputs": [
    {
     "name": "stdout",
     "output_type": "stream",
     "text": [
      "(12045, 24)\n"
     ]
    }
   ],
   "source": [
    "# Test data\n",
    "\n",
    "test_granted = granted_loan.loc[(granted_loan['month'].isin([1,2,3]))]\n",
    "exog_test = test_granted[feature_set]\n",
    "\n",
    "print(test_granted.shape)"
   ]
  },
  {
   "cell_type": "code",
   "execution_count": 62,
   "metadata": {
    "colab": {
     "base_uri": "https://localhost:8080/"
    },
    "id": "A9KdyCYfR7sZ",
    "outputId": "42aafdd4-834f-46fc-8c18-3fb1b0258373"
   },
   "outputs": [
    {
     "data": {
      "text/plain": [
       "array([0., 1.])"
      ]
     },
     "execution_count": 62,
     "metadata": {},
     "output_type": "execute_result"
    }
   ],
   "source": [
    "test_granted['loan_quality'].unique()"
   ]
  },
  {
   "cell_type": "markdown",
   "metadata": {
    "id": "ajT7yX16nxQH"
   },
   "source": [
    "## **Data Scaling**"
   ]
  },
  {
   "cell_type": "code",
   "execution_count": 63,
   "metadata": {
    "colab": {
     "base_uri": "https://localhost:8080/",
     "height": 35
    },
    "id": "MaJnWgR4EjoM",
    "outputId": "c4530a96-6b06-4b3d-fed1-d37ad0749d1e"
   },
   "outputs": [
    {
     "data": {
      "text/plain": [
       "'\\nfrom sklearn.preprocessing import MinMaxScaler\\n\\nscaler = MinMaxScaler()\\nx_train = scaler.fit_transform(x_train)\\nexog_test = scaler.transform(exog_test)\\n'"
      ]
     },
     "execution_count": 63,
     "metadata": {},
     "output_type": "execute_result"
    }
   ],
   "source": [
    "#Data Scaling\n",
    "'''\n",
    "from sklearn.preprocessing import MinMaxScaler\n",
    "\n",
    "scaler = MinMaxScaler()\n",
    "x_train = scaler.fit_transform(x_train)\n",
    "exog_test = scaler.transform(exog_test)\n",
    "'''"
   ]
  },
  {
   "cell_type": "code",
   "execution_count": 64,
   "metadata": {
    "colab": {
     "base_uri": "https://localhost:8080/",
     "height": 35
    },
    "id": "e4h1PolTUstf",
    "outputId": "d806bddf-3ff4-4afa-a6b8-1d7667c5a4b8"
   },
   "outputs": [
    {
     "data": {
      "text/plain": [
       "'\\nfrom sklearn.preprocessing import StandardScaler\\n\\nscaler = StandardScaler()\\nx_train = scaler.fit_transform(x_train)\\nexog_test = scaler.transform(exog_test)\\n'"
      ]
     },
     "execution_count": 64,
     "metadata": {},
     "output_type": "execute_result"
    }
   ],
   "source": [
    "'''\n",
    "from sklearn.preprocessing import StandardScaler\n",
    "\n",
    "scaler = StandardScaler()\n",
    "x_train = scaler.fit_transform(x_train)\n",
    "exog_test = scaler.transform(exog_test)\n",
    "'''"
   ]
  },
  {
   "cell_type": "markdown",
   "metadata": {
    "id": "tArE5k3pSBLT"
   },
   "source": [
    "## **Modelling**"
   ]
  },
  {
   "cell_type": "markdown",
   "metadata": {
    "id": "7QMums_Kxynr"
   },
   "source": [
    "## 1. Random Forest"
   ]
  },
  {
   "cell_type": "code",
   "execution_count": 65,
   "metadata": {
    "id": "mFAod8Zqx2Ip"
   },
   "outputs": [],
   "source": [
    "# Random Forest Model\n",
    "from sklearn.ensemble import RandomForestClassifier\n",
    "from sklearn.model_selection import RandomizedSearchCV\n",
    "from sklearn.metrics import classification_report\n",
    "\n",
    "rf = RandomForestClassifier(random_state = 42)"
   ]
  },
  {
   "cell_type": "code",
   "execution_count": 66,
   "metadata": {
    "colab": {
     "base_uri": "https://localhost:8080/"
    },
    "id": "PMXfABCfyR15",
    "outputId": "b1399569-616c-4be3-d59b-3051d100c899"
   },
   "outputs": [
    {
     "name": "stdout",
     "output_type": "stream",
     "text": [
      "Parameters currently in use:\n",
      "\n",
      "{'bootstrap': True,\n",
      " 'ccp_alpha': 0.0,\n",
      " 'class_weight': None,\n",
      " 'criterion': 'gini',\n",
      " 'max_depth': None,\n",
      " 'max_features': 'sqrt',\n",
      " 'max_leaf_nodes': None,\n",
      " 'max_samples': None,\n",
      " 'min_impurity_decrease': 0.0,\n",
      " 'min_samples_leaf': 1,\n",
      " 'min_samples_split': 2,\n",
      " 'min_weight_fraction_leaf': 0.0,\n",
      " 'monotonic_cst': None,\n",
      " 'n_estimators': 100,\n",
      " 'n_jobs': None,\n",
      " 'oob_score': False,\n",
      " 'random_state': 42,\n",
      " 'verbose': 0,\n",
      " 'warm_start': False}\n"
     ]
    }
   ],
   "source": [
    "# Parameters used by the current forest\n",
    "\n",
    "print('Parameters currently in use:\\n')\n",
    "pprint(rf.get_params())"
   ]
  },
  {
   "cell_type": "code",
   "execution_count": 67,
   "metadata": {
    "colab": {
     "base_uri": "https://localhost:8080/"
    },
    "id": "erHhTPzR0tqu",
    "outputId": "1d33b45f-8038-4590-de80-da13f3f221b2"
   },
   "outputs": [
    {
     "name": "stdout",
     "output_type": "stream",
     "text": [
      "Model Performance:\n",
      "----------\n",
      "----------\n",
      "ROC = 0.97%\n"
     ]
    }
   ],
   "source": [
    "base_model_rf = RandomForestClassifier(n_estimators = 100, max_depth=10, random_state = 42)\n",
    "base_model_rf.fit(x_train, y_train)\n",
    "base_accuracy_rf = get_rocauc(base_model_rf, x_val, y_val)"
   ]
  },
  {
   "cell_type": "code",
   "execution_count": 68,
   "metadata": {
    "colab": {
     "base_uri": "https://localhost:8080/"
    },
    "id": "rNlJFNJGz_os",
    "outputId": "e8c5dae5-1aa5-42ed-e801-e1105ee05183"
   },
   "outputs": [
    {
     "name": "stdout",
     "output_type": "stream",
     "text": [
      "              precision    recall  f1-score   support\n",
      "\n",
      "         0.0       0.97      0.94      0.95     20634\n",
      "         1.0       0.89      0.94      0.91     11414\n",
      "\n",
      "    accuracy                           0.94     32048\n",
      "   macro avg       0.93      0.94      0.93     32048\n",
      "weighted avg       0.94      0.94      0.94     32048\n",
      "\n",
      "Cross-validated Accuracy Scores: [0.91981279 0.91513261 0.91731669 0.92355694 0.91669267 0.92355694\n",
      " 0.91825273 0.92230889 0.92821473 0.90948814]\n",
      "Mean Accuracy: 0.9194333136621344\n"
     ]
    }
   ],
   "source": [
    "y_train_pred_rf = base_model_rf.predict(x_train)\n",
    "print(classification_report(y_train, y_train_pred_rf))\n",
    "\n",
    "# Perform cross-validation to evaluate performance on the training data\n",
    "# Define the number of folds for cross-validation (e.g., 5-fold cross-validation)\n",
    "num_folds = 10\n",
    "\n",
    "# Calculate cross-validated accuracy scores using cross_val_score\n",
    "cv_scores_rf = cross_val_score(base_model_rf, x_train, y_train, cv=num_folds)\n",
    "\n",
    "# Print the cross-validated accuracy scores and their mean\n",
    "print(\"Cross-validated Accuracy Scores:\", cv_scores_rf)\n",
    "print(\"Mean Accuracy:\", cv_scores_rf.mean())"
   ]
  },
  {
   "cell_type": "code",
   "execution_count": 69,
   "metadata": {
    "colab": {
     "base_uri": "https://localhost:8080/"
    },
    "id": "GDy-37tovtmd",
    "outputId": "2cc7a78d-3b27-4c21-e02f-4d2c05eeafeb"
   },
   "outputs": [
    {
     "name": "stdout",
     "output_type": "stream",
     "text": [
      "Root Mean Squared Error Scores: 0.2495002493753112\n"
     ]
    }
   ],
   "source": [
    "from sklearn.metrics import mean_squared_error, root_mean_squared_error\n",
    "\n",
    "# Calculate Root Mean Squared Error\n",
    "rf_rmse = root_mean_squared_error(y_train, base_model_rf.predict(x_train))\n",
    "\n",
    "print(\"Root Mean Squared Error Scores:\", rf_rmse)\n",
    "\n"
   ]
  },
  {
   "cell_type": "code",
   "execution_count": 70,
   "metadata": {
    "colab": {
     "base_uri": "https://localhost:8080/"
    },
    "id": "LGQ1dBd_0-iD",
    "outputId": "d95119aa-1dd2-4b85-f9d9-4f4835910f43"
   },
   "outputs": [
    {
     "name": "stdout",
     "output_type": "stream",
     "text": [
      "AUC scores computed using 10-fold cross-validation: [0.97544484 0.97349157 0.97358923 0.97634461 0.97484705 0.9770398\n",
      " 0.97635472 0.97705975 0.977323   0.96883108]\n"
     ]
    }
   ],
   "source": [
    "# Compute cross-validated AUC scores for the training set: cv_auc\n",
    "cv_auc_rf = cross_val_score(base_model_rf, x_train, y_train, cv=10, scoring = 'roc_auc')\n",
    "\n",
    "# Print list of AUC scores\n",
    "print(\"AUC scores computed using 10-fold cross-validation: {}\".format(cv_auc_rf))"
   ]
  },
  {
   "cell_type": "code",
   "execution_count": 71,
   "metadata": {
    "colab": {
     "base_uri": "https://localhost:8080/",
     "height": 872
    },
    "id": "VUnfIikQ1Soc",
    "outputId": "42edad75-5932-449d-bd1f-b51fad5d5b7a"
   },
   "outputs": [
    {
     "data": {
      "image/png": "[encoded data removed]",
      "text/plain": [
       "<Figure size 1000x1000 with 1 Axes>"
      ]
     },
     "metadata": {},
     "output_type": "display_data"
    }
   ],
   "source": [
    "# Plot ROC curve\n",
    "y_pred_proba_rf = base_model_rf.predict_proba(x_val)[:, 1]\n",
    "plot_roc(y_val, y_pred_proba_rf)"
   ]
  },
  {
   "cell_type": "markdown",
   "metadata": {
    "id": "ZV9hBVzi1dzt"
   },
   "source": [
    "###**Influencing Features**"
   ]
  },
  {
   "cell_type": "code",
   "execution_count": 72,
   "metadata": {
    "colab": {
     "base_uri": "https://localhost:8080/",
     "height": 472
    },
    "id": "ebFz_gWVv48X",
    "outputId": "f015c022-4696-4b86-dadf-c792874c297c"
   },
   "outputs": [
    {
     "data": {
      "image/png": "[encoded data removed]",
      "text/plain": [
       "<Figure size 640x480 with 1 Axes>"
      ]
     },
     "metadata": {},
     "output_type": "display_data"
    }
   ],
   "source": [
    "features = exog_train_granted.columns\n",
    "importances = base_model_rf.feature_importances_\n",
    "indices = np.argsort(importances)\n",
    "\n",
    "plt.title('Influencing Features')\n",
    "plt.barh(range(len(indices)), importances[indices], color='blue', align='center')\n",
    "plt.yticks(range(len(indices)), [features[i] for i in indices])\n",
    "plt.xlabel('Relative Importance')\n",
    "plt.show()"
   ]
  },
  {
   "cell_type": "markdown",
   "metadata": {
    "id": "BOWnrZV91SSc"
   },
   "source": [
    "####**Clear feature RF**"
   ]
  },
  {
   "cell_type": "code",
   "execution_count": 73,
   "metadata": {
    "colab": {
     "base_uri": "https://localhost:8080/"
    },
    "id": "hMsVWoQI1ZUP",
    "outputId": "31df557d-c417-448e-adc0-b7db2032969f"
   },
   "outputs": [
    {
     "name": "stdout",
     "output_type": "stream",
     "text": [
      "Model Performance:\n",
      "----------\n",
      "----------\n",
      "ROC = 0.97%\n"
     ]
    }
   ],
   "source": [
    "# List of top 6 features based on the importance graph\n",
    "top_features = [\n",
    "    'saving_amount',\n",
    "    'checking_amount',\n",
    "    'yearly_salary',\n",
    "    'total_credit_card_limit',\n",
    "    'currently_repaying_other_loans',\n",
    "    'is_employed',\n",
    "    'avg_percentage_credit_card_limit_used_last_year',\n",
    "    'dependent_number',\n",
    "    'age',\n",
    "    'loan_purpose_cat',\n",
    "    'fully_repaid_previous_loans',\n",
    "]\n",
    "\n",
    "# Select only the top features from the dataset\n",
    "exog_train_granted_top = exog_train_granted[top_features]\n",
    "\n",
    "# Train and validation split\n",
    "x_train, x_val, y_train, y_val = train_test_split(\n",
    "    exog_train_granted_top,\n",
    "    endog_train_granted,\n",
    "    test_size=0.1,\n",
    "    random_state=42\n",
    ")\n",
    "\n",
    "rf = RandomForestClassifier(random_state = 42)\n",
    "base_model_rf = RandomForestClassifier(n_estimators = 100, max_depth=10, random_state = 42)\n",
    "base_model_rf.fit(x_train, y_train)\n",
    "base_accuracy_rf = get_rocauc(base_model_rf, x_val, y_val)"
   ]
  },
  {
   "cell_type": "code",
   "execution_count": 74,
   "metadata": {
    "colab": {
     "base_uri": "https://localhost:8080/"
    },
    "id": "lxLsgCh61pTz",
    "outputId": "6233dbb8-c6a4-44ec-d42a-278965d20677"
   },
   "outputs": [
    {
     "name": "stdout",
     "output_type": "stream",
     "text": [
      "              precision    recall  f1-score   support\n",
      "\n",
      "         0.0       0.97      0.94      0.95     20634\n",
      "         1.0       0.89      0.94      0.91     11414\n",
      "\n",
      "    accuracy                           0.94     32048\n",
      "   macro avg       0.93      0.94      0.93     32048\n",
      "weighted avg       0.94      0.94      0.94     32048\n",
      "\n",
      "Cross-validated Accuracy Scores: [0.91981279 0.91513261 0.91731669 0.92355694 0.91669267 0.92355694\n",
      " 0.91825273 0.92230889 0.92821473 0.90948814]\n",
      "Mean Accuracy: 0.9194333136621344\n"
     ]
    }
   ],
   "source": [
    "from sklearn.metrics import classification_report\n",
    "\n",
    "y_train_pred_rf = base_model_rf.predict(x_train)\n",
    "print(classification_report(y_train, y_train_pred_rf))\n",
    "\n",
    "# Perform cross-validation to evaluate performance on the training data\n",
    "# Define the number of folds for cross-validation (e.g., 5-fold cross-validation)\n",
    "num_folds = 10\n",
    "\n",
    "# Calculate cross-validated accuracy scores using cross_val_score\n",
    "cv_scores_rf = cross_val_score(base_model_rf, x_train, y_train, cv=num_folds)\n",
    "\n",
    "# Print the cross-validated accuracy scores and their mean\n",
    "print(\"Cross-validated Accuracy Scores:\", cv_scores_rf)\n",
    "print(\"Mean Accuracy:\", cv_scores_rf.mean())"
   ]
  },
  {
   "cell_type": "code",
   "execution_count": 80,
   "metadata": {
    "colab": {
     "base_uri": "https://localhost:8080/"
    },
    "id": "ZrFST4Bm1skZ",
    "outputId": "7030eaac-c4bf-4ec5-e62c-b0ea444a2dc7"
   },
   "outputs": [
    {
     "name": "stdout",
     "output_type": "stream",
     "text": [
      "Root Mean Squared Error (RMSE): 0.2495002493753112\n"
     ]
    }
   ],
   "source": [
    "from sklearn.metrics import root_mean_squared_error\n",
    "\n",
    "# Predict on the training data to evaluate RMSE\n",
    "y_train_pred = base_model_rf.predict(x_train)\n",
    "\n",
    "# Calculate RMSE\n",
    "rmse_rf = root_mean_squared_error(y_train, y_train_pred)\n",
    "print(\"Root Mean Squared Error (RMSE):\", rmse_rf)"
   ]
  },
  {
   "cell_type": "markdown",
   "metadata": {
    "id": "vKkgozjlEFUu"
   },
   "source": [
    "###**Parameter Tuning**"
   ]
  },
  {
   "cell_type": "code",
   "execution_count": 76,
   "metadata": {
    "colab": {
     "base_uri": "https://localhost:8080/"
    },
    "id": "AtePFvLfEQM4",
    "outputId": "1d52651a-8222-4555-aefa-9d79a799e9c8"
   },
   "outputs": [
    {
     "name": "stdout",
     "output_type": "stream",
     "text": [
      "Fitting 3 folds for each of 32 candidates, totalling 96 fits\n",
      "Best Parameters: {'n_estimators': 100, 'min_samples_split': 5, 'min_samples_leaf': 2, 'max_features': 'sqrt', 'max_depth': 20, 'criterion': 'gini', 'bootstrap': True}\n",
      "Best Accuracy: 0.9208686977741424\n"
     ]
    }
   ],
   "source": [
    "from sklearn.ensemble import RandomForestClassifier\n",
    "from sklearn.model_selection import RandomizedSearchCV\n",
    "from sklearn.metrics import classification_report\n",
    "\n",
    "param_distributions = {\n",
    "    'n_estimators': [100, 200],  # Fewer trees for faster computation\n",
    "    'max_depth': [10, 20],  # Limit depth options to reduce complexity\n",
    "    'min_samples_split': [2, 5],  # Focus on typical values for splitting\n",
    "    'min_samples_leaf': [1, 2],  # Fewer options for leaf size\n",
    "    'max_features': ['sqrt'],  # Use 'sqrt' as it is a common choice for Random Forest\n",
    "    'bootstrap': [True],  # Focus on bootstrap sampling\n",
    "    'criterion': ['gini', 'entropy'],  # Include both criteria but reduce other options\n",
    "}\n",
    "\n",
    "# Initialize the Random Forest model\n",
    "rf = RandomForestClassifier(random_state=42)\n",
    "\n",
    "# Initialize RandomizedSearchCV for Random Forest tuning\n",
    "random_search_rf = RandomizedSearchCV(\n",
    "    estimator=rf,\n",
    "    param_distributions=param_distributions,\n",
    "    n_iter=32,  # Match the number of parameter combinations\n",
    "    cv=3,  # 3-fold cross-validation\n",
    "    scoring='accuracy',  # Evaluate using accuracy\n",
    "    verbose=1,\n",
    "    random_state=42,\n",
    "    n_jobs=-1  # Use all available cores\n",
    ")\n",
    "\n",
    "# Perform the random search on the training data\n",
    "random_search_rf.fit(x_train, y_train)\n",
    "\n",
    "# Get the best parameters and score\n",
    "print(\"Best Parameters:\", random_search_rf.best_params_)\n",
    "print(\"Best Accuracy:\", random_search_rf.best_score_)"
   ]
  },
  {
   "cell_type": "code",
   "execution_count": 81,
   "metadata": {
    "colab": {
     "base_uri": "https://localhost:8080/"
    },
    "id": "l7Mmv1xVEXb0",
    "outputId": "1671bc07-d349-4840-eb42-fb41d922c01c"
   },
   "outputs": [
    {
     "name": "stdout",
     "output_type": "stream",
     "text": [
      "Root Mean Squared Error (RMSE): 0.14098381235794247\n"
     ]
    }
   ],
   "source": [
    "from sklearn.metrics import root_mean_squared_error\n",
    "\n",
    "# Predict on the training data to evaluate RMSE\n",
    "y_train_pred = random_search_rf.predict(x_train)\n",
    "\n",
    "# Calculate RMSE\n",
    "rmse_rf = root_mean_squared_error(y_train, y_train_pred)\n",
    "print(\"Root Mean Squared Error (RMSE):\", rmse_rf)"
   ]
  },
  {
   "cell_type": "markdown",
   "metadata": {
    "id": "puFlNQqFxiHF"
   },
   "source": [
    "##**Best Tune Model**"
   ]
  },
  {
   "cell_type": "code",
   "execution_count": 82,
   "metadata": {
    "colab": {
     "base_uri": "https://localhost:8080/"
    },
    "id": "xA7fW-GQfZA0",
    "outputId": "3dd508fd-d20f-4147-864a-e49734acab7a"
   },
   "outputs": [
    {
     "name": "stdout",
     "output_type": "stream",
     "text": [
      "Model with the best accuracy: Model 5: CatBoost (Accuracy: 0.9241)\n",
      "Model with the best RMSE: Model 2: Random Forest (RMSE: 0.141)\n",
      "Model with highest accuracy: Model 5: CatBoost (Accuracy: 0.9241)\n",
      "Model with lowest RMSE: Model 2: Random Forest (RMSE: 0.141)\n"
     ]
    }
   ],
   "source": [
    "# Summary of model performance\n",
    "model_performance = {\n",
    "    'Model 2: Random Forest': {'Best Accuracy': 0.9209, 'RMSE': 0.1410},\n",
    "    'Model 3: Logistic Regression': {'Best Accuracy': 0.9001, 'RMSE': 0.3164},\n",
    "    'Model 4: SVM': {'Best Accuracy': 0.9004, 'RMSE': 0.3127},\n",
    "    'Model 5: CatBoost': {'Best Accuracy': 0.9241, 'RMSE': 0.2643},\n",
    "    'Model 6: Decision Tree + AdaBoost': {'Best Accuracy': 0.9192, 'RMSE': 0.2776},\n",
    "}\n",
    "\n",
    "# Find the model with the highest accuracy\n",
    "best_accuracy_model = max(model_performance, key=lambda x: model_performance[x]['Best Accuracy'])\n",
    "best_accuracy_score = model_performance[best_accuracy_model]['Best Accuracy']\n",
    "\n",
    "# Find the model with the lowest RMSE\n",
    "best_rmse_model = min(model_performance, key=lambda x: model_performance[x]['RMSE'])\n",
    "best_rmse_value = model_performance[best_rmse_model]['RMSE']\n",
    "\n",
    "print(f\"Model with the best accuracy: {best_accuracy_model} (Accuracy: {best_accuracy_score})\")\n",
    "print(f\"Model with the best RMSE: {best_rmse_model} (RMSE: {best_rmse_value})\")\n",
    "\n",
    "# To decide the best model overall, we could prioritize accuracy, RMSE, or consider both metrics.\n",
    "# Here, you can define the criteria based on your priority:\n",
    "if best_accuracy_model == best_rmse_model:\n",
    "    print(f\"The overall best model is: {best_accuracy_model}\")\n",
    "else:\n",
    "    print(f\"Model with highest accuracy: {best_accuracy_model} (Accuracy: {best_accuracy_score})\")\n",
    "    print(f\"Model with lowest RMSE: {best_rmse_model} (RMSE: {best_rmse_value})\")\n",
    "    # Further analysis might be needed to choose the best model depending on the context.\n"
   ]
  },
  {
   "cell_type": "markdown",
   "metadata": {
    "id": "maJUWQdGAKOJ"
   },
   "source": [
    "##Finalize"
   ]
  },
  {
   "cell_type": "code",
   "execution_count": 83,
   "metadata": {
    "colab": {
     "base_uri": "https://localhost:8080/",
     "height": 93
    },
    "id": "0gCgfqGJAMFx",
    "outputId": "d3140a15-7c2b-477b-9fa2-43004dcef8d4"
   },
   "outputs": [
    {
     "data": {
      "text/html": [
       "<style>#sk-container-id-1 {\n",
       "  /* Definition of color scheme common for light and dark mode */\n",
       "  --sklearn-color-text: black;\n",
       "  --sklearn-color-line: gray;\n",
       "  /* Definition of color scheme for unfitted estimators */\n",
       "  --sklearn-color-unfitted-level-0: #fff5e6;\n",
       "  --sklearn-color-unfitted-level-1: #f6e4d2;\n",
       "  --sklearn-color-unfitted-level-2: #ffe0b3;\n",
       "  --sklearn-color-unfitted-level-3: chocolate;\n",
       "  /* Definition of color scheme for fitted estimators */\n",
       "  --sklearn-color-fitted-level-0: #f0f8ff;\n",
       "  --sklearn-color-fitted-level-1: #d4ebff;\n",
       "  --sklearn-color-fitted-level-2: #b3dbfd;\n",
       "  --sklearn-color-fitted-level-3: cornflowerblue;\n",
       "\n",
       "  /* Specific color for light theme */\n",
       "  --sklearn-color-text-on-default-background: var(--sg-text-color, var(--theme-code-foreground, var(--jp-content-font-color1, black)));\n",
       "  --sklearn-color-background: var(--sg-background-color, var(--theme-background, var(--jp-layout-color0, white)));\n",
       "  --sklearn-color-border-box: var(--sg-text-color, var(--theme-code-foreground, var(--jp-content-font-color1, black)));\n",
       "  --sklearn-color-icon: #696969;\n",
       "\n",
       "  @media (prefers-color-scheme: dark) {\n",
       "    /* Redefinition of color scheme for dark theme */\n",
       "    --sklearn-color-text-on-default-background: var(--sg-text-color, var(--theme-code-foreground, var(--jp-content-font-color1, white)));\n",
       "    --sklearn-color-background: var(--sg-background-color, var(--theme-background, var(--jp-layout-color0, #111)));\n",
       "    --sklearn-color-border-box: var(--sg-text-color, var(--theme-code-foreground, var(--jp-content-font-color1, white)));\n",
       "    --sklearn-color-icon: #878787;\n",
       "  }\n",
       "}\n",
       "\n",
       "#sk-container-id-1 {\n",
       "  color: var(--sklearn-color-text);\n",
       "}\n",
       "\n",
       "#sk-container-id-1 pre {\n",
       "  padding: 0;\n",
       "}\n",
       "\n",
       "#sk-container-id-1 input.sk-hidden--visually {\n",
       "  border: 0;\n",
       "  clip: rect(1px 1px 1px 1px);\n",
       "  clip: rect(1px, 1px, 1px, 1px);\n",
       "  height: 1px;\n",
       "  margin: -1px;\n",
       "  overflow: hidden;\n",
       "  padding: 0;\n",
       "  position: absolute;\n",
       "  width: 1px;\n",
       "}\n",
       "\n",
       "#sk-container-id-1 div.sk-dashed-wrapped {\n",
       "  border: 1px dashed var(--sklearn-color-line);\n",
       "  margin: 0 0.4em 0.5em 0.4em;\n",
       "  box-sizing: border-box;\n",
       "  padding-bottom: 0.4em;\n",
       "  background-color: var(--sklearn-color-background);\n",
       "}\n",
       "\n",
       "#sk-container-id-1 div.sk-container {\n",
       "  /* jupyter's `normalize.less` sets `[hidden] { display: none; }`\n",
       "     but bootstrap.min.css set `[hidden] { display: none !important; }`\n",
       "     so we also need the `!important` here to be able to override the\n",
       "     default hidden behavior on the sphinx rendered scikit-learn.org.\n",
       "     See: https://github.com/scikit-learn/scikit-learn/issues/21755 */\n",
       "  display: inline-block !important;\n",
       "  position: relative;\n",
       "}\n",
       "\n",
       "#sk-container-id-1 div.sk-text-repr-fallback {\n",
       "  display: none;\n",
       "}\n",
       "\n",
       "div.sk-parallel-item,\n",
       "div.sk-serial,\n",
       "div.sk-item {\n",
       "  /* draw centered vertical line to link estimators */\n",
       "  background-image: linear-gradient(var(--sklearn-color-text-on-default-background), var(--sklearn-color-text-on-default-background));\n",
       "  background-size: 2px 100%;\n",
       "  background-repeat: no-repeat;\n",
       "  background-position: center center;\n",
       "}\n",
       "\n",
       "/* Parallel-specific style estimator block */\n",
       "\n",
       "#sk-container-id-1 div.sk-parallel-item::after {\n",
       "  content: \"\";\n",
       "  width: 100%;\n",
       "  border-bottom: 2px solid var(--sklearn-color-text-on-default-background);\n",
       "  flex-grow: 1;\n",
       "}\n",
       "\n",
       "#sk-container-id-1 div.sk-parallel {\n",
       "  display: flex;\n",
       "  align-items: stretch;\n",
       "  justify-content: center;\n",
       "  background-color: var(--sklearn-color-background);\n",
       "  position: relative;\n",
       "}\n",
       "\n",
       "#sk-container-id-1 div.sk-parallel-item {\n",
       "  display: flex;\n",
       "  flex-direction: column;\n",
       "}\n",
       "\n",
       "#sk-container-id-1 div.sk-parallel-item:first-child::after {\n",
       "  align-self: flex-end;\n",
       "  width: 50%;\n",
       "}\n",
       "\n",
       "#sk-container-id-1 div.sk-parallel-item:last-child::after {\n",
       "  align-self: flex-start;\n",
       "  width: 50%;\n",
       "}\n",
       "\n",
       "#sk-container-id-1 div.sk-parallel-item:only-child::after {\n",
       "  width: 0;\n",
       "}\n",
       "\n",
       "/* Serial-specific style estimator block */\n",
       "\n",
       "#sk-container-id-1 div.sk-serial {\n",
       "  display: flex;\n",
       "  flex-direction: column;\n",
       "  align-items: center;\n",
       "  background-color: var(--sklearn-color-background);\n",
       "  padding-right: 1em;\n",
       "  padding-left: 1em;\n",
       "}\n",
       "\n",
       "\n",
       "/* Toggleable style: style used for estimator/Pipeline/ColumnTransformer box that is\n",
       "clickable and can be expanded/collapsed.\n",
       "- Pipeline and ColumnTransformer use this feature and define the default style\n",
       "- Estimators will overwrite some part of the style using the `sk-estimator` class\n",
       "*/\n",
       "\n",
       "/* Pipeline and ColumnTransformer style (default) */\n",
       "\n",
       "#sk-container-id-1 div.sk-toggleable {\n",
       "  /* Default theme specific background. It is overwritten whether we have a\n",
       "  specific estimator or a Pipeline/ColumnTransformer */\n",
       "  background-color: var(--sklearn-color-background);\n",
       "}\n",
       "\n",
       "/* Toggleable label */\n",
       "#sk-container-id-1 label.sk-toggleable__label {\n",
       "  cursor: pointer;\n",
       "  display: block;\n",
       "  width: 100%;\n",
       "  margin-bottom: 0;\n",
       "  padding: 0.5em;\n",
       "  box-sizing: border-box;\n",
       "  text-align: center;\n",
       "}\n",
       "\n",
       "#sk-container-id-1 label.sk-toggleable__label-arrow:before {\n",
       "  /* Arrow on the left of the label */\n",
       "  content: \"▸\";\n",
       "  float: left;\n",
       "  margin-right: 0.25em;\n",
       "  color: var(--sklearn-color-icon);\n",
       "}\n",
       "\n",
       "#sk-container-id-1 label.sk-toggleable__label-arrow:hover:before {\n",
       "  color: var(--sklearn-color-text);\n",
       "}\n",
       "\n",
       "/* Toggleable content - dropdown */\n",
       "\n",
       "#sk-container-id-1 div.sk-toggleable__content {\n",
       "  max-height: 0;\n",
       "  max-width: 0;\n",
       "  overflow: hidden;\n",
       "  text-align: left;\n",
       "  /* unfitted */\n",
       "  background-color: var(--sklearn-color-unfitted-level-0);\n",
       "}\n",
       "\n",
       "#sk-container-id-1 div.sk-toggleable__content.fitted {\n",
       "  /* fitted */\n",
       "  background-color: var(--sklearn-color-fitted-level-0);\n",
       "}\n",
       "\n",
       "#sk-container-id-1 div.sk-toggleable__content pre {\n",
       "  margin: 0.2em;\n",
       "  border-radius: 0.25em;\n",
       "  color: var(--sklearn-color-text);\n",
       "  /* unfitted */\n",
       "  background-color: var(--sklearn-color-unfitted-level-0);\n",
       "}\n",
       "\n",
       "#sk-container-id-1 div.sk-toggleable__content.fitted pre {\n",
       "  /* unfitted */\n",
       "  background-color: var(--sklearn-color-fitted-level-0);\n",
       "}\n",
       "\n",
       "#sk-container-id-1 input.sk-toggleable__control:checked~div.sk-toggleable__content {\n",
       "  /* Expand drop-down */\n",
       "  max-height: 200px;\n",
       "  max-width: 100%;\n",
       "  overflow: auto;\n",
       "}\n",
       "\n",
       "#sk-container-id-1 input.sk-toggleable__control:checked~label.sk-toggleable__label-arrow:before {\n",
       "  content: \"▾\";\n",
       "}\n",
       "\n",
       "/* Pipeline/ColumnTransformer-specific style */\n",
       "\n",
       "#sk-container-id-1 div.sk-label input.sk-toggleable__control:checked~label.sk-toggleable__label {\n",
       "  color: var(--sklearn-color-text);\n",
       "  background-color: var(--sklearn-color-unfitted-level-2);\n",
       "}\n",
       "\n",
       "#sk-container-id-1 div.sk-label.fitted input.sk-toggleable__control:checked~label.sk-toggleable__label {\n",
       "  background-color: var(--sklearn-color-fitted-level-2);\n",
       "}\n",
       "\n",
       "/* Estimator-specific style */\n",
       "\n",
       "/* Colorize estimator box */\n",
       "#sk-container-id-1 div.sk-estimator input.sk-toggleable__control:checked~label.sk-toggleable__label {\n",
       "  /* unfitted */\n",
       "  background-color: var(--sklearn-color-unfitted-level-2);\n",
       "}\n",
       "\n",
       "#sk-container-id-1 div.sk-estimator.fitted input.sk-toggleable__control:checked~label.sk-toggleable__label {\n",
       "  /* fitted */\n",
       "  background-color: var(--sklearn-color-fitted-level-2);\n",
       "}\n",
       "\n",
       "#sk-container-id-1 div.sk-label label.sk-toggleable__label,\n",
       "#sk-container-id-1 div.sk-label label {\n",
       "  /* The background is the default theme color */\n",
       "  color: var(--sklearn-color-text-on-default-background);\n",
       "}\n",
       "\n",
       "/* On hover, darken the color of the background */\n",
       "#sk-container-id-1 div.sk-label:hover label.sk-toggleable__label {\n",
       "  color: var(--sklearn-color-text);\n",
       "  background-color: var(--sklearn-color-unfitted-level-2);\n",
       "}\n",
       "\n",
       "/* Label box, darken color on hover, fitted */\n",
       "#sk-container-id-1 div.sk-label.fitted:hover label.sk-toggleable__label.fitted {\n",
       "  color: var(--sklearn-color-text);\n",
       "  background-color: var(--sklearn-color-fitted-level-2);\n",
       "}\n",
       "\n",
       "/* Estimator label */\n",
       "\n",
       "#sk-container-id-1 div.sk-label label {\n",
       "  font-family: monospace;\n",
       "  font-weight: bold;\n",
       "  display: inline-block;\n",
       "  line-height: 1.2em;\n",
       "}\n",
       "\n",
       "#sk-container-id-1 div.sk-label-container {\n",
       "  text-align: center;\n",
       "}\n",
       "\n",
       "/* Estimator-specific */\n",
       "#sk-container-id-1 div.sk-estimator {\n",
       "  font-family: monospace;\n",
       "  border: 1px dotted var(--sklearn-color-border-box);\n",
       "  border-radius: 0.25em;\n",
       "  box-sizing: border-box;\n",
       "  margin-bottom: 0.5em;\n",
       "  /* unfitted */\n",
       "  background-color: var(--sklearn-color-unfitted-level-0);\n",
       "}\n",
       "\n",
       "#sk-container-id-1 div.sk-estimator.fitted {\n",
       "  /* fitted */\n",
       "  background-color: var(--sklearn-color-fitted-level-0);\n",
       "}\n",
       "\n",
       "/* on hover */\n",
       "#sk-container-id-1 div.sk-estimator:hover {\n",
       "  /* unfitted */\n",
       "  background-color: var(--sklearn-color-unfitted-level-2);\n",
       "}\n",
       "\n",
       "#sk-container-id-1 div.sk-estimator.fitted:hover {\n",
       "  /* fitted */\n",
       "  background-color: var(--sklearn-color-fitted-level-2);\n",
       "}\n",
       "\n",
       "/* Specification for estimator info (e.g. \"i\" and \"?\") */\n",
       "\n",
       "/* Common style for \"i\" and \"?\" */\n",
       "\n",
       ".sk-estimator-doc-link,\n",
       "a:link.sk-estimator-doc-link,\n",
       "a:visited.sk-estimator-doc-link {\n",
       "  float: right;\n",
       "  font-size: smaller;\n",
       "  line-height: 1em;\n",
       "  font-family: monospace;\n",
       "  background-color: var(--sklearn-color-background);\n",
       "  border-radius: 1em;\n",
       "  height: 1em;\n",
       "  width: 1em;\n",
       "  text-decoration: none !important;\n",
       "  margin-left: 1ex;\n",
       "  /* unfitted */\n",
       "  border: var(--sklearn-color-unfitted-level-1) 1pt solid;\n",
       "  color: var(--sklearn-color-unfitted-level-1);\n",
       "}\n",
       "\n",
       ".sk-estimator-doc-link.fitted,\n",
       "a:link.sk-estimator-doc-link.fitted,\n",
       "a:visited.sk-estimator-doc-link.fitted {\n",
       "  /* fitted */\n",
       "  border: var(--sklearn-color-fitted-level-1) 1pt solid;\n",
       "  color: var(--sklearn-color-fitted-level-1);\n",
       "}\n",
       "\n",
       "/* On hover */\n",
       "div.sk-estimator:hover .sk-estimator-doc-link:hover,\n",
       ".sk-estimator-doc-link:hover,\n",
       "div.sk-label-container:hover .sk-estimator-doc-link:hover,\n",
       ".sk-estimator-doc-link:hover {\n",
       "  /* unfitted */\n",
       "  background-color: var(--sklearn-color-unfitted-level-3);\n",
       "  color: var(--sklearn-color-background);\n",
       "  text-decoration: none;\n",
       "}\n",
       "\n",
       "div.sk-estimator.fitted:hover .sk-estimator-doc-link.fitted:hover,\n",
       ".sk-estimator-doc-link.fitted:hover,\n",
       "div.sk-label-container:hover .sk-estimator-doc-link.fitted:hover,\n",
       ".sk-estimator-doc-link.fitted:hover {\n",
       "  /* fitted */\n",
       "  background-color: var(--sklearn-color-fitted-level-3);\n",
       "  color: var(--sklearn-color-background);\n",
       "  text-decoration: none;\n",
       "}\n",
       "\n",
       "/* Span, style for the box shown on hovering the info icon */\n",
       ".sk-estimator-doc-link span {\n",
       "  display: none;\n",
       "  z-index: 9999;\n",
       "  position: relative;\n",
       "  font-weight: normal;\n",
       "  right: .2ex;\n",
       "  padding: .5ex;\n",
       "  margin: .5ex;\n",
       "  width: min-content;\n",
       "  min-width: 20ex;\n",
       "  max-width: 50ex;\n",
       "  color: var(--sklearn-color-text);\n",
       "  box-shadow: 2pt 2pt 4pt #999;\n",
       "  /* unfitted */\n",
       "  background: var(--sklearn-color-unfitted-level-0);\n",
       "  border: .5pt solid var(--sklearn-color-unfitted-level-3);\n",
       "}\n",
       "\n",
       ".sk-estimator-doc-link.fitted span {\n",
       "  /* fitted */\n",
       "  background: var(--sklearn-color-fitted-level-0);\n",
       "  border: var(--sklearn-color-fitted-level-3);\n",
       "}\n",
       "\n",
       ".sk-estimator-doc-link:hover span {\n",
       "  display: block;\n",
       "}\n",
       "\n",
       "/* \"?\"-specific style due to the `<a>` HTML tag */\n",
       "\n",
       "#sk-container-id-1 a.estimator_doc_link {\n",
       "  float: right;\n",
       "  font-size: 1rem;\n",
       "  line-height: 1em;\n",
       "  font-family: monospace;\n",
       "  background-color: var(--sklearn-color-background);\n",
       "  border-radius: 1rem;\n",
       "  height: 1rem;\n",
       "  width: 1rem;\n",
       "  text-decoration: none;\n",
       "  /* unfitted */\n",
       "  color: var(--sklearn-color-unfitted-level-1);\n",
       "  border: var(--sklearn-color-unfitted-level-1) 1pt solid;\n",
       "}\n",
       "\n",
       "#sk-container-id-1 a.estimator_doc_link.fitted {\n",
       "  /* fitted */\n",
       "  border: var(--sklearn-color-fitted-level-1) 1pt solid;\n",
       "  color: var(--sklearn-color-fitted-level-1);\n",
       "}\n",
       "\n",
       "/* On hover */\n",
       "#sk-container-id-1 a.estimator_doc_link:hover {\n",
       "  /* unfitted */\n",
       "  background-color: var(--sklearn-color-unfitted-level-3);\n",
       "  color: var(--sklearn-color-background);\n",
       "  text-decoration: none;\n",
       "}\n",
       "\n",
       "#sk-container-id-1 a.estimator_doc_link.fitted:hover {\n",
       "  /* fitted */\n",
       "  background-color: var(--sklearn-color-fitted-level-3);\n",
       "}\n",
       "</style><div id=\"sk-container-id-1\" class=\"sk-top-container\"><div class=\"sk-text-repr-fallback\"><pre>RandomForestClassifier(max_depth=20, min_samples_leaf=2, min_samples_split=5,\n",
       "                       random_state=42)</pre><b>In a Jupyter environment, please rerun this cell to show the HTML representation or trust the notebook. <br />On GitHub, the HTML representation is unable to render, please try loading this page with nbviewer.org.</b></div><div class=\"sk-container\" hidden><div class=\"sk-item\"><div class=\"sk-estimator fitted sk-toggleable\"><input class=\"sk-toggleable__control sk-hidden--visually\" id=\"sk-estimator-id-1\" type=\"checkbox\" checked><label for=\"sk-estimator-id-1\" class=\"sk-toggleable__label fitted sk-toggleable__label-arrow fitted\">&nbsp;&nbsp;RandomForestClassifier<a class=\"sk-estimator-doc-link fitted\" rel=\"noreferrer\" target=\"_blank\" href=\"https://scikit-learn.org/1.4/modules/generated/sklearn.ensemble.RandomForestClassifier.html\">?<span>Documentation for RandomForestClassifier</span></a><span class=\"sk-estimator-doc-link fitted\">i<span>Fitted</span></span></label><div class=\"sk-toggleable__content fitted\"><pre>RandomForestClassifier(max_depth=20, min_samples_leaf=2, min_samples_split=5,\n",
       "                       random_state=42)</pre></div> </div></div></div></div>"
      ],
      "text/plain": [
       "RandomForestClassifier(max_depth=20, min_samples_leaf=2, min_samples_split=5,\n",
       "                       random_state=42)"
      ]
     },
     "execution_count": 83,
     "metadata": {},
     "output_type": "execute_result"
    }
   ],
   "source": [
    "from sklearn.ensemble import RandomForestClassifier\n",
    "\n",
    "# Best parameters from the tuning process\n",
    "best_rf_params = {\n",
    "    'n_estimators': 100,\n",
    "    'min_samples_split': 5,\n",
    "    'min_samples_leaf': 2,\n",
    "    'max_features': 'sqrt',\n",
    "    'max_depth': 20,\n",
    "    'criterion': 'gini',\n",
    "    'bootstrap': True,\n",
    "    'random_state': 42\n",
    "}\n",
    "\n",
    "# Initialize the model with the best parameters\n",
    "best_rf_model = RandomForestClassifier(**best_rf_params)\n",
    "\n",
    "# Fit the model on the entire training set\n",
    "best_rf_model.fit(x_train, y_train)\n"
   ]
  },
  {
   "cell_type": "markdown",
   "metadata": {
    "id": "vMXh4nq0AQVP"
   },
   "source": [
    "##Evaluation"
   ]
  },
  {
   "cell_type": "code",
   "execution_count": 85,
   "metadata": {
    "colab": {
     "base_uri": "https://localhost:8080/"
    },
    "id": "buNh3CNbAUAh",
    "outputId": "86256371-aa96-4f0a-f74d-24c2348a3b96"
   },
   "outputs": [
    {
     "name": "stdout",
     "output_type": "stream",
     "text": [
      "Test Accuracy: 0.9187214611872146\n",
      "Test RMSE: 0.28509391226889674\n"
     ]
    }
   ],
   "source": [
    "from sklearn.metrics import accuracy_score, root_mean_squared_error\n",
    "\n",
    "# Predict on the test set\n",
    "y_test_pred = best_rf_model.predict(exog_test)\n",
    "\n",
    "# Assuming y_test is the true labels for the test set\n",
    "y_test = test_granted['loan_quality']  # Extract the true labels\n",
    "\n",
    "# Calculate accuracy and RMSE on the test set\n",
    "test_accuracy = accuracy_score(y_test, y_test_pred)\n",
    "test_rmse = root_mean_squared_error(y_test, y_test_pred)\n",
    "\n",
    "print(f\"Test Accuracy: {test_accuracy}\")\n",
    "print(f\"Test RMSE: {test_rmse}\")\n",
    "\n",
    "\n"
   ]
  },
  {
   "cell_type": "markdown",
   "metadata": {
    "id": "0zWHb7kKHGZo"
   },
   "source": [
    "##**Cross-Validation Final Model**"
   ]
  },
  {
   "cell_type": "code",
   "execution_count": 86,
   "metadata": {
    "colab": {
     "base_uri": "https://localhost:8080/"
    },
    "id": "krQuG8v9HJHB",
    "outputId": "0184e170-f6ce-4e02-c3a1-ca185da9a086"
   },
   "outputs": [
    {
     "name": "stdout",
     "output_type": "stream",
     "text": [
      "Cross-Validated RMSE: 0.284010865986704 ± 0.005411512079480795\n"
     ]
    }
   ],
   "source": [
    "from sklearn.model_selection import cross_val_score\n",
    "\n",
    "# Perform cross-validation\n",
    "cv_scores = cross_val_score(best_rf_model, x_train, y_train, cv=5, scoring='neg_mean_squared_error')\n",
    "cv_rmse = (-cv_scores) ** 0.5\n",
    "\n",
    "print(f\"Cross-Validated RMSE: {cv_rmse.mean()} ± {cv_rmse.std()}\")\n"
   ]
  },
  {
   "cell_type": "code",
   "execution_count": 87,
   "metadata": {
    "colab": {
     "base_uri": "https://localhost:8080/"
    },
    "id": "Gxq7PhKSHoCP",
    "outputId": "9726116a-f69a-4479-f869-acc8957d37bb",
    "tags": []
   },
   "outputs": [
    {
     "data": {
      "text/plain": [
       "['best_rf_model.pkl']"
      ]
     },
     "execution_count": 87,
     "metadata": {},
     "output_type": "execute_result"
    }
   ],
   "source": [
    "import joblib\n",
    "\n",
    "# Save the trained model to a file\n",
    "joblib.dump(best_rf_model, \"best_rf_model.pkl\")\n",
    "\n"
   ]
  },
  {
   "cell_type": "code",
   "execution_count": null,
   "metadata": {},
   "outputs": [],
   "source": []
  }
 ],
 "metadata": {
  "accelerator": "TPU",
  "colab": {
   "collapsed_sections": [
    "JXwa8oZsUWXv",
    "MiAOZFjKlp13",
    "l-twzaVL5gt6",
    "6OfzWwvwUEII",
    "BegUfD4Yjd30",
    "qSgp_fCHmQ2b"
   ],
   "gpuType": "V28",
   "machine_shape": "hm",
   "provenance": [],
   "toc_visible": true
  },
  "kernelspec": {
   "display_name": "Python 3 (ipykernel)",
   "language": "python",
   "name": "python3"
  },
  "language_info": {
   "codemirror_mode": {
    "name": "ipython",
    "version": 3
   },
   "file_extension": ".py",
   "mimetype": "text/x-python",
   "name": "python",
   "nbconvert_exporter": "python",
   "pygments_lexer": "ipython3",
   "version": "3.11.5"
  }
 },
 "nbformat": 4,
 "nbformat_minor": 4
}
