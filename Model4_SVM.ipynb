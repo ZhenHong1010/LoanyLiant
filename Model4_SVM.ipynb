{
  "cells": [
    {
      "cell_type": "code",
      "execution_count": 1,
      "metadata": {
        "colab": {
          "base_uri": "https://localhost:8080/"
        },
        "id": "q0MWNXjzlGso",
        "outputId": "88774ef5-4105-4a01-b7c4-868e77575039"
      },
      "outputs": [
        {
          "output_type": "stream",
          "name": "stdout",
          "text": [
            "Drive already mounted at /content/drive; to attempt to forcibly remount, call drive.mount(\"/content/drive\", force_remount=True).\n"
          ]
        }
      ],
      "source": [
        "from google.colab import drive\n",
        "drive.mount('/content/drive')"
      ]
    },
    {
      "cell_type": "code",
      "execution_count": 2,
      "metadata": {
        "id": "TSa_3y8YlwRc"
      },
      "outputs": [],
      "source": [
        "import collections\n",
        "\n",
        "import numpy as np\n",
        "import pandas as pd\n",
        "\n",
        "# Visualisation\n",
        "from pprint import pprint\n",
        "import seaborn as sns\n",
        "import math\n",
        "import matplotlib.pyplot as plt\n",
        "%matplotlib inline\n",
        "\n",
        "# sklearn\n",
        "# from sklearn.model_selection import StratifiedKFold, KFold, LeaveOneOut, cross_val_score, GridSearchCV, RandomizedSearchCV, train_test_split\n",
        "from sklearn.model_selection import cross_val_score, train_test_split\n",
        "from sklearn.metrics import auc, roc_auc_score, roc_curve\n",
        "from sklearn import tree\n",
        "\n",
        "# Save model\n",
        "import pickle"
      ]
    },
    {
      "cell_type": "code",
      "execution_count": 3,
      "metadata": {
        "id": "Eyxo60uXsWZX"
      },
      "outputs": [],
      "source": [
        "def diff(li1, li2):\n",
        "    '''\n",
        "    This function returns different elements between 2 lists\n",
        "    '''\n",
        "    return (list(set(li1) - set(li2)))\n",
        "\n",
        "def plot_stats(df, feature, target_ftr, label_rotation=False, horizontal_layout=True):\n",
        "    '''\n",
        "    This function plot the categorical feature distribution according to target variable\n",
        "    '''\n",
        "    temp = df[feature].value_counts()\n",
        "    df1 = pd.DataFrame({feature: temp.index,'Number of repaid-loans': temp.values})\n",
        "\n",
        "    # Calculate the percentage of target=1 per category value\n",
        "    cat_perc = df[[feature, target_ftr]].groupby([feature],as_index=False).mean()\n",
        "    cat_perc.sort_values(by=target_ftr, ascending=False, inplace=True)\n",
        "\n",
        "    sns.set_color_codes(\"pastel\")\n",
        "    s = sns.barplot(x = feature, y=\"Number of repaid-loans\",data=df1)\n",
        "    if(label_rotation):\n",
        "        s.set_xticklabels(s.get_xticklabels(),rotation=60)\n",
        "\n",
        "    plt.tick_params(axis='both', which='major', labelsize=10)\n",
        "\n",
        "    plt.show();\n",
        "\n",
        "\n",
        "def get_rocauc(model, xTest, yTest):\n",
        "    '''\n",
        "    This function produces the Area under the curve for the model.\n",
        "    The 'auto' method calculates this metric by using the roc_auc_score function from sklearn.\n",
        "    Range: 0 to 1 (0 being the worst predictive model, 0.5 being the random and 1 being the best)\n",
        "    '''\n",
        "    predictions = model.predict_proba(xTest)[:, 1]\n",
        "    roc_auc = roc_auc_score(yTest, predictions)\n",
        "    print('Model Performance:')\n",
        "    print('--'*5)\n",
        "    print('--'*5)\n",
        "    print('ROC = {:0.2f}%'.format(roc_auc))\n",
        "\n",
        "    return roc_auc\n",
        "\n",
        "def plot_roc(yTest, yPred):\n",
        "    '''\n",
        "    This function plots the ROC and gives the AUC.\n",
        "    Range for Area under the curve : 0 to 1 (0 being the worst and 1 being best for predictive model)\n",
        "    '''\n",
        "    fpr, tpr, thresholds = roc_curve(yTest, yPred)\n",
        "    roc_auc = roc_auc_score(yTest, yPred)\n",
        "    plt.figure(figsize=(10,10))\n",
        "    plt.plot(fpr, tpr, label='ROC curve (area = %0.3f)' % roc_auc)\n",
        "    plt.plot([0, 1], [0, 1], 'k--', label='random')\n",
        "    plt.plot([0,0,1,1],[0,1,1,1],'g-',label='perfect')\n",
        "    plt.xlim([-0.05, 1.05])\n",
        "    plt.ylim([-0.05, 1.05])\n",
        "    plt.xlabel('False Positive Rate')\n",
        "    plt.ylabel('True Positive Rate')\n",
        "    plt.title('ROC Curve')\n",
        "    plt.legend(loc=\"lower right\")\n",
        "    plt.show()\n",
        "\n",
        "def perf_measure(y_actual, y_pred):\n",
        "    '''\n",
        "    Function for calculating TP, FP, TN and FN\n",
        "    '''\n",
        "    TP = 0\n",
        "    FP = 0\n",
        "    TN = 0\n",
        "    FN = 0\n",
        "\n",
        "    for i in range(len(y_pred)):\n",
        "        if y_actual[i]==y_pred[i]==1:\n",
        "            TP += 1\n",
        "        if y_pred[i]==1 and y_actual[i]!=y_pred[i]:\n",
        "            FP += 1\n",
        "        if y_actual[i]==y_pred[i]==0:\n",
        "            TN += 1\n",
        "        if y_pred[i]==0 and y_actual[i]!=y_pred[i]:\n",
        "            FN += 1\n",
        "\n",
        "    return(TP, FP, TN, FN)\n",
        "\n",
        "def capture_curve(test_df, y_test, preds, roc, title):\n",
        "    '''\n",
        "    Function for to plot capture curve for risky or non-repaid loans\n",
        "    This is similar to gain and lift chart in statistics.\n",
        "    x-axis: Population % of granted loans\n",
        "    y-axis: Risk / Non-repaid loan %\n",
        "    '''\n",
        "    fpr, tpr, threshold = roc_curve(y_test, preds)\n",
        "    roc_auc = auc(fpr, tpr)\n",
        "    rate = []\n",
        "    for i in threshold:\n",
        "        T = perf_measure(list(y_test),[1 if j >= i else 0 for j in preds])\n",
        "        rate.append(T[0]+T[1])\n",
        "    rate2 = [i/len(test_df) for i in rate]\n",
        "    plt.figure(figsize=[12,12])\n",
        "    plt.plot(rate2, tpr, label='ROC_AUC {}'.format(roc) % roc_auc, linewidth=4)\n",
        "    plt.plot([0, 1], [0, 1], 'k--', linewidth=4)\n",
        "    plt.xlim([-0.05, 1.0])\n",
        "    plt.ylim([-0.05, 1.05])\n",
        "    plt.xlabel('Granted Loans', fontsize=18)\n",
        "    plt.ylabel('Captured out of total non-repaid proportion', fontsize=18)\n",
        "    plt.title('Capture plot for {}'.format(title), fontsize=18)\n",
        "    plt.legend(loc=\"lower right\",prop={'size':30})\n",
        "    plt.show()\n",
        "\n",
        "def decile_cutoff_risk_detected(df_pred):\n",
        "    '''\n",
        "    Function to find the decile-wise risky loan application %\n",
        "    '''\n",
        "    pop_perc = list(np.arange(0.1,1.1,0.1))\n",
        "    perc_list = []\n",
        "    risk_perc_list = []\n",
        "    risk_num_list = []\n",
        "    avg_pred_prob_list = []\n",
        "    min_pred_prob_list = []\n",
        "    max_pred_prob_list = []\n",
        "    df_pop_risk = pd.DataFrame(columns=['loan_percentage','non-repaid_percentage', '#non-repaid_loans', 'avg_pred_prob'])\n",
        "    total_risk_count = df_pred[df_pred['loan_quality']==1]['loan_id'].count()\n",
        "    start = 0\n",
        "    for perc in pop_perc:\n",
        "        split_len = int(perc*len(df_pred))\n",
        "        sorted_results_final = df_pred.iloc[start:split_len]\n",
        "        risk_count = sorted_results_final[sorted_results_final['loan_quality']==1]['loan_id'].count()\n",
        "        min_pred_prob = sorted_results_final['preds'].min()\n",
        "        max_pred_prob = sorted_results_final['preds'].max()\n",
        "        avg_pred_prob = sorted_results_final['preds'].mean()\n",
        "        perc_list.append(int(perc*100))\n",
        "        risk_perc_list.append(round(((risk_count/total_risk_count)*100),2))\n",
        "        risk_num_list.append(round(risk_count,2))\n",
        "        min_pred_prob_list.append(round(min_pred_prob, 2))\n",
        "        max_pred_prob_list.append(round(max_pred_prob, 2))\n",
        "        avg_pred_prob_list.append(round(avg_pred_prob, 2))\n",
        "        start = split_len\n",
        "    df_pop_risk['loan_percentage'] = perc_list\n",
        "    df_pop_risk['non-repaid_percentage'] = risk_perc_list\n",
        "    df_pop_risk['#non-repaid_loans'] = risk_num_list\n",
        "    df_pop_risk['min_pred_prob'] = min_pred_prob_list\n",
        "    df_pop_risk['max_pred_prob'] = max_pred_prob_list\n",
        "    df_pop_risk['avg_pred_prob'] = avg_pred_prob_list\n",
        "    return df_pop_risk\n",
        "\n",
        "def cum_decile_cutoff_risk_detected(df_pred):\n",
        "    '''\n",
        "    Function to find the decile-wise risky loan application %\n",
        "    '''\n",
        "    pop_perc = list(np.arange(0.1,1.1,0.1))\n",
        "    perc_list = []\n",
        "    risk_perc_list = []\n",
        "    risk_num_list = []\n",
        "    avg_pred_prob_list = []\n",
        "    min_pred_prob_list = []\n",
        "    max_pred_prob_list = []\n",
        "    df_pop_risk = pd.DataFrame(columns=['loan_percentage','non-repaid_percentage', '#non-repaid_loans', 'avg_pred_prob'])\n",
        "    total_risk_count = df_pred[df_pred['loan_quality']==1]['loan_id'].count()\n",
        "    for perc in pop_perc:\n",
        "        split_len = int(perc*len(df_pred))\n",
        "        sorted_results_final = df_pred.iloc[:split_len]\n",
        "        risk_count = sorted_results_final[sorted_results_final['loan_quality']==1]['loan_id'].count()\n",
        "        min_pred_prob = sorted_results_final['preds'].min()\n",
        "        max_pred_prob = sorted_results_final['preds'].max()\n",
        "        avg_pred_prob = sorted_results_final['preds'].mean()\n",
        "        perc_list.append(int(perc*100))\n",
        "        risk_perc_list.append(round(((risk_count/total_risk_count)*100),2))\n",
        "        risk_num_list.append(round(risk_count,2))\n",
        "        min_pred_prob_list.append(round(min_pred_prob, 2))\n",
        "        max_pred_prob_list.append(round(max_pred_prob, 2))\n",
        "        avg_pred_prob_list.append(round(avg_pred_prob, 2))\n",
        "    df_pop_risk['loan_percentage'] = perc_list\n",
        "    df_pop_risk['non-repaid_percentage'] = risk_perc_list\n",
        "    df_pop_risk['#non-repaid_loans'] = risk_num_list\n",
        "    df_pop_risk['min_pred_prob'] = min_pred_prob_list\n",
        "    df_pop_risk['max_pred_prob'] = max_pred_prob_list\n",
        "    df_pop_risk['avg_pred_prob'] = avg_pred_prob_list\n",
        "    return df_pop_risk\n",
        "\n",
        "def profitability_diff(score1_name, score2_name, score1, score2):\n",
        "    '''\n",
        "    This function takes 2 scores as input and gives Absolute Difference between scores as output\n",
        "    '''\n",
        "    if score1 > score2:\n",
        "        print('%s is %d point better than %s' % (score1_name, abs(score1 - score2), score2_name))\n",
        "        print('--'*30)\n",
        "        print('%s is %f times better than %s' % (score1_name, (score1/score2), score2_name))\n",
        "    else:\n",
        "        print('%s is %d point better than %s' % (score2_name, abs(score1 - score2), score1_name))\n",
        "        print('--'*30)\n",
        "        print('%s is %f times better than %s' % (score2_name, (score2/score1), score1_name))"
      ]
    },
    {
      "cell_type": "code",
      "execution_count": 4,
      "metadata": {
        "colab": {
          "base_uri": "https://localhost:8080/",
          "height": 144
        },
        "id": "Om_g6d-Hl4gQ",
        "outputId": "365c895c-2f34-426a-cb19-bbaaed07b4aa"
      },
      "outputs": [
        {
          "output_type": "execute_result",
          "data": {
            "text/plain": [
              "   loan_id  is_first_loan  fully_repaid_previous_loans  \\\n",
              "0   289774              1                          NaN   \n",
              "1   482590              0                          1.0   \n",
              "2   135565              1                          NaN   \n",
              "\n",
              "   currently_repaying_other_loans  total_credit_card_limit  \\\n",
              "0                             NaN                     8000   \n",
              "1                             0.0                     4500   \n",
              "2                             NaN                     6900   \n",
              "\n",
              "   avg_percentage_credit_card_limit_used_last_year  saving_amount  \\\n",
              "0                                             0.49           3285   \n",
              "1                                             1.03            636   \n",
              "2                                             0.82           2085   \n",
              "\n",
              "   checking_amount  is_employed  yearly_salary  age  dependent_number  \n",
              "0             1073            0              0   47                 3  \n",
              "1             5299            1          13500   33                 1  \n",
              "2             3422            1          24500   38                 8  "
            ],
            "text/html": [
              "\n",
              "  <div id=\"df-0fa45e2b-f1a8-46d5-8b90-5a673690351c\" class=\"colab-df-container\">\n",
              "    <div>\n",
              "<style scoped>\n",
              "    .dataframe tbody tr th:only-of-type {\n",
              "        vertical-align: middle;\n",
              "    }\n",
              "\n",
              "    .dataframe tbody tr th {\n",
              "        vertical-align: top;\n",
              "    }\n",
              "\n",
              "    .dataframe thead th {\n",
              "        text-align: right;\n",
              "    }\n",
              "</style>\n",
              "<table border=\"1\" class=\"dataframe\">\n",
              "  <thead>\n",
              "    <tr style=\"text-align: right;\">\n",
              "      <th></th>\n",
              "      <th>loan_id</th>\n",
              "      <th>is_first_loan</th>\n",
              "      <th>fully_repaid_previous_loans</th>\n",
              "      <th>currently_repaying_other_loans</th>\n",
              "      <th>total_credit_card_limit</th>\n",
              "      <th>avg_percentage_credit_card_limit_used_last_year</th>\n",
              "      <th>saving_amount</th>\n",
              "      <th>checking_amount</th>\n",
              "      <th>is_employed</th>\n",
              "      <th>yearly_salary</th>\n",
              "      <th>age</th>\n",
              "      <th>dependent_number</th>\n",
              "    </tr>\n",
              "  </thead>\n",
              "  <tbody>\n",
              "    <tr>\n",
              "      <th>0</th>\n",
              "      <td>289774</td>\n",
              "      <td>1</td>\n",
              "      <td>NaN</td>\n",
              "      <td>NaN</td>\n",
              "      <td>8000</td>\n",
              "      <td>0.49</td>\n",
              "      <td>3285</td>\n",
              "      <td>1073</td>\n",
              "      <td>0</td>\n",
              "      <td>0</td>\n",
              "      <td>47</td>\n",
              "      <td>3</td>\n",
              "    </tr>\n",
              "    <tr>\n",
              "      <th>1</th>\n",
              "      <td>482590</td>\n",
              "      <td>0</td>\n",
              "      <td>1.0</td>\n",
              "      <td>0.0</td>\n",
              "      <td>4500</td>\n",
              "      <td>1.03</td>\n",
              "      <td>636</td>\n",
              "      <td>5299</td>\n",
              "      <td>1</td>\n",
              "      <td>13500</td>\n",
              "      <td>33</td>\n",
              "      <td>1</td>\n",
              "    </tr>\n",
              "    <tr>\n",
              "      <th>2</th>\n",
              "      <td>135565</td>\n",
              "      <td>1</td>\n",
              "      <td>NaN</td>\n",
              "      <td>NaN</td>\n",
              "      <td>6900</td>\n",
              "      <td>0.82</td>\n",
              "      <td>2085</td>\n",
              "      <td>3422</td>\n",
              "      <td>1</td>\n",
              "      <td>24500</td>\n",
              "      <td>38</td>\n",
              "      <td>8</td>\n",
              "    </tr>\n",
              "  </tbody>\n",
              "</table>\n",
              "</div>\n",
              "    <div class=\"colab-df-buttons\">\n",
              "\n",
              "  <div class=\"colab-df-container\">\n",
              "    <button class=\"colab-df-convert\" onclick=\"convertToInteractive('df-0fa45e2b-f1a8-46d5-8b90-5a673690351c')\"\n",
              "            title=\"Convert this dataframe to an interactive table.\"\n",
              "            style=\"display:none;\">\n",
              "\n",
              "  <svg xmlns=\"http://www.w3.org/2000/svg\" height=\"24px\" viewBox=\"0 -960 960 960\">\n",
              "    <path d=\"M120-120v-720h720v720H120Zm60-500h600v-160H180v160Zm220 220h160v-160H400v160Zm0 220h160v-160H400v160ZM180-400h160v-160H180v160Zm440 0h160v-160H620v160ZM180-180h160v-160H180v160Zm440 0h160v-160H620v160Z\"/>\n",
              "  </svg>\n",
              "    </button>\n",
              "\n",
              "  <style>\n",
              "    .colab-df-container {\n",
              "      display:flex;\n",
              "      gap: 12px;\n",
              "    }\n",
              "\n",
              "    .colab-df-convert {\n",
              "      background-color: #E8F0FE;\n",
              "      border: none;\n",
              "      border-radius: 50%;\n",
              "      cursor: pointer;\n",
              "      display: none;\n",
              "      fill: #1967D2;\n",
              "      height: 32px;\n",
              "      padding: 0 0 0 0;\n",
              "      width: 32px;\n",
              "    }\n",
              "\n",
              "    .colab-df-convert:hover {\n",
              "      background-color: #E2EBFA;\n",
              "      box-shadow: 0px 1px 2px rgba(60, 64, 67, 0.3), 0px 1px 3px 1px rgba(60, 64, 67, 0.15);\n",
              "      fill: #174EA6;\n",
              "    }\n",
              "\n",
              "    .colab-df-buttons div {\n",
              "      margin-bottom: 4px;\n",
              "    }\n",
              "\n",
              "    [theme=dark] .colab-df-convert {\n",
              "      background-color: #3B4455;\n",
              "      fill: #D2E3FC;\n",
              "    }\n",
              "\n",
              "    [theme=dark] .colab-df-convert:hover {\n",
              "      background-color: #434B5C;\n",
              "      box-shadow: 0px 1px 3px 1px rgba(0, 0, 0, 0.15);\n",
              "      filter: drop-shadow(0px 1px 2px rgba(0, 0, 0, 0.3));\n",
              "      fill: #FFFFFF;\n",
              "    }\n",
              "  </style>\n",
              "\n",
              "    <script>\n",
              "      const buttonEl =\n",
              "        document.querySelector('#df-0fa45e2b-f1a8-46d5-8b90-5a673690351c button.colab-df-convert');\n",
              "      buttonEl.style.display =\n",
              "        google.colab.kernel.accessAllowed ? 'block' : 'none';\n",
              "\n",
              "      async function convertToInteractive(key) {\n",
              "        const element = document.querySelector('#df-0fa45e2b-f1a8-46d5-8b90-5a673690351c');\n",
              "        const dataTable =\n",
              "          await google.colab.kernel.invokeFunction('convertToInteractive',\n",
              "                                                    [key], {});\n",
              "        if (!dataTable) return;\n",
              "\n",
              "        const docLinkHtml = 'Like what you see? Visit the ' +\n",
              "          '<a target=\"_blank\" href=https://colab.research.google.com/notebooks/data_table.ipynb>data table notebook</a>'\n",
              "          + ' to learn more about interactive tables.';\n",
              "        element.innerHTML = '';\n",
              "        dataTable['output_type'] = 'display_data';\n",
              "        await google.colab.output.renderOutput(dataTable, element);\n",
              "        const docLink = document.createElement('div');\n",
              "        docLink.innerHTML = docLinkHtml;\n",
              "        element.appendChild(docLink);\n",
              "      }\n",
              "    </script>\n",
              "  </div>\n",
              "\n",
              "\n",
              "<div id=\"df-60eb266d-28c7-46ee-ba87-f4b4c46b6c80\">\n",
              "  <button class=\"colab-df-quickchart\" onclick=\"quickchart('df-60eb266d-28c7-46ee-ba87-f4b4c46b6c80')\"\n",
              "            title=\"Suggest charts\"\n",
              "            style=\"display:none;\">\n",
              "\n",
              "<svg xmlns=\"http://www.w3.org/2000/svg\" height=\"24px\"viewBox=\"0 0 24 24\"\n",
              "     width=\"24px\">\n",
              "    <g>\n",
              "        <path d=\"M19 3H5c-1.1 0-2 .9-2 2v14c0 1.1.9 2 2 2h14c1.1 0 2-.9 2-2V5c0-1.1-.9-2-2-2zM9 17H7v-7h2v7zm4 0h-2V7h2v10zm4 0h-2v-4h2v4z\"/>\n",
              "    </g>\n",
              "</svg>\n",
              "  </button>\n",
              "\n",
              "<style>\n",
              "  .colab-df-quickchart {\n",
              "      --bg-color: #E8F0FE;\n",
              "      --fill-color: #1967D2;\n",
              "      --hover-bg-color: #E2EBFA;\n",
              "      --hover-fill-color: #174EA6;\n",
              "      --disabled-fill-color: #AAA;\n",
              "      --disabled-bg-color: #DDD;\n",
              "  }\n",
              "\n",
              "  [theme=dark] .colab-df-quickchart {\n",
              "      --bg-color: #3B4455;\n",
              "      --fill-color: #D2E3FC;\n",
              "      --hover-bg-color: #434B5C;\n",
              "      --hover-fill-color: #FFFFFF;\n",
              "      --disabled-bg-color: #3B4455;\n",
              "      --disabled-fill-color: #666;\n",
              "  }\n",
              "\n",
              "  .colab-df-quickchart {\n",
              "    background-color: var(--bg-color);\n",
              "    border: none;\n",
              "    border-radius: 50%;\n",
              "    cursor: pointer;\n",
              "    display: none;\n",
              "    fill: var(--fill-color);\n",
              "    height: 32px;\n",
              "    padding: 0;\n",
              "    width: 32px;\n",
              "  }\n",
              "\n",
              "  .colab-df-quickchart:hover {\n",
              "    background-color: var(--hover-bg-color);\n",
              "    box-shadow: 0 1px 2px rgba(60, 64, 67, 0.3), 0 1px 3px 1px rgba(60, 64, 67, 0.15);\n",
              "    fill: var(--button-hover-fill-color);\n",
              "  }\n",
              "\n",
              "  .colab-df-quickchart-complete:disabled,\n",
              "  .colab-df-quickchart-complete:disabled:hover {\n",
              "    background-color: var(--disabled-bg-color);\n",
              "    fill: var(--disabled-fill-color);\n",
              "    box-shadow: none;\n",
              "  }\n",
              "\n",
              "  .colab-df-spinner {\n",
              "    border: 2px solid var(--fill-color);\n",
              "    border-color: transparent;\n",
              "    border-bottom-color: var(--fill-color);\n",
              "    animation:\n",
              "      spin 1s steps(1) infinite;\n",
              "  }\n",
              "\n",
              "  @keyframes spin {\n",
              "    0% {\n",
              "      border-color: transparent;\n",
              "      border-bottom-color: var(--fill-color);\n",
              "      border-left-color: var(--fill-color);\n",
              "    }\n",
              "    20% {\n",
              "      border-color: transparent;\n",
              "      border-left-color: var(--fill-color);\n",
              "      border-top-color: var(--fill-color);\n",
              "    }\n",
              "    30% {\n",
              "      border-color: transparent;\n",
              "      border-left-color: var(--fill-color);\n",
              "      border-top-color: var(--fill-color);\n",
              "      border-right-color: var(--fill-color);\n",
              "    }\n",
              "    40% {\n",
              "      border-color: transparent;\n",
              "      border-right-color: var(--fill-color);\n",
              "      border-top-color: var(--fill-color);\n",
              "    }\n",
              "    60% {\n",
              "      border-color: transparent;\n",
              "      border-right-color: var(--fill-color);\n",
              "    }\n",
              "    80% {\n",
              "      border-color: transparent;\n",
              "      border-right-color: var(--fill-color);\n",
              "      border-bottom-color: var(--fill-color);\n",
              "    }\n",
              "    90% {\n",
              "      border-color: transparent;\n",
              "      border-bottom-color: var(--fill-color);\n",
              "    }\n",
              "  }\n",
              "</style>\n",
              "\n",
              "  <script>\n",
              "    async function quickchart(key) {\n",
              "      const quickchartButtonEl =\n",
              "        document.querySelector('#' + key + ' button');\n",
              "      quickchartButtonEl.disabled = true;  // To prevent multiple clicks.\n",
              "      quickchartButtonEl.classList.add('colab-df-spinner');\n",
              "      try {\n",
              "        const charts = await google.colab.kernel.invokeFunction(\n",
              "            'suggestCharts', [key], {});\n",
              "      } catch (error) {\n",
              "        console.error('Error during call to suggestCharts:', error);\n",
              "      }\n",
              "      quickchartButtonEl.classList.remove('colab-df-spinner');\n",
              "      quickchartButtonEl.classList.add('colab-df-quickchart-complete');\n",
              "    }\n",
              "    (() => {\n",
              "      let quickchartButtonEl =\n",
              "        document.querySelector('#df-60eb266d-28c7-46ee-ba87-f4b4c46b6c80 button');\n",
              "      quickchartButtonEl.style.display =\n",
              "        google.colab.kernel.accessAllowed ? 'block' : 'none';\n",
              "    })();\n",
              "  </script>\n",
              "</div>\n",
              "\n",
              "    </div>\n",
              "  </div>\n"
            ],
            "application/vnd.google.colaboratory.intrinsic+json": {
              "type": "dataframe",
              "variable_name": "borrower"
            }
          },
          "metadata": {},
          "execution_count": 4
        }
      ],
      "source": [
        "borrower=pd.read_csv('/content/drive/MyDrive/Colab Notebooks/borrower_table.csv')\n",
        "# check dimensions of the dataset, we found it has 307,511 rows and 122 columns\n",
        "borrower.shape\n",
        "borrower.head(3)"
      ]
    },
    {
      "cell_type": "code",
      "execution_count": 5,
      "metadata": {
        "colab": {
          "base_uri": "https://localhost:8080/",
          "height": 144
        },
        "id": "AY6F1mL0m2vS",
        "outputId": "770af03b-e308-482f-d593-e967cb02f657"
      },
      "outputs": [
        {
          "output_type": "execute_result",
          "data": {
            "text/plain": [
              "   loan_id loan_purpose        date  loan_granted  loan_repaid\n",
              "0    19454   investment  2012-03-15             0          NaN\n",
              "1   496811   investment  2012-01-17             0          NaN\n",
              "2   929493        other  2012-02-09             0          NaN"
            ],
            "text/html": [
              "\n",
              "  <div id=\"df-4ce545c2-5ede-41c8-bc73-15b022c3857c\" class=\"colab-df-container\">\n",
              "    <div>\n",
              "<style scoped>\n",
              "    .dataframe tbody tr th:only-of-type {\n",
              "        vertical-align: middle;\n",
              "    }\n",
              "\n",
              "    .dataframe tbody tr th {\n",
              "        vertical-align: top;\n",
              "    }\n",
              "\n",
              "    .dataframe thead th {\n",
              "        text-align: right;\n",
              "    }\n",
              "</style>\n",
              "<table border=\"1\" class=\"dataframe\">\n",
              "  <thead>\n",
              "    <tr style=\"text-align: right;\">\n",
              "      <th></th>\n",
              "      <th>loan_id</th>\n",
              "      <th>loan_purpose</th>\n",
              "      <th>date</th>\n",
              "      <th>loan_granted</th>\n",
              "      <th>loan_repaid</th>\n",
              "    </tr>\n",
              "  </thead>\n",
              "  <tbody>\n",
              "    <tr>\n",
              "      <th>0</th>\n",
              "      <td>19454</td>\n",
              "      <td>investment</td>\n",
              "      <td>2012-03-15</td>\n",
              "      <td>0</td>\n",
              "      <td>NaN</td>\n",
              "    </tr>\n",
              "    <tr>\n",
              "      <th>1</th>\n",
              "      <td>496811</td>\n",
              "      <td>investment</td>\n",
              "      <td>2012-01-17</td>\n",
              "      <td>0</td>\n",
              "      <td>NaN</td>\n",
              "    </tr>\n",
              "    <tr>\n",
              "      <th>2</th>\n",
              "      <td>929493</td>\n",
              "      <td>other</td>\n",
              "      <td>2012-02-09</td>\n",
              "      <td>0</td>\n",
              "      <td>NaN</td>\n",
              "    </tr>\n",
              "  </tbody>\n",
              "</table>\n",
              "</div>\n",
              "    <div class=\"colab-df-buttons\">\n",
              "\n",
              "  <div class=\"colab-df-container\">\n",
              "    <button class=\"colab-df-convert\" onclick=\"convertToInteractive('df-4ce545c2-5ede-41c8-bc73-15b022c3857c')\"\n",
              "            title=\"Convert this dataframe to an interactive table.\"\n",
              "            style=\"display:none;\">\n",
              "\n",
              "  <svg xmlns=\"http://www.w3.org/2000/svg\" height=\"24px\" viewBox=\"0 -960 960 960\">\n",
              "    <path d=\"M120-120v-720h720v720H120Zm60-500h600v-160H180v160Zm220 220h160v-160H400v160Zm0 220h160v-160H400v160ZM180-400h160v-160H180v160Zm440 0h160v-160H620v160ZM180-180h160v-160H180v160Zm440 0h160v-160H620v160Z\"/>\n",
              "  </svg>\n",
              "    </button>\n",
              "\n",
              "  <style>\n",
              "    .colab-df-container {\n",
              "      display:flex;\n",
              "      gap: 12px;\n",
              "    }\n",
              "\n",
              "    .colab-df-convert {\n",
              "      background-color: #E8F0FE;\n",
              "      border: none;\n",
              "      border-radius: 50%;\n",
              "      cursor: pointer;\n",
              "      display: none;\n",
              "      fill: #1967D2;\n",
              "      height: 32px;\n",
              "      padding: 0 0 0 0;\n",
              "      width: 32px;\n",
              "    }\n",
              "\n",
              "    .colab-df-convert:hover {\n",
              "      background-color: #E2EBFA;\n",
              "      box-shadow: 0px 1px 2px rgba(60, 64, 67, 0.3), 0px 1px 3px 1px rgba(60, 64, 67, 0.15);\n",
              "      fill: #174EA6;\n",
              "    }\n",
              "\n",
              "    .colab-df-buttons div {\n",
              "      margin-bottom: 4px;\n",
              "    }\n",
              "\n",
              "    [theme=dark] .colab-df-convert {\n",
              "      background-color: #3B4455;\n",
              "      fill: #D2E3FC;\n",
              "    }\n",
              "\n",
              "    [theme=dark] .colab-df-convert:hover {\n",
              "      background-color: #434B5C;\n",
              "      box-shadow: 0px 1px 3px 1px rgba(0, 0, 0, 0.15);\n",
              "      filter: drop-shadow(0px 1px 2px rgba(0, 0, 0, 0.3));\n",
              "      fill: #FFFFFF;\n",
              "    }\n",
              "  </style>\n",
              "\n",
              "    <script>\n",
              "      const buttonEl =\n",
              "        document.querySelector('#df-4ce545c2-5ede-41c8-bc73-15b022c3857c button.colab-df-convert');\n",
              "      buttonEl.style.display =\n",
              "        google.colab.kernel.accessAllowed ? 'block' : 'none';\n",
              "\n",
              "      async function convertToInteractive(key) {\n",
              "        const element = document.querySelector('#df-4ce545c2-5ede-41c8-bc73-15b022c3857c');\n",
              "        const dataTable =\n",
              "          await google.colab.kernel.invokeFunction('convertToInteractive',\n",
              "                                                    [key], {});\n",
              "        if (!dataTable) return;\n",
              "\n",
              "        const docLinkHtml = 'Like what you see? Visit the ' +\n",
              "          '<a target=\"_blank\" href=https://colab.research.google.com/notebooks/data_table.ipynb>data table notebook</a>'\n",
              "          + ' to learn more about interactive tables.';\n",
              "        element.innerHTML = '';\n",
              "        dataTable['output_type'] = 'display_data';\n",
              "        await google.colab.output.renderOutput(dataTable, element);\n",
              "        const docLink = document.createElement('div');\n",
              "        docLink.innerHTML = docLinkHtml;\n",
              "        element.appendChild(docLink);\n",
              "      }\n",
              "    </script>\n",
              "  </div>\n",
              "\n",
              "\n",
              "<div id=\"df-b31e505c-d943-4110-9184-3e08ac93e743\">\n",
              "  <button class=\"colab-df-quickchart\" onclick=\"quickchart('df-b31e505c-d943-4110-9184-3e08ac93e743')\"\n",
              "            title=\"Suggest charts\"\n",
              "            style=\"display:none;\">\n",
              "\n",
              "<svg xmlns=\"http://www.w3.org/2000/svg\" height=\"24px\"viewBox=\"0 0 24 24\"\n",
              "     width=\"24px\">\n",
              "    <g>\n",
              "        <path d=\"M19 3H5c-1.1 0-2 .9-2 2v14c0 1.1.9 2 2 2h14c1.1 0 2-.9 2-2V5c0-1.1-.9-2-2-2zM9 17H7v-7h2v7zm4 0h-2V7h2v10zm4 0h-2v-4h2v4z\"/>\n",
              "    </g>\n",
              "</svg>\n",
              "  </button>\n",
              "\n",
              "<style>\n",
              "  .colab-df-quickchart {\n",
              "      --bg-color: #E8F0FE;\n",
              "      --fill-color: #1967D2;\n",
              "      --hover-bg-color: #E2EBFA;\n",
              "      --hover-fill-color: #174EA6;\n",
              "      --disabled-fill-color: #AAA;\n",
              "      --disabled-bg-color: #DDD;\n",
              "  }\n",
              "\n",
              "  [theme=dark] .colab-df-quickchart {\n",
              "      --bg-color: #3B4455;\n",
              "      --fill-color: #D2E3FC;\n",
              "      --hover-bg-color: #434B5C;\n",
              "      --hover-fill-color: #FFFFFF;\n",
              "      --disabled-bg-color: #3B4455;\n",
              "      --disabled-fill-color: #666;\n",
              "  }\n",
              "\n",
              "  .colab-df-quickchart {\n",
              "    background-color: var(--bg-color);\n",
              "    border: none;\n",
              "    border-radius: 50%;\n",
              "    cursor: pointer;\n",
              "    display: none;\n",
              "    fill: var(--fill-color);\n",
              "    height: 32px;\n",
              "    padding: 0;\n",
              "    width: 32px;\n",
              "  }\n",
              "\n",
              "  .colab-df-quickchart:hover {\n",
              "    background-color: var(--hover-bg-color);\n",
              "    box-shadow: 0 1px 2px rgba(60, 64, 67, 0.3), 0 1px 3px 1px rgba(60, 64, 67, 0.15);\n",
              "    fill: var(--button-hover-fill-color);\n",
              "  }\n",
              "\n",
              "  .colab-df-quickchart-complete:disabled,\n",
              "  .colab-df-quickchart-complete:disabled:hover {\n",
              "    background-color: var(--disabled-bg-color);\n",
              "    fill: var(--disabled-fill-color);\n",
              "    box-shadow: none;\n",
              "  }\n",
              "\n",
              "  .colab-df-spinner {\n",
              "    border: 2px solid var(--fill-color);\n",
              "    border-color: transparent;\n",
              "    border-bottom-color: var(--fill-color);\n",
              "    animation:\n",
              "      spin 1s steps(1) infinite;\n",
              "  }\n",
              "\n",
              "  @keyframes spin {\n",
              "    0% {\n",
              "      border-color: transparent;\n",
              "      border-bottom-color: var(--fill-color);\n",
              "      border-left-color: var(--fill-color);\n",
              "    }\n",
              "    20% {\n",
              "      border-color: transparent;\n",
              "      border-left-color: var(--fill-color);\n",
              "      border-top-color: var(--fill-color);\n",
              "    }\n",
              "    30% {\n",
              "      border-color: transparent;\n",
              "      border-left-color: var(--fill-color);\n",
              "      border-top-color: var(--fill-color);\n",
              "      border-right-color: var(--fill-color);\n",
              "    }\n",
              "    40% {\n",
              "      border-color: transparent;\n",
              "      border-right-color: var(--fill-color);\n",
              "      border-top-color: var(--fill-color);\n",
              "    }\n",
              "    60% {\n",
              "      border-color: transparent;\n",
              "      border-right-color: var(--fill-color);\n",
              "    }\n",
              "    80% {\n",
              "      border-color: transparent;\n",
              "      border-right-color: var(--fill-color);\n",
              "      border-bottom-color: var(--fill-color);\n",
              "    }\n",
              "    90% {\n",
              "      border-color: transparent;\n",
              "      border-bottom-color: var(--fill-color);\n",
              "    }\n",
              "  }\n",
              "</style>\n",
              "\n",
              "  <script>\n",
              "    async function quickchart(key) {\n",
              "      const quickchartButtonEl =\n",
              "        document.querySelector('#' + key + ' button');\n",
              "      quickchartButtonEl.disabled = true;  // To prevent multiple clicks.\n",
              "      quickchartButtonEl.classList.add('colab-df-spinner');\n",
              "      try {\n",
              "        const charts = await google.colab.kernel.invokeFunction(\n",
              "            'suggestCharts', [key], {});\n",
              "      } catch (error) {\n",
              "        console.error('Error during call to suggestCharts:', error);\n",
              "      }\n",
              "      quickchartButtonEl.classList.remove('colab-df-spinner');\n",
              "      quickchartButtonEl.classList.add('colab-df-quickchart-complete');\n",
              "    }\n",
              "    (() => {\n",
              "      let quickchartButtonEl =\n",
              "        document.querySelector('#df-b31e505c-d943-4110-9184-3e08ac93e743 button');\n",
              "      quickchartButtonEl.style.display =\n",
              "        google.colab.kernel.accessAllowed ? 'block' : 'none';\n",
              "    })();\n",
              "  </script>\n",
              "</div>\n",
              "\n",
              "    </div>\n",
              "  </div>\n"
            ],
            "application/vnd.google.colaboratory.intrinsic+json": {
              "type": "dataframe",
              "variable_name": "loan"
            }
          },
          "metadata": {},
          "execution_count": 5
        }
      ],
      "source": [
        "loan=pd.read_csv('/content/drive/MyDrive/Colab Notebooks/loan_table.csv')\n",
        "# check dimensions of the dataset, we found it has 307,511 rows and 122 columns\n",
        "loan.shape\n",
        "loan.head(3)"
      ]
    },
    {
      "cell_type": "code",
      "execution_count": 5,
      "metadata": {
        "id": "T96L0TPYf8Fr"
      },
      "outputs": [],
      "source": []
    },
    {
      "cell_type": "markdown",
      "metadata": {
        "id": "DpvCis5h3PDQ"
      },
      "source": [
        "## **Exploratory Data Analysis (EDA)**"
      ]
    },
    {
      "cell_type": "code",
      "execution_count": 6,
      "metadata": {
        "colab": {
          "base_uri": "https://localhost:8080/",
          "height": 181
        },
        "id": "CXwYFRvYoL2X",
        "outputId": "3e0ff09d-3285-42d3-f485-be38a9103d69"
      },
      "outputs": [
        {
          "output_type": "stream",
          "name": "stdout",
          "text": [
            "(101100, 16)\n"
          ]
        },
        {
          "output_type": "execute_result",
          "data": {
            "text/plain": [
              "   loan_id loan_purpose        date  loan_granted  loan_repaid  is_first_loan  \\\n",
              "0    19454   investment  2012-03-15             0          NaN              1   \n",
              "1   496811   investment  2012-01-17             0          NaN              1   \n",
              "2   929493        other  2012-02-09             0          NaN              1   \n",
              "\n",
              "   fully_repaid_previous_loans  currently_repaying_other_loans  \\\n",
              "0                          NaN                             NaN   \n",
              "1                          NaN                             NaN   \n",
              "2                          NaN                             NaN   \n",
              "\n",
              "   total_credit_card_limit  avg_percentage_credit_card_limit_used_last_year  \\\n",
              "0                     8600                                             0.79   \n",
              "1                     5300                                             0.52   \n",
              "2                        0                                              NaN   \n",
              "\n",
              "   saving_amount  checking_amount  is_employed  yearly_salary  age  \\\n",
              "0           1491             6285            1          45200   42   \n",
              "1            141             5793            0              0   42   \n",
              "2            660             3232            1          26500   60   \n",
              "\n",
              "   dependent_number  \n",
              "0                 7  \n",
              "1                 5  \n",
              "2                 4  "
            ],
            "text/html": [
              "\n",
              "  <div id=\"df-454b5a35-149c-49a7-b142-b1df47e08382\" class=\"colab-df-container\">\n",
              "    <div>\n",
              "<style scoped>\n",
              "    .dataframe tbody tr th:only-of-type {\n",
              "        vertical-align: middle;\n",
              "    }\n",
              "\n",
              "    .dataframe tbody tr th {\n",
              "        vertical-align: top;\n",
              "    }\n",
              "\n",
              "    .dataframe thead th {\n",
              "        text-align: right;\n",
              "    }\n",
              "</style>\n",
              "<table border=\"1\" class=\"dataframe\">\n",
              "  <thead>\n",
              "    <tr style=\"text-align: right;\">\n",
              "      <th></th>\n",
              "      <th>loan_id</th>\n",
              "      <th>loan_purpose</th>\n",
              "      <th>date</th>\n",
              "      <th>loan_granted</th>\n",
              "      <th>loan_repaid</th>\n",
              "      <th>is_first_loan</th>\n",
              "      <th>fully_repaid_previous_loans</th>\n",
              "      <th>currently_repaying_other_loans</th>\n",
              "      <th>total_credit_card_limit</th>\n",
              "      <th>avg_percentage_credit_card_limit_used_last_year</th>\n",
              "      <th>saving_amount</th>\n",
              "      <th>checking_amount</th>\n",
              "      <th>is_employed</th>\n",
              "      <th>yearly_salary</th>\n",
              "      <th>age</th>\n",
              "      <th>dependent_number</th>\n",
              "    </tr>\n",
              "  </thead>\n",
              "  <tbody>\n",
              "    <tr>\n",
              "      <th>0</th>\n",
              "      <td>19454</td>\n",
              "      <td>investment</td>\n",
              "      <td>2012-03-15</td>\n",
              "      <td>0</td>\n",
              "      <td>NaN</td>\n",
              "      <td>1</td>\n",
              "      <td>NaN</td>\n",
              "      <td>NaN</td>\n",
              "      <td>8600</td>\n",
              "      <td>0.79</td>\n",
              "      <td>1491</td>\n",
              "      <td>6285</td>\n",
              "      <td>1</td>\n",
              "      <td>45200</td>\n",
              "      <td>42</td>\n",
              "      <td>7</td>\n",
              "    </tr>\n",
              "    <tr>\n",
              "      <th>1</th>\n",
              "      <td>496811</td>\n",
              "      <td>investment</td>\n",
              "      <td>2012-01-17</td>\n",
              "      <td>0</td>\n",
              "      <td>NaN</td>\n",
              "      <td>1</td>\n",
              "      <td>NaN</td>\n",
              "      <td>NaN</td>\n",
              "      <td>5300</td>\n",
              "      <td>0.52</td>\n",
              "      <td>141</td>\n",
              "      <td>5793</td>\n",
              "      <td>0</td>\n",
              "      <td>0</td>\n",
              "      <td>42</td>\n",
              "      <td>5</td>\n",
              "    </tr>\n",
              "    <tr>\n",
              "      <th>2</th>\n",
              "      <td>929493</td>\n",
              "      <td>other</td>\n",
              "      <td>2012-02-09</td>\n",
              "      <td>0</td>\n",
              "      <td>NaN</td>\n",
              "      <td>1</td>\n",
              "      <td>NaN</td>\n",
              "      <td>NaN</td>\n",
              "      <td>0</td>\n",
              "      <td>NaN</td>\n",
              "      <td>660</td>\n",
              "      <td>3232</td>\n",
              "      <td>1</td>\n",
              "      <td>26500</td>\n",
              "      <td>60</td>\n",
              "      <td>4</td>\n",
              "    </tr>\n",
              "  </tbody>\n",
              "</table>\n",
              "</div>\n",
              "    <div class=\"colab-df-buttons\">\n",
              "\n",
              "  <div class=\"colab-df-container\">\n",
              "    <button class=\"colab-df-convert\" onclick=\"convertToInteractive('df-454b5a35-149c-49a7-b142-b1df47e08382')\"\n",
              "            title=\"Convert this dataframe to an interactive table.\"\n",
              "            style=\"display:none;\">\n",
              "\n",
              "  <svg xmlns=\"http://www.w3.org/2000/svg\" height=\"24px\" viewBox=\"0 -960 960 960\">\n",
              "    <path d=\"M120-120v-720h720v720H120Zm60-500h600v-160H180v160Zm220 220h160v-160H400v160Zm0 220h160v-160H400v160ZM180-400h160v-160H180v160Zm440 0h160v-160H620v160ZM180-180h160v-160H180v160Zm440 0h160v-160H620v160Z\"/>\n",
              "  </svg>\n",
              "    </button>\n",
              "\n",
              "  <style>\n",
              "    .colab-df-container {\n",
              "      display:flex;\n",
              "      gap: 12px;\n",
              "    }\n",
              "\n",
              "    .colab-df-convert {\n",
              "      background-color: #E8F0FE;\n",
              "      border: none;\n",
              "      border-radius: 50%;\n",
              "      cursor: pointer;\n",
              "      display: none;\n",
              "      fill: #1967D2;\n",
              "      height: 32px;\n",
              "      padding: 0 0 0 0;\n",
              "      width: 32px;\n",
              "    }\n",
              "\n",
              "    .colab-df-convert:hover {\n",
              "      background-color: #E2EBFA;\n",
              "      box-shadow: 0px 1px 2px rgba(60, 64, 67, 0.3), 0px 1px 3px 1px rgba(60, 64, 67, 0.15);\n",
              "      fill: #174EA6;\n",
              "    }\n",
              "\n",
              "    .colab-df-buttons div {\n",
              "      margin-bottom: 4px;\n",
              "    }\n",
              "\n",
              "    [theme=dark] .colab-df-convert {\n",
              "      background-color: #3B4455;\n",
              "      fill: #D2E3FC;\n",
              "    }\n",
              "\n",
              "    [theme=dark] .colab-df-convert:hover {\n",
              "      background-color: #434B5C;\n",
              "      box-shadow: 0px 1px 3px 1px rgba(0, 0, 0, 0.15);\n",
              "      filter: drop-shadow(0px 1px 2px rgba(0, 0, 0, 0.3));\n",
              "      fill: #FFFFFF;\n",
              "    }\n",
              "  </style>\n",
              "\n",
              "    <script>\n",
              "      const buttonEl =\n",
              "        document.querySelector('#df-454b5a35-149c-49a7-b142-b1df47e08382 button.colab-df-convert');\n",
              "      buttonEl.style.display =\n",
              "        google.colab.kernel.accessAllowed ? 'block' : 'none';\n",
              "\n",
              "      async function convertToInteractive(key) {\n",
              "        const element = document.querySelector('#df-454b5a35-149c-49a7-b142-b1df47e08382');\n",
              "        const dataTable =\n",
              "          await google.colab.kernel.invokeFunction('convertToInteractive',\n",
              "                                                    [key], {});\n",
              "        if (!dataTable) return;\n",
              "\n",
              "        const docLinkHtml = 'Like what you see? Visit the ' +\n",
              "          '<a target=\"_blank\" href=https://colab.research.google.com/notebooks/data_table.ipynb>data table notebook</a>'\n",
              "          + ' to learn more about interactive tables.';\n",
              "        element.innerHTML = '';\n",
              "        dataTable['output_type'] = 'display_data';\n",
              "        await google.colab.output.renderOutput(dataTable, element);\n",
              "        const docLink = document.createElement('div');\n",
              "        docLink.innerHTML = docLinkHtml;\n",
              "        element.appendChild(docLink);\n",
              "      }\n",
              "    </script>\n",
              "  </div>\n",
              "\n",
              "\n",
              "<div id=\"df-391e1ed1-7d40-4fcf-ab74-96953273bcd6\">\n",
              "  <button class=\"colab-df-quickchart\" onclick=\"quickchart('df-391e1ed1-7d40-4fcf-ab74-96953273bcd6')\"\n",
              "            title=\"Suggest charts\"\n",
              "            style=\"display:none;\">\n",
              "\n",
              "<svg xmlns=\"http://www.w3.org/2000/svg\" height=\"24px\"viewBox=\"0 0 24 24\"\n",
              "     width=\"24px\">\n",
              "    <g>\n",
              "        <path d=\"M19 3H5c-1.1 0-2 .9-2 2v14c0 1.1.9 2 2 2h14c1.1 0 2-.9 2-2V5c0-1.1-.9-2-2-2zM9 17H7v-7h2v7zm4 0h-2V7h2v10zm4 0h-2v-4h2v4z\"/>\n",
              "    </g>\n",
              "</svg>\n",
              "  </button>\n",
              "\n",
              "<style>\n",
              "  .colab-df-quickchart {\n",
              "      --bg-color: #E8F0FE;\n",
              "      --fill-color: #1967D2;\n",
              "      --hover-bg-color: #E2EBFA;\n",
              "      --hover-fill-color: #174EA6;\n",
              "      --disabled-fill-color: #AAA;\n",
              "      --disabled-bg-color: #DDD;\n",
              "  }\n",
              "\n",
              "  [theme=dark] .colab-df-quickchart {\n",
              "      --bg-color: #3B4455;\n",
              "      --fill-color: #D2E3FC;\n",
              "      --hover-bg-color: #434B5C;\n",
              "      --hover-fill-color: #FFFFFF;\n",
              "      --disabled-bg-color: #3B4455;\n",
              "      --disabled-fill-color: #666;\n",
              "  }\n",
              "\n",
              "  .colab-df-quickchart {\n",
              "    background-color: var(--bg-color);\n",
              "    border: none;\n",
              "    border-radius: 50%;\n",
              "    cursor: pointer;\n",
              "    display: none;\n",
              "    fill: var(--fill-color);\n",
              "    height: 32px;\n",
              "    padding: 0;\n",
              "    width: 32px;\n",
              "  }\n",
              "\n",
              "  .colab-df-quickchart:hover {\n",
              "    background-color: var(--hover-bg-color);\n",
              "    box-shadow: 0 1px 2px rgba(60, 64, 67, 0.3), 0 1px 3px 1px rgba(60, 64, 67, 0.15);\n",
              "    fill: var(--button-hover-fill-color);\n",
              "  }\n",
              "\n",
              "  .colab-df-quickchart-complete:disabled,\n",
              "  .colab-df-quickchart-complete:disabled:hover {\n",
              "    background-color: var(--disabled-bg-color);\n",
              "    fill: var(--disabled-fill-color);\n",
              "    box-shadow: none;\n",
              "  }\n",
              "\n",
              "  .colab-df-spinner {\n",
              "    border: 2px solid var(--fill-color);\n",
              "    border-color: transparent;\n",
              "    border-bottom-color: var(--fill-color);\n",
              "    animation:\n",
              "      spin 1s steps(1) infinite;\n",
              "  }\n",
              "\n",
              "  @keyframes spin {\n",
              "    0% {\n",
              "      border-color: transparent;\n",
              "      border-bottom-color: var(--fill-color);\n",
              "      border-left-color: var(--fill-color);\n",
              "    }\n",
              "    20% {\n",
              "      border-color: transparent;\n",
              "      border-left-color: var(--fill-color);\n",
              "      border-top-color: var(--fill-color);\n",
              "    }\n",
              "    30% {\n",
              "      border-color: transparent;\n",
              "      border-left-color: var(--fill-color);\n",
              "      border-top-color: var(--fill-color);\n",
              "      border-right-color: var(--fill-color);\n",
              "    }\n",
              "    40% {\n",
              "      border-color: transparent;\n",
              "      border-right-color: var(--fill-color);\n",
              "      border-top-color: var(--fill-color);\n",
              "    }\n",
              "    60% {\n",
              "      border-color: transparent;\n",
              "      border-right-color: var(--fill-color);\n",
              "    }\n",
              "    80% {\n",
              "      border-color: transparent;\n",
              "      border-right-color: var(--fill-color);\n",
              "      border-bottom-color: var(--fill-color);\n",
              "    }\n",
              "    90% {\n",
              "      border-color: transparent;\n",
              "      border-bottom-color: var(--fill-color);\n",
              "    }\n",
              "  }\n",
              "</style>\n",
              "\n",
              "  <script>\n",
              "    async function quickchart(key) {\n",
              "      const quickchartButtonEl =\n",
              "        document.querySelector('#' + key + ' button');\n",
              "      quickchartButtonEl.disabled = true;  // To prevent multiple clicks.\n",
              "      quickchartButtonEl.classList.add('colab-df-spinner');\n",
              "      try {\n",
              "        const charts = await google.colab.kernel.invokeFunction(\n",
              "            'suggestCharts', [key], {});\n",
              "      } catch (error) {\n",
              "        console.error('Error during call to suggestCharts:', error);\n",
              "      }\n",
              "      quickchartButtonEl.classList.remove('colab-df-spinner');\n",
              "      quickchartButtonEl.classList.add('colab-df-quickchart-complete');\n",
              "    }\n",
              "    (() => {\n",
              "      let quickchartButtonEl =\n",
              "        document.querySelector('#df-391e1ed1-7d40-4fcf-ab74-96953273bcd6 button');\n",
              "      quickchartButtonEl.style.display =\n",
              "        google.colab.kernel.accessAllowed ? 'block' : 'none';\n",
              "    })();\n",
              "  </script>\n",
              "</div>\n",
              "\n",
              "    </div>\n",
              "  </div>\n"
            ],
            "application/vnd.google.colaboratory.intrinsic+json": {
              "type": "dataframe",
              "variable_name": "df_loan"
            }
          },
          "metadata": {},
          "execution_count": 6
        }
      ],
      "source": [
        "# Merge Dataframes\n",
        "df_loan = loan.merge(borrower, how='left', on='loan_id')\n",
        "\n",
        "print(df_loan.shape)\n",
        "df_loan.head(3)"
      ]
    },
    {
      "cell_type": "code",
      "execution_count": 7,
      "metadata": {
        "colab": {
          "base_uri": "https://localhost:8080/"
        },
        "id": "cewgcOJYoQrX",
        "outputId": "591d33d6-a3f5-4922-9583-9b772d0bc5c7"
      },
      "outputs": [
        {
          "output_type": "execute_result",
          "data": {
            "text/plain": [
              "['loan_id', 'loan_purpose', 'date', 'loan_granted', 'loan_repaid']"
            ]
          },
          "metadata": {},
          "execution_count": 7
        }
      ],
      "source": [
        "loan.columns.to_list()"
      ]
    },
    {
      "cell_type": "code",
      "execution_count": 8,
      "metadata": {
        "colab": {
          "base_uri": "https://localhost:8080/"
        },
        "id": "GAJQOc5ZKPjf",
        "outputId": "b1f6412f-433d-47ca-eb10-9241897e708a"
      },
      "outputs": [
        {
          "output_type": "execute_result",
          "data": {
            "text/plain": [
              "(101100, 5)"
            ]
          },
          "metadata": {},
          "execution_count": 8
        }
      ],
      "source": [
        "loan.shape"
      ]
    },
    {
      "cell_type": "code",
      "execution_count": 9,
      "metadata": {
        "colab": {
          "base_uri": "https://localhost:8080/"
        },
        "id": "fvSWJRx3KXRy",
        "outputId": "fe90b55d-1f74-4e71-ce57-0738fd29a148"
      },
      "outputs": [
        {
          "output_type": "execute_result",
          "data": {
            "text/plain": [
              "(101100, 12)"
            ]
          },
          "metadata": {},
          "execution_count": 9
        }
      ],
      "source": [
        "borrower.shape"
      ]
    },
    {
      "cell_type": "code",
      "execution_count": 10,
      "metadata": {
        "colab": {
          "base_uri": "https://localhost:8080/"
        },
        "id": "PJG_inaOHn_P",
        "outputId": "bd2a2c5d-74f6-481d-b090-83e24b1a02e1"
      },
      "outputs": [
        {
          "output_type": "execute_result",
          "data": {
            "text/plain": [
              "101100"
            ]
          },
          "metadata": {},
          "execution_count": 10
        }
      ],
      "source": [
        "loan.loan_id.nunique()"
      ]
    },
    {
      "cell_type": "code",
      "execution_count": 11,
      "metadata": {
        "colab": {
          "base_uri": "https://localhost:8080/"
        },
        "id": "1pfrz8HeKLGD",
        "outputId": "9c9afaa9-08d9-4dee-d02d-fd354f31a4cc"
      },
      "outputs": [
        {
          "output_type": "execute_result",
          "data": {
            "text/plain": [
              "101100"
            ]
          },
          "metadata": {},
          "execution_count": 11
        }
      ],
      "source": [
        "borrower.loan_id.nunique()"
      ]
    },
    {
      "cell_type": "code",
      "execution_count": 12,
      "metadata": {
        "colab": {
          "base_uri": "https://localhost:8080/"
        },
        "id": "Dr6-xYctp_hz",
        "outputId": "c0c735e0-0083-4f06-f59b-459603033c6d"
      },
      "outputs": [
        {
          "output_type": "stream",
          "name": "stdout",
          "text": [
            "There are 0 duplicates for loan id in the loan table\n",
            "There are 0 duplicates for loan id in the borrower table\n"
          ]
        }
      ],
      "source": [
        "print(f'There are {loan.shape[0] - loan.loan_id.nunique()} duplicates for loan id in the loan table')\n",
        "print(f'There are {borrower.shape[0] - borrower.loan_id.nunique()} duplicates for loan id in the borrower table')"
      ]
    },
    {
      "cell_type": "code",
      "execution_count": 13,
      "metadata": {
        "colab": {
          "base_uri": "https://localhost:8080/"
        },
        "id": "9hz0HfiUqZsA",
        "outputId": "6b9e6e30-5925-46b4-dea3-d2e8684dcd51"
      },
      "outputs": [
        {
          "output_type": "stream",
          "name": "stdout",
          "text": [
            "All the loan ids comparison are same\n"
          ]
        }
      ],
      "source": [
        "#loan_id comparison\n",
        "borrower_loan_id = list(borrower['loan_id'])\n",
        "loan_loan_id = list(loan['loan_id'])\n",
        "\n",
        "if collections.Counter(borrower_loan_id) == collections.Counter(loan_loan_id):\n",
        "    print (\"All the loan ids comparison are same\")\n",
        "else :\n",
        "    print (\"Different loan ids are present in both the datasets\")"
      ]
    },
    {
      "cell_type": "code",
      "execution_count": 14,
      "metadata": {
        "colab": {
          "base_uri": "https://localhost:8080/"
        },
        "id": "xaIiVRJ6rMR5",
        "outputId": "076c6e1c-3657-4629-bb9a-b6346e5e37e4"
      },
      "outputs": [
        {
          "output_type": "stream",
          "name": "stdout",
          "text": [
            "[]\n"
          ]
        }
      ],
      "source": [
        "#This function returns different elements between 2 lists\n",
        "def diff(li1, li2):\n",
        "\n",
        "    return (list(set(li1) - set(li2)))\n",
        "\n",
        "#Cross check with set difference option\n",
        "print(diff(borrower_loan_id, loan_loan_id))"
      ]
    },
    {
      "cell_type": "code",
      "execution_count": 15,
      "metadata": {
        "colab": {
          "base_uri": "https://localhost:8080/",
          "height": 181
        },
        "id": "uG8ITIMjvS7L",
        "outputId": "cd8296bb-dc17-48a2-b300-b6897d1d5d6b"
      },
      "outputs": [
        {
          "output_type": "stream",
          "name": "stdout",
          "text": [
            "(101100, 16)\n"
          ]
        },
        {
          "output_type": "execute_result",
          "data": {
            "text/plain": [
              "   loan_id loan_purpose        date  loan_granted  loan_repaid  is_first_loan  \\\n",
              "0    19454   investment  2012-03-15             0          NaN              1   \n",
              "1   496811   investment  2012-01-17             0          NaN              1   \n",
              "2   929493        other  2012-02-09             0          NaN              1   \n",
              "\n",
              "   fully_repaid_previous_loans  currently_repaying_other_loans  \\\n",
              "0                          NaN                             NaN   \n",
              "1                          NaN                             NaN   \n",
              "2                          NaN                             NaN   \n",
              "\n",
              "   total_credit_card_limit  avg_percentage_credit_card_limit_used_last_year  \\\n",
              "0                     8600                                             0.79   \n",
              "1                     5300                                             0.52   \n",
              "2                        0                                              NaN   \n",
              "\n",
              "   saving_amount  checking_amount  is_employed  yearly_salary  age  \\\n",
              "0           1491             6285            1          45200   42   \n",
              "1            141             5793            0              0   42   \n",
              "2            660             3232            1          26500   60   \n",
              "\n",
              "   dependent_number  \n",
              "0                 7  \n",
              "1                 5  \n",
              "2                 4  "
            ],
            "text/html": [
              "\n",
              "  <div id=\"df-419bac69-f1e1-47ab-a274-2cf3498f5ad3\" class=\"colab-df-container\">\n",
              "    <div>\n",
              "<style scoped>\n",
              "    .dataframe tbody tr th:only-of-type {\n",
              "        vertical-align: middle;\n",
              "    }\n",
              "\n",
              "    .dataframe tbody tr th {\n",
              "        vertical-align: top;\n",
              "    }\n",
              "\n",
              "    .dataframe thead th {\n",
              "        text-align: right;\n",
              "    }\n",
              "</style>\n",
              "<table border=\"1\" class=\"dataframe\">\n",
              "  <thead>\n",
              "    <tr style=\"text-align: right;\">\n",
              "      <th></th>\n",
              "      <th>loan_id</th>\n",
              "      <th>loan_purpose</th>\n",
              "      <th>date</th>\n",
              "      <th>loan_granted</th>\n",
              "      <th>loan_repaid</th>\n",
              "      <th>is_first_loan</th>\n",
              "      <th>fully_repaid_previous_loans</th>\n",
              "      <th>currently_repaying_other_loans</th>\n",
              "      <th>total_credit_card_limit</th>\n",
              "      <th>avg_percentage_credit_card_limit_used_last_year</th>\n",
              "      <th>saving_amount</th>\n",
              "      <th>checking_amount</th>\n",
              "      <th>is_employed</th>\n",
              "      <th>yearly_salary</th>\n",
              "      <th>age</th>\n",
              "      <th>dependent_number</th>\n",
              "    </tr>\n",
              "  </thead>\n",
              "  <tbody>\n",
              "    <tr>\n",
              "      <th>0</th>\n",
              "      <td>19454</td>\n",
              "      <td>investment</td>\n",
              "      <td>2012-03-15</td>\n",
              "      <td>0</td>\n",
              "      <td>NaN</td>\n",
              "      <td>1</td>\n",
              "      <td>NaN</td>\n",
              "      <td>NaN</td>\n",
              "      <td>8600</td>\n",
              "      <td>0.79</td>\n",
              "      <td>1491</td>\n",
              "      <td>6285</td>\n",
              "      <td>1</td>\n",
              "      <td>45200</td>\n",
              "      <td>42</td>\n",
              "      <td>7</td>\n",
              "    </tr>\n",
              "    <tr>\n",
              "      <th>1</th>\n",
              "      <td>496811</td>\n",
              "      <td>investment</td>\n",
              "      <td>2012-01-17</td>\n",
              "      <td>0</td>\n",
              "      <td>NaN</td>\n",
              "      <td>1</td>\n",
              "      <td>NaN</td>\n",
              "      <td>NaN</td>\n",
              "      <td>5300</td>\n",
              "      <td>0.52</td>\n",
              "      <td>141</td>\n",
              "      <td>5793</td>\n",
              "      <td>0</td>\n",
              "      <td>0</td>\n",
              "      <td>42</td>\n",
              "      <td>5</td>\n",
              "    </tr>\n",
              "    <tr>\n",
              "      <th>2</th>\n",
              "      <td>929493</td>\n",
              "      <td>other</td>\n",
              "      <td>2012-02-09</td>\n",
              "      <td>0</td>\n",
              "      <td>NaN</td>\n",
              "      <td>1</td>\n",
              "      <td>NaN</td>\n",
              "      <td>NaN</td>\n",
              "      <td>0</td>\n",
              "      <td>NaN</td>\n",
              "      <td>660</td>\n",
              "      <td>3232</td>\n",
              "      <td>1</td>\n",
              "      <td>26500</td>\n",
              "      <td>60</td>\n",
              "      <td>4</td>\n",
              "    </tr>\n",
              "  </tbody>\n",
              "</table>\n",
              "</div>\n",
              "    <div class=\"colab-df-buttons\">\n",
              "\n",
              "  <div class=\"colab-df-container\">\n",
              "    <button class=\"colab-df-convert\" onclick=\"convertToInteractive('df-419bac69-f1e1-47ab-a274-2cf3498f5ad3')\"\n",
              "            title=\"Convert this dataframe to an interactive table.\"\n",
              "            style=\"display:none;\">\n",
              "\n",
              "  <svg xmlns=\"http://www.w3.org/2000/svg\" height=\"24px\" viewBox=\"0 -960 960 960\">\n",
              "    <path d=\"M120-120v-720h720v720H120Zm60-500h600v-160H180v160Zm220 220h160v-160H400v160Zm0 220h160v-160H400v160ZM180-400h160v-160H180v160Zm440 0h160v-160H620v160ZM180-180h160v-160H180v160Zm440 0h160v-160H620v160Z\"/>\n",
              "  </svg>\n",
              "    </button>\n",
              "\n",
              "  <style>\n",
              "    .colab-df-container {\n",
              "      display:flex;\n",
              "      gap: 12px;\n",
              "    }\n",
              "\n",
              "    .colab-df-convert {\n",
              "      background-color: #E8F0FE;\n",
              "      border: none;\n",
              "      border-radius: 50%;\n",
              "      cursor: pointer;\n",
              "      display: none;\n",
              "      fill: #1967D2;\n",
              "      height: 32px;\n",
              "      padding: 0 0 0 0;\n",
              "      width: 32px;\n",
              "    }\n",
              "\n",
              "    .colab-df-convert:hover {\n",
              "      background-color: #E2EBFA;\n",
              "      box-shadow: 0px 1px 2px rgba(60, 64, 67, 0.3), 0px 1px 3px 1px rgba(60, 64, 67, 0.15);\n",
              "      fill: #174EA6;\n",
              "    }\n",
              "\n",
              "    .colab-df-buttons div {\n",
              "      margin-bottom: 4px;\n",
              "    }\n",
              "\n",
              "    [theme=dark] .colab-df-convert {\n",
              "      background-color: #3B4455;\n",
              "      fill: #D2E3FC;\n",
              "    }\n",
              "\n",
              "    [theme=dark] .colab-df-convert:hover {\n",
              "      background-color: #434B5C;\n",
              "      box-shadow: 0px 1px 3px 1px rgba(0, 0, 0, 0.15);\n",
              "      filter: drop-shadow(0px 1px 2px rgba(0, 0, 0, 0.3));\n",
              "      fill: #FFFFFF;\n",
              "    }\n",
              "  </style>\n",
              "\n",
              "    <script>\n",
              "      const buttonEl =\n",
              "        document.querySelector('#df-419bac69-f1e1-47ab-a274-2cf3498f5ad3 button.colab-df-convert');\n",
              "      buttonEl.style.display =\n",
              "        google.colab.kernel.accessAllowed ? 'block' : 'none';\n",
              "\n",
              "      async function convertToInteractive(key) {\n",
              "        const element = document.querySelector('#df-419bac69-f1e1-47ab-a274-2cf3498f5ad3');\n",
              "        const dataTable =\n",
              "          await google.colab.kernel.invokeFunction('convertToInteractive',\n",
              "                                                    [key], {});\n",
              "        if (!dataTable) return;\n",
              "\n",
              "        const docLinkHtml = 'Like what you see? Visit the ' +\n",
              "          '<a target=\"_blank\" href=https://colab.research.google.com/notebooks/data_table.ipynb>data table notebook</a>'\n",
              "          + ' to learn more about interactive tables.';\n",
              "        element.innerHTML = '';\n",
              "        dataTable['output_type'] = 'display_data';\n",
              "        await google.colab.output.renderOutput(dataTable, element);\n",
              "        const docLink = document.createElement('div');\n",
              "        docLink.innerHTML = docLinkHtml;\n",
              "        element.appendChild(docLink);\n",
              "      }\n",
              "    </script>\n",
              "  </div>\n",
              "\n",
              "\n",
              "<div id=\"df-08809049-69b5-4f92-ac51-c79d0b66f995\">\n",
              "  <button class=\"colab-df-quickchart\" onclick=\"quickchart('df-08809049-69b5-4f92-ac51-c79d0b66f995')\"\n",
              "            title=\"Suggest charts\"\n",
              "            style=\"display:none;\">\n",
              "\n",
              "<svg xmlns=\"http://www.w3.org/2000/svg\" height=\"24px\"viewBox=\"0 0 24 24\"\n",
              "     width=\"24px\">\n",
              "    <g>\n",
              "        <path d=\"M19 3H5c-1.1 0-2 .9-2 2v14c0 1.1.9 2 2 2h14c1.1 0 2-.9 2-2V5c0-1.1-.9-2-2-2zM9 17H7v-7h2v7zm4 0h-2V7h2v10zm4 0h-2v-4h2v4z\"/>\n",
              "    </g>\n",
              "</svg>\n",
              "  </button>\n",
              "\n",
              "<style>\n",
              "  .colab-df-quickchart {\n",
              "      --bg-color: #E8F0FE;\n",
              "      --fill-color: #1967D2;\n",
              "      --hover-bg-color: #E2EBFA;\n",
              "      --hover-fill-color: #174EA6;\n",
              "      --disabled-fill-color: #AAA;\n",
              "      --disabled-bg-color: #DDD;\n",
              "  }\n",
              "\n",
              "  [theme=dark] .colab-df-quickchart {\n",
              "      --bg-color: #3B4455;\n",
              "      --fill-color: #D2E3FC;\n",
              "      --hover-bg-color: #434B5C;\n",
              "      --hover-fill-color: #FFFFFF;\n",
              "      --disabled-bg-color: #3B4455;\n",
              "      --disabled-fill-color: #666;\n",
              "  }\n",
              "\n",
              "  .colab-df-quickchart {\n",
              "    background-color: var(--bg-color);\n",
              "    border: none;\n",
              "    border-radius: 50%;\n",
              "    cursor: pointer;\n",
              "    display: none;\n",
              "    fill: var(--fill-color);\n",
              "    height: 32px;\n",
              "    padding: 0;\n",
              "    width: 32px;\n",
              "  }\n",
              "\n",
              "  .colab-df-quickchart:hover {\n",
              "    background-color: var(--hover-bg-color);\n",
              "    box-shadow: 0 1px 2px rgba(60, 64, 67, 0.3), 0 1px 3px 1px rgba(60, 64, 67, 0.15);\n",
              "    fill: var(--button-hover-fill-color);\n",
              "  }\n",
              "\n",
              "  .colab-df-quickchart-complete:disabled,\n",
              "  .colab-df-quickchart-complete:disabled:hover {\n",
              "    background-color: var(--disabled-bg-color);\n",
              "    fill: var(--disabled-fill-color);\n",
              "    box-shadow: none;\n",
              "  }\n",
              "\n",
              "  .colab-df-spinner {\n",
              "    border: 2px solid var(--fill-color);\n",
              "    border-color: transparent;\n",
              "    border-bottom-color: var(--fill-color);\n",
              "    animation:\n",
              "      spin 1s steps(1) infinite;\n",
              "  }\n",
              "\n",
              "  @keyframes spin {\n",
              "    0% {\n",
              "      border-color: transparent;\n",
              "      border-bottom-color: var(--fill-color);\n",
              "      border-left-color: var(--fill-color);\n",
              "    }\n",
              "    20% {\n",
              "      border-color: transparent;\n",
              "      border-left-color: var(--fill-color);\n",
              "      border-top-color: var(--fill-color);\n",
              "    }\n",
              "    30% {\n",
              "      border-color: transparent;\n",
              "      border-left-color: var(--fill-color);\n",
              "      border-top-color: var(--fill-color);\n",
              "      border-right-color: var(--fill-color);\n",
              "    }\n",
              "    40% {\n",
              "      border-color: transparent;\n",
              "      border-right-color: var(--fill-color);\n",
              "      border-top-color: var(--fill-color);\n",
              "    }\n",
              "    60% {\n",
              "      border-color: transparent;\n",
              "      border-right-color: var(--fill-color);\n",
              "    }\n",
              "    80% {\n",
              "      border-color: transparent;\n",
              "      border-right-color: var(--fill-color);\n",
              "      border-bottom-color: var(--fill-color);\n",
              "    }\n",
              "    90% {\n",
              "      border-color: transparent;\n",
              "      border-bottom-color: var(--fill-color);\n",
              "    }\n",
              "  }\n",
              "</style>\n",
              "\n",
              "  <script>\n",
              "    async function quickchart(key) {\n",
              "      const quickchartButtonEl =\n",
              "        document.querySelector('#' + key + ' button');\n",
              "      quickchartButtonEl.disabled = true;  // To prevent multiple clicks.\n",
              "      quickchartButtonEl.classList.add('colab-df-spinner');\n",
              "      try {\n",
              "        const charts = await google.colab.kernel.invokeFunction(\n",
              "            'suggestCharts', [key], {});\n",
              "      } catch (error) {\n",
              "        console.error('Error during call to suggestCharts:', error);\n",
              "      }\n",
              "      quickchartButtonEl.classList.remove('colab-df-spinner');\n",
              "      quickchartButtonEl.classList.add('colab-df-quickchart-complete');\n",
              "    }\n",
              "    (() => {\n",
              "      let quickchartButtonEl =\n",
              "        document.querySelector('#df-08809049-69b5-4f92-ac51-c79d0b66f995 button');\n",
              "      quickchartButtonEl.style.display =\n",
              "        google.colab.kernel.accessAllowed ? 'block' : 'none';\n",
              "    })();\n",
              "  </script>\n",
              "</div>\n",
              "\n",
              "    </div>\n",
              "  </div>\n"
            ],
            "application/vnd.google.colaboratory.intrinsic+json": {
              "type": "dataframe",
              "variable_name": "df_loan"
            }
          },
          "metadata": {},
          "execution_count": 15
        }
      ],
      "source": [
        "# Merge Dataframes\n",
        "df_loan = loan.merge(borrower, how='left', on='loan_id')\n",
        "\n",
        "print(df_loan.shape)\n",
        "df_loan.head(3)"
      ]
    },
    {
      "cell_type": "code",
      "execution_count": 16,
      "metadata": {
        "colab": {
          "base_uri": "https://localhost:8080/",
          "height": 489
        },
        "id": "-K68vYrbwoB3",
        "outputId": "32c80861-e9c8-48b9-a043-c9e99bde0ced"
      },
      "outputs": [
        {
          "output_type": "execute_result",
          "data": {
            "text/plain": [
              "                                                    count           mean  \\\n",
              "loan_id                                          101100.0  499666.826726   \n",
              "loan_granted                                     101100.0       0.471355   \n",
              "loan_repaid                                       47654.0       0.644353   \n",
              "is_first_loan                                    101100.0       0.543492   \n",
              "fully_repaid_previous_loans                       46153.0       0.899291   \n",
              "currently_repaying_other_loans                    46153.0       0.364332   \n",
              "total_credit_card_limit                          101100.0    4112.743818   \n",
              "avg_percentage_credit_card_limit_used_last_year   94128.0       0.724140   \n",
              "saving_amount                                    101100.0    1799.617616   \n",
              "checking_amount                                  101100.0    3177.150821   \n",
              "is_employed                                      101100.0       0.658675   \n",
              "yearly_salary                                    101100.0   21020.727992   \n",
              "age                                              101100.0      41.491632   \n",
              "dependent_number                                 101100.0       3.864748   \n",
              "\n",
              "                                                           std   min  \\\n",
              "loan_id                                          288662.006929  30.0   \n",
              "loan_granted                                          0.499181   0.0   \n",
              "loan_repaid                                           0.478714   0.0   \n",
              "is_first_loan                                         0.498107   0.0   \n",
              "fully_repaid_previous_loans                           0.300946   0.0   \n",
              "currently_repaying_other_loans                        0.481247   0.0   \n",
              "total_credit_card_limit                            2129.121462   0.0   \n",
              "avg_percentage_credit_card_limit_used_last_year       0.186483   0.0   \n",
              "saving_amount                                      1400.545141   0.0   \n",
              "checking_amount                                    2044.448155   0.0   \n",
              "is_employed                                           0.474157   0.0   \n",
              "yearly_salary                                     18937.581415   0.0   \n",
              "age                                                  12.825570  18.0   \n",
              "dependent_number                                      2.635491   0.0   \n",
              "\n",
              "                                                       25%        50%  \\\n",
              "loan_id                                          250333.75  499885.00   \n",
              "loan_granted                                          0.00       0.00   \n",
              "loan_repaid                                           0.00       1.00   \n",
              "is_first_loan                                         0.00       1.00   \n",
              "fully_repaid_previous_loans                           1.00       1.00   \n",
              "currently_repaying_other_loans                        0.00       0.00   \n",
              "total_credit_card_limit                            2700.00    4100.00   \n",
              "avg_percentage_credit_card_limit_used_last_year       0.60       0.73   \n",
              "saving_amount                                       834.00    1339.00   \n",
              "checking_amount                                    1706.00    2673.00   \n",
              "is_employed                                           0.00       1.00   \n",
              "yearly_salary                                         0.00   21500.00   \n",
              "age                                                  32.00      41.00   \n",
              "dependent_number                                      2.00       3.00   \n",
              "\n",
              "                                                       75%        max  \n",
              "loan_id                                          749706.25  999987.00  \n",
              "loan_granted                                          1.00       1.00  \n",
              "loan_repaid                                           1.00       1.00  \n",
              "is_first_loan                                         1.00       1.00  \n",
              "fully_repaid_previous_loans                           1.00       1.00  \n",
              "currently_repaying_other_loans                        1.00       1.00  \n",
              "total_credit_card_limit                            5500.00   13500.00  \n",
              "avg_percentage_credit_card_limit_used_last_year       0.86       1.09  \n",
              "saving_amount                                      2409.00   10641.00  \n",
              "checking_amount                                    4241.00   13906.00  \n",
              "is_employed                                           1.00       1.00  \n",
              "yearly_salary                                     35300.00   97200.00  \n",
              "age                                                  50.00      79.00  \n",
              "dependent_number                                      6.00       8.00  "
            ],
            "text/html": [
              "\n",
              "  <div id=\"df-c9983078-ec3a-4a82-b925-b5f8cd8a433e\" class=\"colab-df-container\">\n",
              "    <div>\n",
              "<style scoped>\n",
              "    .dataframe tbody tr th:only-of-type {\n",
              "        vertical-align: middle;\n",
              "    }\n",
              "\n",
              "    .dataframe tbody tr th {\n",
              "        vertical-align: top;\n",
              "    }\n",
              "\n",
              "    .dataframe thead th {\n",
              "        text-align: right;\n",
              "    }\n",
              "</style>\n",
              "<table border=\"1\" class=\"dataframe\">\n",
              "  <thead>\n",
              "    <tr style=\"text-align: right;\">\n",
              "      <th></th>\n",
              "      <th>count</th>\n",
              "      <th>mean</th>\n",
              "      <th>std</th>\n",
              "      <th>min</th>\n",
              "      <th>25%</th>\n",
              "      <th>50%</th>\n",
              "      <th>75%</th>\n",
              "      <th>max</th>\n",
              "    </tr>\n",
              "  </thead>\n",
              "  <tbody>\n",
              "    <tr>\n",
              "      <th>loan_id</th>\n",
              "      <td>101100.0</td>\n",
              "      <td>499666.826726</td>\n",
              "      <td>288662.006929</td>\n",
              "      <td>30.0</td>\n",
              "      <td>250333.75</td>\n",
              "      <td>499885.00</td>\n",
              "      <td>749706.25</td>\n",
              "      <td>999987.00</td>\n",
              "    </tr>\n",
              "    <tr>\n",
              "      <th>loan_granted</th>\n",
              "      <td>101100.0</td>\n",
              "      <td>0.471355</td>\n",
              "      <td>0.499181</td>\n",
              "      <td>0.0</td>\n",
              "      <td>0.00</td>\n",
              "      <td>0.00</td>\n",
              "      <td>1.00</td>\n",
              "      <td>1.00</td>\n",
              "    </tr>\n",
              "    <tr>\n",
              "      <th>loan_repaid</th>\n",
              "      <td>47654.0</td>\n",
              "      <td>0.644353</td>\n",
              "      <td>0.478714</td>\n",
              "      <td>0.0</td>\n",
              "      <td>0.00</td>\n",
              "      <td>1.00</td>\n",
              "      <td>1.00</td>\n",
              "      <td>1.00</td>\n",
              "    </tr>\n",
              "    <tr>\n",
              "      <th>is_first_loan</th>\n",
              "      <td>101100.0</td>\n",
              "      <td>0.543492</td>\n",
              "      <td>0.498107</td>\n",
              "      <td>0.0</td>\n",
              "      <td>0.00</td>\n",
              "      <td>1.00</td>\n",
              "      <td>1.00</td>\n",
              "      <td>1.00</td>\n",
              "    </tr>\n",
              "    <tr>\n",
              "      <th>fully_repaid_previous_loans</th>\n",
              "      <td>46153.0</td>\n",
              "      <td>0.899291</td>\n",
              "      <td>0.300946</td>\n",
              "      <td>0.0</td>\n",
              "      <td>1.00</td>\n",
              "      <td>1.00</td>\n",
              "      <td>1.00</td>\n",
              "      <td>1.00</td>\n",
              "    </tr>\n",
              "    <tr>\n",
              "      <th>currently_repaying_other_loans</th>\n",
              "      <td>46153.0</td>\n",
              "      <td>0.364332</td>\n",
              "      <td>0.481247</td>\n",
              "      <td>0.0</td>\n",
              "      <td>0.00</td>\n",
              "      <td>0.00</td>\n",
              "      <td>1.00</td>\n",
              "      <td>1.00</td>\n",
              "    </tr>\n",
              "    <tr>\n",
              "      <th>total_credit_card_limit</th>\n",
              "      <td>101100.0</td>\n",
              "      <td>4112.743818</td>\n",
              "      <td>2129.121462</td>\n",
              "      <td>0.0</td>\n",
              "      <td>2700.00</td>\n",
              "      <td>4100.00</td>\n",
              "      <td>5500.00</td>\n",
              "      <td>13500.00</td>\n",
              "    </tr>\n",
              "    <tr>\n",
              "      <th>avg_percentage_credit_card_limit_used_last_year</th>\n",
              "      <td>94128.0</td>\n",
              "      <td>0.724140</td>\n",
              "      <td>0.186483</td>\n",
              "      <td>0.0</td>\n",
              "      <td>0.60</td>\n",
              "      <td>0.73</td>\n",
              "      <td>0.86</td>\n",
              "      <td>1.09</td>\n",
              "    </tr>\n",
              "    <tr>\n",
              "      <th>saving_amount</th>\n",
              "      <td>101100.0</td>\n",
              "      <td>1799.617616</td>\n",
              "      <td>1400.545141</td>\n",
              "      <td>0.0</td>\n",
              "      <td>834.00</td>\n",
              "      <td>1339.00</td>\n",
              "      <td>2409.00</td>\n",
              "      <td>10641.00</td>\n",
              "    </tr>\n",
              "    <tr>\n",
              "      <th>checking_amount</th>\n",
              "      <td>101100.0</td>\n",
              "      <td>3177.150821</td>\n",
              "      <td>2044.448155</td>\n",
              "      <td>0.0</td>\n",
              "      <td>1706.00</td>\n",
              "      <td>2673.00</td>\n",
              "      <td>4241.00</td>\n",
              "      <td>13906.00</td>\n",
              "    </tr>\n",
              "    <tr>\n",
              "      <th>is_employed</th>\n",
              "      <td>101100.0</td>\n",
              "      <td>0.658675</td>\n",
              "      <td>0.474157</td>\n",
              "      <td>0.0</td>\n",
              "      <td>0.00</td>\n",
              "      <td>1.00</td>\n",
              "      <td>1.00</td>\n",
              "      <td>1.00</td>\n",
              "    </tr>\n",
              "    <tr>\n",
              "      <th>yearly_salary</th>\n",
              "      <td>101100.0</td>\n",
              "      <td>21020.727992</td>\n",
              "      <td>18937.581415</td>\n",
              "      <td>0.0</td>\n",
              "      <td>0.00</td>\n",
              "      <td>21500.00</td>\n",
              "      <td>35300.00</td>\n",
              "      <td>97200.00</td>\n",
              "    </tr>\n",
              "    <tr>\n",
              "      <th>age</th>\n",
              "      <td>101100.0</td>\n",
              "      <td>41.491632</td>\n",
              "      <td>12.825570</td>\n",
              "      <td>18.0</td>\n",
              "      <td>32.00</td>\n",
              "      <td>41.00</td>\n",
              "      <td>50.00</td>\n",
              "      <td>79.00</td>\n",
              "    </tr>\n",
              "    <tr>\n",
              "      <th>dependent_number</th>\n",
              "      <td>101100.0</td>\n",
              "      <td>3.864748</td>\n",
              "      <td>2.635491</td>\n",
              "      <td>0.0</td>\n",
              "      <td>2.00</td>\n",
              "      <td>3.00</td>\n",
              "      <td>6.00</td>\n",
              "      <td>8.00</td>\n",
              "    </tr>\n",
              "  </tbody>\n",
              "</table>\n",
              "</div>\n",
              "    <div class=\"colab-df-buttons\">\n",
              "\n",
              "  <div class=\"colab-df-container\">\n",
              "    <button class=\"colab-df-convert\" onclick=\"convertToInteractive('df-c9983078-ec3a-4a82-b925-b5f8cd8a433e')\"\n",
              "            title=\"Convert this dataframe to an interactive table.\"\n",
              "            style=\"display:none;\">\n",
              "\n",
              "  <svg xmlns=\"http://www.w3.org/2000/svg\" height=\"24px\" viewBox=\"0 -960 960 960\">\n",
              "    <path d=\"M120-120v-720h720v720H120Zm60-500h600v-160H180v160Zm220 220h160v-160H400v160Zm0 220h160v-160H400v160ZM180-400h160v-160H180v160Zm440 0h160v-160H620v160ZM180-180h160v-160H180v160Zm440 0h160v-160H620v160Z\"/>\n",
              "  </svg>\n",
              "    </button>\n",
              "\n",
              "  <style>\n",
              "    .colab-df-container {\n",
              "      display:flex;\n",
              "      gap: 12px;\n",
              "    }\n",
              "\n",
              "    .colab-df-convert {\n",
              "      background-color: #E8F0FE;\n",
              "      border: none;\n",
              "      border-radius: 50%;\n",
              "      cursor: pointer;\n",
              "      display: none;\n",
              "      fill: #1967D2;\n",
              "      height: 32px;\n",
              "      padding: 0 0 0 0;\n",
              "      width: 32px;\n",
              "    }\n",
              "\n",
              "    .colab-df-convert:hover {\n",
              "      background-color: #E2EBFA;\n",
              "      box-shadow: 0px 1px 2px rgba(60, 64, 67, 0.3), 0px 1px 3px 1px rgba(60, 64, 67, 0.15);\n",
              "      fill: #174EA6;\n",
              "    }\n",
              "\n",
              "    .colab-df-buttons div {\n",
              "      margin-bottom: 4px;\n",
              "    }\n",
              "\n",
              "    [theme=dark] .colab-df-convert {\n",
              "      background-color: #3B4455;\n",
              "      fill: #D2E3FC;\n",
              "    }\n",
              "\n",
              "    [theme=dark] .colab-df-convert:hover {\n",
              "      background-color: #434B5C;\n",
              "      box-shadow: 0px 1px 3px 1px rgba(0, 0, 0, 0.15);\n",
              "      filter: drop-shadow(0px 1px 2px rgba(0, 0, 0, 0.3));\n",
              "      fill: #FFFFFF;\n",
              "    }\n",
              "  </style>\n",
              "\n",
              "    <script>\n",
              "      const buttonEl =\n",
              "        document.querySelector('#df-c9983078-ec3a-4a82-b925-b5f8cd8a433e button.colab-df-convert');\n",
              "      buttonEl.style.display =\n",
              "        google.colab.kernel.accessAllowed ? 'block' : 'none';\n",
              "\n",
              "      async function convertToInteractive(key) {\n",
              "        const element = document.querySelector('#df-c9983078-ec3a-4a82-b925-b5f8cd8a433e');\n",
              "        const dataTable =\n",
              "          await google.colab.kernel.invokeFunction('convertToInteractive',\n",
              "                                                    [key], {});\n",
              "        if (!dataTable) return;\n",
              "\n",
              "        const docLinkHtml = 'Like what you see? Visit the ' +\n",
              "          '<a target=\"_blank\" href=https://colab.research.google.com/notebooks/data_table.ipynb>data table notebook</a>'\n",
              "          + ' to learn more about interactive tables.';\n",
              "        element.innerHTML = '';\n",
              "        dataTable['output_type'] = 'display_data';\n",
              "        await google.colab.output.renderOutput(dataTable, element);\n",
              "        const docLink = document.createElement('div');\n",
              "        docLink.innerHTML = docLinkHtml;\n",
              "        element.appendChild(docLink);\n",
              "      }\n",
              "    </script>\n",
              "  </div>\n",
              "\n",
              "\n",
              "<div id=\"df-e755dfc4-490f-48c9-be14-b12d9b2cde09\">\n",
              "  <button class=\"colab-df-quickchart\" onclick=\"quickchart('df-e755dfc4-490f-48c9-be14-b12d9b2cde09')\"\n",
              "            title=\"Suggest charts\"\n",
              "            style=\"display:none;\">\n",
              "\n",
              "<svg xmlns=\"http://www.w3.org/2000/svg\" height=\"24px\"viewBox=\"0 0 24 24\"\n",
              "     width=\"24px\">\n",
              "    <g>\n",
              "        <path d=\"M19 3H5c-1.1 0-2 .9-2 2v14c0 1.1.9 2 2 2h14c1.1 0 2-.9 2-2V5c0-1.1-.9-2-2-2zM9 17H7v-7h2v7zm4 0h-2V7h2v10zm4 0h-2v-4h2v4z\"/>\n",
              "    </g>\n",
              "</svg>\n",
              "  </button>\n",
              "\n",
              "<style>\n",
              "  .colab-df-quickchart {\n",
              "      --bg-color: #E8F0FE;\n",
              "      --fill-color: #1967D2;\n",
              "      --hover-bg-color: #E2EBFA;\n",
              "      --hover-fill-color: #174EA6;\n",
              "      --disabled-fill-color: #AAA;\n",
              "      --disabled-bg-color: #DDD;\n",
              "  }\n",
              "\n",
              "  [theme=dark] .colab-df-quickchart {\n",
              "      --bg-color: #3B4455;\n",
              "      --fill-color: #D2E3FC;\n",
              "      --hover-bg-color: #434B5C;\n",
              "      --hover-fill-color: #FFFFFF;\n",
              "      --disabled-bg-color: #3B4455;\n",
              "      --disabled-fill-color: #666;\n",
              "  }\n",
              "\n",
              "  .colab-df-quickchart {\n",
              "    background-color: var(--bg-color);\n",
              "    border: none;\n",
              "    border-radius: 50%;\n",
              "    cursor: pointer;\n",
              "    display: none;\n",
              "    fill: var(--fill-color);\n",
              "    height: 32px;\n",
              "    padding: 0;\n",
              "    width: 32px;\n",
              "  }\n",
              "\n",
              "  .colab-df-quickchart:hover {\n",
              "    background-color: var(--hover-bg-color);\n",
              "    box-shadow: 0 1px 2px rgba(60, 64, 67, 0.3), 0 1px 3px 1px rgba(60, 64, 67, 0.15);\n",
              "    fill: var(--button-hover-fill-color);\n",
              "  }\n",
              "\n",
              "  .colab-df-quickchart-complete:disabled,\n",
              "  .colab-df-quickchart-complete:disabled:hover {\n",
              "    background-color: var(--disabled-bg-color);\n",
              "    fill: var(--disabled-fill-color);\n",
              "    box-shadow: none;\n",
              "  }\n",
              "\n",
              "  .colab-df-spinner {\n",
              "    border: 2px solid var(--fill-color);\n",
              "    border-color: transparent;\n",
              "    border-bottom-color: var(--fill-color);\n",
              "    animation:\n",
              "      spin 1s steps(1) infinite;\n",
              "  }\n",
              "\n",
              "  @keyframes spin {\n",
              "    0% {\n",
              "      border-color: transparent;\n",
              "      border-bottom-color: var(--fill-color);\n",
              "      border-left-color: var(--fill-color);\n",
              "    }\n",
              "    20% {\n",
              "      border-color: transparent;\n",
              "      border-left-color: var(--fill-color);\n",
              "      border-top-color: var(--fill-color);\n",
              "    }\n",
              "    30% {\n",
              "      border-color: transparent;\n",
              "      border-left-color: var(--fill-color);\n",
              "      border-top-color: var(--fill-color);\n",
              "      border-right-color: var(--fill-color);\n",
              "    }\n",
              "    40% {\n",
              "      border-color: transparent;\n",
              "      border-right-color: var(--fill-color);\n",
              "      border-top-color: var(--fill-color);\n",
              "    }\n",
              "    60% {\n",
              "      border-color: transparent;\n",
              "      border-right-color: var(--fill-color);\n",
              "    }\n",
              "    80% {\n",
              "      border-color: transparent;\n",
              "      border-right-color: var(--fill-color);\n",
              "      border-bottom-color: var(--fill-color);\n",
              "    }\n",
              "    90% {\n",
              "      border-color: transparent;\n",
              "      border-bottom-color: var(--fill-color);\n",
              "    }\n",
              "  }\n",
              "</style>\n",
              "\n",
              "  <script>\n",
              "    async function quickchart(key) {\n",
              "      const quickchartButtonEl =\n",
              "        document.querySelector('#' + key + ' button');\n",
              "      quickchartButtonEl.disabled = true;  // To prevent multiple clicks.\n",
              "      quickchartButtonEl.classList.add('colab-df-spinner');\n",
              "      try {\n",
              "        const charts = await google.colab.kernel.invokeFunction(\n",
              "            'suggestCharts', [key], {});\n",
              "      } catch (error) {\n",
              "        console.error('Error during call to suggestCharts:', error);\n",
              "      }\n",
              "      quickchartButtonEl.classList.remove('colab-df-spinner');\n",
              "      quickchartButtonEl.classList.add('colab-df-quickchart-complete');\n",
              "    }\n",
              "    (() => {\n",
              "      let quickchartButtonEl =\n",
              "        document.querySelector('#df-e755dfc4-490f-48c9-be14-b12d9b2cde09 button');\n",
              "      quickchartButtonEl.style.display =\n",
              "        google.colab.kernel.accessAllowed ? 'block' : 'none';\n",
              "    })();\n",
              "  </script>\n",
              "</div>\n",
              "\n",
              "    </div>\n",
              "  </div>\n"
            ],
            "application/vnd.google.colaboratory.intrinsic+json": {
              "type": "dataframe",
              "summary": "{\n  \"name\": \"df_loan\",\n  \"rows\": 14,\n  \"fields\": [\n    {\n      \"column\": \"count\",\n      \"properties\": {\n        \"dtype\": \"number\",\n        \"std\": 22990.900386748806,\n        \"min\": 46153.0,\n        \"max\": 101100.0,\n        \"num_unique_values\": 4,\n        \"samples\": [\n          47654.0,\n          94128.0,\n          101100.0\n        ],\n        \"semantic_type\": \"\",\n        \"description\": \"\"\n      }\n    },\n    {\n      \"column\": \"mean\",\n      \"properties\": {\n        \"dtype\": \"number\",\n        \"std\": 133037.84576626308,\n        \"min\": 0.3643316794141226,\n        \"max\": 499666.82672601385,\n        \"num_unique_values\": 14,\n        \"samples\": [\n          3177.1508209693375,\n          21020.727992087042,\n          499666.82672601385\n        ],\n        \"semantic_type\": \"\",\n        \"description\": \"\"\n      }\n    },\n    {\n      \"column\": \"std\",\n      \"properties\": {\n        \"dtype\": \"number\",\n        \"std\": 76805.79087545797,\n        \"min\": 0.1864830660229564,\n        \"max\": 288662.00692854,\n        \"num_unique_values\": 14,\n        \"samples\": [\n          2044.4481546321058,\n          18937.58141515658,\n          288662.00692854\n        ],\n        \"semantic_type\": \"\",\n        \"description\": \"\"\n      }\n    },\n    {\n      \"column\": \"min\",\n      \"properties\": {\n        \"dtype\": \"number\",\n        \"std\": 9.027430724990666,\n        \"min\": 0.0,\n        \"max\": 30.0,\n        \"num_unique_values\": 3,\n        \"samples\": [\n          30.0,\n          0.0,\n          18.0\n        ],\n        \"semantic_type\": \"\",\n        \"description\": \"\"\n      }\n    },\n    {\n      \"column\": \"25%\",\n      \"properties\": {\n        \"dtype\": \"number\",\n        \"std\": 66801.09181588214,\n        \"min\": 0.0,\n        \"max\": 250333.75,\n        \"num_unique_values\": 9,\n        \"samples\": [\n          32.0,\n          0.0,\n          834.0\n        ],\n        \"semantic_type\": \"\",\n        \"description\": \"\"\n      }\n    },\n    {\n      \"column\": \"50%\",\n      \"properties\": {\n        \"dtype\": \"number\",\n        \"std\": 133111.60934278206,\n        \"min\": 0.0,\n        \"max\": 499885.0,\n        \"num_unique_values\": 10,\n        \"samples\": [\n          41.0,\n          0.0,\n          1339.0\n        ],\n        \"semantic_type\": \"\",\n        \"description\": \"\"\n      }\n    },\n    {\n      \"column\": \"75%\",\n      \"properties\": {\n        \"dtype\": \"number\",\n        \"std\": 199607.8022017236,\n        \"min\": 0.86,\n        \"max\": 749706.25,\n        \"num_unique_values\": 9,\n        \"samples\": [\n          50.0,\n          1.0,\n          4241.0\n        ],\n        \"semantic_type\": \"\",\n        \"description\": \"\"\n      }\n    },\n    {\n      \"column\": \"max\",\n      \"properties\": {\n        \"dtype\": \"number\",\n        \"std\": 265712.6017727291,\n        \"min\": 1.0,\n        \"max\": 999987.0,\n        \"num_unique_values\": 9,\n        \"samples\": [\n          79.0,\n          1.0,\n          13906.0\n        ],\n        \"semantic_type\": \"\",\n        \"description\": \"\"\n      }\n    }\n  ]\n}"
            }
          },
          "metadata": {},
          "execution_count": 16
        }
      ],
      "source": [
        "# get the Simple Summary Statistics\n",
        "df_loan.describe().transpose()"
      ]
    },
    {
      "cell_type": "code",
      "execution_count": 17,
      "metadata": {
        "colab": {
          "base_uri": "https://localhost:8080/"
        },
        "id": "f3dqPYb7zejq",
        "outputId": "27b51175-2cf6-4909-c067-69c59b315ed0"
      },
      "outputs": [
        {
          "output_type": "stream",
          "name": "stdout",
          "text": [
            "<class 'pandas.core.frame.DataFrame'>\n",
            "RangeIndex: 101100 entries, 0 to 101099\n",
            "Data columns (total 16 columns):\n",
            " #   Column                                           Non-Null Count   Dtype  \n",
            "---  ------                                           --------------   -----  \n",
            " 0   loan_id                                          101100 non-null  int64  \n",
            " 1   loan_purpose                                     101100 non-null  object \n",
            " 2   date                                             101100 non-null  object \n",
            " 3   loan_granted                                     101100 non-null  int64  \n",
            " 4   loan_repaid                                      47654 non-null   float64\n",
            " 5   is_first_loan                                    101100 non-null  int64  \n",
            " 6   fully_repaid_previous_loans                      46153 non-null   float64\n",
            " 7   currently_repaying_other_loans                   46153 non-null   float64\n",
            " 8   total_credit_card_limit                          101100 non-null  int64  \n",
            " 9   avg_percentage_credit_card_limit_used_last_year  94128 non-null   float64\n",
            " 10  saving_amount                                    101100 non-null  int64  \n",
            " 11  checking_amount                                  101100 non-null  int64  \n",
            " 12  is_employed                                      101100 non-null  int64  \n",
            " 13  yearly_salary                                    101100 non-null  int64  \n",
            " 14  age                                              101100 non-null  int64  \n",
            " 15  dependent_number                                 101100 non-null  int64  \n",
            "dtypes: float64(4), int64(10), object(2)\n",
            "memory usage: 12.3+ MB\n",
            "None\n"
          ]
        }
      ],
      "source": [
        "print(df_loan.info())"
      ]
    },
    {
      "cell_type": "code",
      "execution_count": 18,
      "metadata": {
        "colab": {
          "base_uri": "https://localhost:8080/"
        },
        "id": "BwfY4srLxIqC",
        "outputId": "48cbe904-374d-447b-dbaa-c366bade7cab"
      },
      "outputs": [
        {
          "output_type": "stream",
          "name": "stdout",
          "text": [
            "int64      10\n",
            "float64     4\n",
            "object      2\n",
            "Name: count, dtype: int64\n"
          ]
        }
      ],
      "source": [
        "df_loan.dtypes\n",
        "type_counts = df_loan.dtypes.value_counts()\n",
        "print(type_counts)"
      ]
    },
    {
      "cell_type": "code",
      "execution_count": 19,
      "metadata": {
        "colab": {
          "base_uri": "https://localhost:8080/"
        },
        "id": "B5XQmL6FxbAH",
        "outputId": "7a37cb99-19be-44da-fb3e-eb193ea1ec1f"
      },
      "outputs": [
        {
          "output_type": "stream",
          "name": "stdout",
          "text": [
            "loan_purpose    object\n",
            "date            object\n",
            "dtype: object\n"
          ]
        }
      ],
      "source": [
        "object_dtypes = df_loan.select_dtypes(include=['object']).dtypes\n",
        "print(object_dtypes)"
      ]
    },
    {
      "cell_type": "code",
      "execution_count": 20,
      "metadata": {
        "colab": {
          "base_uri": "https://localhost:8080/"
        },
        "id": "v14ejWzzxgth",
        "outputId": "72f6abeb-3579-4073-daeb-dfbfc38a2562"
      },
      "outputs": [
        {
          "output_type": "stream",
          "name": "stdout",
          "text": [
            "loan_id                                              int64\n",
            "loan_granted                                         int64\n",
            "loan_repaid                                        float64\n",
            "is_first_loan                                        int64\n",
            "fully_repaid_previous_loans                        float64\n",
            "currently_repaying_other_loans                     float64\n",
            "total_credit_card_limit                              int64\n",
            "avg_percentage_credit_card_limit_used_last_year    float64\n",
            "saving_amount                                        int64\n",
            "checking_amount                                      int64\n",
            "is_employed                                          int64\n",
            "yearly_salary                                        int64\n",
            "age                                                  int64\n",
            "dependent_number                                     int64\n",
            "dtype: object\n"
          ]
        }
      ],
      "source": [
        "numerical_dtypes = df_loan.select_dtypes(include=['number']).dtypes\n",
        "print(numerical_dtypes)"
      ]
    },
    {
      "cell_type": "code",
      "execution_count": 21,
      "metadata": {
        "colab": {
          "base_uri": "https://localhost:8080/",
          "height": 1000
        },
        "id": "ZROS6zmAxvPl",
        "outputId": "4f87dfa8-d42d-48e4-fdae-12f640fe7687"
      },
      "outputs": [
        {
          "output_type": "stream",
          "name": "stdout",
          "text": [
            "['loan_repaid', 'fully_repaid_previous_loans', 'currently_repaying_other_loans']\n"
          ]
        },
        {
          "output_type": "display_data",
          "data": {
            "text/plain": [
              "<Figure size 700x1200 with 11 Axes>"
            ],
            "image/png": "[encoded data removed]"
          },
          "metadata": {}
        }
      ],
      "source": [
        "# Calculate the percentage of missing values for each column\n",
        "missing_percentage = (df_loan.isnull().sum() / len(df_loan)) * 100\n",
        "\n",
        "# Get columns with missing percentage greater than 20%\n",
        "columns_to_drop = missing_percentage[missing_percentage > 20].index.tolist()\n",
        "\n",
        "# Drop specified columns\n",
        "outlier_df = df_loan.drop(columns_to_drop, axis=1)\n",
        "print(columns_to_drop)\n",
        "\n",
        "# Filter rows with no null values in any column\n",
        "outlier_df = outlier_df.dropna()\n",
        "\n",
        "# Check if remaining columns are numeric\n",
        "numeric_columns = outlier_df.select_dtypes(include=['number']).columns\n",
        "\n",
        "# Visualization\n",
        "num_columns = len(numeric_columns)\n",
        "num_rows = math.ceil(num_columns / 3)\n",
        "num_cols = 3\n",
        "\n",
        "fig, axes = plt.subplots(nrows=num_rows, ncols=num_cols, figsize=(7, 3*num_rows))\n",
        "axes = axes.flatten()\n",
        "\n",
        "for i, column in enumerate(numeric_columns):\n",
        "    sns.boxplot(y=outlier_df[column], ax=axes[i])\n",
        "    axes[i].set_title(column)\n",
        "\n",
        "for j in range(num_columns, len(axes)):\n",
        "    fig.delaxes(axes[j])\n",
        "\n",
        "plt.tight_layout()\n",
        "plt.show()"
      ]
    },
    {
      "cell_type": "code",
      "execution_count": 22,
      "metadata": {
        "colab": {
          "base_uri": "https://localhost:8080/",
          "height": 1000
        },
        "id": "JUq77jtO1L2w",
        "outputId": "9cfe2b3a-3d4d-4d06-889d-f8030aaaabe0"
      },
      "outputs": [
        {
          "output_type": "display_data",
          "data": {
            "text/plain": [
              "<Figure size 1200x1000 with 2 Axes>"
            ],
            "image/png": "[encoded data removed]"
          },
          "metadata": {}
        }
      ],
      "source": [
        "# Drop specified columns\n",
        "# Calculate the percentage of missing values for each column\n",
        "missing_percentage = (df_loan.isnull().sum() / len(df_loan)) * 100\n",
        "\n",
        "# Get columns with missing percentage greater than 20%\n",
        "columns_to_drop = missing_percentage[missing_percentage > 20].index.tolist()\n",
        "\n",
        "# Filter rows with no null values in any column\n",
        "outlier_df = outlier_df.dropna()\n",
        "corr_df = df_loan.drop(columns_to_drop, axis=1)\n",
        "\n",
        "# Remove non-numeric columns for correlation computation\n",
        "numeric_cols = corr_df.select_dtypes(include=['number']).columns\n",
        "correlation_matrix = corr_df[numeric_cols].corr()\n",
        "\n",
        "# Plot correlation heatmap with adjusted figsize\n",
        "plt.figure(figsize=(12, 10))  # Adjusted figsize\n",
        "sns.heatmap(correlation_matrix, annot=True, cmap=\"cividis\", fmt=\".2f\", linewidths=.5)\n",
        "plt.title(\"Correlation Matrix\")\n",
        "plt.show()"
      ]
    },
    {
      "cell_type": "code",
      "execution_count": 23,
      "metadata": {
        "id": "bwjQOOcY6hML"
      },
      "outputs": [],
      "source": [
        "#Create different datasets for granted & ungranted and repaid & non-repaid segments\n",
        "\n",
        "granted   = df_loan.loc[(df_loan['loan_granted'] == 1)]\n",
        "ungranted = df_loan.loc[(df_loan['loan_granted'] == 0)]\n",
        "\n",
        "repaid     = granted.loc[(granted['loan_repaid'] == 1)]\n",
        "non_repaid = granted.loc[(granted['loan_repaid'] == 0)]"
      ]
    },
    {
      "cell_type": "code",
      "execution_count": 24,
      "metadata": {
        "colab": {
          "base_uri": "https://localhost:8080/",
          "height": 487
        },
        "id": "IP71mEDG7ZUb",
        "outputId": "d3b24a4c-3997-45a2-a64e-8985e06c4b9c"
      },
      "outputs": [
        {
          "output_type": "display_data",
          "data": {
            "text/plain": [
              "<Figure size 500x500 with 1 Axes>"
            ],
            "image/png": "[encoded data removed]"
          },
          "metadata": {}
        }
      ],
      "source": [
        "# Class Imbalance check\n",
        "\n",
        "temp_ln_rpd = granted['loan_repaid'].value_counts()\n",
        "df_ln_rpd = pd.DataFrame({'labels': temp_ln_rpd.index,\n",
        "                   'values': temp_ln_rpd.values})\n",
        "plt.figure(figsize = (5,5))\n",
        "plt.title('Application loans repaid')\n",
        "sns.set_color_codes(\"pastel\")\n",
        "sns.barplot(x = 'labels', y=\"values\", data=df_ln_rpd)\n",
        "locs, labels = plt.xticks()\n",
        "plt.show()"
      ]
    },
    {
      "cell_type": "code",
      "execution_count": 25,
      "metadata": {
        "id": "st3wpMvk8Su2"
      },
      "outputs": [],
      "source": [
        "def plot_stats(df, feature, target_ftr, label_rotation=False, horizontal_layout=True):\n",
        "    '''\n",
        "    This function plot the categorical feature distribution according to target variable\n",
        "    '''\n",
        "    temp = df[feature].value_counts()\n",
        "    df1 = pd.DataFrame({feature: temp.index,'Number of repaid-loans': temp.values})\n",
        "\n",
        "    # Calculate the percentage of target=1 per category value\n",
        "    cat_perc = df[[feature, target_ftr]].groupby([feature],as_index=False).mean()\n",
        "    cat_perc.sort_values(by=target_ftr, ascending=False, inplace=True)\n",
        "\n",
        "    sns.set_color_codes(\"pastel\")\n",
        "    s = sns.barplot(x = feature, y=\"Number of repaid-loans\",data=df1)\n",
        "    if(label_rotation):\n",
        "        s.set_xticklabels(s.get_xticklabels(),rotation=60)\n",
        "\n",
        "    plt.tick_params(axis='both', which='major', labelsize=10)\n",
        "\n",
        "    plt.show();"
      ]
    },
    {
      "cell_type": "code",
      "execution_count": 26,
      "metadata": {
        "colab": {
          "base_uri": "https://localhost:8080/",
          "height": 450
        },
        "id": "72-Yh5XW7jJt",
        "outputId": "83d7d693-272e-4a61-ba2a-c32b37df4384"
      },
      "outputs": [
        {
          "output_type": "display_data",
          "data": {
            "text/plain": [
              "<Figure size 640x480 with 1 Axes>"
            ],
            "image/png": "[encoded data removed]"
          },
          "metadata": {}
        }
      ],
      "source": [
        "plot_stats(granted, 'dependent_number', 'loan_repaid', label_rotation=False, horizontal_layout=True)"
      ]
    },
    {
      "cell_type": "code",
      "execution_count": 27,
      "metadata": {
        "colab": {
          "base_uri": "https://localhost:8080/",
          "height": 450
        },
        "id": "mfYMYojoKskW",
        "outputId": "c60cdab2-6f4f-4675-bfcf-1c46159b7224"
      },
      "outputs": [
        {
          "output_type": "display_data",
          "data": {
            "text/plain": [
              "<Figure size 640x480 with 1 Axes>"
            ],
            "image/png": "[encoded data removed]"
          },
          "metadata": {}
        }
      ],
      "source": [
        "plot_stats(granted, 'is_employed', 'loan_repaid', label_rotation=False, horizontal_layout=True)"
      ]
    },
    {
      "cell_type": "code",
      "execution_count": 28,
      "metadata": {
        "colab": {
          "base_uri": "https://localhost:8080/"
        },
        "id": "3fiD6UtHK8ZG",
        "outputId": "2df32da9-d972-4764-802f-99948390909e"
      },
      "outputs": [
        {
          "output_type": "stream",
          "name": "stdout",
          "text": [
            "Employed who repay their loans (%) :\n",
            "69.0\n",
            "\n",
            "\n",
            "Unemployed who repay their loans (%) :\n",
            "17.9\n"
          ]
        }
      ],
      "source": [
        "# How many of employed repay their loans\n",
        "print('Employed who repay their loans (%) :')\n",
        "print(round(((granted[(granted['is_employed']==1) & (granted['loan_repaid']==1)].shape[0])/granted[(granted['is_employed']==1)].shape[0])*100,1))\n",
        "\n",
        "print('')\n",
        "print('')\n",
        "\n",
        "# How many of un-employed repay their loans\n",
        "print('Unemployed who repay their loans (%) :')\n",
        "print(round(((granted[(granted['is_employed']==0) & (granted['loan_repaid']==1)].shape[0])/granted[(granted['is_employed']==0)].shape[0])*100,1))"
      ]
    },
    {
      "cell_type": "code",
      "execution_count": 29,
      "metadata": {
        "colab": {
          "base_uri": "https://localhost:8080/",
          "height": 452
        },
        "id": "QmZ4ZRdjLM4o",
        "outputId": "f92d02c9-1390-408a-cd1f-a4650bab6c22"
      },
      "outputs": [
        {
          "output_type": "display_data",
          "data": {
            "text/plain": [
              "<Figure size 640x480 with 1 Axes>"
            ],
            "image/png": "[encoded data removed]"
          },
          "metadata": {}
        }
      ],
      "source": [
        "plot_stats(granted, 'currently_repaying_other_loans', 'loan_repaid', label_rotation=False, horizontal_layout=True)"
      ]
    },
    {
      "cell_type": "code",
      "execution_count": 30,
      "metadata": {
        "colab": {
          "base_uri": "https://localhost:8080/"
        },
        "id": "Yf8vmaI1LQnm",
        "outputId": "b67fd916-dfbb-4b63-86d9-5ee8bdae3af8"
      },
      "outputs": [
        {
          "output_type": "stream",
          "name": "stdout",
          "text": [
            "People who repay their loans having existing loan payment (%) :\n",
            "27.13\n",
            "\n",
            "\n",
            "People who repay their loans not having any other loan payment (%) :\n",
            "79.3\n"
          ]
        }
      ],
      "source": [
        "# How many repay the loan while paying for another loan\n",
        "print('People who repay their loans having existing loan payment (%) :')\n",
        "print(round(((granted[(granted['currently_repaying_other_loans']==1) & (granted['loan_repaid']==1)].shape[0])/granted[(granted['currently_repaying_other_loans']==1)].shape[0])*100,2))\n",
        "\n",
        "print('')\n",
        "print('')\n",
        "\n",
        "# How many repay the loan when not paying for other loans\n",
        "print('People who repay their loans not having any other loan payment (%) :')\n",
        "print(round(((granted[(granted['currently_repaying_other_loans']==0) & (granted['loan_repaid']==1)].shape[0])/granted[(granted['currently_repaying_other_loans']==0)].shape[0])*100,2))"
      ]
    },
    {
      "cell_type": "code",
      "execution_count": 31,
      "metadata": {
        "colab": {
          "base_uri": "https://localhost:8080/",
          "height": 450
        },
        "id": "cg90dfikLZPA",
        "outputId": "963ff24e-4219-4bec-df92-da5c74d8d4ae"
      },
      "outputs": [
        {
          "output_type": "display_data",
          "data": {
            "text/plain": [
              "<Figure size 640x480 with 1 Axes>"
            ],
            "image/png": "[encoded data removed]"
          },
          "metadata": {}
        }
      ],
      "source": [
        "plot_stats(granted, 'fully_repaid_previous_loans', 'loan_repaid', label_rotation=False, horizontal_layout=True)"
      ]
    },
    {
      "cell_type": "code",
      "execution_count": 32,
      "metadata": {
        "colab": {
          "base_uri": "https://localhost:8080/"
        },
        "id": "QiR6gXw1LbHD",
        "outputId": "8d4c5a1c-c3df-4bd3-b9b4-2499e54410bb"
      },
      "outputs": [
        {
          "output_type": "stream",
          "name": "stdout",
          "text": [
            "People who repay their loans who have fully repaid previous loans (%) :\n",
            "64.38\n",
            "\n",
            "\n",
            "People who repay their loans who have not fully repaid previous loans (%) :\n",
            "58.11\n"
          ]
        }
      ],
      "source": [
        "# How many of people repay their loans who have fully repaid previous loans\n",
        "print('People who repay their loans who have fully repaid previous loans (%) :')\n",
        "print(round(((granted[(granted['fully_repaid_previous_loans']==1) & (granted['loan_repaid']==1)].shape[0])/granted[(granted['fully_repaid_previous_loans']==1)].shape[0])*100,2))\n",
        "\n",
        "print('')\n",
        "print('')\n",
        "\n",
        "# How many of people repay their loans who haven't fully repaid previous loans\n",
        "print('People who repay their loans who have not fully repaid previous loans (%) :')\n",
        "print(round(((granted[(granted['fully_repaid_previous_loans']==0) & (granted['loan_repaid']==1)].shape[0])/granted[(granted['fully_repaid_previous_loans']==0)].shape[0])*100,2))"
      ]
    },
    {
      "cell_type": "code",
      "execution_count": 33,
      "metadata": {
        "colab": {
          "base_uri": "https://localhost:8080/",
          "height": 410
        },
        "id": "bzO3BcwlLjOY",
        "outputId": "a7799fbc-2a16-4b04-b936-dcd8dcfb72d0"
      },
      "outputs": [
        {
          "output_type": "display_data",
          "data": {
            "text/plain": [
              "<Figure size 1200x400 with 3 Axes>"
            ],
            "image/png": "[encoded data removed]"
          },
          "metadata": {}
        }
      ],
      "source": [
        "fig, axes = plt.subplots(1, 3)\n",
        "\n",
        "fig.set_size_inches(12, 4)\n",
        "\n",
        "repaid.hist('saving_amount', bins=100, ax=axes[0])\n",
        "axes[0].set_xlabel('repaid')\n",
        "non_repaid.hist('saving_amount', bins=100, ax=axes[1])\n",
        "axes[1].set_xlabel('non_repaid')\n",
        "ungranted.hist('saving_amount', bins=100, ax=axes[2])\n",
        "axes[2].set_xlabel('ungranted')\n",
        "\n",
        "plt.show()"
      ]
    },
    {
      "cell_type": "code",
      "execution_count": 34,
      "metadata": {
        "colab": {
          "base_uri": "https://localhost:8080/"
        },
        "id": "jtCkYZE3Ln1D",
        "outputId": "6640f2c5-ecf3-4031-a1b0-d95273ae0309"
      },
      "outputs": [
        {
          "output_type": "stream",
          "name": "stdout",
          "text": [
            "Average saving_amount by repaid group: 2399.0\n",
            "Average saving_amount by non-repaid group: 1019.0\n",
            "Average saving_amount by ungranted group: 1216.0\n"
          ]
        }
      ],
      "source": [
        "print(f'Average saving_amount by repaid group: {repaid[\"saving_amount\"].median()}')\n",
        "print(f'Average saving_amount by non-repaid group: {non_repaid[\"saving_amount\"].median()}')\n",
        "print(f'Average saving_amount by ungranted group: {ungranted[\"saving_amount\"].median()}')"
      ]
    },
    {
      "cell_type": "code",
      "execution_count": 35,
      "metadata": {
        "colab": {
          "base_uri": "https://localhost:8080/",
          "height": 410
        },
        "id": "TfpQN1JOLsR3",
        "outputId": "e0eafc40-a88b-4180-a031-2177fe05f65e"
      },
      "outputs": [
        {
          "output_type": "display_data",
          "data": {
            "text/plain": [
              "<Figure size 1200x400 with 3 Axes>"
            ],
            "image/png": "[encoded data removed]"
          },
          "metadata": {}
        }
      ],
      "source": [
        "fig, axes = plt.subplots(1, 3)\n",
        "\n",
        "fig.set_size_inches(12, 4)\n",
        "\n",
        "repaid.hist('checking_amount', bins=100, ax=axes[0])\n",
        "axes[0].set_xlabel('repaid')\n",
        "non_repaid.hist('checking_amount', bins=100, ax=axes[1])\n",
        "axes[1].set_xlabel('non_repaid')\n",
        "ungranted.hist('checking_amount', bins=100, ax=axes[2])\n",
        "axes[2].set_xlabel('ungranted')\n",
        "\n",
        "plt.show()"
      ]
    },
    {
      "cell_type": "code",
      "execution_count": 36,
      "metadata": {
        "colab": {
          "base_uri": "https://localhost:8080/"
        },
        "id": "lGoeABJtLwi4",
        "outputId": "16c358d5-6b9b-468d-c22b-4dd7d5a6c619"
      },
      "outputs": [
        {
          "output_type": "stream",
          "name": "stdout",
          "text": [
            "Average checking_amount by repaid group: 4160.5\n",
            "Average checking_amount by non-repaid group: 2042.0\n",
            "Average checking_amount by ungranted group: 2442.0\n"
          ]
        }
      ],
      "source": [
        "print(f'Average checking_amount by repaid group: {repaid[\"checking_amount\"].median()}')\n",
        "print(f'Average checking_amount by non-repaid group: {non_repaid[\"checking_amount\"].median()}')\n",
        "print(f'Average checking_amount by ungranted group: {ungranted[\"checking_amount\"].median()}')"
      ]
    },
    {
      "cell_type": "code",
      "execution_count": 37,
      "metadata": {
        "colab": {
          "base_uri": "https://localhost:8080/",
          "height": 718
        },
        "id": "E2477IdkL1pL",
        "outputId": "67d11837-098f-452e-9c96-6bddbc49de94"
      },
      "outputs": [
        {
          "output_type": "display_data",
          "data": {
            "text/plain": [
              "<Figure size 1500x800 with 3 Axes>"
            ],
            "image/png": "[encoded data removed]"
          },
          "metadata": {}
        }
      ],
      "source": [
        "fig, axes = plt.subplots(1, 3)\n",
        "\n",
        "fig.set_size_inches(15, 8)\n",
        "\n",
        "repaid.hist('yearly_salary', bins=100, ax=axes[0])\n",
        "axes[0].set_xlabel('repaid')\n",
        "non_repaid.hist('yearly_salary', bins=100, ax=axes[1])\n",
        "axes[1].set_xlabel('non_repaid')\n",
        "ungranted.hist('yearly_salary', bins=100, ax=axes[2])\n",
        "axes[2].set_xlabel('ungranted')\n",
        "\n",
        "plt.show()"
      ]
    },
    {
      "cell_type": "code",
      "execution_count": 38,
      "metadata": {
        "colab": {
          "base_uri": "https://localhost:8080/"
        },
        "id": "1nmooMAgMD9J",
        "outputId": "e41d08b0-1e3c-4373-ed14-af14cfdc7d26"
      },
      "outputs": [
        {
          "output_type": "stream",
          "name": "stdout",
          "text": [
            "Average yearly_salary by repaid group: 34600.0\n",
            "Average yearly_salary by non-repaid group: 21700.0\n",
            "Average yearly_salary by ungranted group: 0.0\n"
          ]
        }
      ],
      "source": [
        "print(f'Average yearly_salary by repaid group: {repaid[\"yearly_salary\"].median()}')\n",
        "print(f'Average yearly_salary by non-repaid group: {non_repaid[\"yearly_salary\"].median()}')\n",
        "print(f'Average yearly_salary by ungranted group: {ungranted[\"yearly_salary\"].median()}')"
      ]
    },
    {
      "cell_type": "code",
      "execution_count": 39,
      "metadata": {
        "colab": {
          "base_uri": "https://localhost:8080/",
          "height": 410
        },
        "id": "qnc8bWosMHO7",
        "outputId": "c105d5a8-183f-4e4c-cf1d-d82a6a907565"
      },
      "outputs": [
        {
          "output_type": "display_data",
          "data": {
            "text/plain": [
              "<Figure size 1200x400 with 3 Axes>"
            ],
            "image/png": "[encoded data removed]"
          },
          "metadata": {}
        }
      ],
      "source": [
        "fig, axes = plt.subplots(1, 3)\n",
        "\n",
        "fig.set_size_inches(12, 4)\n",
        "\n",
        "repaid.hist('total_credit_card_limit', bins=100, ax=axes[0])\n",
        "axes[0].set_xlabel('repaid')\n",
        "non_repaid.hist('total_credit_card_limit', bins=100, ax=axes[1])\n",
        "axes[1].set_xlabel('non_repaid')\n",
        "ungranted.hist('total_credit_card_limit', bins=100, ax=axes[2])\n",
        "axes[2].set_xlabel('ungranted')\n",
        "\n",
        "plt.show()"
      ]
    },
    {
      "cell_type": "code",
      "execution_count": 40,
      "metadata": {
        "colab": {
          "base_uri": "https://localhost:8080/"
        },
        "id": "1bvCbAj0MLBH",
        "outputId": "b72357e3-69d2-4d46-f821-2387b70a3ed0"
      },
      "outputs": [
        {
          "output_type": "stream",
          "name": "stdout",
          "text": [
            "Average total_credit_card_limit by repaid group: 5000.0\n",
            "Average total_credit_card_limit by non-repaid group: 3400.0\n",
            "Average total_credit_card_limit by ungranted group: 3700.0\n"
          ]
        }
      ],
      "source": [
        "print(f'Average total_credit_card_limit by repaid group: {repaid[\"total_credit_card_limit\"].median()}')\n",
        "print(f'Average total_credit_card_limit by non-repaid group: {non_repaid[\"total_credit_card_limit\"].median()}')\n",
        "print(f'Average total_credit_card_limit by ungranted group: {ungranted[\"total_credit_card_limit\"].median()}')"
      ]
    },
    {
      "cell_type": "code",
      "execution_count": 41,
      "metadata": {
        "colab": {
          "base_uri": "https://localhost:8080/",
          "height": 410
        },
        "id": "ySyUoVuxMOEO",
        "outputId": "8c57b357-be34-401e-e274-f6fe9d74a219"
      },
      "outputs": [
        {
          "output_type": "display_data",
          "data": {
            "text/plain": [
              "<Figure size 1200x400 with 3 Axes>"
            ],
            "image/png": "[encoded data removed]"
          },
          "metadata": {}
        }
      ],
      "source": [
        "fig, axes = plt.subplots(1, 3)\n",
        "\n",
        "fig.set_size_inches(12, 4)\n",
        "\n",
        "repaid.hist('avg_percentage_credit_card_limit_used_last_year', bins=100, ax=axes[0])\n",
        "axes[0].set_xlabel('repaid')\n",
        "non_repaid.hist('avg_percentage_credit_card_limit_used_last_year', bins=100, ax=axes[1])\n",
        "axes[1].set_xlabel('non_repaid')\n",
        "ungranted.hist('avg_percentage_credit_card_limit_used_last_year', bins=100, ax=axes[2])\n",
        "axes[2].set_xlabel('ungranted')\n",
        "\n",
        "plt.show()"
      ]
    },
    {
      "cell_type": "code",
      "execution_count": 42,
      "metadata": {
        "colab": {
          "base_uri": "https://localhost:8080/"
        },
        "id": "wVvZRQ_TMR8U",
        "outputId": "9be7274c-00f9-419b-de9b-02ef25938b7b"
      },
      "outputs": [
        {
          "output_type": "stream",
          "name": "stdout",
          "text": [
            "0.68\n",
            "0.77\n",
            "0.76\n"
          ]
        }
      ],
      "source": [
        "print(repaid['avg_percentage_credit_card_limit_used_last_year'].median())\n",
        "print(non_repaid['avg_percentage_credit_card_limit_used_last_year'].median())\n",
        "print(ungranted['avg_percentage_credit_card_limit_used_last_year'].median())"
      ]
    },
    {
      "cell_type": "code",
      "execution_count": 43,
      "metadata": {
        "colab": {
          "base_uri": "https://localhost:8080/"
        },
        "id": "Xb-aeXaMMrqL",
        "outputId": "ecb427a9-0e00-438e-8b3d-6ba14fe06eaf"
      },
      "outputs": [
        {
          "output_type": "stream",
          "name": "stdout",
          "text": [
            "[0 1]\n",
            "[nan  1.  0.]\n",
            "--------------------\n",
            "[nan]\n",
            "[1. 0.]\n"
          ]
        }
      ],
      "source": [
        "#Check the values of loan_granted and loan_repaid\n",
        "print(df_loan['loan_granted'].unique())\n",
        "print(df_loan['loan_repaid'].unique())\n",
        "\n",
        "print('--'*10)\n",
        "\n",
        "print(df_loan.loc[df_loan.loan_granted ==0 ]['loan_repaid'].unique())\n",
        "print(df_loan.loc[df_loan.loan_granted ==1 ]['loan_repaid'].unique())"
      ]
    },
    {
      "cell_type": "code",
      "execution_count": 44,
      "metadata": {
        "colab": {
          "base_uri": "https://localhost:8080/"
        },
        "id": "7ugG5FuTNFD-",
        "outputId": "3523d994-941f-4352-f67e-0a3a20bedcc3"
      },
      "outputs": [
        {
          "output_type": "stream",
          "name": "stdout",
          "text": [
            "[-1.  0.  1.]\n",
            "--------------------\n",
            "[0.]\n",
            "[1.]\n",
            "[-1.]\n"
          ]
        }
      ],
      "source": [
        "#Create the target: loan_quality\n",
        "df_loan.loc[((df_loan['loan_granted'] == 1) & (df_loan['loan_repaid'] == 1)), 'loan_quality'] = 0\n",
        "df_loan.loc[((df_loan['loan_granted'] == 1) & (df_loan['loan_repaid'] == 0)), 'loan_quality'] = 1\n",
        "df_loan.loc[(df_loan['loan_granted'] == 0), 'loan_quality'] = -1\n",
        "\n",
        "print(df_loan['loan_quality'].unique())\n",
        "\n",
        "print('--'*10)\n",
        "\n",
        "print(df_loan.loc[(df_loan['loan_granted']==1)&(df_loan['loan_repaid']==1)]['loan_quality'].unique())\n",
        "print(df_loan.loc[(df_loan['loan_granted']==1)&(df_loan['loan_repaid']==0)]['loan_quality'].unique())\n",
        "print(df_loan.loc[(df_loan['loan_granted']==0)]['loan_quality'].unique())"
      ]
    },
    {
      "cell_type": "markdown",
      "metadata": {
        "id": "rpBrBKKbNjlS"
      },
      "source": [
        "\n",
        "\n",
        "    Target is created according to a risk framework for model building.\n",
        "        If loan is granted and not paid -> risk, mark it 1\n",
        "\n",
        "        If loan is granted and paid -> risk, mark it 0\n",
        "\n",
        "        for all the ungranted loans, -1 is just an indicator. Mathematical calculation will be different for business situation\n",
        "\n"
      ]
    },
    {
      "cell_type": "markdown",
      "metadata": {
        "id": "HH3SEUU6NzgN"
      },
      "source": [
        "## **Data Preprocessing & Engineering**"
      ]
    },
    {
      "cell_type": "code",
      "execution_count": 45,
      "metadata": {
        "id": "fYKRhvyPNnFc"
      },
      "outputs": [],
      "source": [
        "# Create a copy of the loan dataset for feature transformation\n",
        "df_loan_tr = df_loan.copy()"
      ]
    },
    {
      "cell_type": "code",
      "execution_count": 46,
      "metadata": {
        "colab": {
          "base_uri": "https://localhost:8080/",
          "height": 207
        },
        "id": "7fRJ1ZMPOwsa",
        "outputId": "50ce3441-1392-40d9-dbae-5d239aa030d6"
      },
      "outputs": [
        {
          "output_type": "execute_result",
          "data": {
            "text/plain": [
              "        date  year  month  day  quarter  semester  dayofweek\n",
              "0 2012-03-15  2012      3   15        1         1          3\n",
              "1 2012-01-17  2012      1   17        1         1          1\n",
              "2 2012-02-09  2012      2    9        1         1          3\n",
              "3 2012-06-27  2012      6   27        2         1          2\n",
              "4 2012-05-21  2012      5   21        2         1          0"
            ],
            "text/html": [
              "\n",
              "  <div id=\"df-b00795d8-3390-4f4e-89ca-6ddfa7f5cb78\" class=\"colab-df-container\">\n",
              "    <div>\n",
              "<style scoped>\n",
              "    .dataframe tbody tr th:only-of-type {\n",
              "        vertical-align: middle;\n",
              "    }\n",
              "\n",
              "    .dataframe tbody tr th {\n",
              "        vertical-align: top;\n",
              "    }\n",
              "\n",
              "    .dataframe thead th {\n",
              "        text-align: right;\n",
              "    }\n",
              "</style>\n",
              "<table border=\"1\" class=\"dataframe\">\n",
              "  <thead>\n",
              "    <tr style=\"text-align: right;\">\n",
              "      <th></th>\n",
              "      <th>date</th>\n",
              "      <th>year</th>\n",
              "      <th>month</th>\n",
              "      <th>day</th>\n",
              "      <th>quarter</th>\n",
              "      <th>semester</th>\n",
              "      <th>dayofweek</th>\n",
              "    </tr>\n",
              "  </thead>\n",
              "  <tbody>\n",
              "    <tr>\n",
              "      <th>0</th>\n",
              "      <td>2012-03-15</td>\n",
              "      <td>2012</td>\n",
              "      <td>3</td>\n",
              "      <td>15</td>\n",
              "      <td>1</td>\n",
              "      <td>1</td>\n",
              "      <td>3</td>\n",
              "    </tr>\n",
              "    <tr>\n",
              "      <th>1</th>\n",
              "      <td>2012-01-17</td>\n",
              "      <td>2012</td>\n",
              "      <td>1</td>\n",
              "      <td>17</td>\n",
              "      <td>1</td>\n",
              "      <td>1</td>\n",
              "      <td>1</td>\n",
              "    </tr>\n",
              "    <tr>\n",
              "      <th>2</th>\n",
              "      <td>2012-02-09</td>\n",
              "      <td>2012</td>\n",
              "      <td>2</td>\n",
              "      <td>9</td>\n",
              "      <td>1</td>\n",
              "      <td>1</td>\n",
              "      <td>3</td>\n",
              "    </tr>\n",
              "    <tr>\n",
              "      <th>3</th>\n",
              "      <td>2012-06-27</td>\n",
              "      <td>2012</td>\n",
              "      <td>6</td>\n",
              "      <td>27</td>\n",
              "      <td>2</td>\n",
              "      <td>1</td>\n",
              "      <td>2</td>\n",
              "    </tr>\n",
              "    <tr>\n",
              "      <th>4</th>\n",
              "      <td>2012-05-21</td>\n",
              "      <td>2012</td>\n",
              "      <td>5</td>\n",
              "      <td>21</td>\n",
              "      <td>2</td>\n",
              "      <td>1</td>\n",
              "      <td>0</td>\n",
              "    </tr>\n",
              "  </tbody>\n",
              "</table>\n",
              "</div>\n",
              "    <div class=\"colab-df-buttons\">\n",
              "\n",
              "  <div class=\"colab-df-container\">\n",
              "    <button class=\"colab-df-convert\" onclick=\"convertToInteractive('df-b00795d8-3390-4f4e-89ca-6ddfa7f5cb78')\"\n",
              "            title=\"Convert this dataframe to an interactive table.\"\n",
              "            style=\"display:none;\">\n",
              "\n",
              "  <svg xmlns=\"http://www.w3.org/2000/svg\" height=\"24px\" viewBox=\"0 -960 960 960\">\n",
              "    <path d=\"M120-120v-720h720v720H120Zm60-500h600v-160H180v160Zm220 220h160v-160H400v160Zm0 220h160v-160H400v160ZM180-400h160v-160H180v160Zm440 0h160v-160H620v160ZM180-180h160v-160H180v160Zm440 0h160v-160H620v160Z\"/>\n",
              "  </svg>\n",
              "    </button>\n",
              "\n",
              "  <style>\n",
              "    .colab-df-container {\n",
              "      display:flex;\n",
              "      gap: 12px;\n",
              "    }\n",
              "\n",
              "    .colab-df-convert {\n",
              "      background-color: #E8F0FE;\n",
              "      border: none;\n",
              "      border-radius: 50%;\n",
              "      cursor: pointer;\n",
              "      display: none;\n",
              "      fill: #1967D2;\n",
              "      height: 32px;\n",
              "      padding: 0 0 0 0;\n",
              "      width: 32px;\n",
              "    }\n",
              "\n",
              "    .colab-df-convert:hover {\n",
              "      background-color: #E2EBFA;\n",
              "      box-shadow: 0px 1px 2px rgba(60, 64, 67, 0.3), 0px 1px 3px 1px rgba(60, 64, 67, 0.15);\n",
              "      fill: #174EA6;\n",
              "    }\n",
              "\n",
              "    .colab-df-buttons div {\n",
              "      margin-bottom: 4px;\n",
              "    }\n",
              "\n",
              "    [theme=dark] .colab-df-convert {\n",
              "      background-color: #3B4455;\n",
              "      fill: #D2E3FC;\n",
              "    }\n",
              "\n",
              "    [theme=dark] .colab-df-convert:hover {\n",
              "      background-color: #434B5C;\n",
              "      box-shadow: 0px 1px 3px 1px rgba(0, 0, 0, 0.15);\n",
              "      filter: drop-shadow(0px 1px 2px rgba(0, 0, 0, 0.3));\n",
              "      fill: #FFFFFF;\n",
              "    }\n",
              "  </style>\n",
              "\n",
              "    <script>\n",
              "      const buttonEl =\n",
              "        document.querySelector('#df-b00795d8-3390-4f4e-89ca-6ddfa7f5cb78 button.colab-df-convert');\n",
              "      buttonEl.style.display =\n",
              "        google.colab.kernel.accessAllowed ? 'block' : 'none';\n",
              "\n",
              "      async function convertToInteractive(key) {\n",
              "        const element = document.querySelector('#df-b00795d8-3390-4f4e-89ca-6ddfa7f5cb78');\n",
              "        const dataTable =\n",
              "          await google.colab.kernel.invokeFunction('convertToInteractive',\n",
              "                                                    [key], {});\n",
              "        if (!dataTable) return;\n",
              "\n",
              "        const docLinkHtml = 'Like what you see? Visit the ' +\n",
              "          '<a target=\"_blank\" href=https://colab.research.google.com/notebooks/data_table.ipynb>data table notebook</a>'\n",
              "          + ' to learn more about interactive tables.';\n",
              "        element.innerHTML = '';\n",
              "        dataTable['output_type'] = 'display_data';\n",
              "        await google.colab.output.renderOutput(dataTable, element);\n",
              "        const docLink = document.createElement('div');\n",
              "        docLink.innerHTML = docLinkHtml;\n",
              "        element.appendChild(docLink);\n",
              "      }\n",
              "    </script>\n",
              "  </div>\n",
              "\n",
              "\n",
              "<div id=\"df-0c86fbd7-36b0-41b7-9c95-70675d7a72e8\">\n",
              "  <button class=\"colab-df-quickchart\" onclick=\"quickchart('df-0c86fbd7-36b0-41b7-9c95-70675d7a72e8')\"\n",
              "            title=\"Suggest charts\"\n",
              "            style=\"display:none;\">\n",
              "\n",
              "<svg xmlns=\"http://www.w3.org/2000/svg\" height=\"24px\"viewBox=\"0 0 24 24\"\n",
              "     width=\"24px\">\n",
              "    <g>\n",
              "        <path d=\"M19 3H5c-1.1 0-2 .9-2 2v14c0 1.1.9 2 2 2h14c1.1 0 2-.9 2-2V5c0-1.1-.9-2-2-2zM9 17H7v-7h2v7zm4 0h-2V7h2v10zm4 0h-2v-4h2v4z\"/>\n",
              "    </g>\n",
              "</svg>\n",
              "  </button>\n",
              "\n",
              "<style>\n",
              "  .colab-df-quickchart {\n",
              "      --bg-color: #E8F0FE;\n",
              "      --fill-color: #1967D2;\n",
              "      --hover-bg-color: #E2EBFA;\n",
              "      --hover-fill-color: #174EA6;\n",
              "      --disabled-fill-color: #AAA;\n",
              "      --disabled-bg-color: #DDD;\n",
              "  }\n",
              "\n",
              "  [theme=dark] .colab-df-quickchart {\n",
              "      --bg-color: #3B4455;\n",
              "      --fill-color: #D2E3FC;\n",
              "      --hover-bg-color: #434B5C;\n",
              "      --hover-fill-color: #FFFFFF;\n",
              "      --disabled-bg-color: #3B4455;\n",
              "      --disabled-fill-color: #666;\n",
              "  }\n",
              "\n",
              "  .colab-df-quickchart {\n",
              "    background-color: var(--bg-color);\n",
              "    border: none;\n",
              "    border-radius: 50%;\n",
              "    cursor: pointer;\n",
              "    display: none;\n",
              "    fill: var(--fill-color);\n",
              "    height: 32px;\n",
              "    padding: 0;\n",
              "    width: 32px;\n",
              "  }\n",
              "\n",
              "  .colab-df-quickchart:hover {\n",
              "    background-color: var(--hover-bg-color);\n",
              "    box-shadow: 0 1px 2px rgba(60, 64, 67, 0.3), 0 1px 3px 1px rgba(60, 64, 67, 0.15);\n",
              "    fill: var(--button-hover-fill-color);\n",
              "  }\n",
              "\n",
              "  .colab-df-quickchart-complete:disabled,\n",
              "  .colab-df-quickchart-complete:disabled:hover {\n",
              "    background-color: var(--disabled-bg-color);\n",
              "    fill: var(--disabled-fill-color);\n",
              "    box-shadow: none;\n",
              "  }\n",
              "\n",
              "  .colab-df-spinner {\n",
              "    border: 2px solid var(--fill-color);\n",
              "    border-color: transparent;\n",
              "    border-bottom-color: var(--fill-color);\n",
              "    animation:\n",
              "      spin 1s steps(1) infinite;\n",
              "  }\n",
              "\n",
              "  @keyframes spin {\n",
              "    0% {\n",
              "      border-color: transparent;\n",
              "      border-bottom-color: var(--fill-color);\n",
              "      border-left-color: var(--fill-color);\n",
              "    }\n",
              "    20% {\n",
              "      border-color: transparent;\n",
              "      border-left-color: var(--fill-color);\n",
              "      border-top-color: var(--fill-color);\n",
              "    }\n",
              "    30% {\n",
              "      border-color: transparent;\n",
              "      border-left-color: var(--fill-color);\n",
              "      border-top-color: var(--fill-color);\n",
              "      border-right-color: var(--fill-color);\n",
              "    }\n",
              "    40% {\n",
              "      border-color: transparent;\n",
              "      border-right-color: var(--fill-color);\n",
              "      border-top-color: var(--fill-color);\n",
              "    }\n",
              "    60% {\n",
              "      border-color: transparent;\n",
              "      border-right-color: var(--fill-color);\n",
              "    }\n",
              "    80% {\n",
              "      border-color: transparent;\n",
              "      border-right-color: var(--fill-color);\n",
              "      border-bottom-color: var(--fill-color);\n",
              "    }\n",
              "    90% {\n",
              "      border-color: transparent;\n",
              "      border-bottom-color: var(--fill-color);\n",
              "    }\n",
              "  }\n",
              "</style>\n",
              "\n",
              "  <script>\n",
              "    async function quickchart(key) {\n",
              "      const quickchartButtonEl =\n",
              "        document.querySelector('#' + key + ' button');\n",
              "      quickchartButtonEl.disabled = true;  // To prevent multiple clicks.\n",
              "      quickchartButtonEl.classList.add('colab-df-spinner');\n",
              "      try {\n",
              "        const charts = await google.colab.kernel.invokeFunction(\n",
              "            'suggestCharts', [key], {});\n",
              "      } catch (error) {\n",
              "        console.error('Error during call to suggestCharts:', error);\n",
              "      }\n",
              "      quickchartButtonEl.classList.remove('colab-df-spinner');\n",
              "      quickchartButtonEl.classList.add('colab-df-quickchart-complete');\n",
              "    }\n",
              "    (() => {\n",
              "      let quickchartButtonEl =\n",
              "        document.querySelector('#df-0c86fbd7-36b0-41b7-9c95-70675d7a72e8 button');\n",
              "      quickchartButtonEl.style.display =\n",
              "        google.colab.kernel.accessAllowed ? 'block' : 'none';\n",
              "    })();\n",
              "  </script>\n",
              "</div>\n",
              "\n",
              "    </div>\n",
              "  </div>\n"
            ],
            "application/vnd.google.colaboratory.intrinsic+json": {
              "type": "dataframe",
              "summary": "{\n  \"name\": \"df_loan_tr[['date', 'year', 'month', 'day', 'quarter', 'semester', 'dayofweek']]\",\n  \"rows\": 5,\n  \"fields\": [\n    {\n      \"column\": \"date\",\n      \"properties\": {\n        \"dtype\": \"date\",\n        \"min\": \"2012-01-17 00:00:00\",\n        \"max\": \"2012-06-27 00:00:00\",\n        \"num_unique_values\": 5,\n        \"samples\": [\n          \"2012-01-17 00:00:00\",\n          \"2012-05-21 00:00:00\",\n          \"2012-02-09 00:00:00\"\n        ],\n        \"semantic_type\": \"\",\n        \"description\": \"\"\n      }\n    },\n    {\n      \"column\": \"year\",\n      \"properties\": {\n        \"dtype\": \"int32\",\n        \"num_unique_values\": 1,\n        \"samples\": [\n          2012\n        ],\n        \"semantic_type\": \"\",\n        \"description\": \"\"\n      }\n    },\n    {\n      \"column\": \"month\",\n      \"properties\": {\n        \"dtype\": \"int32\",\n        \"num_unique_values\": 5,\n        \"samples\": [\n          1\n        ],\n        \"semantic_type\": \"\",\n        \"description\": \"\"\n      }\n    },\n    {\n      \"column\": \"day\",\n      \"properties\": {\n        \"dtype\": \"int32\",\n        \"num_unique_values\": 5,\n        \"samples\": [\n          17\n        ],\n        \"semantic_type\": \"\",\n        \"description\": \"\"\n      }\n    },\n    {\n      \"column\": \"quarter\",\n      \"properties\": {\n        \"dtype\": \"int32\",\n        \"num_unique_values\": 2,\n        \"samples\": [\n          2\n        ],\n        \"semantic_type\": \"\",\n        \"description\": \"\"\n      }\n    },\n    {\n      \"column\": \"semester\",\n      \"properties\": {\n        \"dtype\": \"number\",\n        \"std\": 0,\n        \"min\": 1,\n        \"max\": 1,\n        \"num_unique_values\": 1,\n        \"samples\": [\n          1\n        ],\n        \"semantic_type\": \"\",\n        \"description\": \"\"\n      }\n    },\n    {\n      \"column\": \"dayofweek\",\n      \"properties\": {\n        \"dtype\": \"int32\",\n        \"num_unique_values\": 4,\n        \"samples\": [\n          1\n        ],\n        \"semantic_type\": \"\",\n        \"description\": \"\"\n      }\n    }\n  ]\n}"
            }
          },
          "metadata": {},
          "execution_count": 46
        }
      ],
      "source": [
        "# Create new feature\n",
        "\n",
        "# Cast the datatype of \"date\" field\n",
        "\n",
        "df_loan_tr['date']= pd.to_datetime(df_loan_tr['date'])\n",
        "df_loan_tr['date'].dtypes\n",
        "\n",
        "\n",
        "# Year from date\n",
        "df_loan_tr['year'] = df_loan_tr['date'].dt.year\n",
        "\n",
        "# Month from date\n",
        "df_loan_tr['month'] = df_loan_tr['date'].dt.month\n",
        "\n",
        "# Day from date\n",
        "df_loan_tr['day'] = df_loan_tr['date'].dt.day\n",
        "\n",
        "# Quarter from date\n",
        "df_loan_tr['quarter'] = df_loan_tr['date'].dt.quarter\n",
        "\n",
        "# Semester from date\n",
        "df_loan_tr['semester'] = np.where(df_loan_tr.quarter.isin([1,2]),1,2)\n",
        "\n",
        "# Day of the week from date\n",
        "df_loan_tr['dayofweek'] = df_loan_tr['date'].dt.dayofweek\n",
        "\n",
        "df_loan_tr[['date', 'year', 'month', 'day', 'quarter', 'semester', 'dayofweek']].head()"
      ]
    },
    {
      "cell_type": "code",
      "execution_count": 47,
      "metadata": {
        "colab": {
          "base_uri": "https://localhost:8080/"
        },
        "id": "31DqwM5lPBz6",
        "outputId": "a99875b3-80a3-48a6-ca60-02909aa94e75"
      },
      "outputs": [
        {
          "output_type": "execute_result",
          "data": {
            "text/plain": [
              "array([3, 1, 2, 0, 4], dtype=int32)"
            ]
          },
          "metadata": {},
          "execution_count": 47
        }
      ],
      "source": [
        "# Check the unique day of week\n",
        "df_loan_tr['dayofweek'].unique()"
      ]
    },
    {
      "cell_type": "markdown",
      "metadata": {
        "id": "1C2wC5FbPMUW"
      },
      "source": [
        "### **Encode**"
      ]
    },
    {
      "cell_type": "code",
      "execution_count": 48,
      "metadata": {
        "colab": {
          "base_uri": "https://localhost:8080/"
        },
        "id": "O8kJnE-IPQVJ",
        "outputId": "951439a0-cf77-48b8-d6ac-1de13e8cbe85"
      },
      "outputs": [
        {
          "output_type": "execute_result",
          "data": {
            "text/plain": [
              "array(['investment', 'other', 'business', 'emergency_funds', 'home'],\n",
              "      dtype=object)"
            ]
          },
          "metadata": {},
          "execution_count": 48
        }
      ],
      "source": [
        "# Unique values in loan_purpose\n",
        "\n",
        "df_loan_tr[\"loan_purpose\"].unique()"
      ]
    },
    {
      "cell_type": "code",
      "execution_count": 49,
      "metadata": {
        "colab": {
          "base_uri": "https://localhost:8080/",
          "height": 144
        },
        "id": "rqT_CwINPa1P",
        "outputId": "eeb41056-28e2-455a-c20e-7dbeb052966a"
      },
      "outputs": [
        {
          "output_type": "execute_result",
          "data": {
            "text/plain": [
              "  loan_purpose  loan_purpose_cat\n",
              "0   investment                 3\n",
              "1   investment                 3\n",
              "2        other                 4"
            ],
            "text/html": [
              "\n",
              "  <div id=\"df-fa45c185-0060-4f2a-ab22-1f71f11fbf9b\" class=\"colab-df-container\">\n",
              "    <div>\n",
              "<style scoped>\n",
              "    .dataframe tbody tr th:only-of-type {\n",
              "        vertical-align: middle;\n",
              "    }\n",
              "\n",
              "    .dataframe tbody tr th {\n",
              "        vertical-align: top;\n",
              "    }\n",
              "\n",
              "    .dataframe thead th {\n",
              "        text-align: right;\n",
              "    }\n",
              "</style>\n",
              "<table border=\"1\" class=\"dataframe\">\n",
              "  <thead>\n",
              "    <tr style=\"text-align: right;\">\n",
              "      <th></th>\n",
              "      <th>loan_purpose</th>\n",
              "      <th>loan_purpose_cat</th>\n",
              "    </tr>\n",
              "  </thead>\n",
              "  <tbody>\n",
              "    <tr>\n",
              "      <th>0</th>\n",
              "      <td>investment</td>\n",
              "      <td>3</td>\n",
              "    </tr>\n",
              "    <tr>\n",
              "      <th>1</th>\n",
              "      <td>investment</td>\n",
              "      <td>3</td>\n",
              "    </tr>\n",
              "    <tr>\n",
              "      <th>2</th>\n",
              "      <td>other</td>\n",
              "      <td>4</td>\n",
              "    </tr>\n",
              "  </tbody>\n",
              "</table>\n",
              "</div>\n",
              "    <div class=\"colab-df-buttons\">\n",
              "\n",
              "  <div class=\"colab-df-container\">\n",
              "    <button class=\"colab-df-convert\" onclick=\"convertToInteractive('df-fa45c185-0060-4f2a-ab22-1f71f11fbf9b')\"\n",
              "            title=\"Convert this dataframe to an interactive table.\"\n",
              "            style=\"display:none;\">\n",
              "\n",
              "  <svg xmlns=\"http://www.w3.org/2000/svg\" height=\"24px\" viewBox=\"0 -960 960 960\">\n",
              "    <path d=\"M120-120v-720h720v720H120Zm60-500h600v-160H180v160Zm220 220h160v-160H400v160Zm0 220h160v-160H400v160ZM180-400h160v-160H180v160Zm440 0h160v-160H620v160ZM180-180h160v-160H180v160Zm440 0h160v-160H620v160Z\"/>\n",
              "  </svg>\n",
              "    </button>\n",
              "\n",
              "  <style>\n",
              "    .colab-df-container {\n",
              "      display:flex;\n",
              "      gap: 12px;\n",
              "    }\n",
              "\n",
              "    .colab-df-convert {\n",
              "      background-color: #E8F0FE;\n",
              "      border: none;\n",
              "      border-radius: 50%;\n",
              "      cursor: pointer;\n",
              "      display: none;\n",
              "      fill: #1967D2;\n",
              "      height: 32px;\n",
              "      padding: 0 0 0 0;\n",
              "      width: 32px;\n",
              "    }\n",
              "\n",
              "    .colab-df-convert:hover {\n",
              "      background-color: #E2EBFA;\n",
              "      box-shadow: 0px 1px 2px rgba(60, 64, 67, 0.3), 0px 1px 3px 1px rgba(60, 64, 67, 0.15);\n",
              "      fill: #174EA6;\n",
              "    }\n",
              "\n",
              "    .colab-df-buttons div {\n",
              "      margin-bottom: 4px;\n",
              "    }\n",
              "\n",
              "    [theme=dark] .colab-df-convert {\n",
              "      background-color: #3B4455;\n",
              "      fill: #D2E3FC;\n",
              "    }\n",
              "\n",
              "    [theme=dark] .colab-df-convert:hover {\n",
              "      background-color: #434B5C;\n",
              "      box-shadow: 0px 1px 3px 1px rgba(0, 0, 0, 0.15);\n",
              "      filter: drop-shadow(0px 1px 2px rgba(0, 0, 0, 0.3));\n",
              "      fill: #FFFFFF;\n",
              "    }\n",
              "  </style>\n",
              "\n",
              "    <script>\n",
              "      const buttonEl =\n",
              "        document.querySelector('#df-fa45c185-0060-4f2a-ab22-1f71f11fbf9b button.colab-df-convert');\n",
              "      buttonEl.style.display =\n",
              "        google.colab.kernel.accessAllowed ? 'block' : 'none';\n",
              "\n",
              "      async function convertToInteractive(key) {\n",
              "        const element = document.querySelector('#df-fa45c185-0060-4f2a-ab22-1f71f11fbf9b');\n",
              "        const dataTable =\n",
              "          await google.colab.kernel.invokeFunction('convertToInteractive',\n",
              "                                                    [key], {});\n",
              "        if (!dataTable) return;\n",
              "\n",
              "        const docLinkHtml = 'Like what you see? Visit the ' +\n",
              "          '<a target=\"_blank\" href=https://colab.research.google.com/notebooks/data_table.ipynb>data table notebook</a>'\n",
              "          + ' to learn more about interactive tables.';\n",
              "        element.innerHTML = '';\n",
              "        dataTable['output_type'] = 'display_data';\n",
              "        await google.colab.output.renderOutput(dataTable, element);\n",
              "        const docLink = document.createElement('div');\n",
              "        docLink.innerHTML = docLinkHtml;\n",
              "        element.appendChild(docLink);\n",
              "      }\n",
              "    </script>\n",
              "  </div>\n",
              "\n",
              "\n",
              "<div id=\"df-7815b6f3-e565-4a97-81b7-5040d0062a31\">\n",
              "  <button class=\"colab-df-quickchart\" onclick=\"quickchart('df-7815b6f3-e565-4a97-81b7-5040d0062a31')\"\n",
              "            title=\"Suggest charts\"\n",
              "            style=\"display:none;\">\n",
              "\n",
              "<svg xmlns=\"http://www.w3.org/2000/svg\" height=\"24px\"viewBox=\"0 0 24 24\"\n",
              "     width=\"24px\">\n",
              "    <g>\n",
              "        <path d=\"M19 3H5c-1.1 0-2 .9-2 2v14c0 1.1.9 2 2 2h14c1.1 0 2-.9 2-2V5c0-1.1-.9-2-2-2zM9 17H7v-7h2v7zm4 0h-2V7h2v10zm4 0h-2v-4h2v4z\"/>\n",
              "    </g>\n",
              "</svg>\n",
              "  </button>\n",
              "\n",
              "<style>\n",
              "  .colab-df-quickchart {\n",
              "      --bg-color: #E8F0FE;\n",
              "      --fill-color: #1967D2;\n",
              "      --hover-bg-color: #E2EBFA;\n",
              "      --hover-fill-color: #174EA6;\n",
              "      --disabled-fill-color: #AAA;\n",
              "      --disabled-bg-color: #DDD;\n",
              "  }\n",
              "\n",
              "  [theme=dark] .colab-df-quickchart {\n",
              "      --bg-color: #3B4455;\n",
              "      --fill-color: #D2E3FC;\n",
              "      --hover-bg-color: #434B5C;\n",
              "      --hover-fill-color: #FFFFFF;\n",
              "      --disabled-bg-color: #3B4455;\n",
              "      --disabled-fill-color: #666;\n",
              "  }\n",
              "\n",
              "  .colab-df-quickchart {\n",
              "    background-color: var(--bg-color);\n",
              "    border: none;\n",
              "    border-radius: 50%;\n",
              "    cursor: pointer;\n",
              "    display: none;\n",
              "    fill: var(--fill-color);\n",
              "    height: 32px;\n",
              "    padding: 0;\n",
              "    width: 32px;\n",
              "  }\n",
              "\n",
              "  .colab-df-quickchart:hover {\n",
              "    background-color: var(--hover-bg-color);\n",
              "    box-shadow: 0 1px 2px rgba(60, 64, 67, 0.3), 0 1px 3px 1px rgba(60, 64, 67, 0.15);\n",
              "    fill: var(--button-hover-fill-color);\n",
              "  }\n",
              "\n",
              "  .colab-df-quickchart-complete:disabled,\n",
              "  .colab-df-quickchart-complete:disabled:hover {\n",
              "    background-color: var(--disabled-bg-color);\n",
              "    fill: var(--disabled-fill-color);\n",
              "    box-shadow: none;\n",
              "  }\n",
              "\n",
              "  .colab-df-spinner {\n",
              "    border: 2px solid var(--fill-color);\n",
              "    border-color: transparent;\n",
              "    border-bottom-color: var(--fill-color);\n",
              "    animation:\n",
              "      spin 1s steps(1) infinite;\n",
              "  }\n",
              "\n",
              "  @keyframes spin {\n",
              "    0% {\n",
              "      border-color: transparent;\n",
              "      border-bottom-color: var(--fill-color);\n",
              "      border-left-color: var(--fill-color);\n",
              "    }\n",
              "    20% {\n",
              "      border-color: transparent;\n",
              "      border-left-color: var(--fill-color);\n",
              "      border-top-color: var(--fill-color);\n",
              "    }\n",
              "    30% {\n",
              "      border-color: transparent;\n",
              "      border-left-color: var(--fill-color);\n",
              "      border-top-color: var(--fill-color);\n",
              "      border-right-color: var(--fill-color);\n",
              "    }\n",
              "    40% {\n",
              "      border-color: transparent;\n",
              "      border-right-color: var(--fill-color);\n",
              "      border-top-color: var(--fill-color);\n",
              "    }\n",
              "    60% {\n",
              "      border-color: transparent;\n",
              "      border-right-color: var(--fill-color);\n",
              "    }\n",
              "    80% {\n",
              "      border-color: transparent;\n",
              "      border-right-color: var(--fill-color);\n",
              "      border-bottom-color: var(--fill-color);\n",
              "    }\n",
              "    90% {\n",
              "      border-color: transparent;\n",
              "      border-bottom-color: var(--fill-color);\n",
              "    }\n",
              "  }\n",
              "</style>\n",
              "\n",
              "  <script>\n",
              "    async function quickchart(key) {\n",
              "      const quickchartButtonEl =\n",
              "        document.querySelector('#' + key + ' button');\n",
              "      quickchartButtonEl.disabled = true;  // To prevent multiple clicks.\n",
              "      quickchartButtonEl.classList.add('colab-df-spinner');\n",
              "      try {\n",
              "        const charts = await google.colab.kernel.invokeFunction(\n",
              "            'suggestCharts', [key], {});\n",
              "      } catch (error) {\n",
              "        console.error('Error during call to suggestCharts:', error);\n",
              "      }\n",
              "      quickchartButtonEl.classList.remove('colab-df-spinner');\n",
              "      quickchartButtonEl.classList.add('colab-df-quickchart-complete');\n",
              "    }\n",
              "    (() => {\n",
              "      let quickchartButtonEl =\n",
              "        document.querySelector('#df-7815b6f3-e565-4a97-81b7-5040d0062a31 button');\n",
              "      quickchartButtonEl.style.display =\n",
              "        google.colab.kernel.accessAllowed ? 'block' : 'none';\n",
              "    })();\n",
              "  </script>\n",
              "</div>\n",
              "\n",
              "    </div>\n",
              "  </div>\n"
            ],
            "application/vnd.google.colaboratory.intrinsic+json": {
              "type": "dataframe",
              "summary": "{\n  \"name\": \"df_loan_tr[[\\\"loan_purpose\\\", \\\"loan_purpose_cat\\\"]]\",\n  \"rows\": 3,\n  \"fields\": [\n    {\n      \"column\": \"loan_purpose\",\n      \"properties\": {\n        \"dtype\": \"category\",\n        \"num_unique_values\": 2,\n        \"samples\": [\n          \"other\",\n          \"investment\"\n        ],\n        \"semantic_type\": \"\",\n        \"description\": \"\"\n      }\n    },\n    {\n      \"column\": \"loan_purpose_cat\",\n      \"properties\": {\n        \"dtype\": \"int8\",\n        \"num_unique_values\": 2,\n        \"samples\": [\n          4,\n          3\n        ],\n        \"semantic_type\": \"\",\n        \"description\": \"\"\n      }\n    }\n  ]\n}"
            }
          },
          "metadata": {},
          "execution_count": 49
        }
      ],
      "source": [
        "# Convert the datatypes of the feature to 'category' before Label encoding.\n",
        "df_loan_tr[\"loan_purpose\"] = df_loan_tr[\"loan_purpose\"].astype('category')\n",
        "\n",
        "# Label Encoding\n",
        "df_loan_tr[\"loan_purpose_cat\"] = df_loan_tr[\"loan_purpose\"].cat.codes\n",
        "\n",
        "df_loan_tr[[\"loan_purpose\", \"loan_purpose_cat\"]].head(3)"
      ]
    },
    {
      "cell_type": "code",
      "execution_count": 50,
      "metadata": {
        "colab": {
          "base_uri": "https://localhost:8080/",
          "height": 803
        },
        "id": "RcEVI42pPpjw",
        "outputId": "4aa8de4d-6519-4fc8-bcf9-8c79ad1d00e4"
      },
      "outputs": [
        {
          "output_type": "execute_result",
          "data": {
            "text/plain": [
              "                                                 Missing_Value_Count  \\\n",
              "fully_repaid_previous_loans                                    54947   \n",
              "currently_repaying_other_loans                                 54947   \n",
              "loan_repaid                                                    53446   \n",
              "avg_percentage_credit_card_limit_used_last_year                 6972   \n",
              "loan_granted                                                       0   \n",
              "date                                                               0   \n",
              "loan_purpose                                                       0   \n",
              "loan_id                                                            0   \n",
              "is_first_loan                                                      0   \n",
              "total_credit_card_limit                                            0   \n",
              "saving_amount                                                      0   \n",
              "checking_amount                                                    0   \n",
              "is_employed                                                        0   \n",
              "yearly_salary                                                      0   \n",
              "age                                                                0   \n",
              "dependent_number                                                   0   \n",
              "loan_quality                                                       0   \n",
              "year                                                               0   \n",
              "month                                                              0   \n",
              "day                                                                0   \n",
              "quarter                                                            0   \n",
              "semester                                                           0   \n",
              "dayofweek                                                          0   \n",
              "loan_purpose_cat                                                   0   \n",
              "\n",
              "                                                 Missing_Value_Percentage  \n",
              "fully_repaid_previous_loans                                         54.35  \n",
              "currently_repaying_other_loans                                      54.35  \n",
              "loan_repaid                                                         52.86  \n",
              "avg_percentage_credit_card_limit_used_last_year                      6.90  \n",
              "loan_granted                                                         0.00  \n",
              "date                                                                 0.00  \n",
              "loan_purpose                                                         0.00  \n",
              "loan_id                                                              0.00  \n",
              "is_first_loan                                                        0.00  \n",
              "total_credit_card_limit                                              0.00  \n",
              "saving_amount                                                        0.00  \n",
              "checking_amount                                                      0.00  \n",
              "is_employed                                                          0.00  \n",
              "yearly_salary                                                        0.00  \n",
              "age                                                                  0.00  \n",
              "dependent_number                                                     0.00  \n",
              "loan_quality                                                         0.00  \n",
              "year                                                                 0.00  \n",
              "month                                                                0.00  \n",
              "day                                                                  0.00  \n",
              "quarter                                                              0.00  \n",
              "semester                                                             0.00  \n",
              "dayofweek                                                            0.00  \n",
              "loan_purpose_cat                                                     0.00  "
            ],
            "text/html": [
              "\n",
              "  <div id=\"df-871dcfbd-afcb-425f-bc4a-6f5d93e076f3\" class=\"colab-df-container\">\n",
              "    <div>\n",
              "<style scoped>\n",
              "    .dataframe tbody tr th:only-of-type {\n",
              "        vertical-align: middle;\n",
              "    }\n",
              "\n",
              "    .dataframe tbody tr th {\n",
              "        vertical-align: top;\n",
              "    }\n",
              "\n",
              "    .dataframe thead th {\n",
              "        text-align: right;\n",
              "    }\n",
              "</style>\n",
              "<table border=\"1\" class=\"dataframe\">\n",
              "  <thead>\n",
              "    <tr style=\"text-align: right;\">\n",
              "      <th></th>\n",
              "      <th>Missing_Value_Count</th>\n",
              "      <th>Missing_Value_Percentage</th>\n",
              "    </tr>\n",
              "  </thead>\n",
              "  <tbody>\n",
              "    <tr>\n",
              "      <th>fully_repaid_previous_loans</th>\n",
              "      <td>54947</td>\n",
              "      <td>54.35</td>\n",
              "    </tr>\n",
              "    <tr>\n",
              "      <th>currently_repaying_other_loans</th>\n",
              "      <td>54947</td>\n",
              "      <td>54.35</td>\n",
              "    </tr>\n",
              "    <tr>\n",
              "      <th>loan_repaid</th>\n",
              "      <td>53446</td>\n",
              "      <td>52.86</td>\n",
              "    </tr>\n",
              "    <tr>\n",
              "      <th>avg_percentage_credit_card_limit_used_last_year</th>\n",
              "      <td>6972</td>\n",
              "      <td>6.90</td>\n",
              "    </tr>\n",
              "    <tr>\n",
              "      <th>loan_granted</th>\n",
              "      <td>0</td>\n",
              "      <td>0.00</td>\n",
              "    </tr>\n",
              "    <tr>\n",
              "      <th>date</th>\n",
              "      <td>0</td>\n",
              "      <td>0.00</td>\n",
              "    </tr>\n",
              "    <tr>\n",
              "      <th>loan_purpose</th>\n",
              "      <td>0</td>\n",
              "      <td>0.00</td>\n",
              "    </tr>\n",
              "    <tr>\n",
              "      <th>loan_id</th>\n",
              "      <td>0</td>\n",
              "      <td>0.00</td>\n",
              "    </tr>\n",
              "    <tr>\n",
              "      <th>is_first_loan</th>\n",
              "      <td>0</td>\n",
              "      <td>0.00</td>\n",
              "    </tr>\n",
              "    <tr>\n",
              "      <th>total_credit_card_limit</th>\n",
              "      <td>0</td>\n",
              "      <td>0.00</td>\n",
              "    </tr>\n",
              "    <tr>\n",
              "      <th>saving_amount</th>\n",
              "      <td>0</td>\n",
              "      <td>0.00</td>\n",
              "    </tr>\n",
              "    <tr>\n",
              "      <th>checking_amount</th>\n",
              "      <td>0</td>\n",
              "      <td>0.00</td>\n",
              "    </tr>\n",
              "    <tr>\n",
              "      <th>is_employed</th>\n",
              "      <td>0</td>\n",
              "      <td>0.00</td>\n",
              "    </tr>\n",
              "    <tr>\n",
              "      <th>yearly_salary</th>\n",
              "      <td>0</td>\n",
              "      <td>0.00</td>\n",
              "    </tr>\n",
              "    <tr>\n",
              "      <th>age</th>\n",
              "      <td>0</td>\n",
              "      <td>0.00</td>\n",
              "    </tr>\n",
              "    <tr>\n",
              "      <th>dependent_number</th>\n",
              "      <td>0</td>\n",
              "      <td>0.00</td>\n",
              "    </tr>\n",
              "    <tr>\n",
              "      <th>loan_quality</th>\n",
              "      <td>0</td>\n",
              "      <td>0.00</td>\n",
              "    </tr>\n",
              "    <tr>\n",
              "      <th>year</th>\n",
              "      <td>0</td>\n",
              "      <td>0.00</td>\n",
              "    </tr>\n",
              "    <tr>\n",
              "      <th>month</th>\n",
              "      <td>0</td>\n",
              "      <td>0.00</td>\n",
              "    </tr>\n",
              "    <tr>\n",
              "      <th>day</th>\n",
              "      <td>0</td>\n",
              "      <td>0.00</td>\n",
              "    </tr>\n",
              "    <tr>\n",
              "      <th>quarter</th>\n",
              "      <td>0</td>\n",
              "      <td>0.00</td>\n",
              "    </tr>\n",
              "    <tr>\n",
              "      <th>semester</th>\n",
              "      <td>0</td>\n",
              "      <td>0.00</td>\n",
              "    </tr>\n",
              "    <tr>\n",
              "      <th>dayofweek</th>\n",
              "      <td>0</td>\n",
              "      <td>0.00</td>\n",
              "    </tr>\n",
              "    <tr>\n",
              "      <th>loan_purpose_cat</th>\n",
              "      <td>0</td>\n",
              "      <td>0.00</td>\n",
              "    </tr>\n",
              "  </tbody>\n",
              "</table>\n",
              "</div>\n",
              "    <div class=\"colab-df-buttons\">\n",
              "\n",
              "  <div class=\"colab-df-container\">\n",
              "    <button class=\"colab-df-convert\" onclick=\"convertToInteractive('df-871dcfbd-afcb-425f-bc4a-6f5d93e076f3')\"\n",
              "            title=\"Convert this dataframe to an interactive table.\"\n",
              "            style=\"display:none;\">\n",
              "\n",
              "  <svg xmlns=\"http://www.w3.org/2000/svg\" height=\"24px\" viewBox=\"0 -960 960 960\">\n",
              "    <path d=\"M120-120v-720h720v720H120Zm60-500h600v-160H180v160Zm220 220h160v-160H400v160Zm0 220h160v-160H400v160ZM180-400h160v-160H180v160Zm440 0h160v-160H620v160ZM180-180h160v-160H180v160Zm440 0h160v-160H620v160Z\"/>\n",
              "  </svg>\n",
              "    </button>\n",
              "\n",
              "  <style>\n",
              "    .colab-df-container {\n",
              "      display:flex;\n",
              "      gap: 12px;\n",
              "    }\n",
              "\n",
              "    .colab-df-convert {\n",
              "      background-color: #E8F0FE;\n",
              "      border: none;\n",
              "      border-radius: 50%;\n",
              "      cursor: pointer;\n",
              "      display: none;\n",
              "      fill: #1967D2;\n",
              "      height: 32px;\n",
              "      padding: 0 0 0 0;\n",
              "      width: 32px;\n",
              "    }\n",
              "\n",
              "    .colab-df-convert:hover {\n",
              "      background-color: #E2EBFA;\n",
              "      box-shadow: 0px 1px 2px rgba(60, 64, 67, 0.3), 0px 1px 3px 1px rgba(60, 64, 67, 0.15);\n",
              "      fill: #174EA6;\n",
              "    }\n",
              "\n",
              "    .colab-df-buttons div {\n",
              "      margin-bottom: 4px;\n",
              "    }\n",
              "\n",
              "    [theme=dark] .colab-df-convert {\n",
              "      background-color: #3B4455;\n",
              "      fill: #D2E3FC;\n",
              "    }\n",
              "\n",
              "    [theme=dark] .colab-df-convert:hover {\n",
              "      background-color: #434B5C;\n",
              "      box-shadow: 0px 1px 3px 1px rgba(0, 0, 0, 0.15);\n",
              "      filter: drop-shadow(0px 1px 2px rgba(0, 0, 0, 0.3));\n",
              "      fill: #FFFFFF;\n",
              "    }\n",
              "  </style>\n",
              "\n",
              "    <script>\n",
              "      const buttonEl =\n",
              "        document.querySelector('#df-871dcfbd-afcb-425f-bc4a-6f5d93e076f3 button.colab-df-convert');\n",
              "      buttonEl.style.display =\n",
              "        google.colab.kernel.accessAllowed ? 'block' : 'none';\n",
              "\n",
              "      async function convertToInteractive(key) {\n",
              "        const element = document.querySelector('#df-871dcfbd-afcb-425f-bc4a-6f5d93e076f3');\n",
              "        const dataTable =\n",
              "          await google.colab.kernel.invokeFunction('convertToInteractive',\n",
              "                                                    [key], {});\n",
              "        if (!dataTable) return;\n",
              "\n",
              "        const docLinkHtml = 'Like what you see? Visit the ' +\n",
              "          '<a target=\"_blank\" href=https://colab.research.google.com/notebooks/data_table.ipynb>data table notebook</a>'\n",
              "          + ' to learn more about interactive tables.';\n",
              "        element.innerHTML = '';\n",
              "        dataTable['output_type'] = 'display_data';\n",
              "        await google.colab.output.renderOutput(dataTable, element);\n",
              "        const docLink = document.createElement('div');\n",
              "        docLink.innerHTML = docLinkHtml;\n",
              "        element.appendChild(docLink);\n",
              "      }\n",
              "    </script>\n",
              "  </div>\n",
              "\n",
              "\n",
              "<div id=\"df-78e4facb-73e4-420f-883c-22ee88c7216b\">\n",
              "  <button class=\"colab-df-quickchart\" onclick=\"quickchart('df-78e4facb-73e4-420f-883c-22ee88c7216b')\"\n",
              "            title=\"Suggest charts\"\n",
              "            style=\"display:none;\">\n",
              "\n",
              "<svg xmlns=\"http://www.w3.org/2000/svg\" height=\"24px\"viewBox=\"0 0 24 24\"\n",
              "     width=\"24px\">\n",
              "    <g>\n",
              "        <path d=\"M19 3H5c-1.1 0-2 .9-2 2v14c0 1.1.9 2 2 2h14c1.1 0 2-.9 2-2V5c0-1.1-.9-2-2-2zM9 17H7v-7h2v7zm4 0h-2V7h2v10zm4 0h-2v-4h2v4z\"/>\n",
              "    </g>\n",
              "</svg>\n",
              "  </button>\n",
              "\n",
              "<style>\n",
              "  .colab-df-quickchart {\n",
              "      --bg-color: #E8F0FE;\n",
              "      --fill-color: #1967D2;\n",
              "      --hover-bg-color: #E2EBFA;\n",
              "      --hover-fill-color: #174EA6;\n",
              "      --disabled-fill-color: #AAA;\n",
              "      --disabled-bg-color: #DDD;\n",
              "  }\n",
              "\n",
              "  [theme=dark] .colab-df-quickchart {\n",
              "      --bg-color: #3B4455;\n",
              "      --fill-color: #D2E3FC;\n",
              "      --hover-bg-color: #434B5C;\n",
              "      --hover-fill-color: #FFFFFF;\n",
              "      --disabled-bg-color: #3B4455;\n",
              "      --disabled-fill-color: #666;\n",
              "  }\n",
              "\n",
              "  .colab-df-quickchart {\n",
              "    background-color: var(--bg-color);\n",
              "    border: none;\n",
              "    border-radius: 50%;\n",
              "    cursor: pointer;\n",
              "    display: none;\n",
              "    fill: var(--fill-color);\n",
              "    height: 32px;\n",
              "    padding: 0;\n",
              "    width: 32px;\n",
              "  }\n",
              "\n",
              "  .colab-df-quickchart:hover {\n",
              "    background-color: var(--hover-bg-color);\n",
              "    box-shadow: 0 1px 2px rgba(60, 64, 67, 0.3), 0 1px 3px 1px rgba(60, 64, 67, 0.15);\n",
              "    fill: var(--button-hover-fill-color);\n",
              "  }\n",
              "\n",
              "  .colab-df-quickchart-complete:disabled,\n",
              "  .colab-df-quickchart-complete:disabled:hover {\n",
              "    background-color: var(--disabled-bg-color);\n",
              "    fill: var(--disabled-fill-color);\n",
              "    box-shadow: none;\n",
              "  }\n",
              "\n",
              "  .colab-df-spinner {\n",
              "    border: 2px solid var(--fill-color);\n",
              "    border-color: transparent;\n",
              "    border-bottom-color: var(--fill-color);\n",
              "    animation:\n",
              "      spin 1s steps(1) infinite;\n",
              "  }\n",
              "\n",
              "  @keyframes spin {\n",
              "    0% {\n",
              "      border-color: transparent;\n",
              "      border-bottom-color: var(--fill-color);\n",
              "      border-left-color: var(--fill-color);\n",
              "    }\n",
              "    20% {\n",
              "      border-color: transparent;\n",
              "      border-left-color: var(--fill-color);\n",
              "      border-top-color: var(--fill-color);\n",
              "    }\n",
              "    30% {\n",
              "      border-color: transparent;\n",
              "      border-left-color: var(--fill-color);\n",
              "      border-top-color: var(--fill-color);\n",
              "      border-right-color: var(--fill-color);\n",
              "    }\n",
              "    40% {\n",
              "      border-color: transparent;\n",
              "      border-right-color: var(--fill-color);\n",
              "      border-top-color: var(--fill-color);\n",
              "    }\n",
              "    60% {\n",
              "      border-color: transparent;\n",
              "      border-right-color: var(--fill-color);\n",
              "    }\n",
              "    80% {\n",
              "      border-color: transparent;\n",
              "      border-right-color: var(--fill-color);\n",
              "      border-bottom-color: var(--fill-color);\n",
              "    }\n",
              "    90% {\n",
              "      border-color: transparent;\n",
              "      border-bottom-color: var(--fill-color);\n",
              "    }\n",
              "  }\n",
              "</style>\n",
              "\n",
              "  <script>\n",
              "    async function quickchart(key) {\n",
              "      const quickchartButtonEl =\n",
              "        document.querySelector('#' + key + ' button');\n",
              "      quickchartButtonEl.disabled = true;  // To prevent multiple clicks.\n",
              "      quickchartButtonEl.classList.add('colab-df-spinner');\n",
              "      try {\n",
              "        const charts = await google.colab.kernel.invokeFunction(\n",
              "            'suggestCharts', [key], {});\n",
              "      } catch (error) {\n",
              "        console.error('Error during call to suggestCharts:', error);\n",
              "      }\n",
              "      quickchartButtonEl.classList.remove('colab-df-spinner');\n",
              "      quickchartButtonEl.classList.add('colab-df-quickchart-complete');\n",
              "    }\n",
              "    (() => {\n",
              "      let quickchartButtonEl =\n",
              "        document.querySelector('#df-78e4facb-73e4-420f-883c-22ee88c7216b button');\n",
              "      quickchartButtonEl.style.display =\n",
              "        google.colab.kernel.accessAllowed ? 'block' : 'none';\n",
              "    })();\n",
              "  </script>\n",
              "</div>\n",
              "\n",
              "    </div>\n",
              "  </div>\n"
            ],
            "application/vnd.google.colaboratory.intrinsic+json": {
              "type": "dataframe",
              "summary": "{\n  \"name\": \"missing_value_df_loan_tr\",\n  \"rows\": 24,\n  \"fields\": [\n    {\n      \"column\": \"Missing_Value_Count\",\n      \"properties\": {\n        \"dtype\": \"number\",\n        \"std\": 18338,\n        \"min\": 0,\n        \"max\": 54947,\n        \"num_unique_values\": 4,\n        \"samples\": [\n          53446,\n          0,\n          54947\n        ],\n        \"semantic_type\": \"\",\n        \"description\": \"\"\n      }\n    },\n    {\n      \"column\": \"Missing_Value_Percentage\",\n      \"properties\": {\n        \"dtype\": \"number\",\n        \"std\": 18.138579810344353,\n        \"min\": 0.0,\n        \"max\": 54.35,\n        \"num_unique_values\": 4,\n        \"samples\": [\n          52.86,\n          0.0,\n          54.35\n        ],\n        \"semantic_type\": \"\",\n        \"description\": \"\"\n      }\n    }\n  ]\n}"
            }
          },
          "metadata": {},
          "execution_count": 50
        }
      ],
      "source": [
        "# Calculate missing value count and percentage\n",
        "\n",
        "missing_value_df_loan_tr = pd.DataFrame(index = df_loan_tr.keys(), data =df_loan_tr.isnull().sum(), columns = ['Missing_Value_Count'])\n",
        "\n",
        "missing_value_df_loan_tr['Missing_Value_Percentage'] = np.round(((df_loan_tr.isnull().mean())*100),2)\n",
        "\n",
        "missing_value_df_loan_tr.sort_values('Missing_Value_Count',ascending= False)"
      ]
    },
    {
      "cell_type": "markdown",
      "metadata": {
        "id": "30EfpqRSQFz4"
      },
      "source": [
        "### **Imputation**"
      ]
    },
    {
      "cell_type": "code",
      "execution_count": 51,
      "metadata": {
        "colab": {
          "base_uri": "https://localhost:8080/"
        },
        "id": "fh-zFwGUPxfe",
        "outputId": "b091bd4c-b7b3-409a-898c-1de5aba2763d"
      },
      "outputs": [
        {
          "output_type": "stream",
          "name": "stdout",
          "text": [
            "[nan  1.  0.]\n",
            "[1]\n"
          ]
        }
      ],
      "source": [
        "print(df_loan_tr['fully_repaid_previous_loans'].unique())\n",
        "\n",
        "print(df_loan_tr.loc[df_loan_tr['fully_repaid_previous_loans'].isnull()]['is_first_loan'].unique())\n",
        "\n",
        "# Impute fully_repaid_previous_loans with some numerical values for all the first loans"
      ]
    },
    {
      "cell_type": "code",
      "execution_count": 52,
      "metadata": {
        "colab": {
          "base_uri": "https://localhost:8080/"
        },
        "id": "KXiXp78LP7xO",
        "outputId": "5bb36f81-bf47-4738-c857-8f03949af5cd"
      },
      "outputs": [
        {
          "output_type": "stream",
          "name": "stdout",
          "text": [
            "[nan  0.  1.]\n",
            "[1]\n"
          ]
        }
      ],
      "source": [
        "print(df_loan_tr['currently_repaying_other_loans'].unique())\n",
        "\n",
        "print(df_loan_tr.loc[df_loan_tr['currently_repaying_other_loans'].isnull()]['is_first_loan'].unique())\n",
        "\n",
        "# Impute currently_repaying_other_loans with some numerical values for all the first loans"
      ]
    },
    {
      "cell_type": "code",
      "execution_count": 53,
      "metadata": {
        "colab": {
          "base_uri": "https://localhost:8080/"
        },
        "id": "nij42gKpP_CT",
        "outputId": "3cc82d75-bc90-42ce-e92b-dfb86a48bc72"
      },
      "outputs": [
        {
          "output_type": "stream",
          "name": "stdout",
          "text": [
            "[0]\n",
            "[nan]\n"
          ]
        }
      ],
      "source": [
        "# print(df_loan_tr['avg_percentage_credit_card_limit_used_last_year'].unique())\n",
        "\n",
        "print(df_loan_tr.loc[df_loan_tr['avg_percentage_credit_card_limit_used_last_year'].isnull()]['total_credit_card_limit'].unique())\n",
        "\n",
        "print(df_loan_tr.loc[df_loan_tr['total_credit_card_limit']==0]['avg_percentage_credit_card_limit_used_last_year'].unique())"
      ]
    },
    {
      "cell_type": "code",
      "execution_count": 54,
      "metadata": {
        "id": "frTE-reWQGWI"
      },
      "outputs": [],
      "source": [
        "# replace null with -1\n",
        "\n",
        "df_loan_tr['fully_repaid_previous_loans'].fillna(-1, inplace=True)\n",
        "\n",
        "df_loan_tr['currently_repaying_other_loans'].fillna(-1, inplace=True)\n",
        "\n",
        "df_loan_tr['avg_percentage_credit_card_limit_used_last_year'].fillna(-1, inplace=True)"
      ]
    },
    {
      "cell_type": "markdown",
      "metadata": {
        "id": "9OdusBMXQUId"
      },
      "source": [
        "### **Feature Selection**"
      ]
    },
    {
      "cell_type": "code",
      "execution_count": 55,
      "metadata": {
        "id": "6iMHs09mQXA1"
      },
      "outputs": [],
      "source": [
        "feature_set = ['is_first_loan',\n",
        "'fully_repaid_previous_loans',\n",
        "'currently_repaying_other_loans',\n",
        "'total_credit_card_limit',\n",
        "'avg_percentage_credit_card_limit_used_last_year',\n",
        "'saving_amount',\n",
        "'checking_amount',\n",
        "'is_employed',\n",
        "'yearly_salary',\n",
        "'age',\n",
        "'dependent_number',\n",
        "'loan_purpose_cat']"
      ]
    },
    {
      "cell_type": "code",
      "execution_count": 56,
      "metadata": {
        "colab": {
          "base_uri": "https://localhost:8080/"
        },
        "id": "LoVpyayVQr-s",
        "outputId": "aae59237-71e1-41ae-d520-baa89fb9db15"
      },
      "outputs": [
        {
          "output_type": "stream",
          "name": "stdout",
          "text": [
            "#loan_id: 47654 \n"
          ]
        }
      ],
      "source": [
        "## Train and test on granted loans\n",
        "\n",
        "granted_loan = df_loan_tr.loc[(df_loan_tr['loan_quality'] == 1) | (df_loan_tr['loan_quality'] == 0)]\n",
        "\n",
        "print(f'#loan_id: {granted_loan.shape[0]} ')"
      ]
    },
    {
      "cell_type": "code",
      "execution_count": 57,
      "metadata": {
        "colab": {
          "base_uri": "https://localhost:8080/"
        },
        "id": "HLIS0wUiQuIP",
        "outputId": "0258268b-558b-4403-d7fa-c546d6170594"
      },
      "outputs": [
        {
          "output_type": "stream",
          "name": "stdout",
          "text": [
            "cross check the target values\n",
            "------------------------------\n",
            "[0. 1.]\n",
            "[1]\n",
            "[1. 0.]\n"
          ]
        }
      ],
      "source": [
        "# Cross check Target values\n",
        "\n",
        "print('cross check the target values')\n",
        "\n",
        "print('--'*15)\n",
        "\n",
        "print(granted_loan['loan_quality'].unique())\n",
        "print(granted_loan['loan_granted'].unique())\n",
        "print(granted_loan['loan_repaid'].unique())"
      ]
    },
    {
      "cell_type": "code",
      "execution_count": 58,
      "metadata": {
        "colab": {
          "base_uri": "https://localhost:8080/"
        },
        "id": "5QqEzmU4Q8cc",
        "outputId": "3980a2d9-7a13-4e65-c731-ffc9ee80c334"
      },
      "outputs": [
        {
          "output_type": "stream",
          "name": "stdout",
          "text": [
            "#loan_id: 53446 \n"
          ]
        }
      ],
      "source": [
        "## Predict / Score Population on ungranted loans\n",
        "\n",
        "ungranted_loan = df_loan_tr.loc[(df_loan_tr['loan_quality'] == -1)]\n",
        "\n",
        "print(f'#loan_id: {ungranted_loan.shape[0]} ')"
      ]
    },
    {
      "cell_type": "code",
      "execution_count": 59,
      "metadata": {
        "colab": {
          "base_uri": "https://localhost:8080/"
        },
        "id": "MYffzjkcRGvu",
        "outputId": "ca68fb2a-de40-47a9-8bfc-7844d8997d09"
      },
      "outputs": [
        {
          "output_type": "stream",
          "name": "stdout",
          "text": [
            "cross check the target values\n",
            "------------------------------\n",
            "[-1.]\n",
            "[0]\n",
            "[nan]\n"
          ]
        }
      ],
      "source": [
        "print('cross check the target values')\n",
        "\n",
        "print('--'*15)\n",
        "\n",
        "print(ungranted_loan['loan_quality'].unique())\n",
        "print(ungranted_loan['loan_granted'].unique())\n",
        "print(ungranted_loan['loan_repaid'].unique())"
      ]
    },
    {
      "cell_type": "markdown",
      "metadata": {
        "id": "4xJYM0exRLsj"
      },
      "source": [
        "## **Train & Test Preparation**"
      ]
    },
    {
      "cell_type": "code",
      "execution_count": 60,
      "metadata": {
        "colab": {
          "base_uri": "https://localhost:8080/"
        },
        "id": "X4k0OyVgRQlH",
        "outputId": "85dbc0dd-13ca-4070-e0c1-386f9fca4b7a"
      },
      "outputs": [
        {
          "output_type": "stream",
          "name": "stdout",
          "text": [
            "(35609, 24)\n"
          ]
        }
      ],
      "source": [
        "train_granted = granted_loan.loc[~(granted_loan['month'].isin([1,2,3]))]\n",
        "exog_train_granted = train_granted[feature_set]\n",
        "endog_train_granted = train_granted['loan_quality']\n",
        "\n",
        "print(train_granted.shape)"
      ]
    },
    {
      "cell_type": "code",
      "execution_count": 61,
      "metadata": {
        "id": "2eHua7BQRXOI"
      },
      "outputs": [],
      "source": [
        "# Insample train and validation split\n",
        "\n",
        "from sklearn.model_selection import cross_val_score, train_test_split\n",
        "\n",
        "x_train, x_val, y_train, y_val = train_test_split(exog_train_granted, endog_train_granted, test_size=0.1, random_state=42)"
      ]
    },
    {
      "cell_type": "code",
      "execution_count": 62,
      "metadata": {
        "colab": {
          "base_uri": "https://localhost:8080/"
        },
        "id": "Rg0dI3woRzgd",
        "outputId": "48c64493-3fd8-4093-df02-ed9afa806510"
      },
      "outputs": [
        {
          "output_type": "stream",
          "name": "stdout",
          "text": [
            "(12045, 24)\n"
          ]
        }
      ],
      "source": [
        "# Test data\n",
        "\n",
        "test_granted = granted_loan.loc[(granted_loan['month'].isin([1,2,3]))]\n",
        "exog_test = test_granted[feature_set]\n",
        "\n",
        "print(test_granted.shape)"
      ]
    },
    {
      "cell_type": "code",
      "execution_count": 63,
      "metadata": {
        "colab": {
          "base_uri": "https://localhost:8080/"
        },
        "id": "A9KdyCYfR7sZ",
        "outputId": "e64514ca-773d-475d-8fe2-149feacd17a6"
      },
      "outputs": [
        {
          "output_type": "execute_result",
          "data": {
            "text/plain": [
              "array([0., 1.])"
            ]
          },
          "metadata": {},
          "execution_count": 63
        }
      ],
      "source": [
        "test_granted['loan_quality'].unique()"
      ]
    },
    {
      "cell_type": "markdown",
      "metadata": {
        "id": "ajT7yX16nxQH"
      },
      "source": [
        "### **Data Scaling**"
      ]
    },
    {
      "cell_type": "code",
      "execution_count": 64,
      "metadata": {
        "colab": {
          "base_uri": "https://localhost:8080/",
          "height": 35
        },
        "id": "MaJnWgR4EjoM",
        "outputId": "ac970dd9-096d-495e-bcb9-3ed29328c41f"
      },
      "outputs": [
        {
          "output_type": "execute_result",
          "data": {
            "text/plain": [
              "'\\nfrom sklearn.preprocessing import MinMaxScaler\\n\\nscaler = MinMaxScaler()\\nx_train = scaler.fit_transform(x_train)\\nexog_test = scaler.transform(exog_test)\\n'"
            ],
            "application/vnd.google.colaboratory.intrinsic+json": {
              "type": "string"
            }
          },
          "metadata": {},
          "execution_count": 64
        }
      ],
      "source": [
        "#Data Scaling\n",
        "'''\n",
        "from sklearn.preprocessing import MinMaxScaler\n",
        "\n",
        "scaler = MinMaxScaler()\n",
        "x_train = scaler.fit_transform(x_train)\n",
        "exog_test = scaler.transform(exog_test)\n",
        "'''"
      ]
    },
    {
      "cell_type": "code",
      "execution_count": 65,
      "metadata": {
        "colab": {
          "base_uri": "https://localhost:8080/",
          "height": 35
        },
        "id": "e4h1PolTUstf",
        "outputId": "40b45ab7-f7cf-44ef-b07d-3b8a7353b40e"
      },
      "outputs": [
        {
          "output_type": "execute_result",
          "data": {
            "text/plain": [
              "'\\nfrom sklearn.preprocessing import StandardScaler\\n\\nscaler = StandardScaler()\\nx_train = scaler.fit_transform(x_train)\\nexog_test = scaler.transform(exog_test)\\n'"
            ],
            "application/vnd.google.colaboratory.intrinsic+json": {
              "type": "string"
            }
          },
          "metadata": {},
          "execution_count": 65
        }
      ],
      "source": [
        "'''\n",
        "from sklearn.preprocessing import StandardScaler\n",
        "\n",
        "scaler = StandardScaler()\n",
        "x_train = scaler.fit_transform(x_train)\n",
        "exog_test = scaler.transform(exog_test)\n",
        "'''"
      ]
    },
    {
      "cell_type": "code",
      "source": [
        "from sklearn.preprocessing import StandardScaler\n",
        "from sklearn.model_selection import cross_val_score, train_test_split\n",
        "\n",
        "# Filter the training data to exclude the first three months\n",
        "train_granted = granted_loan.loc[~(granted_loan['month'].isin([1,2,3]))]\n",
        "exog_train_granted = train_granted[feature_set]\n",
        "endog_train_granted = train_granted['loan_quality']\n",
        "\n",
        "# Initialize the scaler\n",
        "scaler = StandardScaler()\n",
        "\n",
        "# Fit the scaler on the training data and transform it\n",
        "exog_train_granted_scaled = scaler.fit_transform(exog_train_granted)\n",
        "\n",
        "# Split the data into training and validation sets\n",
        "x_train, x_val, y_train, y_val = train_test_split(exog_train_granted_scaled, endog_train_granted, test_size=0.1, random_state=42)\n",
        "\n",
        "# Test data\n",
        "test_granted = granted_loan.loc[(granted_loan['month'].isin([1,2,3]))]\n",
        "exog_test = test_granted[feature_set]\n",
        "\n",
        "# Transform the test data using the same scaler\n",
        "exog_test_scaled = scaler.transform(exog_test)\n",
        "\n",
        "# Now exog_train_granted_scaled and exog_test_scaled can be used for training and testing the SVM model.\n"
      ],
      "metadata": {
        "id": "5syTzWWrVLxC"
      },
      "execution_count": 66,
      "outputs": []
    },
    {
      "cell_type": "markdown",
      "metadata": {
        "id": "tArE5k3pSBLT"
      },
      "source": [
        "## **Modelling**"
      ]
    },
    {
      "cell_type": "markdown",
      "metadata": {
        "id": "6OfzWwvwUEII"
      },
      "source": [
        "## Support Vector Mechine\n",
        "\n"
      ]
    },
    {
      "cell_type": "code",
      "execution_count": 67,
      "metadata": {
        "id": "ezlx7UaBUmPC"
      },
      "outputs": [],
      "source": [
        "from sklearn.svm import SVC# SVM Model\n",
        "svm_model = SVC(random_state=42, max_iter=1000, probability=True)"
      ]
    },
    {
      "cell_type": "code",
      "execution_count": 68,
      "metadata": {
        "colab": {
          "base_uri": "https://localhost:8080/"
        },
        "id": "4k2S0V--bm_7",
        "outputId": "f4893e87-b99e-4333-80da-8bce22a436be"
      },
      "outputs": [
        {
          "output_type": "stream",
          "name": "stdout",
          "text": [
            "Parameters currently in use:\n",
            "\n",
            "{'C': 1.0,\n",
            " 'break_ties': False,\n",
            " 'cache_size': 200,\n",
            " 'class_weight': None,\n",
            " 'coef0': 0.0,\n",
            " 'decision_function_shape': 'ovr',\n",
            " 'degree': 3,\n",
            " 'gamma': 'scale',\n",
            " 'kernel': 'rbf',\n",
            " 'max_iter': 1000,\n",
            " 'probability': True,\n",
            " 'random_state': 42,\n",
            " 'shrinking': True,\n",
            " 'tol': 0.001,\n",
            " 'verbose': False}\n"
          ]
        }
      ],
      "source": [
        "# Parameters used by the current SVM model\n",
        "print('Parameters currently in use:\\n')\n",
        "pprint(svm_model.get_params())"
      ]
    },
    {
      "cell_type": "code",
      "execution_count": 69,
      "metadata": {
        "colab": {
          "base_uri": "https://localhost:8080/"
        },
        "id": "0FFTf2spbx6k",
        "outputId": "23c1f452-d693-4dbf-f44d-31611eac60c1"
      },
      "outputs": [
        {
          "output_type": "stream",
          "name": "stderr",
          "text": [
            "/usr/local/lib/python3.10/dist-packages/sklearn/svm/_base.py:297: ConvergenceWarning: Solver terminated early (max_iter=5000).  Consider pre-processing your data with StandardScaler or MinMaxScaler.\n",
            "  warnings.warn(\n"
          ]
        },
        {
          "output_type": "stream",
          "name": "stdout",
          "text": [
            "Model Performance:\n",
            "----------\n",
            "----------\n",
            "ROC = 0.97%\n"
          ]
        }
      ],
      "source": [
        "# Train the SVM model\n",
        "base_model_svm = SVC(random_state=42, max_iter=5000, kernel='rbf', C=1.0, probability=True)\n",
        "base_model_svm.fit(x_train, y_train)\n",
        "base_accuracy_svm = get_rocauc(base_model_svm, x_val, y_val)"
      ]
    },
    {
      "cell_type": "code",
      "source": [
        "from sklearn.svm import SVC\n",
        "from sklearn.metrics import classification_report, roc_auc_score\n",
        "from sklearn.model_selection import cross_val_score\n",
        "\n",
        "# SVM Model with increased max_iter and adjusted C parameter\n",
        "svm_model = SVC(random_state=42, max_iter=10000, kernel='rbf', C=0.5, probability=True)\n",
        "\n",
        "# Train the SVM model on the scaled training data\n",
        "svm_model.fit(x_train, y_train)\n",
        "\n",
        "# Evaluate the model on the validation data\n",
        "y_val_pred = svm_model.predict(x_val)\n",
        "base_accuracy_svm = roc_auc_score(y_val, svm_model.predict_proba(x_val)[:, 1])\n",
        "\n",
        "print(f\"Validation ROC-AUC Score: {base_accuracy_svm}\")\n",
        "\n",
        "# Print classification report for the training data predictions\n",
        "y_train_pred_svm = svm_model.predict(x_train)\n",
        "print(classification_report(y_train, y_train_pred_svm))\n",
        "\n",
        "# Perform cross-validation to evaluate performance on the scaled training data\n",
        "num_folds = 10\n",
        "cv_scores_svm = cross_val_score(svm_model, x_train, y_train, cv=num_folds)\n",
        "\n",
        "print(\"Cross-validated Accuracy Scores:\", cv_scores_svm)\n",
        "print(\"Mean Accuracy:\", cv_scores_svm.mean())\n"
      ],
      "metadata": {
        "colab": {
          "base_uri": "https://localhost:8080/"
        },
        "id": "vHopcG7LlGZ4",
        "outputId": "64d8f95e-10ce-440a-c1a7-54f417f33e97"
      },
      "execution_count": 70,
      "outputs": [
        {
          "output_type": "stream",
          "name": "stdout",
          "text": [
            "Validation ROC-AUC Score: 0.9718082775244119\n",
            "              precision    recall  f1-score   support\n",
            "\n",
            "         0.0       0.95      0.92      0.94     20634\n",
            "         1.0       0.87      0.92      0.89     11414\n",
            "\n",
            "    accuracy                           0.92     32048\n",
            "   macro avg       0.91      0.92      0.92     32048\n",
            "weighted avg       0.92      0.92      0.92     32048\n",
            "\n",
            "Cross-validated Accuracy Scores: [0.91887676 0.91544462 0.91544462 0.92293292 0.91450858 0.91950078\n",
            " 0.91700468 0.92324493 0.92259675 0.91073658]\n",
            "Mean Accuracy: 0.9180291211648466\n"
          ]
        }
      ]
    },
    {
      "cell_type": "code",
      "source": [
        "from sklearn.metrics import mean_squared_error\n",
        "\n",
        "asvm_rmse = mean_squared_error(y_train,\n",
        "                              svm_model.predict(x_train),\n",
        "                              squared=False) #squared : If True returns MSE value, if False returns RMSE value.\n",
        "print(\"Root Mean Squared Error Scores:\", asvm_rmse)"
      ],
      "metadata": {
        "colab": {
          "base_uri": "https://localhost:8080/"
        },
        "id": "8UnvUz2Mwk1K",
        "outputId": "5f41d90f-a49c-42e5-b5c8-1248a222f24e"
      },
      "execution_count": 71,
      "outputs": [
        {
          "output_type": "stream",
          "name": "stdout",
          "text": [
            "Root Mean Squared Error Scores: 0.2800243374345639\n"
          ]
        }
      ]
    },
    {
      "cell_type": "markdown",
      "source": [
        "###Clear feature 0.1\n"
      ],
      "metadata": {
        "id": "0N3e-LP5Lwld"
      }
    },
    {
      "cell_type": "code",
      "source": [
        "# List of top 6 features based on the importance graph\n",
        "top_features = [\n",
        "    'saving_amount',\n",
        "    'checking_amount',\n",
        "    'yearly_salary',\n",
        "    'total_credit_card_limit',\n",
        "    'currently_repaying_other_loans',\n",
        "    'avg_percentage_credit_card_limit_used_last_year',\n",
        "    'age',\n",
        "    'dependent_number',\n",
        "    'loan_purpose_cat',\n",
        "    'fully_repaid_previous_loans',\n",
        "    'is_employed',\n",
        "    'is_first_loan'\n",
        "]\n",
        "\n",
        "# Select only the top features from the dataset\n",
        "exog_train_granted_top = exog_train_granted[top_features]\n",
        "\n",
        "# Train and validation split\n",
        "x_train, x_val, y_train, y_val = train_test_split(\n",
        "    exog_train_granted_top,\n",
        "    endog_train_granted,\n",
        "    test_size=0.1,\n",
        "    random_state=42\n",
        ")\n"
      ],
      "metadata": {
        "id": "_N8jTjs8D5eL"
      },
      "execution_count": 72,
      "outputs": []
    },
    {
      "cell_type": "code",
      "execution_count": 73,
      "metadata": {
        "colab": {
          "base_uri": "https://localhost:8080/"
        },
        "id": "i98PrNs8MCkX",
        "outputId": "bd0106d8-49f2-425a-b570-d851c55820b4"
      },
      "outputs": [
        {
          "output_type": "stream",
          "name": "stderr",
          "text": [
            "/usr/local/lib/python3.10/dist-packages/sklearn/svm/_base.py:297: ConvergenceWarning: Solver terminated early (max_iter=5000).  Consider pre-processing your data with StandardScaler or MinMaxScaler.\n",
            "  warnings.warn(\n"
          ]
        },
        {
          "output_type": "stream",
          "name": "stdout",
          "text": [
            "Model Performance:\n",
            "----------\n",
            "----------\n",
            "ROC = 0.95%\n"
          ]
        }
      ],
      "source": [
        "# Train the SVM model\n",
        "base_model_svm = SVC(random_state=42, max_iter=5000, kernel='rbf', C=1.0, probability=True)\n",
        "base_model_svm.fit(x_train, y_train)\n",
        "base_accuracy_svm = get_rocauc(base_model_svm, x_val, y_val)"
      ]
    },
    {
      "cell_type": "code",
      "source": [
        "from sklearn.svm import SVC\n",
        "from sklearn.metrics import classification_report, roc_auc_score\n",
        "from sklearn.model_selection import cross_val_score\n",
        "\n",
        "# SVM Model with increased max_iter and adjusted C parameter\n",
        "svm_model = SVC(random_state=42, max_iter=10000, kernel='rbf', C=0.5, probability=True)\n",
        "\n",
        "# Train the SVM model on the scaled training data\n",
        "svm_model.fit(x_train, y_train)\n",
        "\n",
        "# Evaluate the model on the validation data\n",
        "y_val_pred = svm_model.predict(x_val)\n",
        "base_accuracy_svm = roc_auc_score(y_val, svm_model.predict_proba(x_val)[:, 1])\n",
        "\n",
        "print(f\"Validation ROC-AUC Score: {base_accuracy_svm}\")\n",
        "\n",
        "# Print classification report for the training data predictions\n",
        "y_train_pred_svm = svm_model.predict(x_train)\n",
        "print(classification_report(y_train, y_train_pred_svm))\n",
        "\n",
        "# Perform cross-validation to evaluate performance on the scaled training data\n",
        "num_folds = 10\n",
        "cv_scores_svm = cross_val_score(svm_model, x_train, y_train, cv=num_folds)\n",
        "\n",
        "print(\"Cross-validated Accuracy Scores:\", cv_scores_svm)\n",
        "print(\"Mean Accuracy:\", cv_scores_svm.mean())"
      ],
      "metadata": {
        "colab": {
          "base_uri": "https://localhost:8080/"
        },
        "id": "Lhn4IMZzMgeI",
        "outputId": "68fffd78-a2f1-41b2-fb97-c4374258819d"
      },
      "execution_count": 74,
      "outputs": [
        {
          "output_type": "stream",
          "name": "stdout",
          "text": [
            "Validation ROC-AUC Score: 0.9534521070435652\n",
            "              precision    recall  f1-score   support\n",
            "\n",
            "         0.0       0.94      0.90      0.92     20634\n",
            "         1.0       0.83      0.89      0.86     11414\n",
            "\n",
            "    accuracy                           0.90     32048\n",
            "   macro avg       0.88      0.89      0.89     32048\n",
            "weighted avg       0.90      0.90      0.90     32048\n",
            "\n",
            "Cross-validated Accuracy Scores: [0.89672387 0.89141966 0.89641186 0.89703588 0.89609984 0.88642746\n",
            " 0.89828393 0.89890796 0.89856429 0.88795256]\n",
            "Mean Accuracy: 0.894782730635068\n"
          ]
        }
      ]
    },
    {
      "cell_type": "code",
      "source": [
        "from sklearn.metrics import mean_squared_error\n",
        "\n",
        "svm_rmse = mean_squared_error(y_train,\n",
        "                              base_model_svm.predict(x_train),\n",
        "                              squared=False) #squared : If True returns MSE value, if False returns RMSE value.\n",
        "print(\"Root Mean Squared Error Scores:\", svm_rmse)"
      ],
      "metadata": {
        "colab": {
          "base_uri": "https://localhost:8080/"
        },
        "id": "uWEV2V0DPZy6",
        "outputId": "35771783-bcff-4fad-c839-539e39effabd"
      },
      "execution_count": 75,
      "outputs": [
        {
          "output_type": "stream",
          "name": "stdout",
          "text": [
            "Root Mean Squared Error Scores: 0.3892191063281756\n"
          ]
        }
      ]
    },
    {
      "cell_type": "markdown",
      "source": [
        "###Clear feature 0.2"
      ],
      "metadata": {
        "id": "1nEnFlHaMnk3"
      }
    },
    {
      "cell_type": "code",
      "source": [
        "# List of top 6 features based on the importance graph\n",
        "top_features = [\n",
        "    'saving_amount',\n",
        "    'checking_amount',\n",
        "    'yearly_salary',\n",
        "    'total_credit_card_limit',\n",
        "    'currently_repaying_other_loans',\n",
        "    'avg_percentage_credit_card_limit_used_last_year',\n",
        "    'age',\n",
        "    'dependent_number',\n",
        "    'loan_purpose_cat',\n",
        "    'fully_repaid_previous_loans',\n",
        "    'is_employed',\n",
        "]\n",
        "\n",
        "# Select only the top features from the dataset\n",
        "exog_train_granted_top = exog_train_granted[top_features]\n",
        "\n",
        "# Train and validation split\n",
        "x_train, x_val, y_train, y_val = train_test_split(\n",
        "    exog_train_granted_top,\n",
        "    endog_train_granted,\n",
        "    test_size=0.1,\n",
        "    random_state=42\n",
        ")"
      ],
      "metadata": {
        "id": "K_y5jM6QMs35"
      },
      "execution_count": 76,
      "outputs": []
    },
    {
      "cell_type": "code",
      "source": [
        "# Train the SVM model\n",
        "base_model_svm = SVC(random_state=42, max_iter=5000, kernel='rbf', C=1.0, probability=True)\n",
        "base_model_svm.fit(x_train, y_train)\n",
        "base_accuracy_svm = get_rocauc(base_model_svm, x_val, y_val)"
      ],
      "metadata": {
        "colab": {
          "base_uri": "https://localhost:8080/"
        },
        "id": "NAlE85xdMv0b",
        "outputId": "379dabb0-672e-4d0f-8ffd-9c4c6ed290a1"
      },
      "execution_count": 77,
      "outputs": [
        {
          "output_type": "stream",
          "name": "stderr",
          "text": [
            "/usr/local/lib/python3.10/dist-packages/sklearn/svm/_base.py:297: ConvergenceWarning: Solver terminated early (max_iter=5000).  Consider pre-processing your data with StandardScaler or MinMaxScaler.\n",
            "  warnings.warn(\n"
          ]
        },
        {
          "output_type": "stream",
          "name": "stdout",
          "text": [
            "Model Performance:\n",
            "----------\n",
            "----------\n",
            "ROC = 0.95%\n"
          ]
        }
      ]
    },
    {
      "cell_type": "code",
      "source": [
        "from sklearn.metrics import mean_squared_error\n",
        "\n",
        "svm_rmse = mean_squared_error(y_train,\n",
        "                              base_model_svm.predict(x_train),\n",
        "                              squared=False) #squared : If True returns MSE value, if False returns RMSE value.\n",
        "print(\"Root Mean Squared Error Scores:\", svm_rmse)"
      ],
      "metadata": {
        "colab": {
          "base_uri": "https://localhost:8080/"
        },
        "id": "pe9vPY4zMAXQ",
        "outputId": "8f96ac34-7d35-41ef-f3e7-0d8c7484c5e0"
      },
      "execution_count": 78,
      "outputs": [
        {
          "output_type": "stream",
          "name": "stdout",
          "text": [
            "Root Mean Squared Error Scores: 0.42006436280248177\n"
          ]
        }
      ]
    },
    {
      "cell_type": "code",
      "source": [
        "from sklearn.svm import SVC\n",
        "from sklearn.metrics import classification_report, roc_auc_score\n",
        "from sklearn.model_selection import cross_val_score\n",
        "\n",
        "# SVM Model with increased max_iter and adjusted C parameter\n",
        "svm_model = SVC(random_state=42, max_iter=10000, kernel='rbf', C=0.5, probability=True)\n",
        "\n",
        "# Train the SVM model on the scaled training data\n",
        "svm_model.fit(x_train, y_train)\n",
        "\n",
        "# Evaluate the model on the validation data\n",
        "y_val_pred = svm_model.predict(x_val)\n",
        "base_accuracy_svm = roc_auc_score(y_val, svm_model.predict_proba(x_val)[:, 1])\n",
        "\n",
        "print(f\"Validation ROC-AUC Score: {base_accuracy_svm}\")\n",
        "\n",
        "# Print classification report for the training data predictions\n",
        "y_train_pred_svm = svm_model.predict(x_train)\n",
        "print(classification_report(y_train, y_train_pred_svm))\n",
        "\n",
        "# Perform cross-validation to evaluate performance on the scaled training data\n",
        "num_folds = 10\n",
        "cv_scores_svm = cross_val_score(svm_model, x_train, y_train, cv=num_folds)\n",
        "\n",
        "print(\"Cross-validated Accuracy Scores:\", cv_scores_svm)\n",
        "print(\"Mean Accuracy:\", cv_scores_svm.mean())"
      ],
      "metadata": {
        "colab": {
          "base_uri": "https://localhost:8080/"
        },
        "id": "onbbxYXeMxR0",
        "outputId": "7807e452-04f2-4a8d-be5b-61c0f868edf5"
      },
      "execution_count": 79,
      "outputs": [
        {
          "output_type": "stream",
          "name": "stdout",
          "text": [
            "Validation ROC-AUC Score: 0.9534527918156046\n",
            "              precision    recall  f1-score   support\n",
            "\n",
            "         0.0       0.94      0.90      0.92     20634\n",
            "         1.0       0.83      0.89      0.86     11414\n",
            "\n",
            "    accuracy                           0.90     32048\n",
            "   macro avg       0.88      0.89      0.89     32048\n",
            "weighted avg       0.90      0.90      0.90     32048\n",
            "\n",
            "Cross-validated Accuracy Scores: [0.89703588 0.89141966 0.89641186 0.89703588 0.89609984 0.88642746\n",
            " 0.89828393 0.89890796 0.8988764  0.88857678]\n",
            "Mean Accuracy: 0.8949075648419195\n"
          ]
        }
      ]
    },
    {
      "cell_type": "code",
      "source": [
        "from sklearn.metrics import mean_squared_error\n",
        "\n",
        "svm_rmse = mean_squared_error(y_train,\n",
        "                              base_model_svm.predict(x_train),\n",
        "                              squared=False) #squared : If True returns MSE value, if False returns RMSE value.\n",
        "\n",
        "print(\"Root Mean Squared Error Scores:\", svm_rmse)"
      ],
      "metadata": {
        "colab": {
          "base_uri": "https://localhost:8080/"
        },
        "id": "MyNbHYQjY_NQ",
        "outputId": "a5d807a3-6287-46de-a1d4-a7f01b267039"
      },
      "execution_count": 80,
      "outputs": [
        {
          "output_type": "stream",
          "name": "stdout",
          "text": [
            "Root Mean Squared Error Scores: 0.42006436280248177\n"
          ]
        }
      ]
    },
    {
      "cell_type": "markdown",
      "source": [
        "###Clear feature 0.3"
      ],
      "metadata": {
        "id": "nx3O1doHMyhN"
      }
    },
    {
      "cell_type": "code",
      "source": [
        "# List of top 6 features based on the importance graph\n",
        "top_features = [\n",
        "    'saving_amount',\n",
        "    'checking_amount',\n",
        "    'yearly_salary',\n",
        "    'total_credit_card_limit',\n",
        "    'currently_repaying_other_loans',\n",
        "    'avg_percentage_credit_card_limit_used_last_year',\n",
        "    'age',\n",
        "    'dependent_number',\n",
        "    'loan_purpose_cat',\n",
        "    'fully_repaid_previous_loans'\n",
        "]\n",
        "\n",
        "# Select only the top features from the dataset\n",
        "exog_train_granted_top = exog_train_granted[top_features]\n",
        "\n",
        "# Train and validation split\n",
        "x_train, x_val, y_train, y_val = train_test_split(\n",
        "    exog_train_granted_top,\n",
        "    endog_train_granted,\n",
        "    test_size=0.1,\n",
        "    random_state=42\n",
        ")"
      ],
      "metadata": {
        "id": "LYeU8Ha5M34o"
      },
      "execution_count": 81,
      "outputs": []
    },
    {
      "cell_type": "code",
      "source": [
        "# Train the SVM model\n",
        "base_model_svm = SVC(random_state=42, max_iter=5000, kernel='rbf', C=1.0, probability=True)\n",
        "base_model_svm.fit(x_train, y_train)\n",
        "base_accuracy_svm = get_rocauc(base_model_svm, x_val, y_val)"
      ],
      "metadata": {
        "colab": {
          "base_uri": "https://localhost:8080/"
        },
        "id": "wxNzb3ElM7OQ",
        "outputId": "13f688f1-5892-419c-df74-84a3824795bd"
      },
      "execution_count": 82,
      "outputs": [
        {
          "output_type": "stream",
          "name": "stderr",
          "text": [
            "/usr/local/lib/python3.10/dist-packages/sklearn/svm/_base.py:297: ConvergenceWarning: Solver terminated early (max_iter=5000).  Consider pre-processing your data with StandardScaler or MinMaxScaler.\n",
            "  warnings.warn(\n"
          ]
        },
        {
          "output_type": "stream",
          "name": "stdout",
          "text": [
            "Model Performance:\n",
            "----------\n",
            "----------\n",
            "ROC = 0.94%\n"
          ]
        }
      ]
    },
    {
      "cell_type": "code",
      "source": [
        "from sklearn.svm import SVC\n",
        "from sklearn.metrics import classification_report, roc_auc_score\n",
        "from sklearn.model_selection import cross_val_score\n",
        "\n",
        "# SVM Model with increased max_iter and adjusted C parameter\n",
        "svm_model = SVC(random_state=42, max_iter=10000, kernel='rbf', C=0.5, probability=True)\n",
        "\n",
        "# Train the SVM model on the scaled training data\n",
        "svm_model.fit(x_train, y_train)\n",
        "\n",
        "# Evaluate the model on the validation data\n",
        "y_val_pred = svm_model.predict(x_val)\n",
        "base_accuracy_svm = roc_auc_score(y_val, svm_model.predict_proba(x_val)[:, 1])\n",
        "\n",
        "print(f\"Validation ROC-AUC Score: {base_accuracy_svm}\")\n",
        "\n",
        "# Print classification report for the training data predictions\n",
        "y_train_pred_svm = svm_model.predict(x_train)\n",
        "print(classification_report(y_train, y_train_pred_svm))\n",
        "\n",
        "# Perform cross-validation to evaluate performance on the scaled training data\n",
        "num_folds = 10\n",
        "cv_scores_svm = cross_val_score(svm_model, x_train, y_train, cv=num_folds)\n",
        "\n",
        "print(\"Cross-validated Accuracy Scores:\", cv_scores_svm)\n",
        "print(\"Mean Accuracy:\", cv_scores_svm.mean())"
      ],
      "metadata": {
        "colab": {
          "base_uri": "https://localhost:8080/"
        },
        "id": "wzA3jiy0M8ec",
        "outputId": "41a1912d-dda9-46bb-be08-4e6f766b4da9"
      },
      "execution_count": 83,
      "outputs": [
        {
          "output_type": "stream",
          "name": "stdout",
          "text": [
            "Validation ROC-AUC Score: 0.9534942205239876\n",
            "              precision    recall  f1-score   support\n",
            "\n",
            "         0.0       0.94      0.90      0.92     20634\n",
            "         1.0       0.83      0.89      0.86     11414\n",
            "\n",
            "    accuracy                           0.90     32048\n",
            "   macro avg       0.88      0.89      0.89     32048\n",
            "weighted avg       0.90      0.90      0.90     32048\n",
            "\n",
            "Cross-validated Accuracy Scores: [0.89703588 0.89110764 0.89641186 0.89672387 0.89609984 0.88642746\n",
            " 0.89828393 0.89890796 0.8988764  0.88857678]\n",
            "Mean Accuracy: 0.8948451623458196\n"
          ]
        }
      ]
    },
    {
      "cell_type": "code",
      "source": [
        "from sklearn.metrics import mean_squared_error\n",
        "\n",
        "svm_rmse = mean_squared_error(y_train,\n",
        "                              base_model_svm.predict(x_train),\n",
        "                              squared=False) #squared : If True returns MSE value, if False returns RMSE value.\n",
        "\n",
        "print(\"Root Mean Squared Error Scores:\", svm_rmse)"
      ],
      "metadata": {
        "colab": {
          "base_uri": "https://localhost:8080/"
        },
        "id": "cUnzQpTBZJYk",
        "outputId": "6f80ea8b-6b50-4a57-95da-0340d74393d7"
      },
      "execution_count": 84,
      "outputs": [
        {
          "output_type": "stream",
          "name": "stdout",
          "text": [
            "Root Mean Squared Error Scores: 0.3577645968229531\n"
          ]
        }
      ]
    },
    {
      "cell_type": "markdown",
      "source": [
        "###Clear feature 0.4"
      ],
      "metadata": {
        "id": "px9hJA8nNE4C"
      }
    },
    {
      "cell_type": "code",
      "source": [
        "# List of top 6 features based on the importance graph\n",
        "top_features = [\n",
        "    'saving_amount',\n",
        "    'checking_amount',\n",
        "    'yearly_salary',\n",
        "    'total_credit_card_limit',\n",
        "    'currently_repaying_other_loans',\n",
        "    'avg_percentage_credit_card_limit_used_last_year',\n",
        "    'age',\n",
        "    'dependent_number',\n",
        "    'loan_purpose_cat'\n",
        "]\n",
        "\n",
        "# Select only the top features from the dataset\n",
        "exog_train_granted_top = exog_train_granted[top_features]\n",
        "\n",
        "# Train and validation split\n",
        "x_train, x_val, y_train, y_val = train_test_split(\n",
        "    exog_train_granted_top,\n",
        "    endog_train_granted,\n",
        "    test_size=0.1,\n",
        "    random_state=42\n",
        ")"
      ],
      "metadata": {
        "id": "CKntehJvNHs4"
      },
      "execution_count": 103,
      "outputs": []
    },
    {
      "cell_type": "code",
      "source": [
        "# Train the SVM model\n",
        "base_model_svm = SVC(random_state=42, max_iter=5000, kernel='rbf', C=1.0, probability=True)\n",
        "base_model_svm.fit(x_train, y_train)\n",
        "base_accuracy_svm = get_rocauc(base_model_svm, x_val, y_val)"
      ],
      "metadata": {
        "colab": {
          "base_uri": "https://localhost:8080/"
        },
        "id": "THY-flROPm9S",
        "outputId": "d732b2b6-c9ad-446d-c337-524271b46365"
      },
      "execution_count": 104,
      "outputs": [
        {
          "output_type": "stream",
          "name": "stderr",
          "text": [
            "/usr/local/lib/python3.10/dist-packages/sklearn/svm/_base.py:297: ConvergenceWarning: Solver terminated early (max_iter=5000).  Consider pre-processing your data with StandardScaler or MinMaxScaler.\n",
            "  warnings.warn(\n"
          ]
        },
        {
          "output_type": "stream",
          "name": "stdout",
          "text": [
            "Model Performance:\n",
            "----------\n",
            "----------\n",
            "ROC = 0.95%\n"
          ]
        }
      ]
    },
    {
      "cell_type": "code",
      "source": [
        "from sklearn.svm import SVC\n",
        "from sklearn.metrics import classification_report, roc_auc_score\n",
        "from sklearn.model_selection import cross_val_score\n",
        "\n",
        "# SVM Model with increased max_iter and adjusted C parameter\n",
        "svm_model = SVC(random_state=42, max_iter=10000, kernel='rbf', C=0.5, probability=True)\n",
        "\n",
        "# Train the SVM model on the scaled training data\n",
        "svm_model.fit(x_train, y_train)\n",
        "\n",
        "# Evaluate the model on the validation data\n",
        "y_val_pred = svm_model.predict(x_val)\n",
        "base_accuracy_svm = roc_auc_score(y_val, svm_model.predict_proba(x_val)[:, 1])\n",
        "\n",
        "print(f\"Validation ROC-AUC Score: {base_accuracy_svm}\")\n",
        "\n",
        "# Print classification report for the training data predictions\n",
        "y_train_pred_svm = svm_model.predict(x_train)\n",
        "print(classification_report(y_train, y_train_pred_svm))\n",
        "\n",
        "# Perform cross-validation to evaluate performance on the scaled training data\n",
        "num_folds = 10\n",
        "cv_scores_svm = cross_val_score(svm_model, x_train, y_train, cv=num_folds)\n",
        "\n",
        "print(\"Cross-validated Accuracy Scores:\", cv_scores_svm)\n",
        "print(\"Mean Accuracy:\", cv_scores_svm.mean())"
      ],
      "metadata": {
        "colab": {
          "base_uri": "https://localhost:8080/"
        },
        "id": "J5Agg_2bPpiD",
        "outputId": "800e5f4e-cb7d-403f-944e-9fbd70ad4efd"
      },
      "execution_count": 105,
      "outputs": [
        {
          "output_type": "stream",
          "name": "stdout",
          "text": [
            "Validation ROC-AUC Score: 0.9535245216867304\n",
            "              precision    recall  f1-score   support\n",
            "\n",
            "         0.0       0.94      0.90      0.92     20634\n",
            "         1.0       0.83      0.89      0.86     11414\n",
            "\n",
            "    accuracy                           0.90     32048\n",
            "   macro avg       0.88      0.89      0.89     32048\n",
            "weighted avg       0.90      0.90      0.90     32048\n",
            "\n",
            "Cross-validated Accuracy Scores: [0.89734789 0.89110764 0.89641186 0.89672387 0.89609984 0.88642746\n",
            " 0.89828393 0.89890796 0.8988764  0.88857678]\n",
            "Mean Accuracy: 0.8948763635938695\n"
          ]
        }
      ]
    },
    {
      "cell_type": "code",
      "source": [
        "from sklearn.metrics import mean_squared_error\n",
        "\n",
        "svm_rmse = mean_squared_error(y_train,\n",
        "                              base_model_svm.predict(x_train),\n",
        "                              squared=False) #squared : If True returns MSE value, if False returns RMSE value.\n",
        "\n",
        "print(\"Root Mean Squared Error Scores:\", svm_rmse)"
      ],
      "metadata": {
        "colab": {
          "base_uri": "https://localhost:8080/"
        },
        "id": "rYGz5A7IZKQM",
        "outputId": "c7a17eb8-0964-401e-8d24-ebda62d3d87f"
      },
      "execution_count": 106,
      "outputs": [
        {
          "output_type": "stream",
          "name": "stdout",
          "text": [
            "Root Mean Squared Error Scores: 0.32947824833486544\n"
          ]
        }
      ]
    },
    {
      "cell_type": "markdown",
      "source": [
        "###Clear feature 0.5"
      ],
      "metadata": {
        "id": "N54gBctGPqVD"
      }
    },
    {
      "cell_type": "code",
      "source": [
        "# List of top 6 features based on the importance graph\n",
        "top_features = [\n",
        "    'saving_amount',\n",
        "    'checking_amount',\n",
        "    'yearly_salary',\n",
        "    'total_credit_card_limit',\n",
        "    'currently_repaying_other_loans',\n",
        "    'avg_percentage_credit_card_limit_used_last_year',\n",
        "    'age',\n",
        "    'dependent_number'\n",
        "]\n",
        "\n",
        "# Select only the top features from the dataset\n",
        "exog_train_granted_top = exog_train_granted[top_features]\n",
        "\n",
        "# Train and validation split\n",
        "x_train, x_val, y_train, y_val = train_test_split(\n",
        "    exog_train_granted_top,\n",
        "    endog_train_granted,\n",
        "    test_size=0.1,\n",
        "    random_state=42\n",
        ")"
      ],
      "metadata": {
        "id": "Wld6xqtLPuqc"
      },
      "execution_count": 89,
      "outputs": []
    },
    {
      "cell_type": "code",
      "source": [
        "# Train the SVM model\n",
        "base_model_svm = SVC(random_state=42, max_iter=5000, kernel='rbf', C=1.0, probability=True)\n",
        "base_model_svm.fit(x_train, y_train)\n",
        "base_accuracy_svm = get_rocauc(base_model_svm, x_val, y_val)"
      ],
      "metadata": {
        "colab": {
          "base_uri": "https://localhost:8080/"
        },
        "id": "UK7hW6vRPx7P",
        "outputId": "efcf94ee-2087-4b46-d1f4-bbe8916742fa"
      },
      "execution_count": 90,
      "outputs": [
        {
          "output_type": "stream",
          "name": "stderr",
          "text": [
            "/usr/local/lib/python3.10/dist-packages/sklearn/svm/_base.py:297: ConvergenceWarning: Solver terminated early (max_iter=5000).  Consider pre-processing your data with StandardScaler or MinMaxScaler.\n",
            "  warnings.warn(\n"
          ]
        },
        {
          "output_type": "stream",
          "name": "stdout",
          "text": [
            "Model Performance:\n",
            "----------\n",
            "----------\n",
            "ROC = 0.95%\n"
          ]
        }
      ]
    },
    {
      "cell_type": "code",
      "source": [
        "from sklearn.svm import SVC\n",
        "from sklearn.metrics import classification_report, roc_auc_score\n",
        "from sklearn.model_selection import cross_val_score\n",
        "\n",
        "# SVM Model with increased max_iter and adjusted C parameter\n",
        "svm_model = SVC(random_state=42, max_iter=10000, kernel='rbf', C=0.5, probability=True)\n",
        "\n",
        "# Train the SVM model on the scaled training data\n",
        "svm_model.fit(x_train, y_train)\n",
        "\n",
        "# Evaluate the model on the validation data\n",
        "y_val_pred = svm_model.predict(x_val)\n",
        "base_accuracy_svm = roc_auc_score(y_val, svm_model.predict_proba(x_val)[:, 1])\n",
        "\n",
        "print(f\"Validation ROC-AUC Score: {base_accuracy_svm}\")\n",
        "\n",
        "# Print classification report for the training data predictions\n",
        "y_train_pred_svm = svm_model.predict(x_train)\n",
        "print(classification_report(y_train, y_train_pred_svm))\n",
        "\n",
        "# Perform cross-validation to evaluate performance on the scaled training data\n",
        "num_folds = 10\n",
        "cv_scores_svm = cross_val_score(svm_model, x_train, y_train, cv=num_folds)\n",
        "\n",
        "print(\"Cross-validated Accuracy Scores:\", cv_scores_svm)\n",
        "print(\"Mean Accuracy:\", cv_scores_svm.mean())"
      ],
      "metadata": {
        "colab": {
          "base_uri": "https://localhost:8080/"
        },
        "id": "DN6lEfo0Pzaj",
        "outputId": "b3c437dd-15ba-4cfb-eda6-408e95b7aa41"
      },
      "execution_count": 91,
      "outputs": [
        {
          "output_type": "stream",
          "name": "stdout",
          "text": [
            "Validation ROC-AUC Score: 0.9535577331306408\n",
            "              precision    recall  f1-score   support\n",
            "\n",
            "         0.0       0.94      0.90      0.92     20634\n",
            "         1.0       0.83      0.89      0.86     11414\n",
            "\n",
            "    accuracy                           0.90     32048\n",
            "   macro avg       0.88      0.89      0.89     32048\n",
            "weighted avg       0.90      0.90      0.90     32048\n",
            "\n",
            "Cross-validated Accuracy Scores: [0.89734789 0.89079563 0.89672387 0.89672387 0.89609984 0.88642746\n",
            " 0.89828393 0.89890796 0.8988764  0.88826467]\n",
            "Mean Accuracy: 0.8948451526076024\n"
          ]
        }
      ]
    },
    {
      "cell_type": "code",
      "source": [
        "from sklearn.metrics import mean_squared_error\n",
        "\n",
        "svm_rmse = mean_squared_error(y_train,\n",
        "                              base_model_svm.predict(x_train),\n",
        "                              squared=False) #squared : If True returns MSE value, if False returns RMSE value.\n",
        "\n",
        "print(\"Root Mean Squared Error Scores:\", svm_rmse)"
      ],
      "metadata": {
        "colab": {
          "base_uri": "https://localhost:8080/"
        },
        "id": "kOveM-PjZLbC",
        "outputId": "d70b64a4-eaa9-4921-be3e-ff686329d6d5"
      },
      "execution_count": 92,
      "outputs": [
        {
          "output_type": "stream",
          "name": "stdout",
          "text": [
            "Root Mean Squared Error Scores: 0.3307071199735473\n"
          ]
        }
      ]
    },
    {
      "cell_type": "markdown",
      "source": [
        "###Clear feature 0.6"
      ],
      "metadata": {
        "id": "7s55BnlWQpKR"
      }
    },
    {
      "cell_type": "code",
      "source": [
        "# List of top 6 features based on the importance graph\n",
        "top_features = [\n",
        "    'saving_amount',\n",
        "    'checking_amount',\n",
        "    'yearly_salary',\n",
        "    'total_credit_card_limit',\n",
        "    'currently_repaying_other_loans',\n",
        "    'avg_percentage_credit_card_limit_used_last_year',\n",
        "    'age'\n",
        "]\n",
        "\n",
        "# Select only the top features from the dataset\n",
        "exog_train_granted_top = exog_train_granted[top_features]\n",
        "\n",
        "# Train and validation split\n",
        "x_train, x_val, y_train, y_val = train_test_split(\n",
        "    exog_train_granted_top,\n",
        "    endog_train_granted,\n",
        "    test_size=0.1,\n",
        "    random_state=42\n",
        ")"
      ],
      "metadata": {
        "id": "QfB_-8hJQtWy"
      },
      "execution_count": 93,
      "outputs": []
    },
    {
      "cell_type": "code",
      "source": [
        "# Train the SVM model\n",
        "base_model_svm = SVC(random_state=42, max_iter=5000, kernel='rbf', C=1.0, probability=True)\n",
        "base_model_svm.fit(x_train, y_train)\n",
        "base_accuracy_svm = get_rocauc(base_model_svm, x_val, y_val)"
      ],
      "metadata": {
        "colab": {
          "base_uri": "https://localhost:8080/"
        },
        "id": "qrTDSyhdQrhV",
        "outputId": "199f89d6-e28f-4a1c-81ef-d685ee155f20"
      },
      "execution_count": 94,
      "outputs": [
        {
          "output_type": "stream",
          "name": "stderr",
          "text": [
            "/usr/local/lib/python3.10/dist-packages/sklearn/svm/_base.py:297: ConvergenceWarning: Solver terminated early (max_iter=5000).  Consider pre-processing your data with StandardScaler or MinMaxScaler.\n",
            "  warnings.warn(\n"
          ]
        },
        {
          "output_type": "stream",
          "name": "stdout",
          "text": [
            "Model Performance:\n",
            "----------\n",
            "----------\n",
            "ROC = 0.94%\n"
          ]
        }
      ]
    },
    {
      "cell_type": "code",
      "source": [
        "from sklearn.svm import SVC\n",
        "from sklearn.metrics import classification_report, roc_auc_score\n",
        "from sklearn.model_selection import cross_val_score\n",
        "\n",
        "# SVM Model with increased max_iter and adjusted C parameter\n",
        "svm_model = SVC(random_state=42, max_iter=10000, kernel='rbf', C=0.5, probability=True)\n",
        "\n",
        "# Train the SVM model on the scaled training data\n",
        "svm_model.fit(x_train, y_train)\n",
        "\n",
        "# Evaluate the model on the validation data\n",
        "y_val_pred = svm_model.predict(x_val)\n",
        "base_accuracy_svm = roc_auc_score(y_val, svm_model.predict_proba(x_val)[:, 1])\n",
        "\n",
        "print(f\"Validation ROC-AUC Score: {base_accuracy_svm}\")\n",
        "\n",
        "# Print classification report for the training data predictions\n",
        "y_train_pred_svm = svm_model.predict(x_train)\n",
        "print(classification_report(y_train, y_train_pred_svm))\n",
        "\n",
        "# Perform cross-validation to evaluate performance on the scaled training data\n",
        "num_folds = 10\n",
        "cv_scores_svm = cross_val_score(svm_model, x_train, y_train, cv=num_folds)\n",
        "\n",
        "print(\"Cross-validated Accuracy Scores:\", cv_scores_svm)\n",
        "print(\"Mean Accuracy:\", cv_scores_svm.mean())"
      ],
      "metadata": {
        "colab": {
          "base_uri": "https://localhost:8080/"
        },
        "id": "bThXdK5aQyia",
        "outputId": "89a67e59-f8bd-4b2a-b766-533315cde230"
      },
      "execution_count": 95,
      "outputs": [
        {
          "output_type": "stream",
          "name": "stdout",
          "text": [
            "Validation ROC-AUC Score: 0.9535813577659996\n",
            "              precision    recall  f1-score   support\n",
            "\n",
            "         0.0       0.94      0.90      0.92     20634\n",
            "         1.0       0.83      0.89      0.86     11414\n",
            "\n",
            "    accuracy                           0.90     32048\n",
            "   macro avg       0.88      0.89      0.89     32048\n",
            "weighted avg       0.90      0.90      0.90     32048\n",
            "\n",
            "Cross-validated Accuracy Scores: [0.89703588 0.89048362 0.89641186 0.89609984 0.89641186 0.88705148\n",
            " 0.89797192 0.89921997 0.8988764  0.88857678]\n",
            "Mean Accuracy: 0.8948139610977698\n"
          ]
        }
      ]
    },
    {
      "cell_type": "code",
      "source": [
        "from sklearn.metrics import mean_squared_error\n",
        "\n",
        "svm_rmse = mean_squared_error(y_train,\n",
        "                              base_model_svm.predict(x_train),\n",
        "                              squared=False) #squared : If True returns MSE value, if False returns RMSE value.\n",
        "\n",
        "print(\"Root Mean Squared Error Scores:\", svm_rmse)"
      ],
      "metadata": {
        "colab": {
          "base_uri": "https://localhost:8080/"
        },
        "id": "4-OPrmo5ZMYo",
        "outputId": "897f2919-3433-41cb-cb80-94fca8ecd5c2"
      },
      "execution_count": 96,
      "outputs": [
        {
          "output_type": "stream",
          "name": "stdout",
          "text": [
            "Root Mean Squared Error Scores: 0.36599906697212126\n"
          ]
        }
      ]
    },
    {
      "cell_type": "markdown",
      "source": [
        "###Clear feature 0.7"
      ],
      "metadata": {
        "id": "B2FlJqQiQzVu"
      }
    },
    {
      "cell_type": "code",
      "source": [
        "# List of top 6 features based on the importance graph\n",
        "top_features = [\n",
        "    'saving_amount',\n",
        "    'checking_amount',\n",
        "    'yearly_salary',\n",
        "    'total_credit_card_limit',\n",
        "    'currently_repaying_other_loans',\n",
        "    'avg_percentage_credit_card_limit_used_last_year'\n",
        "]\n",
        "\n",
        "# Select only the top features from the dataset\n",
        "exog_train_granted_top = exog_train_granted[top_features]\n",
        "\n",
        "# Train and validation split\n",
        "x_train, x_val, y_train, y_val = train_test_split(\n",
        "    exog_train_granted_top,\n",
        "    endog_train_granted,\n",
        "    test_size=0.1,\n",
        "    random_state=42\n",
        ")"
      ],
      "metadata": {
        "id": "AoFh2FkEQ38y"
      },
      "execution_count": 97,
      "outputs": []
    },
    {
      "cell_type": "code",
      "source": [
        "# Train the SVM model\n",
        "base_model_svm = SVC(random_state=42, max_iter=5000, kernel='rbf', C=1.0, probability=True)\n",
        "base_model_svm.fit(x_train, y_train)\n",
        "base_accuracy_svm = get_rocauc(base_model_svm, x_val, y_val)"
      ],
      "metadata": {
        "colab": {
          "base_uri": "https://localhost:8080/"
        },
        "id": "-z4Tc5wLQ63p",
        "outputId": "38e9dadc-52d0-497c-84f7-61f8223c4e95"
      },
      "execution_count": 98,
      "outputs": [
        {
          "output_type": "stream",
          "name": "stderr",
          "text": [
            "/usr/local/lib/python3.10/dist-packages/sklearn/svm/_base.py:297: ConvergenceWarning: Solver terminated early (max_iter=5000).  Consider pre-processing your data with StandardScaler or MinMaxScaler.\n",
            "  warnings.warn(\n"
          ]
        },
        {
          "output_type": "stream",
          "name": "stdout",
          "text": [
            "Model Performance:\n",
            "----------\n",
            "----------\n",
            "ROC = 0.94%\n"
          ]
        }
      ]
    },
    {
      "cell_type": "code",
      "source": [
        "from sklearn.svm import SVC\n",
        "from sklearn.metrics import classification_report, roc_auc_score\n",
        "from sklearn.model_selection import cross_val_score\n",
        "\n",
        "# SVM Model with increased max_iter and adjusted C parameter\n",
        "svm_model = SVC(random_state=42, max_iter=10000, kernel='rbf', C=0.5, probability=True)\n",
        "\n",
        "# Train the SVM model on the scaled training data\n",
        "svm_model.fit(x_train, y_train)\n",
        "\n",
        "# Evaluate the model on the validation data\n",
        "y_val_pred = svm_model.predict(x_val)\n",
        "base_accuracy_svm = roc_auc_score(y_val, svm_model.predict_proba(x_val)[:, 1])\n",
        "\n",
        "print(f\"Validation ROC-AUC Score: {base_accuracy_svm}\")\n",
        "\n",
        "# Print classification report for the training data predictions\n",
        "y_train_pred_svm = svm_model.predict(x_train)\n",
        "print(classification_report(y_train, y_train_pred_svm))\n",
        "\n",
        "# Perform cross-validation to evaluate performance on the scaled training data\n",
        "num_folds = 10\n",
        "cv_scores_svm = cross_val_score(svm_model, x_train, y_train, cv=num_folds)\n",
        "\n",
        "print(\"Cross-validated Accuracy Scores:\", cv_scores_svm)\n",
        "print(\"Mean Accuracy:\", cv_scores_svm.mean())"
      ],
      "metadata": {
        "colab": {
          "base_uri": "https://localhost:8080/"
        },
        "id": "P0-VbBN3Q8h6",
        "outputId": "344b39ac-eade-42aa-aff0-a6882072ee38"
      },
      "execution_count": 99,
      "outputs": [
        {
          "output_type": "stream",
          "name": "stdout",
          "text": [
            "Validation ROC-AUC Score: 0.9536364819151705\n",
            "              precision    recall  f1-score   support\n",
            "\n",
            "         0.0       0.94      0.90      0.92     20634\n",
            "         1.0       0.83      0.89      0.86     11414\n",
            "\n",
            "    accuracy                           0.90     32048\n",
            "   macro avg       0.88      0.89      0.89     32048\n",
            "weighted avg       0.90      0.90      0.90     32048\n",
            "\n",
            "Cross-validated Accuracy Scores: [0.89703588 0.89110764 0.89641186 0.89609984 0.89641186 0.88736349\n",
            " 0.89765991 0.89953198 0.8988764  0.88857678]\n",
            "Mean Accuracy: 0.8949075648419195\n"
          ]
        }
      ]
    },
    {
      "cell_type": "code",
      "source": [
        "from sklearn.metrics import mean_squared_error\n",
        "\n",
        "svm_rmse = mean_squared_error(y_train,\n",
        "                              base_model_svm.predict(x_train),\n",
        "                              squared=False) #squared : If True returns MSE value, if False returns RMSE value.\n",
        "\n",
        "print(\"Root Mean Squared Error Scores:\", svm_rmse)"
      ],
      "metadata": {
        "colab": {
          "base_uri": "https://localhost:8080/"
        },
        "id": "D3jjKrTyZOop",
        "outputId": "3afe47d3-9372-42dd-8e33-21844a7f48dd"
      },
      "execution_count": 100,
      "outputs": [
        {
          "output_type": "stream",
          "name": "stdout",
          "text": [
            "Root Mean Squared Error Scores: 0.38514930872971526\n"
          ]
        }
      ]
    },
    {
      "cell_type": "markdown",
      "metadata": {
        "id": "2L7-JnOV3XVQ"
      },
      "source": [
        "###Tuning 0.1"
      ]
    },
    {
      "cell_type": "code",
      "execution_count": 108,
      "metadata": {
        "colab": {
          "base_uri": "https://localhost:8080/"
        },
        "id": "zk5TW0PH3ARS",
        "outputId": "dee5b38e-578e-434e-c5a0-72c66d09accf"
      },
      "outputs": [
        {
          "output_type": "stream",
          "name": "stdout",
          "text": [
            "Fitting 2 folds for each of 2 candidates, totalling 4 fits\n",
            "Best Parameters: {'kernel': 'linear', 'C': 0.1}\n",
            "Best Score: 0.8896030953569646\n"
          ]
        }
      ],
      "source": [
        "from sklearn.svm import SVC\n",
        "from sklearn.model_selection import RandomizedSearchCV\n",
        "from sklearn.metrics import accuracy_score\n",
        "import numpy as np\n",
        "\n",
        "# Define a simplified hyperparameters grid for faster SVM tuning\n",
        "svm_param_grid = {\n",
        "    \"C\": [0.1, 1.0],  # Only two values for regularization\n",
        "    \"kernel\": [\"linear\"],  # Only use the linear kernel for faster computation\n",
        "}\n",
        "\n",
        "# Initialize RandomizedSearchCV for SVM with the simplified parameter grid\n",
        "svm_random_search = RandomizedSearchCV(\n",
        "    estimator=SVC(random_state=42),\n",
        "    param_distributions=svm_param_grid,\n",
        "    n_iter=2,  # Fewer iterations\n",
        "    cv=2,  # Reduce the number of cross-validation folds to 2\n",
        "    scoring=\"accuracy\",\n",
        "    verbose=1,\n",
        "    random_state=42,\n",
        "    n_jobs=-1  # Use all available cores\n",
        ")\n",
        "\n",
        "# Fit the randomized search on the training data\n",
        "svm_random_search.fit(x_train, y_train)\n",
        "\n",
        "# Get the best parameters and score\n",
        "print(\"Best Parameters:\", svm_random_search.best_params_)\n",
        "print(\"Best Score:\", svm_random_search.best_score_)\n"
      ]
    },
    {
      "cell_type": "code",
      "execution_count": 109,
      "metadata": {
        "colab": {
          "base_uri": "https://localhost:8080/"
        },
        "id": "GjHBKYV-3U4A",
        "outputId": "c2643c9d-f4cf-4343-8f60-9e40ca727726"
      },
      "outputs": [
        {
          "output_type": "stream",
          "name": "stdout",
          "text": [
            "Root Mean Squared Error (RMSE): 0.3316493074097125\n"
          ]
        }
      ],
      "source": [
        "# Predict on the training data to evaluate RMSE\n",
        "y_train_pred = svm_random_search.predict(x_train)\n",
        "\n",
        "# Calculate RMSE\n",
        "rmse = mean_squared_error(y_train, y_train_pred, squared=False)  # Set squared=False to get RMSE\n",
        "\n",
        "# Print RMSE\n",
        "print(\"Root Mean Squared Error (RMSE):\", rmse)"
      ]
    },
    {
      "cell_type": "code",
      "source": [
        "# Predict on the validation set using the best model\n",
        "y_val_pred = svm_random_search.best_estimator_.predict(x_val)\n",
        "val_accuracy = accuracy_score(y_val, y_val_pred)\n",
        "print(f\"Validation Accuracy: {val_accuracy:.4f}\")\n",
        "\n",
        "# Generate a classification report\n",
        "print(\"Classification Report on Validation Set:\")\n",
        "print(classification_report(y_val, y_val_pred))"
      ],
      "metadata": {
        "colab": {
          "base_uri": "https://localhost:8080/"
        },
        "id": "DWKhDLOvE-9l",
        "outputId": "01618aa5-cf5f-48c3-8a6c-0a76828eaaa2"
      },
      "execution_count": 111,
      "outputs": [
        {
          "output_type": "stream",
          "name": "stdout",
          "text": [
            "Validation Accuracy: 0.8823\n",
            "Classification Report on Validation Set:\n",
            "              precision    recall  f1-score   support\n",
            "\n",
            "         0.0       0.91      0.91      0.91      2280\n",
            "         1.0       0.84      0.84      0.84      1281\n",
            "\n",
            "    accuracy                           0.88      3561\n",
            "   macro avg       0.87      0.87      0.87      3561\n",
            "weighted avg       0.88      0.88      0.88      3561\n",
            "\n"
          ]
        }
      ]
    },
    {
      "cell_type": "markdown",
      "metadata": {
        "id": "9Twf7y6X3h3V"
      },
      "source": [
        "###Tuning 0.2"
      ]
    },
    {
      "cell_type": "code",
      "execution_count": 112,
      "metadata": {
        "colab": {
          "base_uri": "https://localhost:8080/"
        },
        "id": "32dEDxmI3S5z",
        "outputId": "49a14764-7125-4421-8ca6-e4657d9344cb"
      },
      "outputs": [
        {
          "output_type": "stream",
          "name": "stdout",
          "text": [
            "Fitting 3 folds for each of 6 candidates, totalling 18 fits\n",
            "Best Parameters: {'C': 10, 'gamma': 'scale', 'kernel': 'rbf'}\n",
            "Best Score: 0.9003994737299289\n"
          ]
        }
      ],
      "source": [
        "from sklearn.svm import SVC\n",
        "from sklearn.model_selection import GridSearchCV\n",
        "from sklearn.metrics import accuracy_score\n",
        "\n",
        "# Define a simplified hyperparameters grid for SVM\n",
        "svm_param_grid = {\n",
        "    \"C\": [0.1, 1, 10],  # A smaller range of regularization values\n",
        "    \"kernel\": [\"rbf\"],  # Focus on the RBF kernel only\n",
        "    \"gamma\": [\"scale\", 0.1],  # Include 'scale' and a smaller gamma value\n",
        "}\n",
        "\n",
        "# Initialize GridSearchCV for SVM with the adjusted parameter grid\n",
        "svm_grid_search = GridSearchCV(\n",
        "    SVC(random_state=42),\n",
        "    svm_param_grid,\n",
        "    cv=3,  # Reduce the number of cross-validation folds to 3\n",
        "    scoring=\"accuracy\",\n",
        "    verbose=1,\n",
        "    n_jobs=-1,  # Use all available cores to parallelize the process\n",
        ")\n",
        "svm_grid_search.fit(x_train, y_train)\n",
        "\n",
        "# Get the best parameters and score\n",
        "print(\"Best Parameters:\", svm_grid_search.best_params_)\n",
        "print(\"Best Score:\", svm_grid_search.best_score_)\n"
      ]
    },
    {
      "cell_type": "code",
      "execution_count": 113,
      "metadata": {
        "id": "JxhZcrlO3ej1",
        "colab": {
          "base_uri": "https://localhost:8080/"
        },
        "outputId": "434feb12-bb41-4caf-91d5-509b0f7f2bc7"
      },
      "outputs": [
        {
          "output_type": "stream",
          "name": "stdout",
          "text": [
            "Root Mean Squared Error (RMSE): 0.31271522793003065\n"
          ]
        }
      ],
      "source": [
        "# Predict on the training data to evaluate RMSE\n",
        "y_train_pred = svm_grid_search.predict(x_train)\n",
        "\n",
        "# Calculate RMSE\n",
        "rmse = mean_squared_error(y_train, y_train_pred, squared=False)  # Set squared=False to get RMSE\n",
        "\n",
        "# Print RMSE\n",
        "print(\"Root Mean Squared Error (RMSE):\", rmse)"
      ]
    },
    {
      "cell_type": "code",
      "source": [
        "# Predict on the validation set using the best model\n",
        "y_val_pred = svm_grid_search.best_estimator_.predict(x_val)\n",
        "val_accuracy = accuracy_score(y_val, y_val_pred)\n",
        "print(f\"Validation Accuracy: {val_accuracy:.4f}\")\n",
        "\n",
        "# Generate a classification report\n",
        "print(\"Classification Report on Validation Set:\")\n",
        "print(classification_report(y_val, y_val_pred))"
      ],
      "metadata": {
        "colab": {
          "base_uri": "https://localhost:8080/"
        },
        "id": "qAozyNzuDt48",
        "outputId": "ded1d933-b111-4c5a-d997-08361e2f6b81"
      },
      "execution_count": 114,
      "outputs": [
        {
          "output_type": "stream",
          "name": "stdout",
          "text": [
            "Validation Accuracy: 0.8992\n",
            "Classification Report on Validation Set:\n",
            "              precision    recall  f1-score   support\n",
            "\n",
            "         0.0       0.94      0.90      0.92      2280\n",
            "         1.0       0.84      0.90      0.86      1281\n",
            "\n",
            "    accuracy                           0.90      3561\n",
            "   macro avg       0.89      0.90      0.89      3561\n",
            "weighted avg       0.90      0.90      0.90      3561\n",
            "\n"
          ]
        }
      ]
    }
  ],
  "metadata": {
    "colab": {
      "collapsed_sections": [
        "JXwa8oZsUWXv",
        "MiAOZFjKlp13",
        "l-twzaVL5gt6",
        "6OfzWwvwUEII",
        "BegUfD4Yjd30",
        "qSgp_fCHmQ2b"
      ],
      "provenance": [],
      "toc_visible": true,
      "machine_shape": "hm",
      "gpuType": "V28"
    },
    "kernelspec": {
      "display_name": "Python 3",
      "name": "python3"
    },
    "language_info": {
      "name": "python"
    },
    "accelerator": "TPU"
  },
  "nbformat": 4,
  "nbformat_minor": 0
}